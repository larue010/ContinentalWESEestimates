{
 "cells": [
  {
   "cell_type": "markdown",
   "metadata": {},
   "source": [
    "# Attribute geospatial data with seal abundance data\n",
    "This notebook uses the information on the estimated number of seals per map to attribute the basic grid of geospatial data with seal abundance. It then tabulates the resulting raster, where each column is one of the geospatial datasets, and there is a column for seal abundance. The resulting table is saved and becomes the basic input for the modeling of factors deteriming the presence and abundance of seals throughout the entire continent.  \n",
    "  \n",
    "Run this file every time a new geospatial covariate is added to the collection."
   ]
  },
  {
   "cell_type": "markdown",
   "metadata": {},
   "source": [
    "### Loading the required libraries and other dependencies"
   ]
  },
  {
   "cell_type": "code",
   "execution_count": 1,
   "metadata": {},
   "outputs": [
    {
     "data": {
      "text/html": [
       "<table>\n",
       "<caption>A matrix: 2 × 6 of type dbl</caption>\n",
       "<thead>\n",
       "\t<tr><th></th><th scope=col>used</th><th scope=col>(Mb)</th><th scope=col>gc trigger</th><th scope=col>(Mb)</th><th scope=col>max used</th><th scope=col>(Mb)</th></tr>\n",
       "</thead>\n",
       "<tbody>\n",
       "\t<tr><th scope=row>Ncells</th><td>511929</td><td>27.4</td><td> 940480</td><td>50.3</td><td> 758037</td><td>40.5</td></tr>\n",
       "\t<tr><th scope=row>Vcells</th><td>931865</td><td> 7.2</td><td>1650153</td><td>12.6</td><td>1127114</td><td> 8.6</td></tr>\n",
       "</tbody>\n",
       "</table>\n"
      ],
      "text/latex": [
       "A matrix: 2 × 6 of type dbl\n",
       "\\begin{tabular}{r|llllll}\n",
       "  & used & (Mb) & gc trigger & (Mb) & max used & (Mb)\\\\\n",
       "\\hline\n",
       "\tNcells & 511929 & 27.4 &  940480 & 50.3 &  758037 & 40.5\\\\\n",
       "\tVcells & 931865 &  7.2 & 1650153 & 12.6 & 1127114 &  8.6\\\\\n",
       "\\end{tabular}\n"
      ],
      "text/markdown": [
       "\n",
       "A matrix: 2 × 6 of type dbl\n",
       "\n",
       "| <!--/--> | used | (Mb) | gc trigger | (Mb) | max used | (Mb) |\n",
       "|---|---|---|---|---|---|---|\n",
       "| Ncells | 511929 | 27.4 |  940480 | 50.3 |  758037 | 40.5 |\n",
       "| Vcells | 931865 |  7.2 | 1650153 | 12.6 | 1127114 |  8.6 |\n",
       "\n"
      ],
      "text/plain": [
       "       used   (Mb) gc trigger (Mb) max used (Mb)\n",
       "Ncells 511929 27.4  940480    50.3  758037  40.5\n",
       "Vcells 931865  7.2 1650153    12.6 1127114   8.6"
      ]
     },
     "metadata": {},
     "output_type": "display_data"
    }
   ],
   "source": [
    "## Clear memory\n",
    "rm(list=ls())\n",
    "gc()"
   ]
  },
  {
   "cell_type": "code",
   "execution_count": null,
   "metadata": {},
   "outputs": [],
   "source": [
    "libs<-c(\"ggplot2\",\"plyr\",\"dplyr\",\"sp\",\"rgeos\",\"raster\",\"rgdal\")\n",
    "lapply(libs, require, character.only = TRUE)\n",
    "pathToLocalGit<-\"/home/ubuntu/Workspace/ContinentalWESEestimates/\"\n",
    "\n",
    "## load the WESE map data\n",
    "load(file=paste0(pathToLocalGit,\"data/FinalWESEcounts.RData\"))\n",
    "\n",
    "## Load the current table of data\n",
    "load(file=paste0(pathToGit,\"studyarea_points_wNearLand.RData\"))\n",
    "\n",
    "## The current table of data is a spatial data.frame, we want to \n",
    "## split the WESE data into maps whose centroid is within 2.5Km of the centroid of the grid cell\n",
    "## So we load a function that does this, using UTM coordinates \n"
   ]
  }
 ],
 "metadata": {
  "kernelspec": {
   "display_name": "R",
   "language": "R",
   "name": "ir"
  },
  "language_info": {
   "codemirror_mode": "r",
   "file_extension": ".r",
   "mimetype": "text/x-r-source",
   "name": "R",
   "pygments_lexer": "r",
   "version": "3.4.4"
  }
 },
 "nbformat": 4,
 "nbformat_minor": 2
}
