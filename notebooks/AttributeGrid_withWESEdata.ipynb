{
 "cells": [
  {
   "cell_type": "markdown",
   "metadata": {},
   "source": [
    "# Attribute geospatial data with seal abundance data\n",
    "This notebook uses the information on the estimated number of seals per map to attribute the basic grid of geospatial data with seal abundance. It then tabulates the resulting raster, where each column is one of the geospatial datasets, and there is a column for seal abundance. The resulting table is saved and becomes the basic input for the modeling of factors deteriming the presence and abundance of seals throughout the entire continent.  \n",
    "  \n",
    "Run this file every time a new geospatial covariate is added to the collection."
   ]
  },
  {
   "cell_type": "markdown",
   "metadata": {},
   "source": [
    "### Loading the required libraries and other dependencies"
   ]
  },
  {
   "cell_type": "code",
   "execution_count": 22,
   "metadata": {},
   "outputs": [
    {
     "data": {
      "text/html": [
       "<table>\n",
       "<caption>A matrix: 2 × 6 of type dbl</caption>\n",
       "<thead>\n",
       "\t<tr><th></th><th scope=col>used</th><th scope=col>(Mb)</th><th scope=col>gc trigger</th><th scope=col>(Mb)</th><th scope=col>max used</th><th scope=col>(Mb)</th></tr>\n",
       "</thead>\n",
       "<tbody>\n",
       "\t<tr><th scope=row>Ncells</th><td>1253705</td><td>67.0</td><td> 2637877</td><td>140.9</td><td> 2637877</td><td>140.9</td></tr>\n",
       "\t<tr><th scope=row>Vcells</th><td>1947600</td><td>14.9</td><td>20946594</td><td>159.9</td><td>26165585</td><td>199.7</td></tr>\n",
       "</tbody>\n",
       "</table>\n"
      ],
      "text/latex": [
       "A matrix: 2 × 6 of type dbl\n",
       "\\begin{tabular}{r|llllll}\n",
       "  & used & (Mb) & gc trigger & (Mb) & max used & (Mb)\\\\\n",
       "\\hline\n",
       "\tNcells & 1253705 & 67.0 &  2637877 & 140.9 &  2637877 & 140.9\\\\\n",
       "\tVcells & 1947600 & 14.9 & 20946594 & 159.9 & 26165585 & 199.7\\\\\n",
       "\\end{tabular}\n"
      ],
      "text/markdown": [
       "\n",
       "A matrix: 2 × 6 of type dbl\n",
       "\n",
       "| <!--/--> | used | (Mb) | gc trigger | (Mb) | max used | (Mb) |\n",
       "|---|---|---|---|---|---|---|\n",
       "| Ncells | 1253705 | 67.0 |  2637877 | 140.9 |  2637877 | 140.9 |\n",
       "| Vcells | 1947600 | 14.9 | 20946594 | 159.9 | 26165585 | 199.7 |\n",
       "\n"
      ],
      "text/plain": [
       "       used    (Mb) gc trigger (Mb)  max used (Mb) \n",
       "Ncells 1253705 67.0  2637877   140.9  2637877 140.9\n",
       "Vcells 1947600 14.9 20946594   159.9 26165585 199.7"
      ]
     },
     "metadata": {},
     "output_type": "display_data"
    }
   ],
   "source": [
    "## Clear memory\n",
    "rm(list=ls())\n",
    "gc()"
   ]
  },
  {
   "cell_type": "code",
   "execution_count": 23,
   "metadata": {},
   "outputs": [
    {
     "data": {
      "text/html": [
       "<ol>\n",
       "\t<li>TRUE</li>\n",
       "\t<li>TRUE</li>\n",
       "\t<li>TRUE</li>\n",
       "\t<li>TRUE</li>\n",
       "\t<li>TRUE</li>\n",
       "\t<li>TRUE</li>\n",
       "\t<li>TRUE</li>\n",
       "</ol>\n"
      ],
      "text/latex": [
       "\\begin{enumerate}\n",
       "\\item TRUE\n",
       "\\item TRUE\n",
       "\\item TRUE\n",
       "\\item TRUE\n",
       "\\item TRUE\n",
       "\\item TRUE\n",
       "\\item TRUE\n",
       "\\end{enumerate}\n"
      ],
      "text/markdown": [
       "1. TRUE\n",
       "2. TRUE\n",
       "3. TRUE\n",
       "4. TRUE\n",
       "5. TRUE\n",
       "6. TRUE\n",
       "7. TRUE\n",
       "\n",
       "\n"
      ],
      "text/plain": [
       "[[1]]\n",
       "[1] TRUE\n",
       "\n",
       "[[2]]\n",
       "[1] TRUE\n",
       "\n",
       "[[3]]\n",
       "[1] TRUE\n",
       "\n",
       "[[4]]\n",
       "[1] TRUE\n",
       "\n",
       "[[5]]\n",
       "[1] TRUE\n",
       "\n",
       "[[6]]\n",
       "[1] TRUE\n",
       "\n",
       "[[7]]\n",
       "[1] TRUE\n"
      ]
     },
     "metadata": {},
     "output_type": "display_data"
    }
   ],
   "source": [
    "libs<-c(\"ggplot2\",\"plyr\",\"dplyr\",\"sp\",\"rgeos\",\"raster\",\"rgdal\")\n",
    "lapply(libs, require, character.only = TRUE)\n",
    "pathToLocalGit<-\"/home/ubuntu/Workspace/ContinentalWESEestimates/\"\n",
    "\n",
    "## load the WESE map data\n",
    "load(file=paste0(pathToLocalGit,\"data/FinalWESEcounts.RData\"))\n",
    "\n",
    "## Load the current table of data\n",
    "load(file=paste0(pathToLocalGit,\"data/studyarea_points_wNearLand.RData\"))\n",
    "\n",
    "## Source the functions file\n",
    "source(paste0(pathToLocalGit,\"scripts/countSealsFromTags_functions.R\"))\n",
    " \n",
    "cdf<-as.data.frame(studyarea_pointswLand,xy=TRUE)"
   ]
  },
  {
   "cell_type": "markdown",
   "metadata": {},
   "source": [
    "The current table of data is a spatial data.frame of a 5 km grid of cells, with geospatial attributes for each cell. We want to add one more attribute to this cell: WESE abundance. We use the WESE data frame for this purpose. So, we first attribute the WESE data, which are summarized by 500-m maps, with the cellId of the 5-km grid. We then aggregate the map counts by (add up to) the 5-km cellId. Finally, we merge the WESE data to the geospatial data, and save as data.frame. \n",
    "We use a function that does this, using UTM coordinates "
   ]
  },
  {
   "cell_type": "code",
   "execution_count": null,
   "metadata": {},
   "outputs": [],
   "source": [
    "wese5k<-getWESEcountsBy5km(gdf=studyarea_pointswLand,wesedf=unique(countdf[,c(\"regionMapId\",\"mapcoords.x1\",\"mapcoords.x2\")]))"
   ]
  },
  {
   "cell_type": "code",
   "execution_count": 25,
   "metadata": {},
   "outputs": [
    {
     "data": {
      "text/html": [
       "<table>\n",
       "<caption>A data.frame: 6 × 4</caption>\n",
       "<thead>\n",
       "\t<tr><th></th><th scope=col>regionMapId</th><th scope=col>mapcoords.x1</th><th scope=col>mapcoords.x2</th><th scope=col>pointid</th></tr>\n",
       "\t<tr><th></th><th scope=col>&lt;chr&gt;</th><th scope=col>&lt;dbl&gt;</th><th scope=col>&lt;dbl&gt;</th><th scope=col>&lt;int&gt;</th></tr>\n",
       "</thead>\n",
       "<tbody>\n",
       "\t<tr><th scope=row>1</th><td>AMU101663</td><td>-1816006</td><td>143453.4</td><td>170320</td></tr>\n",
       "\t<tr><th scope=row>3</th><td>AMU102072</td><td>-1808177</td><td>144061.5</td><td>170322</td></tr>\n",
       "\t<tr><th scope=row>5</th><td>AMU102099</td><td>-1836031</td><td>135076.1</td><td>170413</td></tr>\n",
       "\t<tr><th scope=row>7</th><td>AMU103615</td><td>-1835618</td><td>135045.7</td><td>170413</td></tr>\n",
       "\t<tr><th scope=row>9</th><td>AMU103695</td><td>-1836443</td><td>135106.4</td><td>170413</td></tr>\n",
       "\t<tr><th scope=row>11</th><td>AMU103791</td><td>-1836076</td><td>134457.2</td><td>170413</td></tr>\n",
       "</tbody>\n",
       "</table>\n"
      ],
      "text/latex": [
       "A data.frame: 6 × 4\n",
       "\\begin{tabular}{r|llll}\n",
       "  & regionMapId & mapcoords.x1 & mapcoords.x2 & pointid\\\\\n",
       "  & <chr> & <dbl> & <dbl> & <int>\\\\\n",
       "\\hline\n",
       "\t1 & AMU101663 & -1816006 & 143453.4 & 170320\\\\\n",
       "\t3 & AMU102072 & -1808177 & 144061.5 & 170322\\\\\n",
       "\t5 & AMU102099 & -1836031 & 135076.1 & 170413\\\\\n",
       "\t7 & AMU103615 & -1835618 & 135045.7 & 170413\\\\\n",
       "\t9 & AMU103695 & -1836443 & 135106.4 & 170413\\\\\n",
       "\t11 & AMU103791 & -1836076 & 134457.2 & 170413\\\\\n",
       "\\end{tabular}\n"
      ],
      "text/markdown": [
       "\n",
       "A data.frame: 6 × 4\n",
       "\n",
       "| <!--/--> | regionMapId &lt;chr&gt; | mapcoords.x1 &lt;dbl&gt; | mapcoords.x2 &lt;dbl&gt; | pointid &lt;int&gt; |\n",
       "|---|---|---|---|---|\n",
       "| 1 | AMU101663 | -1816006 | 143453.4 | 170320 |\n",
       "| 3 | AMU102072 | -1808177 | 144061.5 | 170322 |\n",
       "| 5 | AMU102099 | -1836031 | 135076.1 | 170413 |\n",
       "| 7 | AMU103615 | -1835618 | 135045.7 | 170413 |\n",
       "| 9 | AMU103695 | -1836443 | 135106.4 | 170413 |\n",
       "| 11 | AMU103791 | -1836076 | 134457.2 | 170413 |\n",
       "\n"
      ],
      "text/plain": [
       "   regionMapId mapcoords.x1 mapcoords.x2 pointid\n",
       "1  AMU101663   -1816006     143453.4     170320 \n",
       "3  AMU102072   -1808177     144061.5     170322 \n",
       "5  AMU102099   -1836031     135076.1     170413 \n",
       "7  AMU103615   -1835618     135045.7     170413 \n",
       "9  AMU103695   -1836443     135106.4     170413 \n",
       "11 AMU103791   -1836076     134457.2     170413 "
      ]
     },
     "metadata": {},
     "output_type": "display_data"
    }
   ],
   "source": [
    "head(wese5k)"
   ]
  },
  {
   "cell_type": "code",
   "execution_count": 26,
   "metadata": {},
   "outputs": [
    {
     "data": {
      "text/html": [
       "0"
      ],
      "text/latex": [
       "0"
      ],
      "text/markdown": [
       "0"
      ],
      "text/plain": [
       "[1] 0"
      ]
     },
     "metadata": {},
     "output_type": "display_data"
    },
    {
     "data": {
      "text/html": [
       "TRUE"
      ],
      "text/latex": [
       "TRUE"
      ],
      "text/markdown": [
       "TRUE"
      ],
      "text/plain": [
       "[1] TRUE"
      ]
     },
     "metadata": {},
     "output_type": "display_data"
    },
    {
     "data": {
      "text/html": [
       "TRUE"
      ],
      "text/latex": [
       "TRUE"
      ],
      "text/markdown": [
       "TRUE"
      ],
      "text/plain": [
       "[1] TRUE"
      ]
     },
     "metadata": {},
     "output_type": "display_data"
    }
   ],
   "source": [
    "## Checking\n",
    "sum(is.na(wese5k$pointid))\n",
    "nrow(wese5k)==nrow(unique(countdf[,c(\"regionMapId\",\"mapcoords.x1\",\"mapcoords.x2\")]))\n",
    "nrow(wese5k)*2==nrow(countdf)"
   ]
  },
  {
   "cell_type": "code",
   "execution_count": 27,
   "metadata": {},
   "outputs": [
    {
     "data": {
      "text/html": [
       "34990"
      ],
      "text/latex": [
       "34990"
      ],
      "text/markdown": [
       "34990"
      ],
      "text/plain": [
       "[1] 34990"
      ]
     },
     "metadata": {},
     "output_type": "display_data"
    }
   ],
   "source": [
    "## Now we merge with countdf\n",
    "## But before we do that, I think we may have problems with coordinates for some points\n"
   ]
  },
  {
   "cell_type": "code",
   "execution_count": 21,
   "metadata": {},
   "outputs": [
    {
     "data": {
      "text/html": [
       "34990"
      ],
      "text/latex": [
       "34990"
      ],
      "text/markdown": [
       "34990"
      ],
      "text/plain": [
       "[1] 34990"
      ]
     },
     "metadata": {},
     "output_type": "display_data"
    }
   ],
   "source": [
    "17495*2\n"
   ]
  },
  {
   "cell_type": "code",
   "execution_count": null,
   "metadata": {},
   "outputs": [],
   "source": []
  }
 ],
 "metadata": {
  "kernelspec": {
   "display_name": "R",
   "language": "R",
   "name": "ir"
  },
  "language_info": {
   "codemirror_mode": "r",
   "file_extension": ".r",
   "mimetype": "text/x-r-source",
   "name": "R",
   "pygments_lexer": "r",
   "version": "3.4.4"
  }
 },
 "nbformat": 4,
 "nbformat_minor": 2
}
