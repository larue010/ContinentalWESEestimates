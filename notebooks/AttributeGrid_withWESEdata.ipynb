{
 "cells": [
  {
   "cell_type": "markdown",
   "metadata": {},
   "source": [
    "# Attribute geospatial data with seal abundance data\n",
    "This notebook uses the information on the estimated number of seals per map to attribute the basic grid of geospatial data with seal abundance. It then tabulates the resulting raster, where each column is one of the geospatial datasets, and there is a column for seal abundance. The resulting table is saved and becomes the basic input for the modeling of factors deteriming the presence and abundance of seals throughout the entire continent.  \n",
    "  \n",
    "Run this file every time a new geospatial covariate is added to the collection."
   ]
  },
  {
   "cell_type": "markdown",
   "metadata": {},
   "source": [
    "### Loading the required libraries and other dependencies"
   ]
  },
  {
   "cell_type": "code",
   "execution_count": 1,
   "metadata": {},
   "outputs": [
    {
     "data": {
      "text/html": [
       "<table>\n",
       "<caption>A matrix: 2 × 6 of type dbl</caption>\n",
       "<thead>\n",
       "\t<tr><th></th><th scope=col>used</th><th scope=col>(Mb)</th><th scope=col>gc trigger</th><th scope=col>(Mb)</th><th scope=col>max used</th><th scope=col>(Mb)</th></tr>\n",
       "</thead>\n",
       "<tbody>\n",
       "\t<tr><th scope=row>Ncells</th><td>510029</td><td>27.3</td><td> 940480</td><td>50.3</td><td> 750400</td><td>40.1</td></tr>\n",
       "\t<tr><th scope=row>Vcells</th><td>937333</td><td> 7.2</td><td>1650153</td><td>12.6</td><td>1106300</td><td> 8.5</td></tr>\n",
       "</tbody>\n",
       "</table>\n"
      ],
      "text/latex": [
       "A matrix: 2 × 6 of type dbl\n",
       "\\begin{tabular}{r|llllll}\n",
       "  & used & (Mb) & gc trigger & (Mb) & max used & (Mb)\\\\\n",
       "\\hline\n",
       "\tNcells & 510029 & 27.3 &  940480 & 50.3 &  750400 & 40.1\\\\\n",
       "\tVcells & 937333 &  7.2 & 1650153 & 12.6 & 1106300 &  8.5\\\\\n",
       "\\end{tabular}\n"
      ],
      "text/markdown": [
       "\n",
       "A matrix: 2 × 6 of type dbl\n",
       "\n",
       "| <!--/--> | used | (Mb) | gc trigger | (Mb) | max used | (Mb) |\n",
       "|---|---|---|---|---|---|---|\n",
       "| Ncells | 510029 | 27.3 |  940480 | 50.3 |  750400 | 40.1 |\n",
       "| Vcells | 937333 |  7.2 | 1650153 | 12.6 | 1106300 |  8.5 |\n",
       "\n"
      ],
      "text/plain": [
       "       used   (Mb) gc trigger (Mb) max used (Mb)\n",
       "Ncells 510029 27.3  940480    50.3  750400  40.1\n",
       "Vcells 937333  7.2 1650153    12.6 1106300   8.5"
      ]
     },
     "metadata": {},
     "output_type": "display_data"
    }
   ],
   "source": [
    "## Clear memory\n",
    "rm(list=ls())\n",
    "gc()"
   ]
  },
  {
   "cell_type": "code",
   "execution_count": 2,
   "metadata": {},
   "outputs": [
    {
     "name": "stderr",
     "output_type": "stream",
     "text": [
      "Loading required package: ggplot2\n",
      "\n",
      "Loading required package: plyr\n",
      "\n",
      "Loading required package: dplyr\n",
      "\n",
      "\n",
      "Attaching package: ‘dplyr’\n",
      "\n",
      "\n",
      "The following objects are masked from ‘package:plyr’:\n",
      "\n",
      "    arrange, count, desc, failwith, id, mutate, rename, summarise,\n",
      "    summarize\n",
      "\n",
      "\n",
      "The following objects are masked from ‘package:stats’:\n",
      "\n",
      "    filter, lag\n",
      "\n",
      "\n",
      "The following objects are masked from ‘package:base’:\n",
      "\n",
      "    intersect, setdiff, setequal, union\n",
      "\n",
      "\n",
      "Loading required package: sp\n",
      "\n",
      "Loading required package: rgeos\n",
      "\n",
      "rgeos version: 0.5-2, (SVN revision 621)\n",
      " GEOS runtime version: 3.6.2-CAPI-1.10.2 \n",
      " Linking to sp version: 1.4-1 \n",
      " Polygon checking: TRUE \n",
      "\n",
      "\n",
      "Loading required package: raster\n",
      "\n",
      "\n",
      "Attaching package: ‘raster’\n",
      "\n",
      "\n",
      "The following object is masked from ‘package:dplyr’:\n",
      "\n",
      "    select\n",
      "\n",
      "\n",
      "Loading required package: rgdal\n",
      "\n",
      "rgdal: version: 1.2-20, (SVN revision 725)\n",
      " Geospatial Data Abstraction Library extensions to R successfully loaded\n",
      " Loaded GDAL runtime: GDAL 2.2.3, released 2017/11/20\n",
      " Path to GDAL shared files: /usr/share/gdal/2.2\n",
      " GDAL binary built with GEOS: TRUE \n",
      " Loaded PROJ.4 runtime: Rel. 4.9.3, 15 August 2016, [PJ_VERSION: 493]\n",
      " Path to PROJ.4 shared files: (autodetected)\n",
      " Linking to sp version: 1.4-1 \n",
      "\n"
     ]
    },
    {
     "data": {
      "text/html": [
       "<ol>\n",
       "\t<li>TRUE</li>\n",
       "\t<li>TRUE</li>\n",
       "\t<li>TRUE</li>\n",
       "\t<li>TRUE</li>\n",
       "\t<li>TRUE</li>\n",
       "\t<li>TRUE</li>\n",
       "\t<li>TRUE</li>\n",
       "</ol>\n"
      ],
      "text/latex": [
       "\\begin{enumerate}\n",
       "\\item TRUE\n",
       "\\item TRUE\n",
       "\\item TRUE\n",
       "\\item TRUE\n",
       "\\item TRUE\n",
       "\\item TRUE\n",
       "\\item TRUE\n",
       "\\end{enumerate}\n"
      ],
      "text/markdown": [
       "1. TRUE\n",
       "2. TRUE\n",
       "3. TRUE\n",
       "4. TRUE\n",
       "5. TRUE\n",
       "6. TRUE\n",
       "7. TRUE\n",
       "\n",
       "\n"
      ],
      "text/plain": [
       "[[1]]\n",
       "[1] TRUE\n",
       "\n",
       "[[2]]\n",
       "[1] TRUE\n",
       "\n",
       "[[3]]\n",
       "[1] TRUE\n",
       "\n",
       "[[4]]\n",
       "[1] TRUE\n",
       "\n",
       "[[5]]\n",
       "[1] TRUE\n",
       "\n",
       "[[6]]\n",
       "[1] TRUE\n",
       "\n",
       "[[7]]\n",
       "[1] TRUE\n"
      ]
     },
     "metadata": {},
     "output_type": "display_data"
    },
    {
     "data": {
      "text/html": [
       "TRUE"
      ],
      "text/latex": [
       "TRUE"
      ],
      "text/markdown": [
       "TRUE"
      ],
      "text/plain": [
       "[1] TRUE"
      ]
     },
     "metadata": {},
     "output_type": "display_data"
    }
   ],
   "source": [
    "libs<-c(\"ggplot2\",\"plyr\",\"dplyr\",\"sp\",\"rgeos\",\"raster\",\"rgdal\")\n",
    "lapply(libs, require, character.only = TRUE)\n",
    "pathToLocalGit<-\"/home/ubuntu/Workspace/ContinentalWESEestimates/\"\n",
    "\n",
    "## load the WESE map data\n",
    "load(file=paste0(pathToLocalGit,\"data/FinalWESEcounts.RData\"))\n",
    "\n",
    "## Load the current table of data\n",
    "load(file=paste0(pathToLocalGit,\"data/studyarea_points_wNearLand.RData\"))\n",
    "\n",
    "## Source the functions file\n",
    "source(paste0(pathToLocalGit,\"scripts/countSealsFromTags_functions.R\"))\n",
    " \n",
    "cdf<-as.data.frame(studyarea_pointswLand,xy=TRUE)\n",
    "cdf$pointid<-as.integer(as.character(cdf$pointid))\n",
    "NROW(unique(cdf$pointid))==nrow(cdf)"
   ]
  },
  {
   "cell_type": "markdown",
   "metadata": {},
   "source": [
    "The current table of data is a spatial data.frame of a 5 km grid of cells, with geospatial attributes for each cell. We want to add one more attribute to this cell: WESE abundance. We use the WESE data frame for this purpose. So, we first attribute the WESE data, which are summarized by 500-m maps, with the cellId of the 5-km grid. We then aggregate the map counts by (add up to) the 5-km cellId. Finally, we merge the WESE data to the geospatial data, and save as data.frame. \n",
    "We use a function that does this, using UTM coordinates "
   ]
  },
  {
   "cell_type": "code",
   "execution_count": 3,
   "metadata": {},
   "outputs": [],
   "source": [
    "wese5k<-getWESEcountsBy5km(gdf=studyarea_pointswLand,wesedf=unique(countdf[,c(\"regionMapId\",\"mapcoords.x1\",\"mapcoords.x2\")]))"
   ]
  },
  {
   "cell_type": "code",
   "execution_count": 5,
   "metadata": {},
   "outputs": [
    {
     "data": {
      "text/html": [
       "<table>\n",
       "<caption>A data.frame: 6 × 4</caption>\n",
       "<thead>\n",
       "\t<tr><th></th><th scope=col>regionMapId</th><th scope=col>mapcoords.x1</th><th scope=col>mapcoords.x2</th><th scope=col>pointid</th></tr>\n",
       "\t<tr><th></th><th scope=col>&lt;chr&gt;</th><th scope=col>&lt;dbl&gt;</th><th scope=col>&lt;dbl&gt;</th><th scope=col>&lt;int&gt;</th></tr>\n",
       "</thead>\n",
       "<tbody>\n",
       "\t<tr><th scope=row>1</th><td>AMU101663</td><td>-1816006</td><td>143453.4</td><td>541761</td></tr>\n",
       "\t<tr><th scope=row>3</th><td>AMU102072</td><td>-1808177</td><td>144061.5</td><td>541763</td></tr>\n",
       "\t<tr><th scope=row>5</th><td>AMU102099</td><td>-1836031</td><td>135076.1</td><td>542013</td></tr>\n",
       "\t<tr><th scope=row>7</th><td>AMU103615</td><td>-1835618</td><td>135045.7</td><td>542013</td></tr>\n",
       "\t<tr><th scope=row>9</th><td>AMU103695</td><td>-1836443</td><td>135106.4</td><td>542013</td></tr>\n",
       "\t<tr><th scope=row>11</th><td>AMU103791</td><td>-1836076</td><td>134457.2</td><td>542013</td></tr>\n",
       "</tbody>\n",
       "</table>\n"
      ],
      "text/latex": [
       "A data.frame: 6 × 4\n",
       "\\begin{tabular}{r|llll}\n",
       "  & regionMapId & mapcoords.x1 & mapcoords.x2 & pointid\\\\\n",
       "  & <chr> & <dbl> & <dbl> & <int>\\\\\n",
       "\\hline\n",
       "\t1 & AMU101663 & -1816006 & 143453.4 & 541761\\\\\n",
       "\t3 & AMU102072 & -1808177 & 144061.5 & 541763\\\\\n",
       "\t5 & AMU102099 & -1836031 & 135076.1 & 542013\\\\\n",
       "\t7 & AMU103615 & -1835618 & 135045.7 & 542013\\\\\n",
       "\t9 & AMU103695 & -1836443 & 135106.4 & 542013\\\\\n",
       "\t11 & AMU103791 & -1836076 & 134457.2 & 542013\\\\\n",
       "\\end{tabular}\n"
      ],
      "text/markdown": [
       "\n",
       "A data.frame: 6 × 4\n",
       "\n",
       "| <!--/--> | regionMapId &lt;chr&gt; | mapcoords.x1 &lt;dbl&gt; | mapcoords.x2 &lt;dbl&gt; | pointid &lt;int&gt; |\n",
       "|---|---|---|---|---|\n",
       "| 1 | AMU101663 | -1816006 | 143453.4 | 541761 |\n",
       "| 3 | AMU102072 | -1808177 | 144061.5 | 541763 |\n",
       "| 5 | AMU102099 | -1836031 | 135076.1 | 542013 |\n",
       "| 7 | AMU103615 | -1835618 | 135045.7 | 542013 |\n",
       "| 9 | AMU103695 | -1836443 | 135106.4 | 542013 |\n",
       "| 11 | AMU103791 | -1836076 | 134457.2 | 542013 |\n",
       "\n"
      ],
      "text/plain": [
       "   regionMapId mapcoords.x1 mapcoords.x2 pointid\n",
       "1  AMU101663   -1816006     143453.4     541761 \n",
       "3  AMU102072   -1808177     144061.5     541763 \n",
       "5  AMU102099   -1836031     135076.1     542013 \n",
       "7  AMU103615   -1835618     135045.7     542013 \n",
       "9  AMU103695   -1836443     135106.4     542013 \n",
       "11 AMU103791   -1836076     134457.2     542013 "
      ]
     },
     "metadata": {},
     "output_type": "display_data"
    }
   ],
   "source": [
    "head(wese5k)"
   ]
  },
  {
   "cell_type": "code",
   "execution_count": 6,
   "metadata": {},
   "outputs": [
    {
     "data": {
      "text/html": [
       "0"
      ],
      "text/latex": [
       "0"
      ],
      "text/markdown": [
       "0"
      ],
      "text/plain": [
       "[1] 0"
      ]
     },
     "metadata": {},
     "output_type": "display_data"
    },
    {
     "data": {
      "text/html": [
       "TRUE"
      ],
      "text/latex": [
       "TRUE"
      ],
      "text/markdown": [
       "TRUE"
      ],
      "text/plain": [
       "[1] TRUE"
      ]
     },
     "metadata": {},
     "output_type": "display_data"
    },
    {
     "data": {
      "text/html": [
       "TRUE"
      ],
      "text/latex": [
       "TRUE"
      ],
      "text/markdown": [
       "TRUE"
      ],
      "text/plain": [
       "[1] TRUE"
      ]
     },
     "metadata": {},
     "output_type": "display_data"
    },
    {
     "data": {
      "text/html": [
       "0"
      ],
      "text/latex": [
       "0"
      ],
      "text/markdown": [
       "0"
      ],
      "text/plain": [
       "[1] 0"
      ]
     },
     "metadata": {},
     "output_type": "display_data"
    }
   ],
   "source": [
    "## Checking\n",
    "sum(is.na(wese5k$pointid))\n",
    "nrow(wese5k)==nrow(unique(countdf[,c(\"regionMapId\",\"mapcoords.x1\",\"mapcoords.x2\")]))\n",
    "nrow(wese5k)*2==nrow(countdf)\n",
    "sum(is.na(wese5k$mapcoords.x1))"
   ]
  },
  {
   "cell_type": "code",
   "execution_count": 7,
   "metadata": {},
   "outputs": [
    {
     "data": {
      "text/html": [
       "<table>\n",
       "<caption>A data.frame: 6 × 9</caption>\n",
       "<thead>\n",
       "\t<tr><th></th><th scope=col>regionMapId</th><th scope=col>pointid</th><th scope=col>mapcoords.x1</th><th scope=col>mapcoords.x2</th><th scope=col>coords.x1</th><th scope=col>coords.x2</th><th scope=col>mcx1</th><th scope=col>mcx2</th><th scope=col>dist</th></tr>\n",
       "\t<tr><th></th><th scope=col>&lt;chr&gt;</th><th scope=col>&lt;int&gt;</th><th scope=col>&lt;dbl&gt;</th><th scope=col>&lt;dbl&gt;</th><th scope=col>&lt;dbl&gt;</th><th scope=col>&lt;dbl&gt;</th><th scope=col>&lt;dbl&gt;</th><th scope=col>&lt;dbl&gt;</th><th scope=col>&lt;dbl&gt;</th></tr>\n",
       "</thead>\n",
       "<tbody>\n",
       "\t<tr><th scope=row>1</th><td>AMU101663</td><td>541761</td><td>-1816006</td><td>143453.4</td><td>-1816000</td><td>146000</td><td>-85.48336</td><td>-73.34752</td><td>2546.6202</td></tr>\n",
       "\t<tr><th scope=row>2</th><td>AMU102072</td><td>541763</td><td>-1808177</td><td>144061.5</td><td>-1806000</td><td>146000</td><td>-85.44474</td><td>-73.41747</td><td>2914.6879</td></tr>\n",
       "\t<tr><th scope=row>3</th><td>AMU102099</td><td>542013</td><td>-1836031</td><td>135076.1</td><td>-1836000</td><td>136000</td><td>-85.79235</td><td>-73.17324</td><td> 924.4466</td></tr>\n",
       "\t<tr><th scope=row>4</th><td>AMU103615</td><td>542013</td><td>-1835618</td><td>135045.7</td><td>-1836000</td><td>136000</td><td>-85.79235</td><td>-73.17696</td><td>1027.7203</td></tr>\n",
       "\t<tr><th scope=row>5</th><td>AMU103695</td><td>542013</td><td>-1836443</td><td>135106.4</td><td>-1836000</td><td>136000</td><td>-85.79235</td><td>-73.16951</td><td> 997.4273</td></tr>\n",
       "\t<tr><th scope=row>6</th><td>AMU103791</td><td>542013</td><td>-1836076</td><td>134457.2</td><td>-1836000</td><td>136000</td><td>-85.81166</td><td>-73.17324</td><td>1544.6675</td></tr>\n",
       "</tbody>\n",
       "</table>\n"
      ],
      "text/latex": [
       "A data.frame: 6 × 9\n",
       "\\begin{tabular}{r|lllllllll}\n",
       "  & regionMapId & pointid & mapcoords.x1 & mapcoords.x2 & coords.x1 & coords.x2 & mcx1 & mcx2 & dist\\\\\n",
       "  & <chr> & <int> & <dbl> & <dbl> & <dbl> & <dbl> & <dbl> & <dbl> & <dbl>\\\\\n",
       "\\hline\n",
       "\t1 & AMU101663 & 541761 & -1816006 & 143453.4 & -1816000 & 146000 & -85.48336 & -73.34752 & 2546.6202\\\\\n",
       "\t2 & AMU102072 & 541763 & -1808177 & 144061.5 & -1806000 & 146000 & -85.44474 & -73.41747 & 2914.6879\\\\\n",
       "\t3 & AMU102099 & 542013 & -1836031 & 135076.1 & -1836000 & 136000 & -85.79235 & -73.17324 &  924.4466\\\\\n",
       "\t4 & AMU103615 & 542013 & -1835618 & 135045.7 & -1836000 & 136000 & -85.79235 & -73.17696 & 1027.7203\\\\\n",
       "\t5 & AMU103695 & 542013 & -1836443 & 135106.4 & -1836000 & 136000 & -85.79235 & -73.16951 &  997.4273\\\\\n",
       "\t6 & AMU103791 & 542013 & -1836076 & 134457.2 & -1836000 & 136000 & -85.81166 & -73.17324 & 1544.6675\\\\\n",
       "\\end{tabular}\n"
      ],
      "text/markdown": [
       "\n",
       "A data.frame: 6 × 9\n",
       "\n",
       "| <!--/--> | regionMapId &lt;chr&gt; | pointid &lt;int&gt; | mapcoords.x1 &lt;dbl&gt; | mapcoords.x2 &lt;dbl&gt; | coords.x1 &lt;dbl&gt; | coords.x2 &lt;dbl&gt; | mcx1 &lt;dbl&gt; | mcx2 &lt;dbl&gt; | dist &lt;dbl&gt; |\n",
       "|---|---|---|---|---|---|---|---|---|---|\n",
       "| 1 | AMU101663 | 541761 | -1816006 | 143453.4 | -1816000 | 146000 | -85.48336 | -73.34752 | 2546.6202 |\n",
       "| 2 | AMU102072 | 541763 | -1808177 | 144061.5 | -1806000 | 146000 | -85.44474 | -73.41747 | 2914.6879 |\n",
       "| 3 | AMU102099 | 542013 | -1836031 | 135076.1 | -1836000 | 136000 | -85.79235 | -73.17324 |  924.4466 |\n",
       "| 4 | AMU103615 | 542013 | -1835618 | 135045.7 | -1836000 | 136000 | -85.79235 | -73.17696 | 1027.7203 |\n",
       "| 5 | AMU103695 | 542013 | -1836443 | 135106.4 | -1836000 | 136000 | -85.79235 | -73.16951 |  997.4273 |\n",
       "| 6 | AMU103791 | 542013 | -1836076 | 134457.2 | -1836000 | 136000 | -85.81166 | -73.17324 | 1544.6675 |\n",
       "\n"
      ],
      "text/plain": [
       "  regionMapId pointid mapcoords.x1 mapcoords.x2 coords.x1 coords.x2 mcx1     \n",
       "1 AMU101663   541761  -1816006     143453.4     -1816000  146000    -85.48336\n",
       "2 AMU102072   541763  -1808177     144061.5     -1806000  146000    -85.44474\n",
       "3 AMU102099   542013  -1836031     135076.1     -1836000  136000    -85.79235\n",
       "4 AMU103615   542013  -1835618     135045.7     -1836000  136000    -85.79235\n",
       "5 AMU103695   542013  -1836443     135106.4     -1836000  136000    -85.79235\n",
       "6 AMU103791   542013  -1836076     134457.2     -1836000  136000    -85.81166\n",
       "  mcx2      dist     \n",
       "1 -73.34752 2546.6202\n",
       "2 -73.41747 2914.6879\n",
       "3 -73.17324  924.4466\n",
       "4 -73.17696 1027.7203\n",
       "5 -73.16951  997.4273\n",
       "6 -73.17324 1544.6675"
      ]
     },
     "metadata": {},
     "output_type": "display_data"
    }
   ],
   "source": [
    "## Now we merge with countdf\n",
    "## But before we do that, here's a check of coordinates, because some maps are > 5km away from nearest grid cell\n",
    "odf<-cdf[,c(\"pointid\",\"coords.x1\",\"coords.x2\")]\n",
    "tdf<-merge(wese5k,odf, by=\"pointid\",all.x=T)\n",
    "rdf<-unique(countdf[,c(\"regionMapId\",\"mapcoords.x1\",\"mapcoords.x2\")])\n",
    "names(rdf)<-c(\"regionMapId\",\"mcx1\",\"mcx2\")\n",
    "tdf<-merge(tdf,rdf,by=\"regionMapId\",all.x=T)\n",
    "tdf$dist<-sqrt(((tdf$mapcoords.x1-tdf$coords.x1)^2)+((tdf$mapcoords.x2-tdf$coords.x2)^2))\n",
    "head(tdf)"
   ]
  },
  {
   "cell_type": "code",
   "execution_count": 8,
   "metadata": {},
   "outputs": [
    {
     "data": {
      "text/html": [
       "17495"
      ],
      "text/latex": [
       "17495"
      ],
      "text/markdown": [
       "17495"
      ],
      "text/plain": [
       "[1] 17495"
      ]
     },
     "metadata": {},
     "output_type": "display_data"
    },
    {
     "data": {
      "text/html": [
       "17495"
      ],
      "text/latex": [
       "17495"
      ],
      "text/markdown": [
       "17495"
      ],
      "text/plain": [
       "[1] 17495"
      ]
     },
     "metadata": {},
     "output_type": "display_data"
    },
    {
     "data": {
      "text/html": [
       "17495"
      ],
      "text/latex": [
       "17495"
      ],
      "text/markdown": [
       "17495"
      ],
      "text/plain": [
       "[1] 17495"
      ]
     },
     "metadata": {},
     "output_type": "display_data"
    },
    {
     "data": {
      "text/html": [
       "<table>\n",
       "<caption>A data.frame: 6 × 4</caption>\n",
       "<thead>\n",
       "\t<tr><th></th><th scope=col>regionMapId</th><th scope=col>mdlColEstimate</th><th scope=col>mdlIslEstimate</th><th scope=col>pointid</th></tr>\n",
       "\t<tr><th></th><th scope=col>&lt;chr&gt;</th><th scope=col>&lt;dbl&gt;</th><th scope=col>&lt;dbl&gt;</th><th scope=col>&lt;int&gt;</th></tr>\n",
       "</thead>\n",
       "<tbody>\n",
       "\t<tr><th scope=row>1</th><td>AMU101663</td><td> 0</td><td> 0</td><td>541761</td></tr>\n",
       "\t<tr><th scope=row>2</th><td>AMU102072</td><td> 0</td><td> 0</td><td>541763</td></tr>\n",
       "\t<tr><th scope=row>3</th><td>AMU102099</td><td> 8</td><td> 9</td><td>542013</td></tr>\n",
       "\t<tr><th scope=row>4</th><td>AMU103615</td><td> 0</td><td> 0</td><td>542013</td></tr>\n",
       "\t<tr><th scope=row>5</th><td>AMU103695</td><td> 0</td><td> 0</td><td>542013</td></tr>\n",
       "\t<tr><th scope=row>6</th><td>AMU103791</td><td>30</td><td>37</td><td>542013</td></tr>\n",
       "</tbody>\n",
       "</table>\n"
      ],
      "text/latex": [
       "A data.frame: 6 × 4\n",
       "\\begin{tabular}{r|llll}\n",
       "  & regionMapId & mdlColEstimate & mdlIslEstimate & pointid\\\\\n",
       "  & <chr> & <dbl> & <dbl> & <int>\\\\\n",
       "\\hline\n",
       "\t1 & AMU101663 &  0 &  0 & 541761\\\\\n",
       "\t2 & AMU102072 &  0 &  0 & 541763\\\\\n",
       "\t3 & AMU102099 &  8 &  9 & 542013\\\\\n",
       "\t4 & AMU103615 &  0 &  0 & 542013\\\\\n",
       "\t5 & AMU103695 &  0 &  0 & 542013\\\\\n",
       "\t6 & AMU103791 & 30 & 37 & 542013\\\\\n",
       "\\end{tabular}\n"
      ],
      "text/markdown": [
       "\n",
       "A data.frame: 6 × 4\n",
       "\n",
       "| <!--/--> | regionMapId &lt;chr&gt; | mdlColEstimate &lt;dbl&gt; | mdlIslEstimate &lt;dbl&gt; | pointid &lt;int&gt; |\n",
       "|---|---|---|---|---|\n",
       "| 1 | AMU101663 |  0 |  0 | 541761 |\n",
       "| 2 | AMU102072 |  0 |  0 | 541763 |\n",
       "| 3 | AMU102099 |  8 |  9 | 542013 |\n",
       "| 4 | AMU103615 |  0 |  0 | 542013 |\n",
       "| 5 | AMU103695 |  0 |  0 | 542013 |\n",
       "| 6 | AMU103791 | 30 | 37 | 542013 |\n",
       "\n"
      ],
      "text/plain": [
       "  regionMapId mdlColEstimate mdlIslEstimate pointid\n",
       "1 AMU101663    0              0             541761 \n",
       "2 AMU102072    0              0             541763 \n",
       "3 AMU102099    8              9             542013 \n",
       "4 AMU103615    0              0             542013 \n",
       "5 AMU103695    0              0             542013 \n",
       "6 AMU103791   30             37             542013 "
      ]
     },
     "metadata": {},
     "output_type": "display_data"
    }
   ],
   "source": [
    "## It looks like this is the best we can do for now, so...\n",
    "## Let's use 2011 estimates\n",
    "nrow(wese5k)\n",
    "y2011df<-subset(countdf, Year==\"2011\",select=c(\"mdlColEstimate\",\"mdlIslEstimate\",\"regionMapId\"))\n",
    "wesedata<-merge(y2011df,wese5k[,c(\"regionMapId\",\"pointid\")],by=\"regionMapId\",all.x=TRUE)\n",
    "nrow(wesedata);nrow(y2011df)\n",
    "head(wesedata)"
   ]
  },
  {
   "cell_type": "code",
   "execution_count": 10,
   "metadata": {},
   "outputs": [
    {
     "data": {
      "text/html": [
       "243081"
      ],
      "text/latex": [
       "243081"
      ],
      "text/markdown": [
       "243081"
      ],
      "text/plain": [
       "[1] 243081"
      ]
     },
     "metadata": {},
     "output_type": "display_data"
    },
    {
     "data": {
      "text/html": [
       "227507"
      ],
      "text/latex": [
       "227507"
      ],
      "text/markdown": [
       "227507"
      ],
      "text/plain": [
       "[1] 227507"
      ]
     },
     "metadata": {},
     "output_type": "display_data"
    },
    {
     "data": {
      "text/html": [
       "TRUE"
      ],
      "text/latex": [
       "TRUE"
      ],
      "text/markdown": [
       "TRUE"
      ],
      "text/plain": [
       "[1] TRUE"
      ]
     },
     "metadata": {},
     "output_type": "display_data"
    }
   ],
   "source": [
    "## Merging with the geospatial data.frame now...\n",
    "wdf<-merge(cdf,wesedata[,c(\"mdlColEstimate\",\"mdlIslEstimate\",\"pointid\")],by=\"pointid\",all.x=TRUE)\n",
    "## But we will end up with several maps per grid cell\n",
    "nrow(wdf);nrow(cdf)\n",
    "## So we must aggregate...\n",
    "wesedf<-as.data.frame(wdf %>% \n",
    "            group_by(pointid,meanslope,meanbathy,slope,bathy,shoredist,glacierdist,nearLineId,near_x,near_y,distToShore,adpedist,adpecol,empedist,empecol,cont300dist,cont800dist,coords.x1,coords.x2) %>% \n",
    "                dplyr::summarize(mdlCol=sum(mdlColEstimate),mdlIsl=sum(mdlIslEstimate)))\n",
    "\n",
    "nrow(cdf)==nrow(wesedf)"
   ]
  },
  {
   "cell_type": "code",
   "execution_count": 26,
   "metadata": {},
   "outputs": [
    {
     "data": {
      "text/html": [
       "237"
      ],
      "text/latex": [
       "237"
      ],
      "text/markdown": [
       "237"
      ],
      "text/plain": [
       "[1] 237"
      ]
     },
     "metadata": {},
     "output_type": "display_data"
    },
    {
     "data": {
      "text/html": [
       "TRUE"
      ],
      "text/latex": [
       "TRUE"
      ],
      "text/markdown": [
       "TRUE"
      ],
      "text/plain": [
       "[1] TRUE"
      ]
     },
     "metadata": {},
     "output_type": "display_data"
    },
    {
     "data": {
      "text/html": [
       "TRUE"
      ],
      "text/latex": [
       "TRUE"
      ],
      "text/markdown": [
       "TRUE"
      ],
      "text/plain": [
       "[1] TRUE"
      ]
     },
     "metadata": {},
     "output_type": "display_data"
    },
    {
     "data": {
      "text/html": [
       "TRUE"
      ],
      "text/latex": [
       "TRUE"
      ],
      "text/markdown": [
       "TRUE"
      ],
      "text/plain": [
       "[1] TRUE"
      ]
     },
     "metadata": {},
     "output_type": "display_data"
    },
    {
     "data": {
      "text/html": [
       "<table>\n",
       "<caption>A data.frame: 6 × 22</caption>\n",
       "<thead>\n",
       "\t<tr><th></th><th scope=col>pointid</th><th scope=col>meanslope</th><th scope=col>meanbathy</th><th scope=col>slope</th><th scope=col>bathy</th><th scope=col>shoredist</th><th scope=col>glacierdist</th><th scope=col>nearLineId</th><th scope=col>near_x</th><th scope=col>near_y</th><th scope=col>⋯</th><th scope=col>adpecol</th><th scope=col>empedist</th><th scope=col>empecol</th><th scope=col>cont300dist</th><th scope=col>cont800dist</th><th scope=col>coords.x1</th><th scope=col>coords.x2</th><th scope=col>mdlCol</th><th scope=col>mdlIsl</th><th scope=col>hasMaps</th></tr>\n",
       "\t<tr><th></th><th scope=col>&lt;int&gt;</th><th scope=col>&lt;dbl&gt;</th><th scope=col>&lt;dbl&gt;</th><th scope=col>&lt;dbl&gt;</th><th scope=col>&lt;dbl&gt;</th><th scope=col>&lt;dbl&gt;</th><th scope=col>&lt;dbl&gt;</th><th scope=col>&lt;dbl&gt;</th><th scope=col>&lt;dbl&gt;</th><th scope=col>&lt;dbl&gt;</th><th scope=col>⋯</th><th scope=col>&lt;fct&gt;</th><th scope=col>&lt;dbl&gt;</th><th scope=col>&lt;fct&gt;</th><th scope=col>&lt;dbl&gt;</th><th scope=col>&lt;dbl&gt;</th><th scope=col>&lt;dbl&gt;</th><th scope=col>&lt;dbl&gt;</th><th scope=col>&lt;dbl&gt;</th><th scope=col>&lt;dbl&gt;</th><th scope=col>&lt;dbl&gt;</th></tr>\n",
       "</thead>\n",
       "<tbody>\n",
       "\t<tr><th scope=row>1</th><td>68791</td><td>2.621992</td><td>-2846.908</td><td>2.5563672</td><td>-2864.911</td><td>206728.3</td><td>247849.6</td><td>2351</td><td>-2273383</td><td>2327082</td><td>⋯</td><td>Ferrier Peninsula</td><td>1013124</td><td>Snow Hill Island</td><td>142791.6</td><td>588996.1</td><td>-2191000</td><td>2511000</td><td>0</td><td>0</td><td>0</td></tr>\n",
       "\t<tr><th scope=row>2</th><td>68792</td><td>4.591249</td><td>-2587.330</td><td>4.4836812</td><td>-2612.724</td><td>208790.2</td><td>250334.0</td><td>2351</td><td>-2273383</td><td>2327082</td><td>⋯</td><td>Ferrier Peninsula</td><td>1014024</td><td>Snow Hill Island</td><td>142791.6</td><td>588996.1</td><td>-2186000</td><td>2511000</td><td>0</td><td>0</td><td>0</td></tr>\n",
       "\t<tr><th scope=row>3</th><td>68819</td><td>1.411659</td><td>-3014.080</td><td>1.5170590</td><td>-3024.577</td><td>200154.1</td><td>241050.2</td><td>2351</td><td>-2273383</td><td>2327082</td><td>⋯</td><td>Ferrier Peninsula</td><td>1007323</td><td>Snow Hill Island</td><td>138016.9</td><td>584654.8</td><td>-2196000</td><td>2506000</td><td>0</td><td>0</td><td>0</td></tr>\n",
       "\t<tr><th scope=row>4</th><td>68820</td><td>1.413779</td><td>-2920.630</td><td>0.7565953</td><td>-2930.036</td><td>202161.9</td><td>243501.3</td><td>2351</td><td>-2273383</td><td>2327082</td><td>⋯</td><td>Ferrier Peninsula</td><td>1008204</td><td>Snow Hill Island</td><td>138016.9</td><td>584654.8</td><td>-2191000</td><td>2506000</td><td>0</td><td>0</td><td>0</td></tr>\n",
       "\t<tr><th scope=row>5</th><td>68821</td><td>4.561732</td><td>-2686.220</td><td>4.5623317</td><td>-2716.875</td><td>204263.8</td><td>246029.6</td><td>2351</td><td>-2273383</td><td>2327082</td><td>⋯</td><td>Ferrier Peninsula</td><td>1009109</td><td>Snow Hill Island</td><td>138016.9</td><td>584654.8</td><td>-2186000</td><td>2506000</td><td>0</td><td>0</td><td>0</td></tr>\n",
       "\t<tr><th scope=row>6</th><td>68822</td><td>4.902608</td><td>-2264.930</td><td>5.1146288</td><td>-2277.257</td><td>206460.4</td><td>248632.8</td><td>2351</td><td>-2273383</td><td>2327082</td><td>⋯</td><td>Ferrier Peninsula</td><td>1010037</td><td>Snow Hill Island</td><td>138016.9</td><td>584654.8</td><td>-2181000</td><td>2506000</td><td>0</td><td>0</td><td>0</td></tr>\n",
       "</tbody>\n",
       "</table>\n"
      ],
      "text/latex": [
       "A data.frame: 6 × 22\n",
       "\\begin{tabular}{r|lllllllllllllllllllll}\n",
       "  & pointid & meanslope & meanbathy & slope & bathy & shoredist & glacierdist & nearLineId & near\\_x & near\\_y & ⋯ & adpecol & empedist & empecol & cont300dist & cont800dist & coords.x1 & coords.x2 & mdlCol & mdlIsl & hasMaps\\\\\n",
       "  & <int> & <dbl> & <dbl> & <dbl> & <dbl> & <dbl> & <dbl> & <dbl> & <dbl> & <dbl> & ⋯ & <fct> & <dbl> & <fct> & <dbl> & <dbl> & <dbl> & <dbl> & <dbl> & <dbl> & <dbl>\\\\\n",
       "\\hline\n",
       "\t1 & 68791 & 2.621992 & -2846.908 & 2.5563672 & -2864.911 & 206728.3 & 247849.6 & 2351 & -2273383 & 2327082 & ⋯ & Ferrier Peninsula & 1013124 & Snow Hill Island & 142791.6 & 588996.1 & -2191000 & 2511000 & 0 & 0 & 0\\\\\n",
       "\t2 & 68792 & 4.591249 & -2587.330 & 4.4836812 & -2612.724 & 208790.2 & 250334.0 & 2351 & -2273383 & 2327082 & ⋯ & Ferrier Peninsula & 1014024 & Snow Hill Island & 142791.6 & 588996.1 & -2186000 & 2511000 & 0 & 0 & 0\\\\\n",
       "\t3 & 68819 & 1.411659 & -3014.080 & 1.5170590 & -3024.577 & 200154.1 & 241050.2 & 2351 & -2273383 & 2327082 & ⋯ & Ferrier Peninsula & 1007323 & Snow Hill Island & 138016.9 & 584654.8 & -2196000 & 2506000 & 0 & 0 & 0\\\\\n",
       "\t4 & 68820 & 1.413779 & -2920.630 & 0.7565953 & -2930.036 & 202161.9 & 243501.3 & 2351 & -2273383 & 2327082 & ⋯ & Ferrier Peninsula & 1008204 & Snow Hill Island & 138016.9 & 584654.8 & -2191000 & 2506000 & 0 & 0 & 0\\\\\n",
       "\t5 & 68821 & 4.561732 & -2686.220 & 4.5623317 & -2716.875 & 204263.8 & 246029.6 & 2351 & -2273383 & 2327082 & ⋯ & Ferrier Peninsula & 1009109 & Snow Hill Island & 138016.9 & 584654.8 & -2186000 & 2506000 & 0 & 0 & 0\\\\\n",
       "\t6 & 68822 & 4.902608 & -2264.930 & 5.1146288 & -2277.257 & 206460.4 & 248632.8 & 2351 & -2273383 & 2327082 & ⋯ & Ferrier Peninsula & 1010037 & Snow Hill Island & 138016.9 & 584654.8 & -2181000 & 2506000 & 0 & 0 & 0\\\\\n",
       "\\end{tabular}\n"
      ],
      "text/markdown": [
       "\n",
       "A data.frame: 6 × 22\n",
       "\n",
       "| <!--/--> | pointid &lt;int&gt; | meanslope &lt;dbl&gt; | meanbathy &lt;dbl&gt; | slope &lt;dbl&gt; | bathy &lt;dbl&gt; | shoredist &lt;dbl&gt; | glacierdist &lt;dbl&gt; | nearLineId &lt;dbl&gt; | near_x &lt;dbl&gt; | near_y &lt;dbl&gt; | ⋯ ⋯ | adpecol &lt;fct&gt; | empedist &lt;dbl&gt; | empecol &lt;fct&gt; | cont300dist &lt;dbl&gt; | cont800dist &lt;dbl&gt; | coords.x1 &lt;dbl&gt; | coords.x2 &lt;dbl&gt; | mdlCol &lt;dbl&gt; | mdlIsl &lt;dbl&gt; | hasMaps &lt;dbl&gt; |\n",
       "|---|---|---|---|---|---|---|---|---|---|---|---|---|---|---|---|---|---|---|---|---|---|\n",
       "| 1 | 68791 | 2.621992 | -2846.908 | 2.5563672 | -2864.911 | 206728.3 | 247849.6 | 2351 | -2273383 | 2327082 | ⋯ | Ferrier Peninsula | 1013124 | Snow Hill Island | 142791.6 | 588996.1 | -2191000 | 2511000 | 0 | 0 | 0 |\n",
       "| 2 | 68792 | 4.591249 | -2587.330 | 4.4836812 | -2612.724 | 208790.2 | 250334.0 | 2351 | -2273383 | 2327082 | ⋯ | Ferrier Peninsula | 1014024 | Snow Hill Island | 142791.6 | 588996.1 | -2186000 | 2511000 | 0 | 0 | 0 |\n",
       "| 3 | 68819 | 1.411659 | -3014.080 | 1.5170590 | -3024.577 | 200154.1 | 241050.2 | 2351 | -2273383 | 2327082 | ⋯ | Ferrier Peninsula | 1007323 | Snow Hill Island | 138016.9 | 584654.8 | -2196000 | 2506000 | 0 | 0 | 0 |\n",
       "| 4 | 68820 | 1.413779 | -2920.630 | 0.7565953 | -2930.036 | 202161.9 | 243501.3 | 2351 | -2273383 | 2327082 | ⋯ | Ferrier Peninsula | 1008204 | Snow Hill Island | 138016.9 | 584654.8 | -2191000 | 2506000 | 0 | 0 | 0 |\n",
       "| 5 | 68821 | 4.561732 | -2686.220 | 4.5623317 | -2716.875 | 204263.8 | 246029.6 | 2351 | -2273383 | 2327082 | ⋯ | Ferrier Peninsula | 1009109 | Snow Hill Island | 138016.9 | 584654.8 | -2186000 | 2506000 | 0 | 0 | 0 |\n",
       "| 6 | 68822 | 4.902608 | -2264.930 | 5.1146288 | -2277.257 | 206460.4 | 248632.8 | 2351 | -2273383 | 2327082 | ⋯ | Ferrier Peninsula | 1010037 | Snow Hill Island | 138016.9 | 584654.8 | -2181000 | 2506000 | 0 | 0 | 0 |\n",
       "\n"
      ],
      "text/plain": [
       "  pointid meanslope meanbathy slope     bathy     shoredist glacierdist\n",
       "1 68791   2.621992  -2846.908 2.5563672 -2864.911 206728.3  247849.6   \n",
       "2 68792   4.591249  -2587.330 4.4836812 -2612.724 208790.2  250334.0   \n",
       "3 68819   1.411659  -3014.080 1.5170590 -3024.577 200154.1  241050.2   \n",
       "4 68820   1.413779  -2920.630 0.7565953 -2930.036 202161.9  243501.3   \n",
       "5 68821   4.561732  -2686.220 4.5623317 -2716.875 204263.8  246029.6   \n",
       "6 68822   4.902608  -2264.930 5.1146288 -2277.257 206460.4  248632.8   \n",
       "  nearLineId near_x   near_y  ⋯ adpecol           empedist empecol         \n",
       "1 2351       -2273383 2327082 ⋯ Ferrier Peninsula 1013124  Snow Hill Island\n",
       "2 2351       -2273383 2327082 ⋯ Ferrier Peninsula 1014024  Snow Hill Island\n",
       "3 2351       -2273383 2327082 ⋯ Ferrier Peninsula 1007323  Snow Hill Island\n",
       "4 2351       -2273383 2327082 ⋯ Ferrier Peninsula 1008204  Snow Hill Island\n",
       "5 2351       -2273383 2327082 ⋯ Ferrier Peninsula 1009109  Snow Hill Island\n",
       "6 2351       -2273383 2327082 ⋯ Ferrier Peninsula 1010037  Snow Hill Island\n",
       "  cont300dist cont800dist coords.x1 coords.x2 mdlCol mdlIsl hasMaps\n",
       "1 142791.6    588996.1    -2191000  2511000   0      0      0      \n",
       "2 142791.6    588996.1    -2186000  2511000   0      0      0      \n",
       "3 138016.9    584654.8    -2196000  2506000   0      0      0      \n",
       "4 138016.9    584654.8    -2191000  2506000   0      0      0      \n",
       "5 138016.9    584654.8    -2186000  2506000   0      0      0      \n",
       "6 138016.9    584654.8    -2181000  2506000   0      0      0      "
      ]
     },
     "metadata": {},
     "output_type": "display_data"
    }
   ],
   "source": [
    "## There are some grid cells with maps with possible seals, except that the mean expected value is 0, while max > 0\n",
    "sum(wesedf$mdlIsl==0,na.rm=T)\n",
    "\n",
    "## So, here we distinguish these from grid cells with no maps with seals (i.e., true 0 seals)\n",
    "wesedf$hasMaps<-ifelse(!is.na(wesedf$mdlIsl),1,0)\n",
    "\n",
    "## checking...\n",
    "sum(!is.na(wesedf$mdlCol))==sum(wesedf$hasMaps)      #true\n",
    "sum(wesedf$hasMaps==0 && !is.na(wesedf$mdlCol))==0   #true\n",
    "sum(wesedf$hasMaps==0 && !is.na(wesedf$mdlIsl))==0   #true\n",
    "\n",
    "#So, now we can make the NA's be 0\n",
    "wesedf$mdlCol<-ifelse(is.na(wesedf$mdlCol),0,wesedf$mdlCol)\n",
    "wesedf$mdlIsl<-ifelse(is.na(wesedf$mdlIsl),0,wesedf$mdlIsl)\n",
    "\n",
    "head(wesedf)"
   ]
  },
  {
   "cell_type": "code",
   "execution_count": 27,
   "metadata": {},
   "outputs": [],
   "source": [
    "## Now we save and setup the linear model analyses...\n",
    "names(wesedf)<-gsub(\"pointid\",\"gridCellId\",names(wesedf))\n",
    "save(wesedf,file=paste0(pathToLocalGit,\"data/continentalWESE.RData\"))"
   ]
  },
  {
   "cell_type": "code",
   "execution_count": null,
   "metadata": {},
   "outputs": [],
   "source": []
  }
 ],
 "metadata": {
  "kernelspec": {
   "display_name": "R",
   "language": "R",
   "name": "ir"
  },
  "language_info": {
   "codemirror_mode": "r",
   "file_extension": ".r",
   "mimetype": "text/x-r-source",
   "name": "R",
   "pygments_lexer": "r",
   "version": "3.4.4"
  }
 },
 "nbformat": 4,
 "nbformat_minor": 2
}
