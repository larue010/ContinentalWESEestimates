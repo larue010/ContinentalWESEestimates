{
 "cells": [
  {
   "cell_type": "markdown",
   "metadata": {},
   "source": [
    "# Attribute geospatial data with seal abundance data\n",
    "This notebook uses the information on the estimated number of seals per map to attribute the basic grid of geospatial data with seal abundance. It then tabulates the resulting raster, where each column is one of the geospatial datasets, and there is a column for seal abundance. The resulting table is saved and becomes the basic input for the modeling of factors deteriming the presence and abundance of seals throughout the entire continent.  \n",
    "  \n",
    "Run this file every time a new geospatial covariate is added to the collection."
   ]
  },
  {
   "cell_type": "markdown",
   "metadata": {},
   "source": [
    "### Loading the required libraries and other dependencies"
   ]
  },
  {
   "cell_type": "code",
   "execution_count": 3,
   "metadata": {},
   "outputs": [
    {
     "data": {
      "text/html": [
       "<table>\n",
       "<caption>A matrix: 2 × 6 of type dbl</caption>\n",
       "<thead>\n",
       "\t<tr><th></th><th scope=col>used</th><th scope=col>(Mb)</th><th scope=col>gc trigger</th><th scope=col>(Mb)</th><th scope=col>max used</th><th scope=col>(Mb)</th></tr>\n",
       "</thead>\n",
       "<tbody>\n",
       "\t<tr><th scope=row>Ncells</th><td>1239108</td><td>66.2</td><td>2164898</td><td>115.7</td><td>1770749</td><td>94.6</td></tr>\n",
       "\t<tr><th scope=row>Vcells</th><td>1457781</td><td>11.2</td><td>3278645</td><td> 25.1</td><td>2570788</td><td>19.7</td></tr>\n",
       "</tbody>\n",
       "</table>\n"
      ],
      "text/latex": [
       "A matrix: 2 × 6 of type dbl\n",
       "\\begin{tabular}{r|llllll}\n",
       "  & used & (Mb) & gc trigger & (Mb) & max used & (Mb)\\\\\n",
       "\\hline\n",
       "\tNcells & 1239108 & 66.2 & 2164898 & 115.7 & 1770749 & 94.6\\\\\n",
       "\tVcells & 1457781 & 11.2 & 3278645 &  25.1 & 2570788 & 19.7\\\\\n",
       "\\end{tabular}\n"
      ],
      "text/markdown": [
       "\n",
       "A matrix: 2 × 6 of type dbl\n",
       "\n",
       "| <!--/--> | used | (Mb) | gc trigger | (Mb) | max used | (Mb) |\n",
       "|---|---|---|---|---|---|---|\n",
       "| Ncells | 1239108 | 66.2 | 2164898 | 115.7 | 1770749 | 94.6 |\n",
       "| Vcells | 1457781 | 11.2 | 3278645 |  25.1 | 2570788 | 19.7 |\n",
       "\n"
      ],
      "text/plain": [
       "       used    (Mb) gc trigger (Mb)  max used (Mb)\n",
       "Ncells 1239108 66.2 2164898    115.7 1770749  94.6\n",
       "Vcells 1457781 11.2 3278645     25.1 2570788  19.7"
      ]
     },
     "metadata": {},
     "output_type": "display_data"
    }
   ],
   "source": [
    "## Clear memory\n",
    "rm(list=ls())\n",
    "gc()"
   ]
  },
  {
   "cell_type": "code",
   "execution_count": 7,
   "metadata": {},
   "outputs": [
    {
     "data": {
      "text/html": [
       "<ol>\n",
       "\t<li>TRUE</li>\n",
       "\t<li>TRUE</li>\n",
       "\t<li>TRUE</li>\n",
       "\t<li>TRUE</li>\n",
       "\t<li>TRUE</li>\n",
       "\t<li>TRUE</li>\n",
       "\t<li>TRUE</li>\n",
       "</ol>\n"
      ],
      "text/latex": [
       "\\begin{enumerate}\n",
       "\\item TRUE\n",
       "\\item TRUE\n",
       "\\item TRUE\n",
       "\\item TRUE\n",
       "\\item TRUE\n",
       "\\item TRUE\n",
       "\\item TRUE\n",
       "\\end{enumerate}\n"
      ],
      "text/markdown": [
       "1. TRUE\n",
       "2. TRUE\n",
       "3. TRUE\n",
       "4. TRUE\n",
       "5. TRUE\n",
       "6. TRUE\n",
       "7. TRUE\n",
       "\n",
       "\n"
      ],
      "text/plain": [
       "[[1]]\n",
       "[1] TRUE\n",
       "\n",
       "[[2]]\n",
       "[1] TRUE\n",
       "\n",
       "[[3]]\n",
       "[1] TRUE\n",
       "\n",
       "[[4]]\n",
       "[1] TRUE\n",
       "\n",
       "[[5]]\n",
       "[1] TRUE\n",
       "\n",
       "[[6]]\n",
       "[1] TRUE\n",
       "\n",
       "[[7]]\n",
       "[1] TRUE\n"
      ]
     },
     "metadata": {},
     "output_type": "display_data"
    },
    {
     "data": {
      "text/html": [
       "<style>\n",
       ".list-inline {list-style: none; margin:0; padding: 0}\n",
       ".list-inline>li {display: inline-block}\n",
       ".list-inline>li:not(:last-child)::after {content: \"\\00b7\"; padding: 0 .5ex}\n",
       "</style>\n",
       "<ol class=list-inline><li>'countdf'</li><li>'libs'</li><li>'pathToLocalGit'</li><li>'studyarea_pointswLand'</li></ol>\n"
      ],
      "text/latex": [
       "\\begin{enumerate*}\n",
       "\\item 'countdf'\n",
       "\\item 'libs'\n",
       "\\item 'pathToLocalGit'\n",
       "\\item 'studyarea\\_pointswLand'\n",
       "\\end{enumerate*}\n"
      ],
      "text/markdown": [
       "1. 'countdf'\n",
       "2. 'libs'\n",
       "3. 'pathToLocalGit'\n",
       "4. 'studyarea_pointswLand'\n",
       "\n",
       "\n"
      ],
      "text/plain": [
       "[1] \"countdf\"               \"libs\"                  \"pathToLocalGit\"       \n",
       "[4] \"studyarea_pointswLand\""
      ]
     },
     "metadata": {},
     "output_type": "display_data"
    }
   ],
   "source": [
    "libs<-c(\"ggplot2\",\"plyr\",\"dplyr\",\"sp\",\"rgeos\",\"raster\",\"rgdal\")\n",
    "lapply(libs, require, character.only = TRUE)\n",
    "pathToLocalGit<-\"/home/ubuntu/Workspace/ContinentalWESEestimates/\"\n",
    "\n",
    "## load the WESE map data\n",
    "load(file=paste0(pathToLocalGit,\"data/FinalWESEcounts.RData\"))\n",
    "\n",
    "## Load the current table of data\n",
    "load(file=paste0(pathToLocalGit,\"data/studyarea_points_wNearLand.RData\"))\n",
    "\n",
    " \n",
    "cdf<-as.data.frame(studyarea_pointswLand,xy=TRUE)"
   ]
  },
  {
   "cell_type": "markdown",
   "metadata": {},
   "source": [
    "The current table of data is a spatial data.frame of a 5 km grid of cells, with geospatial attributes for each cell. We want to add one more attribute to this cell: WESE abundance. We use the WESE data frame for this purpose. So, we first attribute the WESE data, which are summarized by 500-m maps, with the cellId of the 5-km grid. We then aggregate the map counts by (add up to) the 5-km cellId. Finally, we merge the WESE data to the geospatial data, and save as data.frame. \n",
    "We load a function that does this, using UTM coordinates "
   ]
  },
  {
   "cell_type": "code",
   "execution_count": null,
   "metadata": {},
   "outputs": [],
   "source": [
    "attributeWESEwithGeospatialId<-function(gdf,wesedf){\n",
    "    #first convert the geospatial data.frame into a regular data.frame\n",
    "    cdf<-as.data.frame(gdf,xy=TRUE)\n",
    "    \n",
    "    #then re-project the wesedf to the gdf\n",
    "    coordinates(wdf)<-\n",
    "    wdf<-spTransform(wesedf,CRS(gdf))\n",
    "    \n",
    "    #plyr every wese map record to:\n",
    "        #subset the gdf to the closest cells to the wdf\n",
    "        #select the nearest\n",
    "        #assign the ID of the nearest to the wdf\n",
    "    #return the output of the plyr\n",
    "}\n",
    "\n",
    "wese5k<-attributeWESEwithGeospatialId(studyarea_pointswLand,countdf)\n"
   ]
  },
  {
   "cell_type": "code",
   "execution_count": 9,
   "metadata": {},
   "outputs": [
    {
     "data": {
      "text/html": [
       "<style>\n",
       ".list-inline {list-style: none; margin:0; padding: 0}\n",
       ".list-inline>li {display: inline-block}\n",
       ".list-inline>li:not(:last-child)::after {content: \"\\00b7\"; padding: 0 .5ex}\n",
       "</style>\n",
       "<ol class=list-inline><li>'pointid'</li><li>'meanslope'</li><li>'meanbathy'</li><li>'slope'</li><li>'bathy'</li><li>'shoredist'</li><li>'glacierdist'</li><li>'nearLineId'</li><li>'near_x'</li><li>'near_y'</li><li>'distToShore'</li><li>'adpedist'</li><li>'adpecol'</li><li>'empedist'</li><li>'empecol'</li><li>'cont300dist'</li><li>'cont800dist'</li><li>'coords.x1'</li><li>'coords.x2'</li><li>'xy'</li></ol>\n"
      ],
      "text/latex": [
       "\\begin{enumerate*}\n",
       "\\item 'pointid'\n",
       "\\item 'meanslope'\n",
       "\\item 'meanbathy'\n",
       "\\item 'slope'\n",
       "\\item 'bathy'\n",
       "\\item 'shoredist'\n",
       "\\item 'glacierdist'\n",
       "\\item 'nearLineId'\n",
       "\\item 'near\\_x'\n",
       "\\item 'near\\_y'\n",
       "\\item 'distToShore'\n",
       "\\item 'adpedist'\n",
       "\\item 'adpecol'\n",
       "\\item 'empedist'\n",
       "\\item 'empecol'\n",
       "\\item 'cont300dist'\n",
       "\\item 'cont800dist'\n",
       "\\item 'coords.x1'\n",
       "\\item 'coords.x2'\n",
       "\\item 'xy'\n",
       "\\end{enumerate*}\n"
      ],
      "text/markdown": [
       "1. 'pointid'\n",
       "2. 'meanslope'\n",
       "3. 'meanbathy'\n",
       "4. 'slope'\n",
       "5. 'bathy'\n",
       "6. 'shoredist'\n",
       "7. 'glacierdist'\n",
       "8. 'nearLineId'\n",
       "9. 'near_x'\n",
       "10. 'near_y'\n",
       "11. 'distToShore'\n",
       "12. 'adpedist'\n",
       "13. 'adpecol'\n",
       "14. 'empedist'\n",
       "15. 'empecol'\n",
       "16. 'cont300dist'\n",
       "17. 'cont800dist'\n",
       "18. 'coords.x1'\n",
       "19. 'coords.x2'\n",
       "20. 'xy'\n",
       "\n",
       "\n"
      ],
      "text/plain": [
       " [1] \"pointid\"     \"meanslope\"   \"meanbathy\"   \"slope\"       \"bathy\"      \n",
       " [6] \"shoredist\"   \"glacierdist\" \"nearLineId\"  \"near_x\"      \"near_y\"     \n",
       "[11] \"distToShore\" \"adpedist\"    \"adpecol\"     \"empedist\"    \"empecol\"    \n",
       "[16] \"cont300dist\" \"cont800dist\" \"coords.x1\"   \"coords.x2\"   \"xy\"         "
      ]
     },
     "metadata": {},
     "output_type": "display_data"
    }
   ],
   "source": [
    "\n",
    "names(cdf)"
   ]
  },
  {
   "cell_type": "code",
   "execution_count": 10,
   "metadata": {},
   "outputs": [
    {
     "data": {
      "text/html": [
       "<table>\n",
       "<caption>A data.frame: 6 × 20</caption>\n",
       "<thead>\n",
       "\t<tr><th></th><th scope=col>pointid</th><th scope=col>meanslope</th><th scope=col>meanbathy</th><th scope=col>slope</th><th scope=col>bathy</th><th scope=col>shoredist</th><th scope=col>glacierdist</th><th scope=col>nearLineId</th><th scope=col>near_x</th><th scope=col>near_y</th><th scope=col>distToShore</th><th scope=col>adpedist</th><th scope=col>adpecol</th><th scope=col>empedist</th><th scope=col>empecol</th><th scope=col>cont300dist</th><th scope=col>cont800dist</th><th scope=col>coords.x1</th><th scope=col>coords.x2</th><th scope=col>xy</th></tr>\n",
       "\t<tr><th></th><th scope=col>&lt;fct&gt;</th><th scope=col>&lt;dbl&gt;</th><th scope=col>&lt;dbl&gt;</th><th scope=col>&lt;dbl&gt;</th><th scope=col>&lt;dbl&gt;</th><th scope=col>&lt;dbl&gt;</th><th scope=col>&lt;dbl&gt;</th><th scope=col>&lt;dbl&gt;</th><th scope=col>&lt;dbl&gt;</th><th scope=col>&lt;dbl&gt;</th><th scope=col>&lt;dbl&gt;</th><th scope=col>&lt;dbl&gt;</th><th scope=col>&lt;fct&gt;</th><th scope=col>&lt;dbl&gt;</th><th scope=col>&lt;fct&gt;</th><th scope=col>&lt;dbl&gt;</th><th scope=col>&lt;dbl&gt;</th><th scope=col>&lt;dbl&gt;</th><th scope=col>&lt;dbl&gt;</th><th scope=col>&lt;lgl&gt;</th></tr>\n",
       "</thead>\n",
       "<tbody>\n",
       "\t<tr><th scope=row>1</th><td>68791</td><td>2.621992</td><td>-2846.908</td><td>2.5563672</td><td>-2864.911</td><td>206728.3</td><td>247849.6</td><td>2351</td><td>-2273383</td><td>2327082</td><td>201526.4</td><td>207815.2</td><td>Ferrier Peninsula</td><td>1013124</td><td>Snow Hill Island</td><td>142791.6</td><td>588996.1</td><td>-2191000</td><td>2511000</td><td>TRUE</td></tr>\n",
       "\t<tr><th scope=row>2</th><td>68792</td><td>4.591249</td><td>-2587.330</td><td>4.4836812</td><td>-2612.724</td><td>208790.2</td><td>250334.0</td><td>2351</td><td>-2273383</td><td>2327082</td><td>203621.5</td><td>209900.1</td><td>Ferrier Peninsula</td><td>1014024</td><td>Snow Hill Island</td><td>142791.6</td><td>588996.1</td><td>-2186000</td><td>2511000</td><td>TRUE</td></tr>\n",
       "\t<tr><th scope=row>3</th><td>68819</td><td>1.411659</td><td>-3014.080</td><td>1.5170590</td><td>-3024.577</td><td>200154.1</td><td>241050.2</td><td>2351</td><td>-2273383</td><td>2327082</td><td>194935.5</td><td>201228.9</td><td>Ferrier Peninsula</td><td>1007323</td><td>Snow Hill Island</td><td>138016.9</td><td>584654.8</td><td>-2196000</td><td>2506000</td><td>TRUE</td></tr>\n",
       "\t<tr><th scope=row>4</th><td>68820</td><td>1.413779</td><td>-2920.630</td><td>0.7565953</td><td>-2930.036</td><td>202161.9</td><td>243501.3</td><td>2351</td><td>-2273383</td><td>2327082</td><td>196973.9</td><td>203258.3</td><td>Ferrier Peninsula</td><td>1008204</td><td>Snow Hill Island</td><td>138016.9</td><td>584654.8</td><td>-2191000</td><td>2506000</td><td>TRUE</td></tr>\n",
       "\t<tr><th scope=row>5</th><td>68821</td><td>4.561732</td><td>-2686.220</td><td>4.5623317</td><td>-2716.875</td><td>204263.8</td><td>246029.6</td><td>2351</td><td>-2273383</td><td>2327082</td><td>199116.9</td><td>205389.5</td><td>Ferrier Peninsula</td><td>1009109</td><td>Snow Hill Island</td><td>138016.9</td><td>584654.8</td><td>-2186000</td><td>2506000</td><td>TRUE</td></tr>\n",
       "\t<tr><th scope=row>6</th><td>68822</td><td>4.902608</td><td>-2264.930</td><td>5.1146288</td><td>-2277.257</td><td>206460.4</td><td>248632.8</td><td>2351</td><td>-2273383</td><td>2327082</td><td>201361.3</td><td>207619.2</td><td>Ferrier Peninsula</td><td>1010037</td><td>Snow Hill Island</td><td>138016.9</td><td>584654.8</td><td>-2181000</td><td>2506000</td><td>TRUE</td></tr>\n",
       "</tbody>\n",
       "</table>\n"
      ],
      "text/latex": [
       "A data.frame: 6 × 20\n",
       "\\begin{tabular}{r|llllllllllllllllllll}\n",
       "  & pointid & meanslope & meanbathy & slope & bathy & shoredist & glacierdist & nearLineId & near\\_x & near\\_y & distToShore & adpedist & adpecol & empedist & empecol & cont300dist & cont800dist & coords.x1 & coords.x2 & xy\\\\\n",
       "  & <fct> & <dbl> & <dbl> & <dbl> & <dbl> & <dbl> & <dbl> & <dbl> & <dbl> & <dbl> & <dbl> & <dbl> & <fct> & <dbl> & <fct> & <dbl> & <dbl> & <dbl> & <dbl> & <lgl>\\\\\n",
       "\\hline\n",
       "\t1 & 68791 & 2.621992 & -2846.908 & 2.5563672 & -2864.911 & 206728.3 & 247849.6 & 2351 & -2273383 & 2327082 & 201526.4 & 207815.2 & Ferrier Peninsula & 1013124 & Snow Hill Island & 142791.6 & 588996.1 & -2191000 & 2511000 & TRUE\\\\\n",
       "\t2 & 68792 & 4.591249 & -2587.330 & 4.4836812 & -2612.724 & 208790.2 & 250334.0 & 2351 & -2273383 & 2327082 & 203621.5 & 209900.1 & Ferrier Peninsula & 1014024 & Snow Hill Island & 142791.6 & 588996.1 & -2186000 & 2511000 & TRUE\\\\\n",
       "\t3 & 68819 & 1.411659 & -3014.080 & 1.5170590 & -3024.577 & 200154.1 & 241050.2 & 2351 & -2273383 & 2327082 & 194935.5 & 201228.9 & Ferrier Peninsula & 1007323 & Snow Hill Island & 138016.9 & 584654.8 & -2196000 & 2506000 & TRUE\\\\\n",
       "\t4 & 68820 & 1.413779 & -2920.630 & 0.7565953 & -2930.036 & 202161.9 & 243501.3 & 2351 & -2273383 & 2327082 & 196973.9 & 203258.3 & Ferrier Peninsula & 1008204 & Snow Hill Island & 138016.9 & 584654.8 & -2191000 & 2506000 & TRUE\\\\\n",
       "\t5 & 68821 & 4.561732 & -2686.220 & 4.5623317 & -2716.875 & 204263.8 & 246029.6 & 2351 & -2273383 & 2327082 & 199116.9 & 205389.5 & Ferrier Peninsula & 1009109 & Snow Hill Island & 138016.9 & 584654.8 & -2186000 & 2506000 & TRUE\\\\\n",
       "\t6 & 68822 & 4.902608 & -2264.930 & 5.1146288 & -2277.257 & 206460.4 & 248632.8 & 2351 & -2273383 & 2327082 & 201361.3 & 207619.2 & Ferrier Peninsula & 1010037 & Snow Hill Island & 138016.9 & 584654.8 & -2181000 & 2506000 & TRUE\\\\\n",
       "\\end{tabular}\n"
      ],
      "text/markdown": [
       "\n",
       "A data.frame: 6 × 20\n",
       "\n",
       "| <!--/--> | pointid &lt;fct&gt; | meanslope &lt;dbl&gt; | meanbathy &lt;dbl&gt; | slope &lt;dbl&gt; | bathy &lt;dbl&gt; | shoredist &lt;dbl&gt; | glacierdist &lt;dbl&gt; | nearLineId &lt;dbl&gt; | near_x &lt;dbl&gt; | near_y &lt;dbl&gt; | distToShore &lt;dbl&gt; | adpedist &lt;dbl&gt; | adpecol &lt;fct&gt; | empedist &lt;dbl&gt; | empecol &lt;fct&gt; | cont300dist &lt;dbl&gt; | cont800dist &lt;dbl&gt; | coords.x1 &lt;dbl&gt; | coords.x2 &lt;dbl&gt; | xy &lt;lgl&gt; |\n",
       "|---|---|---|---|---|---|---|---|---|---|---|---|---|---|---|---|---|---|---|---|---|\n",
       "| 1 | 68791 | 2.621992 | -2846.908 | 2.5563672 | -2864.911 | 206728.3 | 247849.6 | 2351 | -2273383 | 2327082 | 201526.4 | 207815.2 | Ferrier Peninsula | 1013124 | Snow Hill Island | 142791.6 | 588996.1 | -2191000 | 2511000 | TRUE |\n",
       "| 2 | 68792 | 4.591249 | -2587.330 | 4.4836812 | -2612.724 | 208790.2 | 250334.0 | 2351 | -2273383 | 2327082 | 203621.5 | 209900.1 | Ferrier Peninsula | 1014024 | Snow Hill Island | 142791.6 | 588996.1 | -2186000 | 2511000 | TRUE |\n",
       "| 3 | 68819 | 1.411659 | -3014.080 | 1.5170590 | -3024.577 | 200154.1 | 241050.2 | 2351 | -2273383 | 2327082 | 194935.5 | 201228.9 | Ferrier Peninsula | 1007323 | Snow Hill Island | 138016.9 | 584654.8 | -2196000 | 2506000 | TRUE |\n",
       "| 4 | 68820 | 1.413779 | -2920.630 | 0.7565953 | -2930.036 | 202161.9 | 243501.3 | 2351 | -2273383 | 2327082 | 196973.9 | 203258.3 | Ferrier Peninsula | 1008204 | Snow Hill Island | 138016.9 | 584654.8 | -2191000 | 2506000 | TRUE |\n",
       "| 5 | 68821 | 4.561732 | -2686.220 | 4.5623317 | -2716.875 | 204263.8 | 246029.6 | 2351 | -2273383 | 2327082 | 199116.9 | 205389.5 | Ferrier Peninsula | 1009109 | Snow Hill Island | 138016.9 | 584654.8 | -2186000 | 2506000 | TRUE |\n",
       "| 6 | 68822 | 4.902608 | -2264.930 | 5.1146288 | -2277.257 | 206460.4 | 248632.8 | 2351 | -2273383 | 2327082 | 201361.3 | 207619.2 | Ferrier Peninsula | 1010037 | Snow Hill Island | 138016.9 | 584654.8 | -2181000 | 2506000 | TRUE |\n",
       "\n"
      ],
      "text/plain": [
       "  pointid meanslope meanbathy slope     bathy     shoredist glacierdist\n",
       "1 68791   2.621992  -2846.908 2.5563672 -2864.911 206728.3  247849.6   \n",
       "2 68792   4.591249  -2587.330 4.4836812 -2612.724 208790.2  250334.0   \n",
       "3 68819   1.411659  -3014.080 1.5170590 -3024.577 200154.1  241050.2   \n",
       "4 68820   1.413779  -2920.630 0.7565953 -2930.036 202161.9  243501.3   \n",
       "5 68821   4.561732  -2686.220 4.5623317 -2716.875 204263.8  246029.6   \n",
       "6 68822   4.902608  -2264.930 5.1146288 -2277.257 206460.4  248632.8   \n",
       "  nearLineId near_x   near_y  distToShore adpedist adpecol           empedist\n",
       "1 2351       -2273383 2327082 201526.4    207815.2 Ferrier Peninsula 1013124 \n",
       "2 2351       -2273383 2327082 203621.5    209900.1 Ferrier Peninsula 1014024 \n",
       "3 2351       -2273383 2327082 194935.5    201228.9 Ferrier Peninsula 1007323 \n",
       "4 2351       -2273383 2327082 196973.9    203258.3 Ferrier Peninsula 1008204 \n",
       "5 2351       -2273383 2327082 199116.9    205389.5 Ferrier Peninsula 1009109 \n",
       "6 2351       -2273383 2327082 201361.3    207619.2 Ferrier Peninsula 1010037 \n",
       "  empecol          cont300dist cont800dist coords.x1 coords.x2 xy  \n",
       "1 Snow Hill Island 142791.6    588996.1    -2191000  2511000   TRUE\n",
       "2 Snow Hill Island 142791.6    588996.1    -2186000  2511000   TRUE\n",
       "3 Snow Hill Island 138016.9    584654.8    -2196000  2506000   TRUE\n",
       "4 Snow Hill Island 138016.9    584654.8    -2191000  2506000   TRUE\n",
       "5 Snow Hill Island 138016.9    584654.8    -2186000  2506000   TRUE\n",
       "6 Snow Hill Island 138016.9    584654.8    -2181000  2506000   TRUE"
      ]
     },
     "metadata": {},
     "output_type": "display_data"
    }
   ],
   "source": [
    "head(cdf)"
   ]
  },
  {
   "cell_type": "code",
   "execution_count": null,
   "metadata": {},
   "outputs": [],
   "source": []
  }
 ],
 "metadata": {
  "kernelspec": {
   "display_name": "R",
   "language": "R",
   "name": "ir"
  },
  "language_info": {
   "codemirror_mode": "r",
   "file_extension": ".r",
   "mimetype": "text/x-r-source",
   "name": "R",
   "pygments_lexer": "r",
   "version": "3.4.4"
  }
 },
 "nbformat": 4,
 "nbformat_minor": 2
}
