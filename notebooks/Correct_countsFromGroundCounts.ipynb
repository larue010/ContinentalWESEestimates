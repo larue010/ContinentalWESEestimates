{
 "cells": [
  {
   "cell_type": "markdown",
   "metadata": {},
   "source": [
    "# Correcting the map counts to account for diving seals and higher on-the-ground counts\n",
    "This file includes the code that inflates the map counts using detection rate-estimating functions fitted with data from Erebus Bay, where ground counts could be conducted.  \n",
    "  \n",
    "In a nutshell, we use these models to estimate the detection rate, and then inflate the map counts according to this rate.\n",
    "\n",
    "### Loading libraries, functions and data"
   ]
  },
  {
   "cell_type": "code",
   "execution_count": 22,
   "metadata": {},
   "outputs": [
    {
     "name": "stderr",
     "output_type": "stream",
     "text": [
      "Loading required package: dplyr\n",
      "\n",
      "\n",
      "Attaching package: ‘dplyr’\n",
      "\n",
      "\n",
      "The following objects are masked from ‘package:plyr’:\n",
      "\n",
      "    arrange, count, desc, failwith, id, mutate, rename, summarise,\n",
      "    summarize\n",
      "\n",
      "\n",
      "The following objects are masked from ‘package:stats’:\n",
      "\n",
      "    filter, lag\n",
      "\n",
      "\n",
      "The following objects are masked from ‘package:base’:\n",
      "\n",
      "    intersect, setdiff, setequal, union\n",
      "\n",
      "\n"
     ]
    },
    {
     "data": {
      "text/html": [
       "<ol>\n",
       "\t<li>TRUE</li>\n",
       "\t<li>TRUE</li>\n",
       "\t<li>TRUE</li>\n",
       "</ol>\n"
      ],
      "text/latex": [
       "\\begin{enumerate}\n",
       "\\item TRUE\n",
       "\\item TRUE\n",
       "\\item TRUE\n",
       "\\end{enumerate}\n"
      ],
      "text/markdown": [
       "1. TRUE\n",
       "2. TRUE\n",
       "3. TRUE\n",
       "\n",
       "\n"
      ],
      "text/plain": [
       "[[1]]\n",
       "[1] TRUE\n",
       "\n",
       "[[2]]\n",
       "[1] TRUE\n",
       "\n",
       "[[3]]\n",
       "[1] TRUE\n"
      ]
     },
     "metadata": {},
     "output_type": "display_data"
    },
    {
     "data": {
      "text/html": [
       "<table>\n",
       "<caption>A data.frame: 6 × 34</caption>\n",
       "<thead>\n",
       "\t<tr><th></th><th scope=col>regionMapId</th><th scope=col>RShour</th><th scope=col>overlayId</th><th scope=col>region</th><th scope=col>mapId</th><th scope=col>year</th><th scope=col>satId</th><th scope=col>numTaggers</th><th scope=col>estNumSeals</th><th scope=col>uclNumSeals</th><th scope=col>⋯</th><th scope=col>totalTags</th><th scope=col>avgTags</th><th scope=col>scaledTotalTags</th><th scope=col>scaledAvgTags</th><th scope=col>numHour</th><th scope=col>sinH</th><th scope=col>resid</th><th scope=col>estimateH</th><th scope=col>lowerH</th><th scope=col>upperH</th></tr>\n",
       "\t<tr><th></th><th scope=col>&lt;chr&gt;</th><th scope=col>&lt;chr&gt;</th><th scope=col>&lt;int&gt;</th><th scope=col>&lt;chr&gt;</th><th scope=col>&lt;chr&gt;</th><th scope=col>&lt;int&gt;</th><th scope=col>&lt;chr&gt;</th><th scope=col>&lt;int&gt;</th><th scope=col>&lt;dbl&gt;</th><th scope=col>&lt;dbl&gt;</th><th scope=col>⋯</th><th scope=col>&lt;int&gt;</th><th scope=col>&lt;dbl&gt;</th><th scope=col>&lt;dbl&gt;</th><th scope=col>&lt;dbl&gt;</th><th scope=col>&lt;dbl&gt;</th><th scope=col>&lt;dbl&gt;</th><th scope=col>&lt;dbl&gt;</th><th scope=col>&lt;dbl&gt;</th><th scope=col>&lt;dbl&gt;</th><th scope=col>&lt;dbl&gt;</th></tr>\n",
       "</thead>\n",
       "<tbody>\n",
       "\t<tr><th scope=row>1</th><td>AMU101663</td><td>21</td><td>60297</td><td>AMU</td><td>101663</td><td>2010</td><td>WV01</td><td>1</td><td>1</td><td> 4</td><td>⋯</td><td> 1</td><td> 1</td><td>-0.27006566</td><td>-0.18956660</td><td>0.25</td><td>1</td><td>-0.4112584</td><td>1</td><td>1</td><td> 4</td></tr>\n",
       "\t<tr><th scope=row>2</th><td>AMU102072</td><td>21</td><td>60297</td><td>AMU</td><td>102072</td><td>2010</td><td>WV01</td><td>2</td><td>1</td><td> 4</td><td>⋯</td><td> 2</td><td> 1</td><td>-0.24135869</td><td>-0.18956660</td><td>0.25</td><td>1</td><td>-0.3819680</td><td>1</td><td>1</td><td> 4</td></tr>\n",
       "\t<tr><th scope=row>3</th><td>AMU102099</td><td>21</td><td>60297</td><td>AMU</td><td>102099</td><td>2010</td><td>WV01</td><td>1</td><td>3</td><td> 7</td><td>⋯</td><td> 2</td><td> 2</td><td>-0.24135869</td><td>-0.13233711</td><td>0.25</td><td>1</td><td> 0.9205844</td><td>3</td><td>1</td><td> 7</td></tr>\n",
       "\t<tr><th scope=row>4</th><td>AMU103615</td><td>21</td><td>60297</td><td>AMU</td><td>103615</td><td>2010</td><td>WV01</td><td>1</td><td>3</td><td> 7</td><td>⋯</td><td> 3</td><td> 3</td><td>-0.21265171</td><td>-0.07510762</td><td>0.25</td><td>1</td><td> 0.2577237</td><td>3</td><td>1</td><td> 7</td></tr>\n",
       "\t<tr><th scope=row>5</th><td>AMU103695</td><td>21</td><td>60297</td><td>AMU</td><td>103695</td><td>2010</td><td>WV01</td><td>1</td><td>1</td><td> 4</td><td>⋯</td><td> 1</td><td> 1</td><td>-0.27006566</td><td>-0.18956660</td><td>0.25</td><td>1</td><td>-0.4101991</td><td>1</td><td>1</td><td> 4</td></tr>\n",
       "\t<tr><th scope=row>6</th><td>AMU103791</td><td>21</td><td>60297</td><td>AMU</td><td>103791</td><td>2010</td><td>WV01</td><td>1</td><td>8</td><td>18</td><td>⋯</td><td>10</td><td>10</td><td>-0.01170287</td><td> 0.32549884</td><td>0.25</td><td>1</td><td> 0.6028688</td><td>8</td><td>1</td><td>18</td></tr>\n",
       "</tbody>\n",
       "</table>\n"
      ],
      "text/latex": [
       "A data.frame: 6 × 34\n",
       "\\begin{tabular}{r|lllllllllllllllllllll}\n",
       "  & regionMapId & RShour & overlayId & region & mapId & year & satId & numTaggers & estNumSeals & uclNumSeals & ⋯ & totalTags & avgTags & scaledTotalTags & scaledAvgTags & numHour & sinH & resid & estimateH & lowerH & upperH\\\\\n",
       "  & <chr> & <chr> & <int> & <chr> & <chr> & <int> & <chr> & <int> & <dbl> & <dbl> & ⋯ & <int> & <dbl> & <dbl> & <dbl> & <dbl> & <dbl> & <dbl> & <dbl> & <dbl> & <dbl>\\\\\n",
       "\\hline\n",
       "\t1 & AMU101663 & 21 & 60297 & AMU & 101663 & 2010 & WV01 & 1 & 1 &  4 & ⋯ &  1 &  1 & -0.27006566 & -0.18956660 & 0.25 & 1 & -0.4112584 & 1 & 1 &  4\\\\\n",
       "\t2 & AMU102072 & 21 & 60297 & AMU & 102072 & 2010 & WV01 & 2 & 1 &  4 & ⋯ &  2 &  1 & -0.24135869 & -0.18956660 & 0.25 & 1 & -0.3819680 & 1 & 1 &  4\\\\\n",
       "\t3 & AMU102099 & 21 & 60297 & AMU & 102099 & 2010 & WV01 & 1 & 3 &  7 & ⋯ &  2 &  2 & -0.24135869 & -0.13233711 & 0.25 & 1 &  0.9205844 & 3 & 1 &  7\\\\\n",
       "\t4 & AMU103615 & 21 & 60297 & AMU & 103615 & 2010 & WV01 & 1 & 3 &  7 & ⋯ &  3 &  3 & -0.21265171 & -0.07510762 & 0.25 & 1 &  0.2577237 & 3 & 1 &  7\\\\\n",
       "\t5 & AMU103695 & 21 & 60297 & AMU & 103695 & 2010 & WV01 & 1 & 1 &  4 & ⋯ &  1 &  1 & -0.27006566 & -0.18956660 & 0.25 & 1 & -0.4101991 & 1 & 1 &  4\\\\\n",
       "\t6 & AMU103791 & 21 & 60297 & AMU & 103791 & 2010 & WV01 & 1 & 8 & 18 & ⋯ & 10 & 10 & -0.01170287 &  0.32549884 & 0.25 & 1 &  0.6028688 & 8 & 1 & 18\\\\\n",
       "\\end{tabular}\n"
      ],
      "text/markdown": [
       "\n",
       "A data.frame: 6 × 34\n",
       "\n",
       "| <!--/--> | regionMapId &lt;chr&gt; | RShour &lt;chr&gt; | overlayId &lt;int&gt; | region &lt;chr&gt; | mapId &lt;chr&gt; | year &lt;int&gt; | satId &lt;chr&gt; | numTaggers &lt;int&gt; | estNumSeals &lt;dbl&gt; | uclNumSeals &lt;dbl&gt; | ⋯ ⋯ | totalTags &lt;int&gt; | avgTags &lt;dbl&gt; | scaledTotalTags &lt;dbl&gt; | scaledAvgTags &lt;dbl&gt; | numHour &lt;dbl&gt; | sinH &lt;dbl&gt; | resid &lt;dbl&gt; | estimateH &lt;dbl&gt; | lowerH &lt;dbl&gt; | upperH &lt;dbl&gt; |\n",
       "|---|---|---|---|---|---|---|---|---|---|---|---|---|---|---|---|---|---|---|---|---|---|\n",
       "| 1 | AMU101663 | 21 | 60297 | AMU | 101663 | 2010 | WV01 | 1 | 1 |  4 | ⋯ |  1 |  1 | -0.27006566 | -0.18956660 | 0.25 | 1 | -0.4112584 | 1 | 1 |  4 |\n",
       "| 2 | AMU102072 | 21 | 60297 | AMU | 102072 | 2010 | WV01 | 2 | 1 |  4 | ⋯ |  2 |  1 | -0.24135869 | -0.18956660 | 0.25 | 1 | -0.3819680 | 1 | 1 |  4 |\n",
       "| 3 | AMU102099 | 21 | 60297 | AMU | 102099 | 2010 | WV01 | 1 | 3 |  7 | ⋯ |  2 |  2 | -0.24135869 | -0.13233711 | 0.25 | 1 |  0.9205844 | 3 | 1 |  7 |\n",
       "| 4 | AMU103615 | 21 | 60297 | AMU | 103615 | 2010 | WV01 | 1 | 3 |  7 | ⋯ |  3 |  3 | -0.21265171 | -0.07510762 | 0.25 | 1 |  0.2577237 | 3 | 1 |  7 |\n",
       "| 5 | AMU103695 | 21 | 60297 | AMU | 103695 | 2010 | WV01 | 1 | 1 |  4 | ⋯ |  1 |  1 | -0.27006566 | -0.18956660 | 0.25 | 1 | -0.4101991 | 1 | 1 |  4 |\n",
       "| 6 | AMU103791 | 21 | 60297 | AMU | 103791 | 2010 | WV01 | 1 | 8 | 18 | ⋯ | 10 | 10 | -0.01170287 |  0.32549884 | 0.25 | 1 |  0.6028688 | 8 | 1 | 18 |\n",
       "\n"
      ],
      "text/plain": [
       "  regionMapId RShour overlayId region mapId  year satId numTaggers estNumSeals\n",
       "1 AMU101663   21     60297     AMU    101663 2010 WV01  1          1          \n",
       "2 AMU102072   21     60297     AMU    102072 2010 WV01  2          1          \n",
       "3 AMU102099   21     60297     AMU    102099 2010 WV01  1          3          \n",
       "4 AMU103615   21     60297     AMU    103615 2010 WV01  1          3          \n",
       "5 AMU103695   21     60297     AMU    103695 2010 WV01  1          1          \n",
       "6 AMU103791   21     60297     AMU    103791 2010 WV01  1          8          \n",
       "  uclNumSeals ⋯ totalTags avgTags scaledTotalTags scaledAvgTags numHour sinH\n",
       "1  4          ⋯  1         1      -0.27006566     -0.18956660   0.25    1   \n",
       "2  4          ⋯  2         1      -0.24135869     -0.18956660   0.25    1   \n",
       "3  7          ⋯  2         2      -0.24135869     -0.13233711   0.25    1   \n",
       "4  7          ⋯  3         3      -0.21265171     -0.07510762   0.25    1   \n",
       "5  4          ⋯  1         1      -0.27006566     -0.18956660   0.25    1   \n",
       "6 18          ⋯ 10        10      -0.01170287      0.32549884   0.25    1   \n",
       "  resid      estimateH lowerH upperH\n",
       "1 -0.4112584 1         1       4    \n",
       "2 -0.3819680 1         1       4    \n",
       "3  0.9205844 3         1       7    \n",
       "4  0.2577237 3         1       7    \n",
       "5 -0.4101991 1         1       4    \n",
       "6  0.6028688 8         1      18    "
      ]
     },
     "metadata": {},
     "output_type": "display_data"
    }
   ],
   "source": [
    "libs<-c(\"ggplot2\",\"plyr\",\"dplyr\")\n",
    "lapply(libs, require, character.only = TRUE)\n",
    "pathToLocalGit<-\"/home/ubuntu/Workspace/ContinentalWESEestimates/\"\n",
    "\n",
    "source(paste0(pathToLocalGit,\"scripts/countSealsFromTags_functions.R\"))\n",
    "\n",
    "## Load the data - the data were generated from notebook: \"Count Seals From Tags.ipynb\"\n",
    "load(file=paste0(pathToLocalGit,\"data/estimatesByMap_unadjusted.RData\"))\n",
    "head(df)"
   ]
  },
  {
   "cell_type": "markdown",
   "metadata": {},
   "source": [
    "Now we use the handy function to request the detection rates under both models. Note that we can specify the \"weight\" of island counts. This is the proportion of map locations that resemble the islet haul-out locations in Erebus Bay (i.e., Turk's Head-Tryggve and Hutton Cliffs). According to Michelle and David, the vast majority of counts came from such locations. Here we are conservative and assume 95% of locations are islets."
   ]
  },
  {
   "cell_type": "code",
   "execution_count": 23,
   "metadata": {},
   "outputs": [
    {
     "data": {
      "text/html": [
       "<table>\n",
       "<caption>A data.frame: 6 × 3</caption>\n",
       "<thead>\n",
       "\t<tr><th></th><th scope=col>regionMapId</th><th scope=col>wgtPredColRate</th><th scope=col>wgtPredIslRate</th></tr>\n",
       "\t<tr><th></th><th scope=col>&lt;chr&gt;</th><th scope=col>&lt;dbl&gt;</th><th scope=col>&lt;dbl&gt;</th></tr>\n",
       "</thead>\n",
       "<tbody>\n",
       "\t<tr><th scope=row>1</th><td>AMU101663</td><td>0.3104196</td><td>0.2499636</td></tr>\n",
       "\t<tr><th scope=row>2</th><td>AMU102072</td><td>0.3104196</td><td>0.2499636</td></tr>\n",
       "\t<tr><th scope=row>3</th><td>AMU102099</td><td>0.3153436</td><td>0.2535324</td></tr>\n",
       "\t<tr><th scope=row>4</th><td>AMU103615</td><td>0.3202675</td><td>0.2571012</td></tr>\n",
       "\t<tr><th scope=row>5</th><td>AMU103695</td><td>0.3104196</td><td>0.2499636</td></tr>\n",
       "\t<tr><th scope=row>6</th><td>AMU103791</td><td>0.3547351</td><td>0.2820827</td></tr>\n",
       "</tbody>\n",
       "</table>\n"
      ],
      "text/latex": [
       "A data.frame: 6 × 3\n",
       "\\begin{tabular}{r|lll}\n",
       "  & regionMapId & wgtPredColRate & wgtPredIslRate\\\\\n",
       "  & <chr> & <dbl> & <dbl>\\\\\n",
       "\\hline\n",
       "\t1 & AMU101663 & 0.3104196 & 0.2499636\\\\\n",
       "\t2 & AMU102072 & 0.3104196 & 0.2499636\\\\\n",
       "\t3 & AMU102099 & 0.3153436 & 0.2535324\\\\\n",
       "\t4 & AMU103615 & 0.3202675 & 0.2571012\\\\\n",
       "\t5 & AMU103695 & 0.3104196 & 0.2499636\\\\\n",
       "\t6 & AMU103791 & 0.3547351 & 0.2820827\\\\\n",
       "\\end{tabular}\n"
      ],
      "text/markdown": [
       "\n",
       "A data.frame: 6 × 3\n",
       "\n",
       "| <!--/--> | regionMapId &lt;chr&gt; | wgtPredColRate &lt;dbl&gt; | wgtPredIslRate &lt;dbl&gt; |\n",
       "|---|---|---|---|\n",
       "| 1 | AMU101663 | 0.3104196 | 0.2499636 |\n",
       "| 2 | AMU102072 | 0.3104196 | 0.2499636 |\n",
       "| 3 | AMU102099 | 0.3153436 | 0.2535324 |\n",
       "| 4 | AMU103615 | 0.3202675 | 0.2571012 |\n",
       "| 5 | AMU103695 | 0.3104196 | 0.2499636 |\n",
       "| 6 | AMU103791 | 0.3547351 | 0.2820827 |\n",
       "\n"
      ],
      "text/plain": [
       "  regionMapId wgtPredColRate wgtPredIslRate\n",
       "1 AMU101663   0.3104196      0.2499636     \n",
       "2 AMU102072   0.3104196      0.2499636     \n",
       "3 AMU102099   0.3153436      0.2535324     \n",
       "4 AMU103615   0.3202675      0.2571012     \n",
       "5 AMU103695   0.3104196      0.2499636     \n",
       "6 AMU103791   0.3547351      0.2820827     "
      ]
     },
     "metadata": {},
     "output_type": "display_data"
    }
   ],
   "source": [
    "adjRates<-predictDetRates(pathToGit=pathToLocalGit,dat=df,keyFieldName=\"regionMapId\",islandWeight=0.95)\n",
    "head(adjRates)"
   ]
  },
  {
   "cell_type": "markdown",
   "metadata": {},
   "source": [
    "Finally, we add the detection rates to our data.frame of map counts, inflate, and summarize the results.  \n",
    "  \n",
    "Since detectionRate = count-in-map/count-on-the-ground, and we want count-on-the-ground, then:\n",
    "Count-on-the-ground = count-in-map/detectionRate"
   ]
  },
  {
   "cell_type": "code",
   "execution_count": 27,
   "metadata": {},
   "outputs": [
    {
     "name": "stdout",
     "output_type": "stream",
     "text": [
      "[1] \"Colony model\"\n",
      "  region Lower Estimate  Upper\n",
      "1    AMU  3163     9264  23657\n",
      "2    EA1  7225    22198  56085\n",
      "3    EA2  6541    19199  48854\n",
      "4    QMA  8253    21054  55504\n",
      "5    RSS 24886    74663 192329\n",
      "6    WAP  8530    21644  57132\n",
      "7  Total 58598   168022 433561\n"
     ]
    }
   ],
   "source": [
    "countdf<-merge(df,adjRates,by=\"regionMapId\")\n",
    "\n",
    "countdf$mdlColEstimate<-round(countdf$estimateH/countdf$wgtPredColRate)\n",
    "countdf$mdlColUpper<-round(countdf$upperH/countdf$wgtPredColRate)\n",
    "countdf$mdlColLower<-round(countdf$lowerH/countdf$wgtPredColRate)\n",
    "\n",
    "countdf$mdlIslEstimate<-round(countdf$estimateH/countdf$wgtPredIslRate)\n",
    "countdf$mdlIslUpper<-round(countdf$upperH/countdf$wgtPredIslRate)\n",
    "countdf$mdlIslLower<-round(countdf$lowerH/countdf$wgtPredIslRate)\n",
    "\n",
    "## Using the colony model:\n",
    "print(\"Colony model\")\n",
    "estByRegionCol<-as.data.frame(countdf[,c(\"region\",\"mdlColLower\",\"mdlColEstimate\",\"mdlColUpper\")] %>% group_by(region) %>% dplyr::summarize(Lower=round(sum(mdlColLower)),Estimate=round(sum(mdlColEstimate)),Upper=round(sum(mdlColUpper))))\n",
    "estByRegionCol<-rbind(estByRegionCol,data.frame(region=\"Total\",Lower=round(sum(countdf$mdlColLower)),Estimate=round(sum(countdf$mdlColEstimate)),Upper=round(sum(countdf$mdlColUpper))))\n",
    "print(estByRegionCol)"
   ]
  },
  {
   "cell_type": "code",
   "execution_count": 28,
   "metadata": {},
   "outputs": [
    {
     "name": "stdout",
     "output_type": "stream",
     "text": [
      "[1] \"Islet/mainland model\"\n",
      "  region Lower Estimate  Upper\n",
      "1    AMU  4185    11725  29601\n",
      "2    EA1  9555    28095  70342\n",
      "3    EA2  8681    24289  61075\n",
      "4    QMA 10903    26768  69478\n",
      "5    RSS 32837    94707 241425\n",
      "6    WAP 11265    27504  71481\n",
      "7  Total 77426   213088 543402\n"
     ]
    }
   ],
   "source": [
    "## Using the islet/mainland model:\n",
    "print(\"Islet/mainland model\")\n",
    "estByRegionIsl<-as.data.frame(countdf[,c(\"region\",\"mdlIslLower\",\"mdlIslEstimate\",\"mdlIslUpper\")] %>% group_by(region) %>% dplyr::summarize(Lower=round(sum(mdlIslLower)),Estimate=round(sum(mdlIslEstimate)),Upper=round(sum(mdlIslUpper))))\n",
    "estByRegionIsl<-rbind(estByRegionIsl,data.frame(region=\"Total\",Lower=round(sum(countdf$mdlIslLower)),Estimate=round(sum(countdf$mdlIslEstimate)),Upper=round(sum(countdf$mdlIslUpper))))\n",
    "print(estByRegionIsl)"
   ]
  },
  {
   "cell_type": "code",
   "execution_count": null,
   "metadata": {},
   "outputs": [],
   "source": []
  }
 ],
 "metadata": {
  "kernelspec": {
   "display_name": "R",
   "language": "R",
   "name": "ir"
  },
  "language_info": {
   "codemirror_mode": "r",
   "file_extension": ".r",
   "mimetype": "text/x-r-source",
   "name": "R",
   "pygments_lexer": "r",
   "version": "3.4.4"
  }
 },
 "nbformat": 4,
 "nbformat_minor": 2
}
