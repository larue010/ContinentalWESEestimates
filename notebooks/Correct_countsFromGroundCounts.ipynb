{
 "cells": [
  {
   "cell_type": "markdown",
   "metadata": {},
   "source": [
    "# Correcting the map counts to account for diving seals and higher on-the-ground counts\n",
    "This file includes the code that inflates the map counts using detection rate-estimating functions fitted with data from Erebus Bay, where ground counts could be conducted.  \n",
    "  \n",
    "In a nutshell, we use these models to estimate the detection rate, and then inflate the map counts according to this rate.\n"
   ]
  },
  {
   "cell_type": "code",
   "execution_count": 17,
   "metadata": {},
   "outputs": [
    {
     "data": {
      "text/html": [
       "<table>\n",
       "<caption>A matrix: 2 × 6 of type dbl</caption>\n",
       "<thead>\n",
       "\t<tr><th></th><th scope=col>used</th><th scope=col>(Mb)</th><th scope=col>gc trigger</th><th scope=col>(Mb)</th><th scope=col>max used</th><th scope=col>(Mb)</th></tr>\n",
       "</thead>\n",
       "<tbody>\n",
       "\t<tr><th scope=row>Ncells</th><td> 679440</td><td>36.3</td><td>1168576</td><td>62.5</td><td>1168576</td><td>62.5</td></tr>\n",
       "\t<tr><th scope=row>Vcells</th><td>1162638</td><td> 8.9</td><td>5246909</td><td>40.1</td><td>8198173</td><td>62.6</td></tr>\n",
       "</tbody>\n",
       "</table>\n"
      ],
      "text/latex": [
       "A matrix: 2 × 6 of type dbl\n",
       "\\begin{tabular}{r|llllll}\n",
       "  & used & (Mb) & gc trigger & (Mb) & max used & (Mb)\\\\\n",
       "\\hline\n",
       "\tNcells &  679440 & 36.3 & 1168576 & 62.5 & 1168576 & 62.5\\\\\n",
       "\tVcells & 1162638 &  8.9 & 5246909 & 40.1 & 8198173 & 62.6\\\\\n",
       "\\end{tabular}\n"
      ],
      "text/markdown": [
       "\n",
       "A matrix: 2 × 6 of type dbl\n",
       "\n",
       "| <!--/--> | used | (Mb) | gc trigger | (Mb) | max used | (Mb) |\n",
       "|---|---|---|---|---|---|---|\n",
       "| Ncells |  679440 | 36.3 | 1168576 | 62.5 | 1168576 | 62.5 |\n",
       "| Vcells | 1162638 |  8.9 | 5246909 | 40.1 | 8198173 | 62.6 |\n",
       "\n"
      ],
      "text/plain": [
       "       used    (Mb) gc trigger (Mb) max used (Mb)\n",
       "Ncells  679440 36.3 1168576    62.5 1168576  62.5\n",
       "Vcells 1162638  8.9 5246909    40.1 8198173  62.6"
      ]
     },
     "metadata": {},
     "output_type": "display_data"
    }
   ],
   "source": [
    "## Clear memory\n",
    "rm(list=ls())\n",
    "gc()"
   ]
  },
  {
   "cell_type": "markdown",
   "metadata": {},
   "source": [
    "### Loading libraries, functions and data"
   ]
  },
  {
   "cell_type": "code",
   "execution_count": 18,
   "metadata": {},
   "outputs": [
    {
     "data": {
      "text/html": [
       "<ol>\n",
       "\t<li>TRUE</li>\n",
       "\t<li>TRUE</li>\n",
       "\t<li>TRUE</li>\n",
       "</ol>\n"
      ],
      "text/latex": [
       "\\begin{enumerate}\n",
       "\\item TRUE\n",
       "\\item TRUE\n",
       "\\item TRUE\n",
       "\\end{enumerate}\n"
      ],
      "text/markdown": [
       "1. TRUE\n",
       "2. TRUE\n",
       "3. TRUE\n",
       "\n",
       "\n"
      ],
      "text/plain": [
       "[[1]]\n",
       "[1] TRUE\n",
       "\n",
       "[[2]]\n",
       "[1] TRUE\n",
       "\n",
       "[[3]]\n",
       "[1] TRUE\n"
      ]
     },
     "metadata": {},
     "output_type": "display_data"
    },
    {
     "data": {
      "text/html": [
       "<table>\n",
       "<caption>A data.frame: 6 × 24</caption>\n",
       "<thead>\n",
       "\t<tr><th></th><th scope=col>regionMapId</th><th scope=col>originHour</th><th scope=col>lclNumSeals</th><th scope=col>estNumSeals</th><th scope=col>uclNumSeals</th><th scope=col>mapcoords.x1</th><th scope=col>mapcoords.x2</th><th scope=col>acquisition_date</th><th scope=col>region</th><th scope=col>satId</th><th scope=col>⋯</th><th scope=col>originTZ</th><th scope=col>year</th><th scope=col>totalTags</th><th scope=col>scaledTotalTags</th><th scope=col>numHour</th><th scope=col>sinH</th><th scope=col>resid</th><th scope=col>estimateH</th><th scope=col>lowerH</th><th scope=col>upperH</th></tr>\n",
       "\t<tr><th></th><th scope=col>&lt;chr&gt;</th><th scope=col>&lt;chr&gt;</th><th scope=col>&lt;dbl&gt;</th><th scope=col>&lt;dbl&gt;</th><th scope=col>&lt;dbl&gt;</th><th scope=col>&lt;dbl&gt;</th><th scope=col>&lt;dbl&gt;</th><th scope=col>&lt;dttm&gt;</th><th scope=col>&lt;chr&gt;</th><th scope=col>&lt;chr&gt;</th><th scope=col>⋯</th><th scope=col>&lt;chr&gt;</th><th scope=col>&lt;chr&gt;</th><th scope=col>&lt;dbl&gt;</th><th scope=col>&lt;dbl&gt;</th><th scope=col>&lt;dbl&gt;</th><th scope=col>&lt;dbl&gt;</th><th scope=col>&lt;dbl&gt;</th><th scope=col>&lt;dbl&gt;</th><th scope=col>&lt;dbl&gt;</th><th scope=col>&lt;dbl&gt;</th></tr>\n",
       "</thead>\n",
       "<tbody>\n",
       "\t<tr><th scope=row>1</th><td>AMU101663</td><td>21</td><td>1</td><td>1</td><td> 4</td><td>-85.48336</td><td>-73.34752</td><td>2010-11-20 21:50:18</td><td>AMU</td><td>WV01</td><td>⋯</td><td>PST</td><td>2010</td><td>1</td><td>-0.33940735</td><td>0.1666667</td><td>0.8660254</td><td>-0.58817634</td><td>1</td><td>1</td><td> 4</td></tr>\n",
       "\t<tr><th scope=row>2</th><td>AMU102072</td><td>21</td><td>1</td><td>1</td><td> 4</td><td>-85.44474</td><td>-73.41747</td><td>2010-11-20 21:50:18</td><td>AMU</td><td>WV01</td><td>⋯</td><td>PST</td><td>2010</td><td>2</td><td>-0.29654759</td><td>0.1666667</td><td>0.8660254</td><td>-0.01598454</td><td>1</td><td>1</td><td> 4</td></tr>\n",
       "\t<tr><th scope=row>3</th><td>AMU102099</td><td>21</td><td>1</td><td>1</td><td> 4</td><td>-85.79235</td><td>-73.17324</td><td>2010-11-20 21:50:18</td><td>AMU</td><td>WV01</td><td>⋯</td><td>PST</td><td>2010</td><td>2</td><td>-0.29654759</td><td>0.1666667</td><td>0.8660254</td><td>-0.77273819</td><td>1</td><td>1</td><td> 4</td></tr>\n",
       "\t<tr><th scope=row>4</th><td>AMU103615</td><td>21</td><td>1</td><td>1</td><td> 4</td><td>-85.79235</td><td>-73.17696</td><td>2010-11-20 21:50:18</td><td>AMU</td><td>WV01</td><td>⋯</td><td>PST</td><td>2010</td><td>1</td><td>-0.33940735</td><td>0.1666667</td><td>0.8660254</td><td>-0.58817634</td><td>1</td><td>1</td><td> 4</td></tr>\n",
       "\t<tr><th scope=row>5</th><td>AMU103695</td><td>21</td><td>1</td><td>1</td><td> 4</td><td>-85.79235</td><td>-73.16951</td><td>2010-11-20 21:50:18</td><td>AMU</td><td>WV01</td><td>⋯</td><td>PST</td><td>2010</td><td>1</td><td>-0.33940735</td><td>0.1666667</td><td>0.8660254</td><td>-0.58781338</td><td>1</td><td>1</td><td> 4</td></tr>\n",
       "\t<tr><th scope=row>6</th><td>AMU103791</td><td>21</td><td>1</td><td>6</td><td>14</td><td>-85.81166</td><td>-73.17324</td><td>2010-11-20 21:50:18</td><td>AMU</td><td>WV01</td><td>⋯</td><td>PST</td><td>2010</td><td>8</td><td>-0.03938903</td><td>0.1666667</td><td>0.8660254</td><td> 3.12751275</td><td>6</td><td>1</td><td>14</td></tr>\n",
       "</tbody>\n",
       "</table>\n"
      ],
      "text/latex": [
       "A data.frame: 6 × 24\n",
       "\\begin{tabular}{r|lllllllllllllllllllll}\n",
       "  & regionMapId & originHour & lclNumSeals & estNumSeals & uclNumSeals & mapcoords.x1 & mapcoords.x2 & acquisition\\_date & region & satId & ⋯ & originTZ & year & totalTags & scaledTotalTags & numHour & sinH & resid & estimateH & lowerH & upperH\\\\\n",
       "  & <chr> & <chr> & <dbl> & <dbl> & <dbl> & <dbl> & <dbl> & <dttm> & <chr> & <chr> & ⋯ & <chr> & <chr> & <dbl> & <dbl> & <dbl> & <dbl> & <dbl> & <dbl> & <dbl> & <dbl>\\\\\n",
       "\\hline\n",
       "\t1 & AMU101663 & 21 & 1 & 1 &  4 & -85.48336 & -73.34752 & 2010-11-20 21:50:18 & AMU & WV01 & ⋯ & PST & 2010 & 1 & -0.33940735 & 0.1666667 & 0.8660254 & -0.58817634 & 1 & 1 &  4\\\\\n",
       "\t2 & AMU102072 & 21 & 1 & 1 &  4 & -85.44474 & -73.41747 & 2010-11-20 21:50:18 & AMU & WV01 & ⋯ & PST & 2010 & 2 & -0.29654759 & 0.1666667 & 0.8660254 & -0.01598454 & 1 & 1 &  4\\\\\n",
       "\t3 & AMU102099 & 21 & 1 & 1 &  4 & -85.79235 & -73.17324 & 2010-11-20 21:50:18 & AMU & WV01 & ⋯ & PST & 2010 & 2 & -0.29654759 & 0.1666667 & 0.8660254 & -0.77273819 & 1 & 1 &  4\\\\\n",
       "\t4 & AMU103615 & 21 & 1 & 1 &  4 & -85.79235 & -73.17696 & 2010-11-20 21:50:18 & AMU & WV01 & ⋯ & PST & 2010 & 1 & -0.33940735 & 0.1666667 & 0.8660254 & -0.58817634 & 1 & 1 &  4\\\\\n",
       "\t5 & AMU103695 & 21 & 1 & 1 &  4 & -85.79235 & -73.16951 & 2010-11-20 21:50:18 & AMU & WV01 & ⋯ & PST & 2010 & 1 & -0.33940735 & 0.1666667 & 0.8660254 & -0.58781338 & 1 & 1 &  4\\\\\n",
       "\t6 & AMU103791 & 21 & 1 & 6 & 14 & -85.81166 & -73.17324 & 2010-11-20 21:50:18 & AMU & WV01 & ⋯ & PST & 2010 & 8 & -0.03938903 & 0.1666667 & 0.8660254 &  3.12751275 & 6 & 1 & 14\\\\\n",
       "\\end{tabular}\n"
      ],
      "text/markdown": [
       "\n",
       "A data.frame: 6 × 24\n",
       "\n",
       "| <!--/--> | regionMapId &lt;chr&gt; | originHour &lt;chr&gt; | lclNumSeals &lt;dbl&gt; | estNumSeals &lt;dbl&gt; | uclNumSeals &lt;dbl&gt; | mapcoords.x1 &lt;dbl&gt; | mapcoords.x2 &lt;dbl&gt; | acquisition_date &lt;dttm&gt; | region &lt;chr&gt; | satId &lt;chr&gt; | ⋯ ⋯ | originTZ &lt;chr&gt; | year &lt;chr&gt; | totalTags &lt;dbl&gt; | scaledTotalTags &lt;dbl&gt; | numHour &lt;dbl&gt; | sinH &lt;dbl&gt; | resid &lt;dbl&gt; | estimateH &lt;dbl&gt; | lowerH &lt;dbl&gt; | upperH &lt;dbl&gt; |\n",
       "|---|---|---|---|---|---|---|---|---|---|---|---|---|---|---|---|---|---|---|---|---|---|\n",
       "| 1 | AMU101663 | 21 | 1 | 1 |  4 | -85.48336 | -73.34752 | 2010-11-20 21:50:18 | AMU | WV01 | ⋯ | PST | 2010 | 1 | -0.33940735 | 0.1666667 | 0.8660254 | -0.58817634 | 1 | 1 |  4 |\n",
       "| 2 | AMU102072 | 21 | 1 | 1 |  4 | -85.44474 | -73.41747 | 2010-11-20 21:50:18 | AMU | WV01 | ⋯ | PST | 2010 | 2 | -0.29654759 | 0.1666667 | 0.8660254 | -0.01598454 | 1 | 1 |  4 |\n",
       "| 3 | AMU102099 | 21 | 1 | 1 |  4 | -85.79235 | -73.17324 | 2010-11-20 21:50:18 | AMU | WV01 | ⋯ | PST | 2010 | 2 | -0.29654759 | 0.1666667 | 0.8660254 | -0.77273819 | 1 | 1 |  4 |\n",
       "| 4 | AMU103615 | 21 | 1 | 1 |  4 | -85.79235 | -73.17696 | 2010-11-20 21:50:18 | AMU | WV01 | ⋯ | PST | 2010 | 1 | -0.33940735 | 0.1666667 | 0.8660254 | -0.58817634 | 1 | 1 |  4 |\n",
       "| 5 | AMU103695 | 21 | 1 | 1 |  4 | -85.79235 | -73.16951 | 2010-11-20 21:50:18 | AMU | WV01 | ⋯ | PST | 2010 | 1 | -0.33940735 | 0.1666667 | 0.8660254 | -0.58781338 | 1 | 1 |  4 |\n",
       "| 6 | AMU103791 | 21 | 1 | 6 | 14 | -85.81166 | -73.17324 | 2010-11-20 21:50:18 | AMU | WV01 | ⋯ | PST | 2010 | 8 | -0.03938903 | 0.1666667 | 0.8660254 |  3.12751275 | 6 | 1 | 14 |\n",
       "\n"
      ],
      "text/plain": [
       "  regionMapId originHour lclNumSeals estNumSeals uclNumSeals mapcoords.x1\n",
       "1 AMU101663   21         1           1            4          -85.48336   \n",
       "2 AMU102072   21         1           1            4          -85.44474   \n",
       "3 AMU102099   21         1           1            4          -85.79235   \n",
       "4 AMU103615   21         1           1            4          -85.79235   \n",
       "5 AMU103695   21         1           1            4          -85.79235   \n",
       "6 AMU103791   21         1           6           14          -85.81166   \n",
       "  mapcoords.x2 acquisition_date    region satId ⋯ originTZ year totalTags\n",
       "1 -73.34752    2010-11-20 21:50:18 AMU    WV01  ⋯ PST      2010 1        \n",
       "2 -73.41747    2010-11-20 21:50:18 AMU    WV01  ⋯ PST      2010 2        \n",
       "3 -73.17324    2010-11-20 21:50:18 AMU    WV01  ⋯ PST      2010 2        \n",
       "4 -73.17696    2010-11-20 21:50:18 AMU    WV01  ⋯ PST      2010 1        \n",
       "5 -73.16951    2010-11-20 21:50:18 AMU    WV01  ⋯ PST      2010 1        \n",
       "6 -73.17324    2010-11-20 21:50:18 AMU    WV01  ⋯ PST      2010 8        \n",
       "  scaledTotalTags numHour   sinH      resid       estimateH lowerH upperH\n",
       "1 -0.33940735     0.1666667 0.8660254 -0.58817634 1         1       4    \n",
       "2 -0.29654759     0.1666667 0.8660254 -0.01598454 1         1       4    \n",
       "3 -0.29654759     0.1666667 0.8660254 -0.77273819 1         1       4    \n",
       "4 -0.33940735     0.1666667 0.8660254 -0.58817634 1         1       4    \n",
       "5 -0.33940735     0.1666667 0.8660254 -0.58781338 1         1       4    \n",
       "6 -0.03938903     0.1666667 0.8660254  3.12751275 6         1      14    "
      ]
     },
     "metadata": {},
     "output_type": "display_data"
    },
    {
     "name": "stdout",
     "output_type": "stream",
     "text": [
      "  region lower estimate  upper\n",
      "1    AMU  1013     2189   6223\n",
      "2    EA1  2375     5967  16126\n",
      "3    EA2  2174     5063  13934\n",
      "4    QMA  2833     7142  19337\n",
      "5    RSS  8330    22333  59682\n",
      "6    WAP  3892     8894  22417\n",
      "7  Total 20617    51588 137719\n"
     ]
    }
   ],
   "source": [
    "libs<-c(\"ggplot2\",\"plyr\",\"dplyr\")\n",
    "lapply(libs, require, character.only = TRUE)\n",
    "pathToLocalGit<-\"/home/ubuntu/Workspace/ContinentalWESEestimates/\"\n",
    "\n",
    "source(paste0(pathToLocalGit,\"scripts/countSealsFromTags_functions.R\"))\n",
    "\n",
    "## Load the data - the data were generated from notebook: \"Count Seals From Tags.ipynb\"\n",
    "load(file=paste0(pathToLocalGit,\"data/estimatesByMap_unadjusted.RData\"))\n",
    "head(df)\n",
    "\n",
    "## Print and check that this is the correct version of the data\n",
    "estByRegionQ<-as.data.frame(mapcounts[,c(\"region\",\"lowerH\",\"estimateH\",\"upperH\")] %>% group_by(region) %>% dplyr::summarize(lower=ceiling(sum(lowerH)),estimate=ceiling(sum(estimateH)),upper=ceiling(sum(upperH))))\n",
    "estByRegionQ<-rbind(estByRegionQ,data.frame(region=\"Total\",lower=round(sum(mapcounts$lowerH)),estimate=round(sum(mapcounts$estimateH)),upper=round(sum(mapcounts$upperH))))\n",
    "print(estByRegionQ)"
   ]
  },
  {
   "cell_type": "markdown",
   "metadata": {},
   "source": [
    "Now we use the handy function to request the detection rates under both models. Note that we can specify the \"weight\" of island counts. This is the proportion of map locations that resemble the islet haul-out locations in Erebus Bay (i.e., Turk's Head-Tryggve and Hutton Cliffs). According to Michelle and David, the vast majority of counts came from such locations. Here we are conservative and assume 95% of locations are islets."
   ]
  },
  {
   "cell_type": "code",
   "execution_count": 19,
   "metadata": {},
   "outputs": [
    {
     "data": {
      "text/html": [
       "<table>\n",
       "<caption>A data.frame: 6 × 4</caption>\n",
       "<thead>\n",
       "\t<tr><th></th><th scope=col>regionMapId</th><th scope=col>wgtPredColRate</th><th scope=col>wgtPredIslRate</th><th scope=col>Year</th></tr>\n",
       "\t<tr><th></th><th scope=col>&lt;chr&gt;</th><th scope=col>&lt;dbl&gt;</th><th scope=col>&lt;dbl&gt;</th><th scope=col>&lt;chr&gt;</th></tr>\n",
       "</thead>\n",
       "<tbody>\n",
       "\t<tr><th scope=row>1</th><td>AMU101663</td><td>0.2975275</td><td>0.2406196</td><td>2010</td></tr>\n",
       "\t<tr><th scope=row>2</th><td>AMU102072</td><td>0.3012151</td><td>0.2432923</td><td>2010</td></tr>\n",
       "\t<tr><th scope=row>3</th><td>AMU102099</td><td>0.3012151</td><td>0.2432923</td><td>2010</td></tr>\n",
       "\t<tr><th scope=row>4</th><td>AMU103615</td><td>0.2975275</td><td>0.2406196</td><td>2010</td></tr>\n",
       "\t<tr><th scope=row>5</th><td>AMU103695</td><td>0.2975275</td><td>0.2406196</td><td>2010</td></tr>\n",
       "\t<tr><th scope=row>6</th><td>AMU103791</td><td>0.3233407</td><td>0.2593285</td><td>2010</td></tr>\n",
       "</tbody>\n",
       "</table>\n"
      ],
      "text/latex": [
       "A data.frame: 6 × 4\n",
       "\\begin{tabular}{r|llll}\n",
       "  & regionMapId & wgtPredColRate & wgtPredIslRate & Year\\\\\n",
       "  & <chr> & <dbl> & <dbl> & <chr>\\\\\n",
       "\\hline\n",
       "\t1 & AMU101663 & 0.2975275 & 0.2406196 & 2010\\\\\n",
       "\t2 & AMU102072 & 0.3012151 & 0.2432923 & 2010\\\\\n",
       "\t3 & AMU102099 & 0.3012151 & 0.2432923 & 2010\\\\\n",
       "\t4 & AMU103615 & 0.2975275 & 0.2406196 & 2010\\\\\n",
       "\t5 & AMU103695 & 0.2975275 & 0.2406196 & 2010\\\\\n",
       "\t6 & AMU103791 & 0.3233407 & 0.2593285 & 2010\\\\\n",
       "\\end{tabular}\n"
      ],
      "text/markdown": [
       "\n",
       "A data.frame: 6 × 4\n",
       "\n",
       "| <!--/--> | regionMapId &lt;chr&gt; | wgtPredColRate &lt;dbl&gt; | wgtPredIslRate &lt;dbl&gt; | Year &lt;chr&gt; |\n",
       "|---|---|---|---|---|\n",
       "| 1 | AMU101663 | 0.2975275 | 0.2406196 | 2010 |\n",
       "| 2 | AMU102072 | 0.3012151 | 0.2432923 | 2010 |\n",
       "| 3 | AMU102099 | 0.3012151 | 0.2432923 | 2010 |\n",
       "| 4 | AMU103615 | 0.2975275 | 0.2406196 | 2010 |\n",
       "| 5 | AMU103695 | 0.2975275 | 0.2406196 | 2010 |\n",
       "| 6 | AMU103791 | 0.3233407 | 0.2593285 | 2010 |\n",
       "\n"
      ],
      "text/plain": [
       "  regionMapId wgtPredColRate wgtPredIslRate Year\n",
       "1 AMU101663   0.2975275      0.2406196      2010\n",
       "2 AMU102072   0.3012151      0.2432923      2010\n",
       "3 AMU102099   0.3012151      0.2432923      2010\n",
       "4 AMU103615   0.2975275      0.2406196      2010\n",
       "5 AMU103695   0.2975275      0.2406196      2010\n",
       "6 AMU103791   0.3233407      0.2593285      2010"
      ]
     },
     "metadata": {},
     "output_type": "display_data"
    }
   ],
   "source": [
    "names(mapcounts)<-gsub(\"scaledTotalTags\",\"scaledNumTags\",names(mapcounts))\n",
    "\n",
    "adjRates<-predictDetRates(pathToGit=pathToLocalGit,dat=mapcounts,keyFieldName=\"regionMapId\",islandWeight=0.95)\n",
    "head(adjRates)"
   ]
  },
  {
   "cell_type": "markdown",
   "metadata": {},
   "source": [
    "Finally, we add the detection rates to our data.frame of map counts, inflate, and summarize the results.  \n",
    "  \n",
    "Since detectionRate = count-in-map/count-on-the-ground, and we want count-on-the-ground, then:\n",
    "Count-on-the-ground = count-in-map/detectionRate"
   ]
  },
  {
   "cell_type": "code",
   "execution_count": 34,
   "metadata": {},
   "outputs": [
    {
     "data": {
      "text/html": [
       "TRUE"
      ],
      "text/latex": [
       "TRUE"
      ],
      "text/markdown": [
       "TRUE"
      ],
      "text/plain": [
       "[1] TRUE"
      ]
     },
     "metadata": {},
     "output_type": "display_data"
    },
    {
     "name": "stdout",
     "output_type": "stream",
     "text": [
      "[1] \"Colony model with reference year 2010\"\n",
      "  region Lower Estimate  Upper\n",
      "1    AMU  2979     6426  18879\n",
      "2    EA1  6829    16694  46660\n",
      "3    EA2  6276    14198  40576\n",
      "4    QMA  8057    19420  54635\n",
      "5    RSS 23104    58132 161958\n",
      "6    WAP  9289    22982  62684\n",
      "7  Total 56534   137852 385392\n",
      "\n",
      "[1] \"Colony model with reference year 2011\"\n",
      "  region Lower Estimate  Upper\n",
      "1    AMU  3907     8004  23639\n",
      "2    EA1  8868    20540  57886\n",
      "3    EA2  8172    17600  50422\n",
      "4    QMA 10429    23899  67525\n",
      "5    RSS 29753    71088 199298\n",
      "6    WAP 12044    28352  77568\n",
      "7  Total 73173   169483 476338\n"
     ]
    }
   ],
   "source": [
    "countdf<-merge(mapcounts,adjRates,by=\"regionMapId\")\n",
    "nrow(countdf)==2*nrow(mapcounts)\n",
    "\n",
    "countdf$mdlColEstimate<-round(countdf$estimateH/countdf$wgtPredColRate)\n",
    "countdf$mdlColUpper<-round(countdf$upperH/countdf$wgtPredColRate)\n",
    "countdf$mdlColLower<-round(countdf$lowerH/countdf$wgtPredColRate)\n",
    "\n",
    "countdf$mdlIslEstimate<-round(countdf$estimateH/countdf$wgtPredIslRate)\n",
    "countdf$mdlIslUpper<-round(countdf$upperH/countdf$wgtPredIslRate)\n",
    "countdf$mdlIslLower<-round(countdf$lowerH/countdf$wgtPredIslRate)\n",
    "\n",
    "## Using the colony model for 2010:\n",
    "print(\"Colony model with reference year 2010\")\n",
    "countdf10<-subset(countdf,Year==\"2010\")\n",
    "estByRegionCol<-as.data.frame(countdf10[,c(\"region\",\"mdlColLower\",\"mdlColEstimate\",\"mdlColUpper\")] %>% group_by(region) %>% dplyr::summarize(Lower=round(sum(mdlColLower)),Estimate=round(sum(mdlColEstimate)),Upper=round(sum(mdlColUpper))))\n",
    "estByRegionCol<-rbind(estByRegionCol,data.frame(region=\"Total\",Lower=round(sum(countdf10$mdlColLower)),Estimate=round(sum(countdf10$mdlColEstimate)),Upper=round(sum(countdf10$mdlColUpper))))\n",
    "print(estByRegionCol)\n",
    "cat(\"\\n\")\n",
    "## Using the colony model for 2011:\n",
    "print(\"Colony model with reference year 2011\")\n",
    "countdf11<-subset(countdf,Year==\"2011\")\n",
    "estByRegionCol<-as.data.frame(countdf11[,c(\"region\",\"mdlColLower\",\"mdlColEstimate\",\"mdlColUpper\")] %>% group_by(region) %>% dplyr::summarize(Lower=round(sum(mdlColLower)),Estimate=round(sum(mdlColEstimate)),Upper=round(sum(mdlColUpper))))\n",
    "estByRegionCol<-rbind(estByRegionCol,data.frame(region=\"Total\",Lower=round(sum(countdf11$mdlColLower)),Estimate=round(sum(countdf11$mdlColEstimate)),Upper=round(sum(countdf11$mdlColUpper))))\n",
    "print(estByRegionCol)"
   ]
  },
  {
   "cell_type": "code",
   "execution_count": 35,
   "metadata": {},
   "outputs": [
    {
     "name": "stdout",
     "output_type": "stream",
     "text": [
      "[1] \"Islet/mainland model with reference year 2010\"\n",
      "  region Lower Estimate  Upper\n",
      "1    AMU  3937     8130  23727\n",
      "2    EA1  8984    21141  58764\n",
      "3    EA2  8292    18035  51080\n",
      "4    QMA 10582    24689  68832\n",
      "5    RSS 30374    73950 204640\n",
      "6    WAP 12217    29190  78964\n",
      "7  Total 74386   175135 486007\n",
      "\n",
      "[1] \"Islet/mainland model with reference year 2011\"\n",
      "  region Lower Estimate  Upper\n",
      "1    AMU  4865     9874  28553\n",
      "2    EA1 11057    25468  70315\n",
      "3    EA2 10167    21785  61203\n",
      "4    QMA 12992    29633  82237\n",
      "5    RSS 37122    88397 243273\n",
      "6    WAP 15014    35122  94453\n",
      "7  Total 91217   210279 580034\n"
     ]
    }
   ],
   "source": [
    "## Using the islet/mainland model for 2010:\n",
    "print(\"Islet/mainland model with reference year 2010\")\n",
    "countdf10<-subset(countdf,Year==\"2010\")\n",
    "estByRegionIsl<-as.data.frame(countdf10[,c(\"region\",\"mdlIslLower\",\"mdlIslEstimate\",\"mdlIslUpper\")] %>% group_by(region) %>% dplyr::summarize(Lower=round(sum(mdlIslLower)),Estimate=round(sum(mdlIslEstimate)),Upper=round(sum(mdlIslUpper))))\n",
    "estByRegionIsl<-rbind(estByRegionIsl,data.frame(region=\"Total\",Lower=round(sum(countdf10$mdlIslLower)),Estimate=round(sum(countdf10$mdlIslEstimate)),Upper=round(sum(countdf10$mdlIslUpper))))\n",
    "print(estByRegionIsl)\n",
    "cat(\"\\n\")\n",
    "## Using the islet/mainland model for 2011:\n",
    "print(\"Islet/mainland model with reference year 2011\")\n",
    "countdf11<-subset(countdf,Year==\"2011\")\n",
    "estByRegionIsl<-as.data.frame(countdf11[,c(\"region\",\"mdlIslLower\",\"mdlIslEstimate\",\"mdlIslUpper\")] %>% group_by(region) %>% dplyr::summarize(Lower=round(sum(mdlIslLower)),Estimate=round(sum(mdlIslEstimate)),Upper=round(sum(mdlIslUpper))))\n",
    "estByRegionIsl<-rbind(estByRegionIsl,data.frame(region=\"Total\",Lower=round(sum(countdf11$mdlIslLower)),Estimate=round(sum(countdf11$mdlIslEstimate)),Upper=round(sum(countdf11$mdlIslUpper))))\n",
    "print(estByRegionIsl)"
   ]
  },
  {
   "cell_type": "code",
   "execution_count": 37,
   "metadata": {},
   "outputs": [
    {
     "data": {
      "text/html": [
       "<table>\n",
       "<caption>A data.frame: 6 × 29</caption>\n",
       "<thead>\n",
       "\t<tr><th></th><th scope=col>regionMapId</th><th scope=col>originHour</th><th scope=col>region</th><th scope=col>satId</th><th scope=col>scaledNumTags</th><th scope=col>numViews</th><th scope=col>numTaggers</th><th scope=col>resid</th><th scope=col>estNumSeals</th><th scope=col>lclNumSeals</th><th scope=col>⋯</th><th scope=col>upperH</th><th scope=col>wgtPredColRate</th><th scope=col>wgtPredIslRate</th><th scope=col>Year</th><th scope=col>mdlColEstimate</th><th scope=col>mdlColUpper</th><th scope=col>mdlColLower</th><th scope=col>mdlIslEstimate</th><th scope=col>mdlIslUpper</th><th scope=col>mdlIslLower</th></tr>\n",
       "\t<tr><th></th><th scope=col>&lt;chr&gt;</th><th scope=col>&lt;chr&gt;</th><th scope=col>&lt;chr&gt;</th><th scope=col>&lt;chr&gt;</th><th scope=col>&lt;dbl&gt;</th><th scope=col>&lt;dbl&gt;</th><th scope=col>&lt;dbl&gt;</th><th scope=col>&lt;dbl&gt;</th><th scope=col>&lt;dbl&gt;</th><th scope=col>&lt;dbl&gt;</th><th scope=col>⋯</th><th scope=col>&lt;dbl&gt;</th><th scope=col>&lt;dbl&gt;</th><th scope=col>&lt;dbl&gt;</th><th scope=col>&lt;chr&gt;</th><th scope=col>&lt;dbl&gt;</th><th scope=col>&lt;dbl&gt;</th><th scope=col>&lt;dbl&gt;</th><th scope=col>&lt;dbl&gt;</th><th scope=col>&lt;dbl&gt;</th><th scope=col>&lt;dbl&gt;</th></tr>\n",
       "</thead>\n",
       "<tbody>\n",
       "\t<tr><th scope=row>1</th><td>AMU101663</td><td>21</td><td>AMU</td><td>WV01</td><td>-0.3394073</td><td>8</td><td>1</td><td>-0.58817634</td><td>1</td><td>1</td><td>⋯</td><td>4</td><td>0.2367743</td><td>0.1963025</td><td>2011</td><td>4</td><td>17</td><td>4</td><td>5</td><td>20</td><td>5</td></tr>\n",
       "\t<tr><th scope=row>2</th><td>AMU101663</td><td>21</td><td>AMU</td><td>WV01</td><td>-0.3394073</td><td>8</td><td>1</td><td>-0.58817634</td><td>1</td><td>1</td><td>⋯</td><td>4</td><td>0.2975275</td><td>0.2406196</td><td>2010</td><td>3</td><td>13</td><td>3</td><td>4</td><td>17</td><td>4</td></tr>\n",
       "\t<tr><th scope=row>3</th><td>AMU102072</td><td>21</td><td>AMU</td><td>WV01</td><td>-0.2965476</td><td>6</td><td>2</td><td>-0.01598454</td><td>1</td><td>1</td><td>⋯</td><td>4</td><td>0.3012151</td><td>0.2432923</td><td>2010</td><td>3</td><td>13</td><td>3</td><td>4</td><td>16</td><td>4</td></tr>\n",
       "\t<tr><th scope=row>4</th><td>AMU102072</td><td>21</td><td>AMU</td><td>WV01</td><td>-0.2965476</td><td>6</td><td>2</td><td>-0.01598454</td><td>1</td><td>1</td><td>⋯</td><td>4</td><td>0.2404619</td><td>0.1989752</td><td>2011</td><td>4</td><td>17</td><td>4</td><td>5</td><td>20</td><td>5</td></tr>\n",
       "\t<tr><th scope=row>5</th><td>AMU102099</td><td>21</td><td>AMU</td><td>WV01</td><td>-0.2965476</td><td>6</td><td>1</td><td>-0.77273819</td><td>1</td><td>1</td><td>⋯</td><td>4</td><td>0.2404619</td><td>0.1989752</td><td>2011</td><td>4</td><td>17</td><td>4</td><td>5</td><td>20</td><td>5</td></tr>\n",
       "\t<tr><th scope=row>6</th><td>AMU102099</td><td>21</td><td>AMU</td><td>WV01</td><td>-0.2965476</td><td>6</td><td>1</td><td>-0.77273819</td><td>1</td><td>1</td><td>⋯</td><td>4</td><td>0.3012151</td><td>0.2432923</td><td>2010</td><td>3</td><td>13</td><td>3</td><td>4</td><td>16</td><td>4</td></tr>\n",
       "</tbody>\n",
       "</table>\n"
      ],
      "text/latex": [
       "A data.frame: 6 × 29\n",
       "\\begin{tabular}{r|lllllllllllllllllllll}\n",
       "  & regionMapId & originHour & region & satId & scaledNumTags & numViews & numTaggers & resid & estNumSeals & lclNumSeals & ⋯ & upperH & wgtPredColRate & wgtPredIslRate & Year & mdlColEstimate & mdlColUpper & mdlColLower & mdlIslEstimate & mdlIslUpper & mdlIslLower\\\\\n",
       "  & <chr> & <chr> & <chr> & <chr> & <dbl> & <dbl> & <dbl> & <dbl> & <dbl> & <dbl> & ⋯ & <dbl> & <dbl> & <dbl> & <chr> & <dbl> & <dbl> & <dbl> & <dbl> & <dbl> & <dbl>\\\\\n",
       "\\hline\n",
       "\t1 & AMU101663 & 21 & AMU & WV01 & -0.3394073 & 8 & 1 & -0.58817634 & 1 & 1 & ⋯ & 4 & 0.2367743 & 0.1963025 & 2011 & 4 & 17 & 4 & 5 & 20 & 5\\\\\n",
       "\t2 & AMU101663 & 21 & AMU & WV01 & -0.3394073 & 8 & 1 & -0.58817634 & 1 & 1 & ⋯ & 4 & 0.2975275 & 0.2406196 & 2010 & 3 & 13 & 3 & 4 & 17 & 4\\\\\n",
       "\t3 & AMU102072 & 21 & AMU & WV01 & -0.2965476 & 6 & 2 & -0.01598454 & 1 & 1 & ⋯ & 4 & 0.3012151 & 0.2432923 & 2010 & 3 & 13 & 3 & 4 & 16 & 4\\\\\n",
       "\t4 & AMU102072 & 21 & AMU & WV01 & -0.2965476 & 6 & 2 & -0.01598454 & 1 & 1 & ⋯ & 4 & 0.2404619 & 0.1989752 & 2011 & 4 & 17 & 4 & 5 & 20 & 5\\\\\n",
       "\t5 & AMU102099 & 21 & AMU & WV01 & -0.2965476 & 6 & 1 & -0.77273819 & 1 & 1 & ⋯ & 4 & 0.2404619 & 0.1989752 & 2011 & 4 & 17 & 4 & 5 & 20 & 5\\\\\n",
       "\t6 & AMU102099 & 21 & AMU & WV01 & -0.2965476 & 6 & 1 & -0.77273819 & 1 & 1 & ⋯ & 4 & 0.3012151 & 0.2432923 & 2010 & 3 & 13 & 3 & 4 & 16 & 4\\\\\n",
       "\\end{tabular}\n"
      ],
      "text/markdown": [
       "\n",
       "A data.frame: 6 × 29\n",
       "\n",
       "| <!--/--> | regionMapId &lt;chr&gt; | originHour &lt;chr&gt; | region &lt;chr&gt; | satId &lt;chr&gt; | scaledNumTags &lt;dbl&gt; | numViews &lt;dbl&gt; | numTaggers &lt;dbl&gt; | resid &lt;dbl&gt; | estNumSeals &lt;dbl&gt; | lclNumSeals &lt;dbl&gt; | ⋯ ⋯ | upperH &lt;dbl&gt; | wgtPredColRate &lt;dbl&gt; | wgtPredIslRate &lt;dbl&gt; | Year &lt;chr&gt; | mdlColEstimate &lt;dbl&gt; | mdlColUpper &lt;dbl&gt; | mdlColLower &lt;dbl&gt; | mdlIslEstimate &lt;dbl&gt; | mdlIslUpper &lt;dbl&gt; | mdlIslLower &lt;dbl&gt; |\n",
       "|---|---|---|---|---|---|---|---|---|---|---|---|---|---|---|---|---|---|---|---|---|---|\n",
       "| 1 | AMU101663 | 21 | AMU | WV01 | -0.3394073 | 8 | 1 | -0.58817634 | 1 | 1 | ⋯ | 4 | 0.2367743 | 0.1963025 | 2011 | 4 | 17 | 4 | 5 | 20 | 5 |\n",
       "| 2 | AMU101663 | 21 | AMU | WV01 | -0.3394073 | 8 | 1 | -0.58817634 | 1 | 1 | ⋯ | 4 | 0.2975275 | 0.2406196 | 2010 | 3 | 13 | 3 | 4 | 17 | 4 |\n",
       "| 3 | AMU102072 | 21 | AMU | WV01 | -0.2965476 | 6 | 2 | -0.01598454 | 1 | 1 | ⋯ | 4 | 0.3012151 | 0.2432923 | 2010 | 3 | 13 | 3 | 4 | 16 | 4 |\n",
       "| 4 | AMU102072 | 21 | AMU | WV01 | -0.2965476 | 6 | 2 | -0.01598454 | 1 | 1 | ⋯ | 4 | 0.2404619 | 0.1989752 | 2011 | 4 | 17 | 4 | 5 | 20 | 5 |\n",
       "| 5 | AMU102099 | 21 | AMU | WV01 | -0.2965476 | 6 | 1 | -0.77273819 | 1 | 1 | ⋯ | 4 | 0.2404619 | 0.1989752 | 2011 | 4 | 17 | 4 | 5 | 20 | 5 |\n",
       "| 6 | AMU102099 | 21 | AMU | WV01 | -0.2965476 | 6 | 1 | -0.77273819 | 1 | 1 | ⋯ | 4 | 0.3012151 | 0.2432923 | 2010 | 3 | 13 | 3 | 4 | 16 | 4 |\n",
       "\n"
      ],
      "text/plain": [
       "  regionMapId originHour region satId scaledNumTags numViews numTaggers\n",
       "1 AMU101663   21         AMU    WV01  -0.3394073    8        1         \n",
       "2 AMU101663   21         AMU    WV01  -0.3394073    8        1         \n",
       "3 AMU102072   21         AMU    WV01  -0.2965476    6        2         \n",
       "4 AMU102072   21         AMU    WV01  -0.2965476    6        2         \n",
       "5 AMU102099   21         AMU    WV01  -0.2965476    6        1         \n",
       "6 AMU102099   21         AMU    WV01  -0.2965476    6        1         \n",
       "  resid       estNumSeals lclNumSeals ⋯ upperH wgtPredColRate wgtPredIslRate\n",
       "1 -0.58817634 1           1           ⋯ 4      0.2367743      0.1963025     \n",
       "2 -0.58817634 1           1           ⋯ 4      0.2975275      0.2406196     \n",
       "3 -0.01598454 1           1           ⋯ 4      0.3012151      0.2432923     \n",
       "4 -0.01598454 1           1           ⋯ 4      0.2404619      0.1989752     \n",
       "5 -0.77273819 1           1           ⋯ 4      0.2404619      0.1989752     \n",
       "6 -0.77273819 1           1           ⋯ 4      0.3012151      0.2432923     \n",
       "  Year mdlColEstimate mdlColUpper mdlColLower mdlIslEstimate mdlIslUpper\n",
       "1 2011 4              17          4           5              20         \n",
       "2 2010 3              13          3           4              17         \n",
       "3 2010 3              13          3           4              16         \n",
       "4 2011 4              17          4           5              20         \n",
       "5 2011 4              17          4           5              20         \n",
       "6 2010 3              13          3           4              16         \n",
       "  mdlIslLower\n",
       "1 5          \n",
       "2 4          \n",
       "3 4          \n",
       "4 5          \n",
       "5 5          \n",
       "6 4          "
      ]
     },
     "metadata": {},
     "output_type": "display_data"
    },
    {
     "data": {
      "text/html": [
       "<style>\n",
       ".list-inline {list-style: none; margin:0; padding: 0}\n",
       ".list-inline>li {display: inline-block}\n",
       ".list-inline>li:not(:last-child)::after {content: \"\\00b7\"; padding: 0 .5ex}\n",
       "</style>\n",
       "<ol class=list-inline><li>'regionMapId'</li><li>'originHour'</li><li>'region'</li><li>'satId'</li><li>'scaledNumTags'</li><li>'numViews'</li><li>'numTaggers'</li><li>'resid'</li><li>'estNumSeals'</li><li>'lclNumSeals'</li><li>'uclNumSeals'</li><li>'mapcoords.x1'</li><li>'mapcoords.x2'</li><li>'propL'</li><li>'propU'</li><li>'sinH'</li><li>'predictH'</li><li>'estimateH'</li><li>'lowerH'</li><li>'upperH'</li><li>'wgtPredColRate'</li><li>'wgtPredIslRate'</li><li>'Year'</li><li>'mdlColEstimate'</li><li>'mdlColUpper'</li><li>'mdlColLower'</li><li>'mdlIslEstimate'</li><li>'mdlIslUpper'</li><li>'mdlIslLower'</li></ol>\n"
      ],
      "text/latex": [
       "\\begin{enumerate*}\n",
       "\\item 'regionMapId'\n",
       "\\item 'originHour'\n",
       "\\item 'region'\n",
       "\\item 'satId'\n",
       "\\item 'scaledNumTags'\n",
       "\\item 'numViews'\n",
       "\\item 'numTaggers'\n",
       "\\item 'resid'\n",
       "\\item 'estNumSeals'\n",
       "\\item 'lclNumSeals'\n",
       "\\item 'uclNumSeals'\n",
       "\\item 'mapcoords.x1'\n",
       "\\item 'mapcoords.x2'\n",
       "\\item 'propL'\n",
       "\\item 'propU'\n",
       "\\item 'sinH'\n",
       "\\item 'predictH'\n",
       "\\item 'estimateH'\n",
       "\\item 'lowerH'\n",
       "\\item 'upperH'\n",
       "\\item 'wgtPredColRate'\n",
       "\\item 'wgtPredIslRate'\n",
       "\\item 'Year'\n",
       "\\item 'mdlColEstimate'\n",
       "\\item 'mdlColUpper'\n",
       "\\item 'mdlColLower'\n",
       "\\item 'mdlIslEstimate'\n",
       "\\item 'mdlIslUpper'\n",
       "\\item 'mdlIslLower'\n",
       "\\end{enumerate*}\n"
      ],
      "text/markdown": [
       "1. 'regionMapId'\n",
       "2. 'originHour'\n",
       "3. 'region'\n",
       "4. 'satId'\n",
       "5. 'scaledNumTags'\n",
       "6. 'numViews'\n",
       "7. 'numTaggers'\n",
       "8. 'resid'\n",
       "9. 'estNumSeals'\n",
       "10. 'lclNumSeals'\n",
       "11. 'uclNumSeals'\n",
       "12. 'mapcoords.x1'\n",
       "13. 'mapcoords.x2'\n",
       "14. 'propL'\n",
       "15. 'propU'\n",
       "16. 'sinH'\n",
       "17. 'predictH'\n",
       "18. 'estimateH'\n",
       "19. 'lowerH'\n",
       "20. 'upperH'\n",
       "21. 'wgtPredColRate'\n",
       "22. 'wgtPredIslRate'\n",
       "23. 'Year'\n",
       "24. 'mdlColEstimate'\n",
       "25. 'mdlColUpper'\n",
       "26. 'mdlColLower'\n",
       "27. 'mdlIslEstimate'\n",
       "28. 'mdlIslUpper'\n",
       "29. 'mdlIslLower'\n",
       "\n",
       "\n"
      ],
      "text/plain": [
       " [1] \"regionMapId\"    \"originHour\"     \"region\"         \"satId\"         \n",
       " [5] \"scaledNumTags\"  \"numViews\"       \"numTaggers\"     \"resid\"         \n",
       " [9] \"estNumSeals\"    \"lclNumSeals\"    \"uclNumSeals\"    \"mapcoords.x1\"  \n",
       "[13] \"mapcoords.x2\"   \"propL\"          \"propU\"          \"sinH\"          \n",
       "[17] \"predictH\"       \"estimateH\"      \"lowerH\"         \"upperH\"        \n",
       "[21] \"wgtPredColRate\" \"wgtPredIslRate\" \"Year\"           \"mdlColEstimate\"\n",
       "[25] \"mdlColUpper\"    \"mdlColLower\"    \"mdlIslEstimate\" \"mdlIslUpper\"   \n",
       "[29] \"mdlIslLower\"   "
      ]
     },
     "metadata": {},
     "output_type": "display_data"
    }
   ],
   "source": [
    "head(countdf); names(countdf)"
   ]
  },
  {
   "cell_type": "code",
   "execution_count": 38,
   "metadata": {},
   "outputs": [],
   "source": [
    "save(countdf, file=paste0(pathToLocalGit,\"data/FinalWESEcounts.RData\"))"
   ]
  },
  {
   "cell_type": "code",
   "execution_count": null,
   "metadata": {},
   "outputs": [],
   "source": []
  }
 ],
 "metadata": {
  "kernelspec": {
   "display_name": "R",
   "language": "R",
   "name": "ir"
  },
  "language_info": {
   "codemirror_mode": "r",
   "file_extension": ".r",
   "mimetype": "text/x-r-source",
   "name": "R",
   "pygments_lexer": "r",
   "version": "3.4.4"
  }
 },
 "nbformat": 4,
 "nbformat_minor": 2
}
