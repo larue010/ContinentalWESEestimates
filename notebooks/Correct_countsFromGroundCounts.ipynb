{
 "cells": [
  {
   "cell_type": "markdown",
   "metadata": {},
   "source": [
    "# Correcting the map counts to account for diving seals and higher on-the-ground counts\n",
    "This file includes the code that inflates the map counts using detection rate-estimating functions fitted with data from Erebus Bay, where ground counts could be conducted.  \n",
    "  \n",
    "In a nutshell, we use these models to estimate the detection rate, and then inflate the map counts according to this rate.\n"
   ]
  },
  {
   "cell_type": "code",
   "execution_count": 3,
   "metadata": {},
   "outputs": [
    {
     "data": {
      "text/html": [
       "<table>\n",
       "<caption>A matrix: 2 × 6 of type dbl</caption>\n",
       "<thead>\n",
       "\t<tr><th></th><th scope=col>used</th><th scope=col>(Mb)</th><th scope=col>gc trigger</th><th scope=col>(Mb)</th><th scope=col>max used</th><th scope=col>(Mb)</th></tr>\n",
       "</thead>\n",
       "<tbody>\n",
       "\t<tr><th scope=row>Ncells</th><td> 658573</td><td>35.2</td><td>1168576</td><td>62.5</td><td>1168576</td><td>62.5</td></tr>\n",
       "\t<tr><th scope=row>Vcells</th><td>1115063</td><td> 8.6</td><td>4713750</td><td>36.0</td><td>5352274</td><td>40.9</td></tr>\n",
       "</tbody>\n",
       "</table>\n"
      ],
      "text/latex": [
       "A matrix: 2 × 6 of type dbl\n",
       "\\begin{tabular}{r|llllll}\n",
       "  & used & (Mb) & gc trigger & (Mb) & max used & (Mb)\\\\\n",
       "\\hline\n",
       "\tNcells &  658573 & 35.2 & 1168576 & 62.5 & 1168576 & 62.5\\\\\n",
       "\tVcells & 1115063 &  8.6 & 4713750 & 36.0 & 5352274 & 40.9\\\\\n",
       "\\end{tabular}\n"
      ],
      "text/markdown": [
       "\n",
       "A matrix: 2 × 6 of type dbl\n",
       "\n",
       "| <!--/--> | used | (Mb) | gc trigger | (Mb) | max used | (Mb) |\n",
       "|---|---|---|---|---|---|---|\n",
       "| Ncells |  658573 | 35.2 | 1168576 | 62.5 | 1168576 | 62.5 |\n",
       "| Vcells | 1115063 |  8.6 | 4713750 | 36.0 | 5352274 | 40.9 |\n",
       "\n"
      ],
      "text/plain": [
       "       used    (Mb) gc trigger (Mb) max used (Mb)\n",
       "Ncells  658573 35.2 1168576    62.5 1168576  62.5\n",
       "Vcells 1115063  8.6 4713750    36.0 5352274  40.9"
      ]
     },
     "metadata": {},
     "output_type": "display_data"
    }
   ],
   "source": [
    "## Clear memory\n",
    "rm(list=ls())\n",
    "gc()"
   ]
  },
  {
   "cell_type": "markdown",
   "metadata": {},
   "source": [
    "### Loading libraries, functions and data"
   ]
  },
  {
   "cell_type": "code",
   "execution_count": 4,
   "metadata": {},
   "outputs": [
    {
     "data": {
      "text/html": [
       "<ol>\n",
       "\t<li>TRUE</li>\n",
       "\t<li>TRUE</li>\n",
       "\t<li>TRUE</li>\n",
       "</ol>\n"
      ],
      "text/latex": [
       "\\begin{enumerate}\n",
       "\\item TRUE\n",
       "\\item TRUE\n",
       "\\item TRUE\n",
       "\\end{enumerate}\n"
      ],
      "text/markdown": [
       "1. TRUE\n",
       "2. TRUE\n",
       "3. TRUE\n",
       "\n",
       "\n"
      ],
      "text/plain": [
       "[[1]]\n",
       "[1] TRUE\n",
       "\n",
       "[[2]]\n",
       "[1] TRUE\n",
       "\n",
       "[[3]]\n",
       "[1] TRUE\n"
      ]
     },
     "metadata": {},
     "output_type": "display_data"
    },
    {
     "data": {
      "text/html": [
       "<table>\n",
       "<caption>A data.frame: 6 × 24</caption>\n",
       "<thead>\n",
       "\t<tr><th></th><th scope=col>regionMapId</th><th scope=col>originHour</th><th scope=col>lclNumSeals</th><th scope=col>estNumSeals</th><th scope=col>uclNumSeals</th><th scope=col>mapcoords.x1</th><th scope=col>mapcoords.x2</th><th scope=col>acquisition_date</th><th scope=col>region</th><th scope=col>satId</th><th scope=col>⋯</th><th scope=col>originTZ</th><th scope=col>year</th><th scope=col>totalTags</th><th scope=col>scaledTotalTags</th><th scope=col>numHour</th><th scope=col>sinH</th><th scope=col>resid</th><th scope=col>estimateH</th><th scope=col>lowerH</th><th scope=col>upperH</th></tr>\n",
       "\t<tr><th></th><th scope=col>&lt;chr&gt;</th><th scope=col>&lt;chr&gt;</th><th scope=col>&lt;dbl&gt;</th><th scope=col>&lt;dbl&gt;</th><th scope=col>&lt;dbl&gt;</th><th scope=col>&lt;dbl&gt;</th><th scope=col>&lt;dbl&gt;</th><th scope=col>&lt;dttm&gt;</th><th scope=col>&lt;chr&gt;</th><th scope=col>&lt;chr&gt;</th><th scope=col>⋯</th><th scope=col>&lt;chr&gt;</th><th scope=col>&lt;chr&gt;</th><th scope=col>&lt;dbl&gt;</th><th scope=col>&lt;dbl&gt;</th><th scope=col>&lt;dbl&gt;</th><th scope=col>&lt;dbl&gt;</th><th scope=col>&lt;dbl&gt;</th><th scope=col>&lt;dbl&gt;</th><th scope=col>&lt;dbl&gt;</th><th scope=col>&lt;dbl&gt;</th></tr>\n",
       "</thead>\n",
       "<tbody>\n",
       "\t<tr><th scope=row>1</th><td>AMU101663</td><td>21</td><td>1</td><td>1</td><td> 4</td><td>-85.48336</td><td>-73.34752</td><td>2010-11-20 21:50:18</td><td>AMU</td><td>WV01</td><td>⋯</td><td>PST</td><td>2010</td><td>1</td><td>-0.33940735</td><td>0.1666667</td><td>0.8660254</td><td>-0.58817634</td><td>1</td><td>1</td><td> 4</td></tr>\n",
       "\t<tr><th scope=row>2</th><td>AMU102072</td><td>21</td><td>1</td><td>1</td><td> 4</td><td>-85.44474</td><td>-73.41747</td><td>2010-11-20 21:50:18</td><td>AMU</td><td>WV01</td><td>⋯</td><td>PST</td><td>2010</td><td>2</td><td>-0.29654759</td><td>0.1666667</td><td>0.8660254</td><td>-0.01598454</td><td>1</td><td>1</td><td> 4</td></tr>\n",
       "\t<tr><th scope=row>3</th><td>AMU102099</td><td>21</td><td>1</td><td>1</td><td> 4</td><td>-85.79235</td><td>-73.17324</td><td>2010-11-20 21:50:18</td><td>AMU</td><td>WV01</td><td>⋯</td><td>PST</td><td>2010</td><td>2</td><td>-0.29654759</td><td>0.1666667</td><td>0.8660254</td><td>-0.77273819</td><td>1</td><td>1</td><td> 4</td></tr>\n",
       "\t<tr><th scope=row>4</th><td>AMU103615</td><td>21</td><td>1</td><td>1</td><td> 4</td><td>-85.79235</td><td>-73.17696</td><td>2010-11-20 21:50:18</td><td>AMU</td><td>WV01</td><td>⋯</td><td>PST</td><td>2010</td><td>1</td><td>-0.33940735</td><td>0.1666667</td><td>0.8660254</td><td>-0.58817634</td><td>1</td><td>1</td><td> 4</td></tr>\n",
       "\t<tr><th scope=row>5</th><td>AMU103695</td><td>21</td><td>1</td><td>1</td><td> 4</td><td>-85.79235</td><td>-73.16951</td><td>2010-11-20 21:50:18</td><td>AMU</td><td>WV01</td><td>⋯</td><td>PST</td><td>2010</td><td>1</td><td>-0.33940735</td><td>0.1666667</td><td>0.8660254</td><td>-0.58781338</td><td>1</td><td>1</td><td> 4</td></tr>\n",
       "\t<tr><th scope=row>6</th><td>AMU103791</td><td>21</td><td>1</td><td>6</td><td>14</td><td>-85.81166</td><td>-73.17324</td><td>2010-11-20 21:50:18</td><td>AMU</td><td>WV01</td><td>⋯</td><td>PST</td><td>2010</td><td>8</td><td>-0.03938903</td><td>0.1666667</td><td>0.8660254</td><td> 3.12751275</td><td>6</td><td>1</td><td>14</td></tr>\n",
       "</tbody>\n",
       "</table>\n"
      ],
      "text/latex": [
       "A data.frame: 6 × 24\n",
       "\\begin{tabular}{r|lllllllllllllllllllll}\n",
       "  & regionMapId & originHour & lclNumSeals & estNumSeals & uclNumSeals & mapcoords.x1 & mapcoords.x2 & acquisition\\_date & region & satId & ⋯ & originTZ & year & totalTags & scaledTotalTags & numHour & sinH & resid & estimateH & lowerH & upperH\\\\\n",
       "  & <chr> & <chr> & <dbl> & <dbl> & <dbl> & <dbl> & <dbl> & <dttm> & <chr> & <chr> & ⋯ & <chr> & <chr> & <dbl> & <dbl> & <dbl> & <dbl> & <dbl> & <dbl> & <dbl> & <dbl>\\\\\n",
       "\\hline\n",
       "\t1 & AMU101663 & 21 & 1 & 1 &  4 & -85.48336 & -73.34752 & 2010-11-20 21:50:18 & AMU & WV01 & ⋯ & PST & 2010 & 1 & -0.33940735 & 0.1666667 & 0.8660254 & -0.58817634 & 1 & 1 &  4\\\\\n",
       "\t2 & AMU102072 & 21 & 1 & 1 &  4 & -85.44474 & -73.41747 & 2010-11-20 21:50:18 & AMU & WV01 & ⋯ & PST & 2010 & 2 & -0.29654759 & 0.1666667 & 0.8660254 & -0.01598454 & 1 & 1 &  4\\\\\n",
       "\t3 & AMU102099 & 21 & 1 & 1 &  4 & -85.79235 & -73.17324 & 2010-11-20 21:50:18 & AMU & WV01 & ⋯ & PST & 2010 & 2 & -0.29654759 & 0.1666667 & 0.8660254 & -0.77273819 & 1 & 1 &  4\\\\\n",
       "\t4 & AMU103615 & 21 & 1 & 1 &  4 & -85.79235 & -73.17696 & 2010-11-20 21:50:18 & AMU & WV01 & ⋯ & PST & 2010 & 1 & -0.33940735 & 0.1666667 & 0.8660254 & -0.58817634 & 1 & 1 &  4\\\\\n",
       "\t5 & AMU103695 & 21 & 1 & 1 &  4 & -85.79235 & -73.16951 & 2010-11-20 21:50:18 & AMU & WV01 & ⋯ & PST & 2010 & 1 & -0.33940735 & 0.1666667 & 0.8660254 & -0.58781338 & 1 & 1 &  4\\\\\n",
       "\t6 & AMU103791 & 21 & 1 & 6 & 14 & -85.81166 & -73.17324 & 2010-11-20 21:50:18 & AMU & WV01 & ⋯ & PST & 2010 & 8 & -0.03938903 & 0.1666667 & 0.8660254 &  3.12751275 & 6 & 1 & 14\\\\\n",
       "\\end{tabular}\n"
      ],
      "text/markdown": [
       "\n",
       "A data.frame: 6 × 24\n",
       "\n",
       "| <!--/--> | regionMapId &lt;chr&gt; | originHour &lt;chr&gt; | lclNumSeals &lt;dbl&gt; | estNumSeals &lt;dbl&gt; | uclNumSeals &lt;dbl&gt; | mapcoords.x1 &lt;dbl&gt; | mapcoords.x2 &lt;dbl&gt; | acquisition_date &lt;dttm&gt; | region &lt;chr&gt; | satId &lt;chr&gt; | ⋯ ⋯ | originTZ &lt;chr&gt; | year &lt;chr&gt; | totalTags &lt;dbl&gt; | scaledTotalTags &lt;dbl&gt; | numHour &lt;dbl&gt; | sinH &lt;dbl&gt; | resid &lt;dbl&gt; | estimateH &lt;dbl&gt; | lowerH &lt;dbl&gt; | upperH &lt;dbl&gt; |\n",
       "|---|---|---|---|---|---|---|---|---|---|---|---|---|---|---|---|---|---|---|---|---|---|\n",
       "| 1 | AMU101663 | 21 | 1 | 1 |  4 | -85.48336 | -73.34752 | 2010-11-20 21:50:18 | AMU | WV01 | ⋯ | PST | 2010 | 1 | -0.33940735 | 0.1666667 | 0.8660254 | -0.58817634 | 1 | 1 |  4 |\n",
       "| 2 | AMU102072 | 21 | 1 | 1 |  4 | -85.44474 | -73.41747 | 2010-11-20 21:50:18 | AMU | WV01 | ⋯ | PST | 2010 | 2 | -0.29654759 | 0.1666667 | 0.8660254 | -0.01598454 | 1 | 1 |  4 |\n",
       "| 3 | AMU102099 | 21 | 1 | 1 |  4 | -85.79235 | -73.17324 | 2010-11-20 21:50:18 | AMU | WV01 | ⋯ | PST | 2010 | 2 | -0.29654759 | 0.1666667 | 0.8660254 | -0.77273819 | 1 | 1 |  4 |\n",
       "| 4 | AMU103615 | 21 | 1 | 1 |  4 | -85.79235 | -73.17696 | 2010-11-20 21:50:18 | AMU | WV01 | ⋯ | PST | 2010 | 1 | -0.33940735 | 0.1666667 | 0.8660254 | -0.58817634 | 1 | 1 |  4 |\n",
       "| 5 | AMU103695 | 21 | 1 | 1 |  4 | -85.79235 | -73.16951 | 2010-11-20 21:50:18 | AMU | WV01 | ⋯ | PST | 2010 | 1 | -0.33940735 | 0.1666667 | 0.8660254 | -0.58781338 | 1 | 1 |  4 |\n",
       "| 6 | AMU103791 | 21 | 1 | 6 | 14 | -85.81166 | -73.17324 | 2010-11-20 21:50:18 | AMU | WV01 | ⋯ | PST | 2010 | 8 | -0.03938903 | 0.1666667 | 0.8660254 |  3.12751275 | 6 | 1 | 14 |\n",
       "\n"
      ],
      "text/plain": [
       "  regionMapId originHour lclNumSeals estNumSeals uclNumSeals mapcoords.x1\n",
       "1 AMU101663   21         1           1            4          -85.48336   \n",
       "2 AMU102072   21         1           1            4          -85.44474   \n",
       "3 AMU102099   21         1           1            4          -85.79235   \n",
       "4 AMU103615   21         1           1            4          -85.79235   \n",
       "5 AMU103695   21         1           1            4          -85.79235   \n",
       "6 AMU103791   21         1           6           14          -85.81166   \n",
       "  mapcoords.x2 acquisition_date    region satId ⋯ originTZ year totalTags\n",
       "1 -73.34752    2010-11-20 21:50:18 AMU    WV01  ⋯ PST      2010 1        \n",
       "2 -73.41747    2010-11-20 21:50:18 AMU    WV01  ⋯ PST      2010 2        \n",
       "3 -73.17324    2010-11-20 21:50:18 AMU    WV01  ⋯ PST      2010 2        \n",
       "4 -73.17696    2010-11-20 21:50:18 AMU    WV01  ⋯ PST      2010 1        \n",
       "5 -73.16951    2010-11-20 21:50:18 AMU    WV01  ⋯ PST      2010 1        \n",
       "6 -73.17324    2010-11-20 21:50:18 AMU    WV01  ⋯ PST      2010 8        \n",
       "  scaledTotalTags numHour   sinH      resid       estimateH lowerH upperH\n",
       "1 -0.33940735     0.1666667 0.8660254 -0.58817634 1         1       4    \n",
       "2 -0.29654759     0.1666667 0.8660254 -0.01598454 1         1       4    \n",
       "3 -0.29654759     0.1666667 0.8660254 -0.77273819 1         1       4    \n",
       "4 -0.33940735     0.1666667 0.8660254 -0.58817634 1         1       4    \n",
       "5 -0.33940735     0.1666667 0.8660254 -0.58781338 1         1       4    \n",
       "6 -0.03938903     0.1666667 0.8660254  3.12751275 6         1      14    "
      ]
     },
     "metadata": {},
     "output_type": "display_data"
    },
    {
     "name": "stdout",
     "output_type": "stream",
     "text": [
      "  region lower estimate  upper\n",
      "1    AMU  1013     2189   6223\n",
      "2    EA1  2375     5967  16126\n",
      "3    EA2  2174     5063  13934\n",
      "4    QMA  2833     7142  19337\n",
      "5    RSS  8330    22333  59682\n",
      "6    WAP  3892     8894  22417\n",
      "7  Total 20617    51588 137719\n"
     ]
    }
   ],
   "source": [
    "libs<-c(\"ggplot2\",\"plyr\",\"dplyr\")\n",
    "lapply(libs, require, character.only = TRUE)\n",
    "pathToLocalGit<-\"/home/ubuntu/Workspace/ContinentalWESEestimates/\"\n",
    "\n",
    "source(paste0(pathToLocalGit,\"scripts/countSealsFromTags_functions.R\"))\n",
    "\n",
    "## Load the data - the data were generated from notebook: \"Count Seals From Tags.ipynb\"\n",
    "load(file=paste0(pathToLocalGit,\"data/estimatesByMap_unadjusted.RData\"))\n",
    "head(df)\n",
    "\n",
    "## Print and check that this is the correct version of the data\n",
    "estByRegionQ<-as.data.frame(mapcounts[,c(\"region\",\"lowerH\",\"estimateH\",\"upperH\")] %>% group_by(region) %>% dplyr::summarize(lower=ceiling(sum(lowerH)),estimate=ceiling(sum(estimateH)),upper=ceiling(sum(upperH))))\n",
    "estByRegionQ<-rbind(estByRegionQ,data.frame(region=\"Total\",lower=round(sum(mapcounts$lowerH)),estimate=round(sum(mapcounts$estimateH)),upper=round(sum(mapcounts$upperH))))\n",
    "print(estByRegionQ)"
   ]
  },
  {
   "cell_type": "markdown",
   "metadata": {},
   "source": [
    "Now we use the handy function to request the detection rates under both models. Note that we can specify the \"weight\" of island counts. This is the proportion of map locations that resemble the islet haul-out locations in Erebus Bay (i.e., Turk's Head-Tryggve and Hutton Cliffs). According to Michelle and David, the vast majority of counts came from such locations. Here we are conservative and assume 95% of locations are islets."
   ]
  },
  {
   "cell_type": "code",
   "execution_count": 12,
   "metadata": {},
   "outputs": [
    {
     "data": {
      "text/html": [
       "<table>\n",
       "<caption>A data.frame: 6 × 4</caption>\n",
       "<thead>\n",
       "\t<tr><th></th><th scope=col>regionMapId</th><th scope=col>wgtPredColRate</th><th scope=col>wgtPredIslRate</th><th scope=col>Year</th></tr>\n",
       "\t<tr><th></th><th scope=col>&lt;chr&gt;</th><th scope=col>&lt;dbl&gt;</th><th scope=col>&lt;dbl&gt;</th><th scope=col>&lt;chr&gt;</th></tr>\n",
       "</thead>\n",
       "<tbody>\n",
       "\t<tr><th scope=row>1</th><td>AMU101663</td><td>0.2933391</td><td>0.2348456</td><td>2010</td></tr>\n",
       "\t<tr><th scope=row>2</th><td>AMU102072</td><td>0.2970266</td><td>0.2375183</td><td>2010</td></tr>\n",
       "\t<tr><th scope=row>3</th><td>AMU102099</td><td>0.2970266</td><td>0.2375183</td><td>2010</td></tr>\n",
       "\t<tr><th scope=row>4</th><td>AMU103615</td><td>0.2933391</td><td>0.2348456</td><td>2010</td></tr>\n",
       "\t<tr><th scope=row>5</th><td>AMU103695</td><td>0.2933391</td><td>0.2348456</td><td>2010</td></tr>\n",
       "\t<tr><th scope=row>6</th><td>AMU103791</td><td>0.3191522</td><td>0.2535545</td><td>2010</td></tr>\n",
       "</tbody>\n",
       "</table>\n"
      ],
      "text/latex": [
       "A data.frame: 6 × 4\n",
       "\\begin{tabular}{r|llll}\n",
       "  & regionMapId & wgtPredColRate & wgtPredIslRate & Year\\\\\n",
       "  & <chr> & <dbl> & <dbl> & <chr>\\\\\n",
       "\\hline\n",
       "\t1 & AMU101663 & 0.2933391 & 0.2348456 & 2010\\\\\n",
       "\t2 & AMU102072 & 0.2970266 & 0.2375183 & 2010\\\\\n",
       "\t3 & AMU102099 & 0.2970266 & 0.2375183 & 2010\\\\\n",
       "\t4 & AMU103615 & 0.2933391 & 0.2348456 & 2010\\\\\n",
       "\t5 & AMU103695 & 0.2933391 & 0.2348456 & 2010\\\\\n",
       "\t6 & AMU103791 & 0.3191522 & 0.2535545 & 2010\\\\\n",
       "\\end{tabular}\n"
      ],
      "text/markdown": [
       "\n",
       "A data.frame: 6 × 4\n",
       "\n",
       "| <!--/--> | regionMapId &lt;chr&gt; | wgtPredColRate &lt;dbl&gt; | wgtPredIslRate &lt;dbl&gt; | Year &lt;chr&gt; |\n",
       "|---|---|---|---|---|\n",
       "| 1 | AMU101663 | 0.2933391 | 0.2348456 | 2010 |\n",
       "| 2 | AMU102072 | 0.2970266 | 0.2375183 | 2010 |\n",
       "| 3 | AMU102099 | 0.2970266 | 0.2375183 | 2010 |\n",
       "| 4 | AMU103615 | 0.2933391 | 0.2348456 | 2010 |\n",
       "| 5 | AMU103695 | 0.2933391 | 0.2348456 | 2010 |\n",
       "| 6 | AMU103791 | 0.3191522 | 0.2535545 | 2010 |\n",
       "\n"
      ],
      "text/plain": [
       "  regionMapId wgtPredColRate wgtPredIslRate Year\n",
       "1 AMU101663   0.2933391      0.2348456      2010\n",
       "2 AMU102072   0.2970266      0.2375183      2010\n",
       "3 AMU102099   0.2970266      0.2375183      2010\n",
       "4 AMU103615   0.2933391      0.2348456      2010\n",
       "5 AMU103695   0.2933391      0.2348456      2010\n",
       "6 AMU103791   0.3191522      0.2535545      2010"
      ]
     },
     "metadata": {},
     "output_type": "display_data"
    }
   ],
   "source": [
    "names(mapcounts)<-gsub(\"scaledTotalTags\",\"scaledNumTags\",names(mapcounts))\n",
    "\n",
    "adjRates<-predictDetRates(pathToGit=pathToLocalGit,dat=mapcounts,keyFieldName=\"regionMapId\",islandWeight=0.95)\n",
    "head(adjRates)"
   ]
  },
  {
   "cell_type": "markdown",
   "metadata": {},
   "source": [
    "Finally, we add the detection rates to our data.frame of map counts, inflate, and summarize the results.  \n",
    "  \n",
    "Since detectionRate = count-in-map/count-on-the-ground, and we want count-on-the-ground, then:\n",
    "Count-on-the-ground = count-in-map/detectionRate"
   ]
  },
  {
   "cell_type": "code",
   "execution_count": null,
   "metadata": {},
   "outputs": [],
   "source": [
    "countdf<-merge(df,adjRates,by=\"regionMapId\")\n",
    "\n",
    "countdf$mdlColEstimate<-round(countdf$estimateH/countdf$wgtPredColRate)\n",
    "countdf$mdlColUpper<-round(countdf$upperH/countdf$wgtPredColRate)\n",
    "countdf$mdlColLower<-round(countdf$lowerH/countdf$wgtPredColRate)\n",
    "\n",
    "countdf$mdlIslEstimate<-round(countdf$estimateH/countdf$wgtPredIslRate)\n",
    "countdf$mdlIslUpper<-round(countdf$upperH/countdf$wgtPredIslRate)\n",
    "countdf$mdlIslLower<-round(countdf$lowerH/countdf$wgtPredIslRate)\n",
    "\n",
    "## Using the colony model:\n",
    "print(\"Colony model\")\n",
    "estByRegionCol<-as.data.frame(countdf[,c(\"region\",\"mdlColLower\",\"mdlColEstimate\",\"mdlColUpper\")] %>% group_by(region) %>% dplyr::summarize(Lower=round(sum(mdlColLower)),Estimate=round(sum(mdlColEstimate)),Upper=round(sum(mdlColUpper))))\n",
    "estByRegionCol<-rbind(estByRegionCol,data.frame(region=\"Total\",Lower=round(sum(countdf$mdlColLower)),Estimate=round(sum(countdf$mdlColEstimate)),Upper=round(sum(countdf$mdlColUpper))))\n",
    "print(estByRegionCol)"
   ]
  },
  {
   "cell_type": "code",
   "execution_count": null,
   "metadata": {},
   "outputs": [],
   "source": [
    "## Using the islet/mainland model:\n",
    "print(\"Islet/mainland model\")\n",
    "estByRegionIsl<-as.data.frame(countdf[,c(\"region\",\"mdlIslLower\",\"mdlIslEstimate\",\"mdlIslUpper\")] %>% group_by(region) %>% dplyr::summarize(Lower=round(sum(mdlIslLower)),Estimate=round(sum(mdlIslEstimate)),Upper=round(sum(mdlIslUpper))))\n",
    "estByRegionIsl<-rbind(estByRegionIsl,data.frame(region=\"Total\",Lower=round(sum(countdf$mdlIslLower)),Estimate=round(sum(countdf$mdlIslEstimate)),Upper=round(sum(countdf$mdlIslUpper))))\n",
    "print(estByRegionIsl)"
   ]
  },
  {
   "cell_type": "code",
   "execution_count": null,
   "metadata": {},
   "outputs": [],
   "source": []
  }
 ],
 "metadata": {
  "kernelspec": {
   "display_name": "R",
   "language": "R",
   "name": "ir"
  },
  "language_info": {
   "codemirror_mode": "r",
   "file_extension": ".r",
   "mimetype": "text/x-r-source",
   "name": "R",
   "pygments_lexer": "r",
   "version": "3.4.4"
  }
 },
 "nbformat": 4,
 "nbformat_minor": 2
}
