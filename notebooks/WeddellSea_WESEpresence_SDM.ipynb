{
 "cells": [
  {
   "cell_type": "markdown",
   "metadata": {},
   "source": [
    "# Mia, this is for you. Have fun!"
   ]
  },
  {
   "cell_type": "markdown",
   "metadata": {},
   "source": [
    "### Loading the required libraries and other dependencies"
   ]
  },
  {
   "cell_type": "code",
   "execution_count": 6,
   "metadata": {},
   "outputs": [
    {
     "data": {
      "text/html": [
       "<table>\n",
       "<caption>A matrix: 2 × 6 of type dbl</caption>\n",
       "<thead>\n",
       "\t<tr><th></th><th scope=col>used</th><th scope=col>(Mb)</th><th scope=col>gc trigger</th><th scope=col>(Mb)</th><th scope=col>max used</th><th scope=col>(Mb)</th></tr>\n",
       "</thead>\n",
       "<tbody>\n",
       "\t<tr><th scope=row>Ncells</th><td>2339618</td><td>125</td><td>3886542</td><td>207.6</td><td>3205452</td><td>171.2</td></tr>\n",
       "\t<tr><th scope=row>Vcells</th><td>2215451</td><td> 17</td><td>3851194</td><td> 29.4</td><td>3522866</td><td> 26.9</td></tr>\n",
       "</tbody>\n",
       "</table>\n"
      ],
      "text/latex": [
       "A matrix: 2 × 6 of type dbl\n",
       "\\begin{tabular}{r|llllll}\n",
       "  & used & (Mb) & gc trigger & (Mb) & max used & (Mb)\\\\\n",
       "\\hline\n",
       "\tNcells & 2339618 & 125 & 3886542 & 207.6 & 3205452 & 171.2\\\\\n",
       "\tVcells & 2215451 &  17 & 3851194 &  29.4 & 3522866 &  26.9\\\\\n",
       "\\end{tabular}\n"
      ],
      "text/markdown": [
       "\n",
       "A matrix: 2 × 6 of type dbl\n",
       "\n",
       "| <!--/--> | used | (Mb) | gc trigger | (Mb) | max used | (Mb) |\n",
       "|---|---|---|---|---|---|---|\n",
       "| Ncells | 2339618 | 125 | 3886542 | 207.6 | 3205452 | 171.2 |\n",
       "| Vcells | 2215451 |  17 | 3851194 |  29.4 | 3522866 |  26.9 |\n",
       "\n"
      ],
      "text/plain": [
       "       used    (Mb) gc trigger (Mb)  max used (Mb) \n",
       "Ncells 2339618 125  3886542    207.6 3205452  171.2\n",
       "Vcells 2215451  17  3851194     29.4 3522866   26.9"
      ]
     },
     "metadata": {},
     "output_type": "display_data"
    }
   ],
   "source": [
    "## Clear memory\n",
    "rm(list=ls())\n",
    "gc()"
   ]
  },
  {
   "cell_type": "code",
   "execution_count": 7,
   "metadata": {},
   "outputs": [
    {
     "data": {
      "text/html": [
       "<ol>\n",
       "\t<li>TRUE</li>\n",
       "\t<li>TRUE</li>\n",
       "\t<li>TRUE</li>\n",
       "\t<li>TRUE</li>\n",
       "\t<li>TRUE</li>\n",
       "\t<li>TRUE</li>\n",
       "\t<li>TRUE</li>\n",
       "\t<li>TRUE</li>\n",
       "\t<li>TRUE</li>\n",
       "\t<li>TRUE</li>\n",
       "\t<li>TRUE</li>\n",
       "\t<li>TRUE</li>\n",
       "\t<li>TRUE</li>\n",
       "\t<li>TRUE</li>\n",
       "\t<li>TRUE</li>\n",
       "\t<li>TRUE</li>\n",
       "\t<li>TRUE</li>\n",
       "\t<li>TRUE</li>\n",
       "</ol>\n"
      ],
      "text/latex": [
       "\\begin{enumerate}\n",
       "\\item TRUE\n",
       "\\item TRUE\n",
       "\\item TRUE\n",
       "\\item TRUE\n",
       "\\item TRUE\n",
       "\\item TRUE\n",
       "\\item TRUE\n",
       "\\item TRUE\n",
       "\\item TRUE\n",
       "\\item TRUE\n",
       "\\item TRUE\n",
       "\\item TRUE\n",
       "\\item TRUE\n",
       "\\item TRUE\n",
       "\\item TRUE\n",
       "\\item TRUE\n",
       "\\item TRUE\n",
       "\\item TRUE\n",
       "\\end{enumerate}\n"
      ],
      "text/markdown": [
       "1. TRUE\n",
       "2. TRUE\n",
       "3. TRUE\n",
       "4. TRUE\n",
       "5. TRUE\n",
       "6. TRUE\n",
       "7. TRUE\n",
       "8. TRUE\n",
       "9. TRUE\n",
       "10. TRUE\n",
       "11. TRUE\n",
       "12. TRUE\n",
       "13. TRUE\n",
       "14. TRUE\n",
       "15. TRUE\n",
       "16. TRUE\n",
       "17. TRUE\n",
       "18. TRUE\n",
       "\n",
       "\n"
      ],
      "text/plain": [
       "[[1]]\n",
       "[1] TRUE\n",
       "\n",
       "[[2]]\n",
       "[1] TRUE\n",
       "\n",
       "[[3]]\n",
       "[1] TRUE\n",
       "\n",
       "[[4]]\n",
       "[1] TRUE\n",
       "\n",
       "[[5]]\n",
       "[1] TRUE\n",
       "\n",
       "[[6]]\n",
       "[1] TRUE\n",
       "\n",
       "[[7]]\n",
       "[1] TRUE\n",
       "\n",
       "[[8]]\n",
       "[1] TRUE\n",
       "\n",
       "[[9]]\n",
       "[1] TRUE\n",
       "\n",
       "[[10]]\n",
       "[1] TRUE\n",
       "\n",
       "[[11]]\n",
       "[1] TRUE\n",
       "\n",
       "[[12]]\n",
       "[1] TRUE\n",
       "\n",
       "[[13]]\n",
       "[1] TRUE\n",
       "\n",
       "[[14]]\n",
       "[1] TRUE\n",
       "\n",
       "[[15]]\n",
       "[1] TRUE\n",
       "\n",
       "[[16]]\n",
       "[1] TRUE\n",
       "\n",
       "[[17]]\n",
       "[1] TRUE\n",
       "\n",
       "[[18]]\n",
       "[1] TRUE\n"
      ]
     },
     "metadata": {},
     "output_type": "display_data"
    }
   ],
   "source": [
    "libs<-c(\"ggplot2\",\"plyr\",\"dplyr\",\"caret\",\"randomForest\",\"ranger\",\"gbm\",\"nlme\",\"sp\",\"raster\",\"caTools\",\"maptools\",\"spocc\",\"ENMeval\",\"rJava\",\"dismo\",\"parallel\",\"ROCR\")\n",
    "lapply(libs, require, character.only = TRUE)\n",
    "pathToLocalGit<-\"/home/ubuntu/Workspace/ContinentalWESEestimates/\"\n"
   ]
  },
  {
   "cell_type": "markdown",
   "metadata": {},
   "source": [
    "### Loading the data\n",
    "You can get an updated version of the data, as we add more covariates, from the notebook FitRegressionModels_ofSealAbundancePresence. Just add a cell below the point where the final, attributed dataset is created, and then run the function:\n",
    "weddellSeaData<-getWeddellSeaData(wesedf)\n",
    "In the example above, wesedf is the final attributed data.frame for the continental analyses. The result is the subset for the Weddell Sea. Just save it to the \"data\" folder:\n",
    "save(weddellSeaData,file=paste0(pathToLocalGit,\"data/weddellSeaData.RData\"))"
   ]
  },
  {
   "cell_type": "code",
   "execution_count": 8,
   "metadata": {},
   "outputs": [
    {
     "data": {
      "text/html": [
       "<table>\n",
       "<caption>A data.frame: 6 × 29</caption>\n",
       "<thead>\n",
       "\t<tr><th></th><th scope=col>gridCellId</th><th scope=col>meanslope</th><th scope=col>meanbathy</th><th scope=col>slope</th><th scope=col>bathy</th><th scope=col>shoredist</th><th scope=col>glacierdist</th><th scope=col>nearLineId</th><th scope=col>near_x</th><th scope=col>near_y</th><th scope=col>⋯</th><th scope=col>abundance</th><th scope=col>Canyon_ID</th><th scope=col>InCanyon</th><th scope=col>canyonLength</th><th scope=col>canyonWidth</th><th scope=col>canyonMeanDepth</th><th scope=col>gtID</th><th scope=col>InTrough</th><th scope=col>troughArea</th><th scope=col>presence</th></tr>\n",
       "\t<tr><th></th><th scope=col>&lt;int&gt;</th><th scope=col>&lt;dbl&gt;</th><th scope=col>&lt;dbl&gt;</th><th scope=col>&lt;dbl&gt;</th><th scope=col>&lt;dbl&gt;</th><th scope=col>&lt;dbl&gt;</th><th scope=col>&lt;dbl&gt;</th><th scope=col>&lt;dbl&gt;</th><th scope=col>&lt;dbl&gt;</th><th scope=col>&lt;dbl&gt;</th><th scope=col>⋯</th><th scope=col>&lt;dbl&gt;</th><th scope=col>&lt;fct&gt;</th><th scope=col>&lt;dbl&gt;</th><th scope=col>&lt;dbl&gt;</th><th scope=col>&lt;dbl&gt;</th><th scope=col>&lt;dbl&gt;</th><th scope=col>&lt;chr&gt;</th><th scope=col>&lt;dbl&gt;</th><th scope=col>&lt;dbl&gt;</th><th scope=col>&lt;dbl&gt;</th></tr>\n",
       "</thead>\n",
       "<tbody>\n",
       "\t<tr><th scope=row>6131</th><td>118536</td><td>0.4407150</td><td>-4461.68</td><td>0.3385198</td><td>-4463.211</td><td>198933.5</td><td>395540.6</td><td>6</td><td>-325261.6</td><td>2110920</td><td>⋯</td><td>0</td><td>C211</td><td>1</td><td>264.7251</td><td>114.5059</td><td>3093.366</td><td>NA</td><td>0</td><td>NA</td><td>0</td></tr>\n",
       "\t<tr><th scope=row>6132</th><td>118537</td><td>0.5418069</td><td>-4435.48</td><td>1.1274008</td><td>-4436.759</td><td>196806.1</td><td>391992.0</td><td>6</td><td>-325261.6</td><td>2110920</td><td>⋯</td><td>0</td><td>C211</td><td>1</td><td>264.7251</td><td>114.5059</td><td>3093.366</td><td>NA</td><td>0</td><td>NA</td><td>0</td></tr>\n",
       "\t<tr><th scope=row>6187</th><td>118662</td><td>1.1339492</td><td>-4546.22</td><td>0.6596860</td><td>-4536.694</td><td>199105.0</td><td>399302.7</td><td>6</td><td>-325261.6</td><td>2110920</td><td>⋯</td><td>0</td><td>NA  </td><td>0</td><td>      NA</td><td>      NA</td><td>      NA</td><td>NA</td><td>0</td><td>NA</td><td>0</td></tr>\n",
       "\t<tr><th scope=row>6188</th><td>118663</td><td>0.6569237</td><td>-4478.46</td><td>0.5278608</td><td>-4478.276</td><td>196725.5</td><td>395661.5</td><td>6</td><td>-325261.6</td><td>2110920</td><td>⋯</td><td>0</td><td>NA  </td><td>0</td><td>      NA</td><td>      NA</td><td>      NA</td><td>NA</td><td>0</td><td>NA</td><td>0</td></tr>\n",
       "\t<tr><th scope=row>6189</th><td>118664</td><td>0.4301182</td><td>-4443.02</td><td>0.3920901</td><td>-4441.843</td><td>194445.4</td><td>392050.2</td><td>6</td><td>-325261.6</td><td>2110920</td><td>⋯</td><td>0</td><td>NA  </td><td>0</td><td>      NA</td><td>      NA</td><td>      NA</td><td>NA</td><td>0</td><td>NA</td><td>0</td></tr>\n",
       "\t<tr><th scope=row>6190</th><td>118665</td><td>0.3869242</td><td>-4414.69</td><td>0.3162619</td><td>-4418.400</td><td>192268.3</td><td>388469.8</td><td>6</td><td>-325261.6</td><td>2110920</td><td>⋯</td><td>0</td><td>NA  </td><td>0</td><td>      NA</td><td>      NA</td><td>      NA</td><td>NA</td><td>0</td><td>NA</td><td>0</td></tr>\n",
       "</tbody>\n",
       "</table>\n"
      ],
      "text/latex": [
       "A data.frame: 6 × 29\n",
       "\\begin{tabular}{r|lllllllllllllllllllll}\n",
       "  & gridCellId & meanslope & meanbathy & slope & bathy & shoredist & glacierdist & nearLineId & near\\_x & near\\_y & ⋯ & abundance & Canyon\\_ID & InCanyon & canyonLength & canyonWidth & canyonMeanDepth & gtID & InTrough & troughArea & presence\\\\\n",
       "  & <int> & <dbl> & <dbl> & <dbl> & <dbl> & <dbl> & <dbl> & <dbl> & <dbl> & <dbl> & ⋯ & <dbl> & <fct> & <dbl> & <dbl> & <dbl> & <dbl> & <chr> & <dbl> & <dbl> & <dbl>\\\\\n",
       "\\hline\n",
       "\t6131 & 118536 & 0.4407150 & -4461.68 & 0.3385198 & -4463.211 & 198933.5 & 395540.6 & 6 & -325261.6 & 2110920 & ⋯ & 0 & C211 & 1 & 264.7251 & 114.5059 & 3093.366 & NA & 0 & NA & 0\\\\\n",
       "\t6132 & 118537 & 0.5418069 & -4435.48 & 1.1274008 & -4436.759 & 196806.1 & 391992.0 & 6 & -325261.6 & 2110920 & ⋯ & 0 & C211 & 1 & 264.7251 & 114.5059 & 3093.366 & NA & 0 & NA & 0\\\\\n",
       "\t6187 & 118662 & 1.1339492 & -4546.22 & 0.6596860 & -4536.694 & 199105.0 & 399302.7 & 6 & -325261.6 & 2110920 & ⋯ & 0 & NA   & 0 &       NA &       NA &       NA & NA & 0 & NA & 0\\\\\n",
       "\t6188 & 118663 & 0.6569237 & -4478.46 & 0.5278608 & -4478.276 & 196725.5 & 395661.5 & 6 & -325261.6 & 2110920 & ⋯ & 0 & NA   & 0 &       NA &       NA &       NA & NA & 0 & NA & 0\\\\\n",
       "\t6189 & 118664 & 0.4301182 & -4443.02 & 0.3920901 & -4441.843 & 194445.4 & 392050.2 & 6 & -325261.6 & 2110920 & ⋯ & 0 & NA   & 0 &       NA &       NA &       NA & NA & 0 & NA & 0\\\\\n",
       "\t6190 & 118665 & 0.3869242 & -4414.69 & 0.3162619 & -4418.400 & 192268.3 & 388469.8 & 6 & -325261.6 & 2110920 & ⋯ & 0 & NA   & 0 &       NA &       NA &       NA & NA & 0 & NA & 0\\\\\n",
       "\\end{tabular}\n"
      ],
      "text/markdown": [
       "\n",
       "A data.frame: 6 × 29\n",
       "\n",
       "| <!--/--> | gridCellId &lt;int&gt; | meanslope &lt;dbl&gt; | meanbathy &lt;dbl&gt; | slope &lt;dbl&gt; | bathy &lt;dbl&gt; | shoredist &lt;dbl&gt; | glacierdist &lt;dbl&gt; | nearLineId &lt;dbl&gt; | near_x &lt;dbl&gt; | near_y &lt;dbl&gt; | ⋯ ⋯ | abundance &lt;dbl&gt; | Canyon_ID &lt;fct&gt; | InCanyon &lt;dbl&gt; | canyonLength &lt;dbl&gt; | canyonWidth &lt;dbl&gt; | canyonMeanDepth &lt;dbl&gt; | gtID &lt;chr&gt; | InTrough &lt;dbl&gt; | troughArea &lt;dbl&gt; | presence &lt;dbl&gt; |\n",
       "|---|---|---|---|---|---|---|---|---|---|---|---|---|---|---|---|---|---|---|---|---|---|\n",
       "| 6131 | 118536 | 0.4407150 | -4461.68 | 0.3385198 | -4463.211 | 198933.5 | 395540.6 | 6 | -325261.6 | 2110920 | ⋯ | 0 | C211 | 1 | 264.7251 | 114.5059 | 3093.366 | NA | 0 | NA | 0 |\n",
       "| 6132 | 118537 | 0.5418069 | -4435.48 | 1.1274008 | -4436.759 | 196806.1 | 391992.0 | 6 | -325261.6 | 2110920 | ⋯ | 0 | C211 | 1 | 264.7251 | 114.5059 | 3093.366 | NA | 0 | NA | 0 |\n",
       "| 6187 | 118662 | 1.1339492 | -4546.22 | 0.6596860 | -4536.694 | 199105.0 | 399302.7 | 6 | -325261.6 | 2110920 | ⋯ | 0 | NA   | 0 |       NA |       NA |       NA | NA | 0 | NA | 0 |\n",
       "| 6188 | 118663 | 0.6569237 | -4478.46 | 0.5278608 | -4478.276 | 196725.5 | 395661.5 | 6 | -325261.6 | 2110920 | ⋯ | 0 | NA   | 0 |       NA |       NA |       NA | NA | 0 | NA | 0 |\n",
       "| 6189 | 118664 | 0.4301182 | -4443.02 | 0.3920901 | -4441.843 | 194445.4 | 392050.2 | 6 | -325261.6 | 2110920 | ⋯ | 0 | NA   | 0 |       NA |       NA |       NA | NA | 0 | NA | 0 |\n",
       "| 6190 | 118665 | 0.3869242 | -4414.69 | 0.3162619 | -4418.400 | 192268.3 | 388469.8 | 6 | -325261.6 | 2110920 | ⋯ | 0 | NA   | 0 |       NA |       NA |       NA | NA | 0 | NA | 0 |\n",
       "\n"
      ],
      "text/plain": [
       "     gridCellId meanslope meanbathy slope     bathy     shoredist glacierdist\n",
       "6131 118536     0.4407150 -4461.68  0.3385198 -4463.211 198933.5  395540.6   \n",
       "6132 118537     0.5418069 -4435.48  1.1274008 -4436.759 196806.1  391992.0   \n",
       "6187 118662     1.1339492 -4546.22  0.6596860 -4536.694 199105.0  399302.7   \n",
       "6188 118663     0.6569237 -4478.46  0.5278608 -4478.276 196725.5  395661.5   \n",
       "6189 118664     0.4301182 -4443.02  0.3920901 -4441.843 194445.4  392050.2   \n",
       "6190 118665     0.3869242 -4414.69  0.3162619 -4418.400 192268.3  388469.8   \n",
       "     nearLineId near_x    near_y  ⋯ abundance Canyon_ID InCanyon canyonLength\n",
       "6131 6          -325261.6 2110920 ⋯ 0         C211      1        264.7251    \n",
       "6132 6          -325261.6 2110920 ⋯ 0         C211      1        264.7251    \n",
       "6187 6          -325261.6 2110920 ⋯ 0         NA        0              NA    \n",
       "6188 6          -325261.6 2110920 ⋯ 0         NA        0              NA    \n",
       "6189 6          -325261.6 2110920 ⋯ 0         NA        0              NA    \n",
       "6190 6          -325261.6 2110920 ⋯ 0         NA        0              NA    \n",
       "     canyonWidth canyonMeanDepth gtID InTrough troughArea presence\n",
       "6131 114.5059    3093.366        NA   0        NA         0       \n",
       "6132 114.5059    3093.366        NA   0        NA         0       \n",
       "6187       NA          NA        NA   0        NA         0       \n",
       "6188       NA          NA        NA   0        NA         0       \n",
       "6189       NA          NA        NA   0        NA         0       \n",
       "6190       NA          NA        NA   0        NA         0       "
      ]
     },
     "metadata": {},
     "output_type": "display_data"
    }
   ],
   "source": [
    "load(paste0(pathToLocalGit,\"data/weddellSeaData.RData\"))\n",
    "head(weddellSeaData)"
   ]
  },
  {
   "cell_type": "code",
   "execution_count": null,
   "metadata": {},
   "outputs": [],
   "source": []
  }
 ],
 "metadata": {
  "kernelspec": {
   "display_name": "R",
   "language": "R",
   "name": "ir"
  },
  "language_info": {
   "codemirror_mode": "r",
   "file_extension": ".r",
   "mimetype": "text/x-r-source",
   "name": "R",
   "pygments_lexer": "r",
   "version": "3.4.4"
  }
 },
 "nbformat": 4,
 "nbformat_minor": 2
}
