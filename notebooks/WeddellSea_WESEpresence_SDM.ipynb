{
 "cells": [
  {
   "cell_type": "markdown",
   "metadata": {},
   "source": [
    "# Weddell Sea WES SDM"
   ]
  },
  {
   "cell_type": "markdown",
   "metadata": {},
   "source": [
    "### Loading the required libraries and other dependencies"
   ]
  },
  {
   "cell_type": "code",
   "execution_count": 30,
   "metadata": {},
   "outputs": [
    {
     "data": {
      "text/html": [
       "<table>\n",
       "<caption>A matrix: 2 × 6 of type dbl</caption>\n",
       "<thead>\n",
       "\t<tr><th></th><th scope=col>used</th><th scope=col>(Mb)</th><th scope=col>gc trigger</th><th scope=col>(Mb)</th><th scope=col>max used</th><th scope=col>(Mb)</th></tr>\n",
       "</thead>\n",
       "<tbody>\n",
       "\t<tr><th scope=row>Ncells</th><td>2569587</td><td>137.3</td><td> 3886542</td><td>207.6</td><td> 3886542</td><td>207.6</td></tr>\n",
       "\t<tr><th scope=row>Vcells</th><td>2728853</td><td> 20.9</td><td>26106160</td><td>199.2</td><td>55134522</td><td>420.7</td></tr>\n",
       "</tbody>\n",
       "</table>\n"
      ],
      "text/latex": [
       "A matrix: 2 × 6 of type dbl\n",
       "\\begin{tabular}{r|llllll}\n",
       "  & used & (Mb) & gc trigger & (Mb) & max used & (Mb)\\\\\n",
       "\\hline\n",
       "\tNcells & 2569587 & 137.3 &  3886542 & 207.6 &  3886542 & 207.6\\\\\n",
       "\tVcells & 2728853 &  20.9 & 26106160 & 199.2 & 55134522 & 420.7\\\\\n",
       "\\end{tabular}\n"
      ],
      "text/markdown": [
       "\n",
       "A matrix: 2 × 6 of type dbl\n",
       "\n",
       "| <!--/--> | used | (Mb) | gc trigger | (Mb) | max used | (Mb) |\n",
       "|---|---|---|---|---|---|---|\n",
       "| Ncells | 2569587 | 137.3 |  3886542 | 207.6 |  3886542 | 207.6 |\n",
       "| Vcells | 2728853 |  20.9 | 26106160 | 199.2 | 55134522 | 420.7 |\n",
       "\n"
      ],
      "text/plain": [
       "       used    (Mb)  gc trigger (Mb)  max used (Mb) \n",
       "Ncells 2569587 137.3  3886542   207.6  3886542 207.6\n",
       "Vcells 2728853  20.9 26106160   199.2 55134522 420.7"
      ]
     },
     "metadata": {},
     "output_type": "display_data"
    }
   ],
   "source": [
    "## Clear memory\n",
    "rm(list=ls())\n",
    "gc()"
   ]
  },
  {
   "cell_type": "code",
   "execution_count": 31,
   "metadata": {
    "scrolled": true
   },
   "outputs": [
    {
     "data": {
      "text/html": [
       "<ol>\n",
       "\t<li>TRUE</li>\n",
       "\t<li>TRUE</li>\n",
       "\t<li>TRUE</li>\n",
       "\t<li>TRUE</li>\n",
       "\t<li>TRUE</li>\n",
       "\t<li>TRUE</li>\n",
       "\t<li>TRUE</li>\n",
       "\t<li>TRUE</li>\n",
       "\t<li>TRUE</li>\n",
       "\t<li>TRUE</li>\n",
       "\t<li>TRUE</li>\n",
       "\t<li>TRUE</li>\n",
       "\t<li>TRUE</li>\n",
       "\t<li>TRUE</li>\n",
       "\t<li>TRUE</li>\n",
       "\t<li>TRUE</li>\n",
       "\t<li>TRUE</li>\n",
       "\t<li>TRUE</li>\n",
       "\t<li>TRUE</li>\n",
       "\t<li>TRUE</li>\n",
       "\t<li>TRUE</li>\n",
       "\t<li>TRUE</li>\n",
       "</ol>\n"
      ],
      "text/latex": [
       "\\begin{enumerate}\n",
       "\\item TRUE\n",
       "\\item TRUE\n",
       "\\item TRUE\n",
       "\\item TRUE\n",
       "\\item TRUE\n",
       "\\item TRUE\n",
       "\\item TRUE\n",
       "\\item TRUE\n",
       "\\item TRUE\n",
       "\\item TRUE\n",
       "\\item TRUE\n",
       "\\item TRUE\n",
       "\\item TRUE\n",
       "\\item TRUE\n",
       "\\item TRUE\n",
       "\\item TRUE\n",
       "\\item TRUE\n",
       "\\item TRUE\n",
       "\\item TRUE\n",
       "\\item TRUE\n",
       "\\item TRUE\n",
       "\\item TRUE\n",
       "\\end{enumerate}\n"
      ],
      "text/markdown": [
       "1. TRUE\n",
       "2. TRUE\n",
       "3. TRUE\n",
       "4. TRUE\n",
       "5. TRUE\n",
       "6. TRUE\n",
       "7. TRUE\n",
       "8. TRUE\n",
       "9. TRUE\n",
       "10. TRUE\n",
       "11. TRUE\n",
       "12. TRUE\n",
       "13. TRUE\n",
       "14. TRUE\n",
       "15. TRUE\n",
       "16. TRUE\n",
       "17. TRUE\n",
       "18. TRUE\n",
       "19. TRUE\n",
       "20. TRUE\n",
       "21. TRUE\n",
       "22. TRUE\n",
       "\n",
       "\n"
      ],
      "text/plain": [
       "[[1]]\n",
       "[1] TRUE\n",
       "\n",
       "[[2]]\n",
       "[1] TRUE\n",
       "\n",
       "[[3]]\n",
       "[1] TRUE\n",
       "\n",
       "[[4]]\n",
       "[1] TRUE\n",
       "\n",
       "[[5]]\n",
       "[1] TRUE\n",
       "\n",
       "[[6]]\n",
       "[1] TRUE\n",
       "\n",
       "[[7]]\n",
       "[1] TRUE\n",
       "\n",
       "[[8]]\n",
       "[1] TRUE\n",
       "\n",
       "[[9]]\n",
       "[1] TRUE\n",
       "\n",
       "[[10]]\n",
       "[1] TRUE\n",
       "\n",
       "[[11]]\n",
       "[1] TRUE\n",
       "\n",
       "[[12]]\n",
       "[1] TRUE\n",
       "\n",
       "[[13]]\n",
       "[1] TRUE\n",
       "\n",
       "[[14]]\n",
       "[1] TRUE\n",
       "\n",
       "[[15]]\n",
       "[1] TRUE\n",
       "\n",
       "[[16]]\n",
       "[1] TRUE\n",
       "\n",
       "[[17]]\n",
       "[1] TRUE\n",
       "\n",
       "[[18]]\n",
       "[1] TRUE\n",
       "\n",
       "[[19]]\n",
       "[1] TRUE\n",
       "\n",
       "[[20]]\n",
       "[1] TRUE\n",
       "\n",
       "[[21]]\n",
       "[1] TRUE\n",
       "\n",
       "[[22]]\n",
       "[1] TRUE\n"
      ]
     },
     "metadata": {},
     "output_type": "display_data"
    }
   ],
   "source": [
    "libs<-c(\"viridis\",\"ggplot2\",\"plyr\",\"dplyr\",\"fmsb\",\"caret\",\"randomForest\",\"ranger\",\"gbm\",\"nlme\",\"sp\",\"raster\",\"sf\",\"caTools\",\"maptools\",\"spocc\",\"ENMeval\",\"rJava\",\"dismo\",\"parallel\",\"ROCR\",\"rgdal\")\n",
    "lapply(libs, require, character.only = TRUE)\n",
    "pathToLocalGit<-\"/home/ubuntu/Workspace/ContinentalWESEestimates/\"\n"
   ]
  },
  {
   "cell_type": "code",
   "execution_count": 58,
   "metadata": {},
   "outputs": [
    {
     "data": {
      "text/plain": [
       "CRS arguments:\n",
       " +proj=longlat +ellps=WGS84 +datum=WGS84 +no_defs +towgs84=0,0,0 "
      ]
     },
     "metadata": {},
     "output_type": "display_data"
    },
    {
     "data": {
      "image/png": "[encoded data removed]",
      "text/plain": [
       "plot without title"
      ]
     },
     "metadata": {
      "image/png": {
       "height": 420,
       "width": 420
      },
      "text/plain": {
       "height": 420,
       "width": 420
      }
     },
     "output_type": "display_data"
    }
   ],
   "source": [
    "#Create basemap for Antarctica - will need later for some plotting and error checking\n",
    "data(wrld_simpl)\n",
    "ant <-  wrld_simpl[wrld_simpl$NAME == \"Antarctica\", ]\n",
    "crs(ant)\n",
    "prj <- \"+proj=stere +lat_0=-90 +lat_ts=-71 +lon_0=0 +k=1 +x_0=0 +y_0=0 +datum=WGS84 +units=m +no_defs +ellps=WGS84 +towgs84=0,0,0\"\n",
    "ant <- sp::spTransform(ant, CRSobj = prj)\n",
    "plot(ant)\n"
   ]
  },
  {
   "cell_type": "markdown",
   "metadata": {},
   "source": [
    "### We will now do the following steps:\n",
    "1. Recreate raster layers of the predictor variables we will use to build models. \n",
    "We need them to 1) calculate variance inflation factors\n",
    "2) Predict over"
   ]
  },
  {
   "cell_type": "code",
   "execution_count": null,
   "metadata": {},
   "outputs": [],
   "source": [
    "rasterdir <- paste0(pathToLocalGit,\"data/WESPresenceEnviroLayers/\")\n",
    "\n",
    "#I need a raster to act as the mask or grid. I butchered this, but it works. First, I use the coordinates I used for the\n",
    "#CES paper to create an empty raster, but then I need to project to polar stereographic, then I use slope to \n",
    "#get outline of Antarctic Continent involved - to act as land mask. Then finally you have your final mask.\n",
    "# There is a shorter easier way, I was just lazy\n",
    "\n",
    "## Make an exmpty raster based on cES coords\n",
    "lims <- c(-85, 0, -90, -50)\n",
    "grd_mask <- raster(extent(lims), resolution = c(0.1, 0.1))\n",
    "projection(grd_mask) <- \"+proj=longlat +datum=WGS84\"\n",
    "values(grd_mask) <- 1\n",
    "\n",
    "#Reproject to Leo's polar stereographic projection.\n",
    "prj <- \"+proj=stere +lat_0=-90 +lat_ts=-71 +lon_0=0 +k=1 +x_0=0 +y_0=0 +datum=WGS84 +units=m +no_defs +ellps=WGS84 +towgs84=0,0,0\"\n",
    "grd_mask_stere <- projectRaster(from = grd_mask,crs = prj)\n",
    "plot(grd_mask_stere)\n",
    "\n",
    "#Get Leo's slope layer with 5km resolution and Antarctic continent already mapped out.\n",
    "slope <- raster(\"/home/ubuntu/fastIce/FastIceCovars/data/layers/slope_deg_avg5km.tif\")\n",
    "plot(slope)\n",
    "\n",
    "#But now we turn all the values from slope into 1's. But we want to keep the NA's there because they act as landmask.\n",
    "msk <- crop(slope,extent(grd_mask_stere))\n",
    "msk[!(is.na(msk))] <- 1\n",
    "plot(msk)\n",
    "names(msk) <- \"mask\"\n",
    "\n",
    "#Delete all the other crap I'm not going to use\n",
    "rm(grd_mask, grd_mask_stere,lims,slope)\n",
    "\n",
    "# Get only response and predictors that we'll work with and creater new df (with shorter name)\n",
    "alldat <- wes #presence/absence and predictors\n",
    "coords <- weddellSeaData[,c(18:19)] #coordinates\n",
    "names(coords) <- c(\"lon\",\"lat\")\n",
    "\n",
    "stk <- raster::stack()\n",
    "\n",
    "for (i in 1:ncol(alldat)){\n",
    "  foo <- cbind(coords,alldat[,i])\n",
    "  r <- rasterFromXYZ(foo, res=c(5000,5000), crs=prj)\n",
    "  r <- crop(r,extent(msk))\n",
    "  names(r) <- colnames(alldat)[i]\n",
    "  plot(r,main = names(r))\n",
    "  stk <- stack(stk,r)\n",
    "  writeRaster(r, paste0(rasterdir, names(r),\".tif\"), overwrite = TRUE)\n",
    "  print(i)\n",
    "}\n",
    "\n",
    "rm(i,r,foo,alldat)\n",
    "nlayers(stk)\n",
    "names(stk)\n",
    "\n",
    "\n",
    "# Center and scale rasters ----\n",
    "foo <- scale(stk, center = TRUE, scale = TRUE)\n",
    "par(mfrow=c(1,2))\n",
    "plot(stk[[2]])\n",
    "plot(foo[[2]])\n",
    "par(mfrow=c(1,1))\n",
    "\n",
    "foo[[1]] #Check that first layer is presence\n",
    "nlayers(foo)\n",
    "foo <- dropLayer(foo,1) #Drop presence layer\n",
    "nlayers(foo)\n",
    "\n",
    "for (i in 1:nlayers(foo)){\n",
    "  writeRaster(foo[[i]], paste0(rasterdir,\"/Enviro_CenterScaled/\",names(foo[[i]]),\".tif\"), overwrite = TRUE)\n",
    "}\n",
    "\n",
    "rm(foo,i)\n",
    "\n"
   ]
  },
  {
   "cell_type": "markdown",
   "metadata": {},
   "source": [
    "### Variance Inflation Factor Calculations\n",
    "#### Here you will take the raster stack of all the environmental variables you just created, center and scale them, and calculate VIF values and drop values with a VIF > 10"
   ]
  },
  {
   "cell_type": "code",
   "execution_count": 37,
   "metadata": {},
   "outputs": [
    {
     "data": {
      "text/html": [
       "19"
      ],
      "text/latex": [
       "19"
      ],
      "text/markdown": [
       "19"
      ],
      "text/plain": [
       "[1] 19"
      ]
     },
     "metadata": {},
     "output_type": "display_data"
    },
    {
     "data": {
      "text/html": [
       "<style>\n",
       ".list-inline {list-style: none; margin:0; padding: 0}\n",
       ".list-inline>li {display: inline-block}\n",
       ".list-inline>li:not(:last-child)::after {content: \"\\00b7\"; padding: 0 .5ex}\n",
       "</style>\n",
       "<ol class=list-inline><li>'ADPEabund'</li><li>'ADPEdist'</li><li>'cont300dist'</li><li>'cont800dist'</li><li>'DecemberIcePresence'</li><li>'distNearestIceEdge'</li><li>'distToShore'</li><li>'EMPEabund'</li><li>'EMPEdist'</li><li>'fastIceRatio'</li><li>'fastIceWidth'</li><li>'glacierdist'</li><li>'InTrough'</li><li>'meanbathy'</li><li>'meanslope'</li><li>'Persistence2Years'</li><li>'Persistence3Years'</li><li>'PredictabilityDec5Years'</li><li>'PredictabilityOct5Years'</li></ol>\n"
      ],
      "text/latex": [
       "\\begin{enumerate*}\n",
       "\\item 'ADPEabund'\n",
       "\\item 'ADPEdist'\n",
       "\\item 'cont300dist'\n",
       "\\item 'cont800dist'\n",
       "\\item 'DecemberIcePresence'\n",
       "\\item 'distNearestIceEdge'\n",
       "\\item 'distToShore'\n",
       "\\item 'EMPEabund'\n",
       "\\item 'EMPEdist'\n",
       "\\item 'fastIceRatio'\n",
       "\\item 'fastIceWidth'\n",
       "\\item 'glacierdist'\n",
       "\\item 'InTrough'\n",
       "\\item 'meanbathy'\n",
       "\\item 'meanslope'\n",
       "\\item 'Persistence2Years'\n",
       "\\item 'Persistence3Years'\n",
       "\\item 'PredictabilityDec5Years'\n",
       "\\item 'PredictabilityOct5Years'\n",
       "\\end{enumerate*}\n"
      ],
      "text/markdown": [
       "1. 'ADPEabund'\n",
       "2. 'ADPEdist'\n",
       "3. 'cont300dist'\n",
       "4. 'cont800dist'\n",
       "5. 'DecemberIcePresence'\n",
       "6. 'distNearestIceEdge'\n",
       "7. 'distToShore'\n",
       "8. 'EMPEabund'\n",
       "9. 'EMPEdist'\n",
       "10. 'fastIceRatio'\n",
       "11. 'fastIceWidth'\n",
       "12. 'glacierdist'\n",
       "13. 'InTrough'\n",
       "14. 'meanbathy'\n",
       "15. 'meanslope'\n",
       "16. 'Persistence2Years'\n",
       "17. 'Persistence3Years'\n",
       "18. 'PredictabilityDec5Years'\n",
       "19. 'PredictabilityOct5Years'\n",
       "\n",
       "\n"
      ],
      "text/plain": [
       " [1] \"ADPEabund\"               \"ADPEdist\"               \n",
       " [3] \"cont300dist\"             \"cont800dist\"            \n",
       " [5] \"DecemberIcePresence\"     \"distNearestIceEdge\"     \n",
       " [7] \"distToShore\"             \"EMPEabund\"              \n",
       " [9] \"EMPEdist\"                \"fastIceRatio\"           \n",
       "[11] \"fastIceWidth\"            \"glacierdist\"            \n",
       "[13] \"InTrough\"                \"meanbathy\"              \n",
       "[15] \"meanslope\"               \"Persistence2Years\"      \n",
       "[17] \"Persistence3Years\"       \"PredictabilityDec5Years\"\n",
       "[19] \"PredictabilityOct5Years\""
      ]
     },
     "metadata": {},
     "output_type": "display_data"
    },
    {
     "data": {
      "text/html": [
       "<style>\n",
       ".list-inline {list-style: none; margin:0; padding: 0}\n",
       ".list-inline>li {display: inline-block}\n",
       ".list-inline>li:not(:last-child)::after {content: \"\\00b7\"; padding: 0 .5ex}\n",
       "</style>\n",
       "<ol class=list-inline><li>'ADPEabund'</li><li>'ADPEdist'</li><li>'cont300dist'</li><li>'cont800dist'</li><li>'DecemberIcePresence'</li><li>'distNearestIceEdge'</li><li>'distToShore'</li><li>'EMPEabund'</li><li>'EMPEdist'</li><li>'fastIceRatio'</li><li>'fastIceWidth'</li><li>'glacierdist'</li><li>'InTrough'</li><li>'meanbathy'</li><li>'meanslope'</li><li>'Persistence2Years'</li><li>'Persistence3Years'</li><li>'PredictabilityDec5Years'</li><li>'PredictabilityOct5Years'</li></ol>\n"
      ],
      "text/latex": [
       "\\begin{enumerate*}\n",
       "\\item 'ADPEabund'\n",
       "\\item 'ADPEdist'\n",
       "\\item 'cont300dist'\n",
       "\\item 'cont800dist'\n",
       "\\item 'DecemberIcePresence'\n",
       "\\item 'distNearestIceEdge'\n",
       "\\item 'distToShore'\n",
       "\\item 'EMPEabund'\n",
       "\\item 'EMPEdist'\n",
       "\\item 'fastIceRatio'\n",
       "\\item 'fastIceWidth'\n",
       "\\item 'glacierdist'\n",
       "\\item 'InTrough'\n",
       "\\item 'meanbathy'\n",
       "\\item 'meanslope'\n",
       "\\item 'Persistence2Years'\n",
       "\\item 'Persistence3Years'\n",
       "\\item 'PredictabilityDec5Years'\n",
       "\\item 'PredictabilityOct5Years'\n",
       "\\end{enumerate*}\n"
      ],
      "text/markdown": [
       "1. 'ADPEabund'\n",
       "2. 'ADPEdist'\n",
       "3. 'cont300dist'\n",
       "4. 'cont800dist'\n",
       "5. 'DecemberIcePresence'\n",
       "6. 'distNearestIceEdge'\n",
       "7. 'distToShore'\n",
       "8. 'EMPEabund'\n",
       "9. 'EMPEdist'\n",
       "10. 'fastIceRatio'\n",
       "11. 'fastIceWidth'\n",
       "12. 'glacierdist'\n",
       "13. 'InTrough'\n",
       "14. 'meanbathy'\n",
       "15. 'meanslope'\n",
       "16. 'Persistence2Years'\n",
       "17. 'Persistence3Years'\n",
       "18. 'PredictabilityDec5Years'\n",
       "19. 'PredictabilityOct5Years'\n",
       "\n",
       "\n"
      ],
      "text/plain": [
       " [1] \"ADPEabund\"               \"ADPEdist\"               \n",
       " [3] \"cont300dist\"             \"cont800dist\"            \n",
       " [5] \"DecemberIcePresence\"     \"distNearestIceEdge\"     \n",
       " [7] \"distToShore\"             \"EMPEabund\"              \n",
       " [9] \"EMPEdist\"                \"fastIceRatio\"           \n",
       "[11] \"fastIceWidth\"            \"glacierdist\"            \n",
       "[13] \"InTrough\"                \"meanbathy\"              \n",
       "[15] \"meanslope\"               \"Persistence2Years\"      \n",
       "[17] \"Persistence3Years\"       \"PredictabilityDec5Years\"\n",
       "[19] \"PredictabilityOct5Years\""
      ]
     },
     "metadata": {},
     "output_type": "display_data"
    },
    {
     "data": {
      "text/html": [
       "<table>\n",
       "<caption>A data.frame: 6 × 19</caption>\n",
       "<thead>\n",
       "\t<tr><th></th><th scope=col>ADPEabund</th><th scope=col>ADPEdist</th><th scope=col>cont300dist</th><th scope=col>cont800dist</th><th scope=col>DecemberIcePresence</th><th scope=col>distNearestIceEdge</th><th scope=col>distToShore</th><th scope=col>EMPEabund</th><th scope=col>EMPEdist</th><th scope=col>fastIceRatio</th><th scope=col>fastIceWidth</th><th scope=col>glacierdist</th><th scope=col>InTrough</th><th scope=col>meanbathy</th><th scope=col>meanslope</th><th scope=col>Persistence2Years</th><th scope=col>Persistence3Years</th><th scope=col>PredictabilityDec5Years</th><th scope=col>PredictabilityOct5Years</th></tr>\n",
       "\t<tr><th></th><th scope=col>&lt;dbl&gt;</th><th scope=col>&lt;dbl&gt;</th><th scope=col>&lt;dbl&gt;</th><th scope=col>&lt;dbl&gt;</th><th scope=col>&lt;dbl&gt;</th><th scope=col>&lt;dbl&gt;</th><th scope=col>&lt;dbl&gt;</th><th scope=col>&lt;dbl&gt;</th><th scope=col>&lt;dbl&gt;</th><th scope=col>&lt;dbl&gt;</th><th scope=col>&lt;dbl&gt;</th><th scope=col>&lt;dbl&gt;</th><th scope=col>&lt;dbl&gt;</th><th scope=col>&lt;dbl&gt;</th><th scope=col>&lt;dbl&gt;</th><th scope=col>&lt;dbl&gt;</th><th scope=col>&lt;dbl&gt;</th><th scope=col>&lt;dbl&gt;</th><th scope=col>&lt;dbl&gt;</th></tr>\n",
       "</thead>\n",
       "<tbody>\n",
       "\t<tr><th scope=row>417</th><td>-0.1809557</td><td>1.254519</td><td>0.3104145</td><td>0.6312245</td><td>-1.9786887</td><td>-1.0555710</td><td>0.9092260</td><td>0.4246147</td><td>-0.26355541</td><td>-1.9846840</td><td>-0.6643016</td><td>1.176480</td><td>-0.450289</td><td>0.1204849</td><td>-0.4242119</td><td>-1.150327</td><td>-0.6741129</td><td> 1.2296128</td><td>-0.6641171</td></tr>\n",
       "\t<tr><th scope=row>833</th><td>-0.1809557</td><td>1.246465</td><td>0.3514363</td><td>0.5964308</td><td>-1.9786887</td><td>-0.9879506</td><td>2.1400230</td><td>0.2894751</td><td>-0.07303555</td><td>-1.9019628</td><td>-0.1142235</td><td>1.253886</td><td>-0.450289</td><td>0.3347907</td><td>-0.3792666</td><td>-1.150327</td><td>-0.6741129</td><td>-0.8366746</td><td>-0.6641171</td></tr>\n",
       "\t<tr><th scope=row>834</th><td>-0.1809557</td><td>1.253150</td><td>0.3514363</td><td>0.5964308</td><td> 0.5051112</td><td>-0.8117162</td><td>1.6109256</td><td>0.3442978</td><td>-0.15353452</td><td>-1.4679757</td><td>-0.1518634</td><td>1.209188</td><td>-0.450289</td><td>0.2362771</td><td>-0.4883482</td><td>-1.150327</td><td>-0.6741129</td><td> 1.2296128</td><td>-0.6641171</td></tr>\n",
       "\t<tr><th scope=row>835</th><td>-0.1809557</td><td>1.259846</td><td>0.3514363</td><td>0.5964308</td><td> 0.5051112</td><td>-0.7329434</td><td>0.7942367</td><td>0.4018919</td><td>-0.23334658</td><td>-1.0902296</td><td>-0.3971221</td><td>1.164544</td><td>-0.450289</td><td>0.1057705</td><td>-0.4103886</td><td>-1.150327</td><td>-0.6741129</td><td> 1.2296128</td><td>-0.6641171</td></tr>\n",
       "\t<tr><th scope=row>1251</th><td>-0.1809557</td><td>1.251837</td><td>0.3934034</td><td>0.5618368</td><td> 0.5051112</td><td>-0.9472820</td><td>1.4470812</td><td>0.2689726</td><td>-0.04174354</td><td>-1.7339594</td><td>-0.3476630</td><td>1.243230</td><td>-0.450289</td><td>0.3630540</td><td>-0.4064777</td><td>-1.150327</td><td>-0.6741129</td><td>-0.8366746</td><td>-0.6641171</td></tr>\n",
       "\t<tr><th scope=row>1252</th><td>-0.1809557</td><td>1.258508</td><td>0.3934034</td><td>0.5618368</td><td> 0.5051112</td><td>-0.6406618</td><td>1.0141212</td><td>0.3214010</td><td>-0.12046585</td><td>-0.9966877</td><td>-0.2211776</td><td>1.198328</td><td>-0.450289</td><td>0.2485439</td><td>-0.3872844</td><td>-1.150327</td><td>-0.6741129</td><td> 1.2296128</td><td>-0.6641171</td></tr>\n",
       "</tbody>\n",
       "</table>\n"
      ],
      "text/latex": [
       "A data.frame: 6 × 19\n",
       "\\begin{tabular}{r|lllllllllllllllllll}\n",
       "  & ADPEabund & ADPEdist & cont300dist & cont800dist & DecemberIcePresence & distNearestIceEdge & distToShore & EMPEabund & EMPEdist & fastIceRatio & fastIceWidth & glacierdist & InTrough & meanbathy & meanslope & Persistence2Years & Persistence3Years & PredictabilityDec5Years & PredictabilityOct5Years\\\\\n",
       "  & <dbl> & <dbl> & <dbl> & <dbl> & <dbl> & <dbl> & <dbl> & <dbl> & <dbl> & <dbl> & <dbl> & <dbl> & <dbl> & <dbl> & <dbl> & <dbl> & <dbl> & <dbl> & <dbl>\\\\\n",
       "\\hline\n",
       "\t417 & -0.1809557 & 1.254519 & 0.3104145 & 0.6312245 & -1.9786887 & -1.0555710 & 0.9092260 & 0.4246147 & -0.26355541 & -1.9846840 & -0.6643016 & 1.176480 & -0.450289 & 0.1204849 & -0.4242119 & -1.150327 & -0.6741129 &  1.2296128 & -0.6641171\\\\\n",
       "\t833 & -0.1809557 & 1.246465 & 0.3514363 & 0.5964308 & -1.9786887 & -0.9879506 & 2.1400230 & 0.2894751 & -0.07303555 & -1.9019628 & -0.1142235 & 1.253886 & -0.450289 & 0.3347907 & -0.3792666 & -1.150327 & -0.6741129 & -0.8366746 & -0.6641171\\\\\n",
       "\t834 & -0.1809557 & 1.253150 & 0.3514363 & 0.5964308 &  0.5051112 & -0.8117162 & 1.6109256 & 0.3442978 & -0.15353452 & -1.4679757 & -0.1518634 & 1.209188 & -0.450289 & 0.2362771 & -0.4883482 & -1.150327 & -0.6741129 &  1.2296128 & -0.6641171\\\\\n",
       "\t835 & -0.1809557 & 1.259846 & 0.3514363 & 0.5964308 &  0.5051112 & -0.7329434 & 0.7942367 & 0.4018919 & -0.23334658 & -1.0902296 & -0.3971221 & 1.164544 & -0.450289 & 0.1057705 & -0.4103886 & -1.150327 & -0.6741129 &  1.2296128 & -0.6641171\\\\\n",
       "\t1251 & -0.1809557 & 1.251837 & 0.3934034 & 0.5618368 &  0.5051112 & -0.9472820 & 1.4470812 & 0.2689726 & -0.04174354 & -1.7339594 & -0.3476630 & 1.243230 & -0.450289 & 0.3630540 & -0.4064777 & -1.150327 & -0.6741129 & -0.8366746 & -0.6641171\\\\\n",
       "\t1252 & -0.1809557 & 1.258508 & 0.3934034 & 0.5618368 &  0.5051112 & -0.6406618 & 1.0141212 & 0.3214010 & -0.12046585 & -0.9966877 & -0.2211776 & 1.198328 & -0.450289 & 0.2485439 & -0.3872844 & -1.150327 & -0.6741129 &  1.2296128 & -0.6641171\\\\\n",
       "\\end{tabular}\n"
      ],
      "text/markdown": [
       "\n",
       "A data.frame: 6 × 19\n",
       "\n",
       "| <!--/--> | ADPEabund &lt;dbl&gt; | ADPEdist &lt;dbl&gt; | cont300dist &lt;dbl&gt; | cont800dist &lt;dbl&gt; | DecemberIcePresence &lt;dbl&gt; | distNearestIceEdge &lt;dbl&gt; | distToShore &lt;dbl&gt; | EMPEabund &lt;dbl&gt; | EMPEdist &lt;dbl&gt; | fastIceRatio &lt;dbl&gt; | fastIceWidth &lt;dbl&gt; | glacierdist &lt;dbl&gt; | InTrough &lt;dbl&gt; | meanbathy &lt;dbl&gt; | meanslope &lt;dbl&gt; | Persistence2Years &lt;dbl&gt; | Persistence3Years &lt;dbl&gt; | PredictabilityDec5Years &lt;dbl&gt; | PredictabilityOct5Years &lt;dbl&gt; |\n",
       "|---|---|---|---|---|---|---|---|---|---|---|---|---|---|---|---|---|---|---|---|\n",
       "| 417 | -0.1809557 | 1.254519 | 0.3104145 | 0.6312245 | -1.9786887 | -1.0555710 | 0.9092260 | 0.4246147 | -0.26355541 | -1.9846840 | -0.6643016 | 1.176480 | -0.450289 | 0.1204849 | -0.4242119 | -1.150327 | -0.6741129 |  1.2296128 | -0.6641171 |\n",
       "| 833 | -0.1809557 | 1.246465 | 0.3514363 | 0.5964308 | -1.9786887 | -0.9879506 | 2.1400230 | 0.2894751 | -0.07303555 | -1.9019628 | -0.1142235 | 1.253886 | -0.450289 | 0.3347907 | -0.3792666 | -1.150327 | -0.6741129 | -0.8366746 | -0.6641171 |\n",
       "| 834 | -0.1809557 | 1.253150 | 0.3514363 | 0.5964308 |  0.5051112 | -0.8117162 | 1.6109256 | 0.3442978 | -0.15353452 | -1.4679757 | -0.1518634 | 1.209188 | -0.450289 | 0.2362771 | -0.4883482 | -1.150327 | -0.6741129 |  1.2296128 | -0.6641171 |\n",
       "| 835 | -0.1809557 | 1.259846 | 0.3514363 | 0.5964308 |  0.5051112 | -0.7329434 | 0.7942367 | 0.4018919 | -0.23334658 | -1.0902296 | -0.3971221 | 1.164544 | -0.450289 | 0.1057705 | -0.4103886 | -1.150327 | -0.6741129 |  1.2296128 | -0.6641171 |\n",
       "| 1251 | -0.1809557 | 1.251837 | 0.3934034 | 0.5618368 |  0.5051112 | -0.9472820 | 1.4470812 | 0.2689726 | -0.04174354 | -1.7339594 | -0.3476630 | 1.243230 | -0.450289 | 0.3630540 | -0.4064777 | -1.150327 | -0.6741129 | -0.8366746 | -0.6641171 |\n",
       "| 1252 | -0.1809557 | 1.258508 | 0.3934034 | 0.5618368 |  0.5051112 | -0.6406618 | 1.0141212 | 0.3214010 | -0.12046585 | -0.9966877 | -0.2211776 | 1.198328 | -0.450289 | 0.2485439 | -0.3872844 | -1.150327 | -0.6741129 |  1.2296128 | -0.6641171 |\n",
       "\n"
      ],
      "text/plain": [
       "     ADPEabund  ADPEdist cont300dist cont800dist DecemberIcePresence\n",
       "417  -0.1809557 1.254519 0.3104145   0.6312245   -1.9786887         \n",
       "833  -0.1809557 1.246465 0.3514363   0.5964308   -1.9786887         \n",
       "834  -0.1809557 1.253150 0.3514363   0.5964308    0.5051112         \n",
       "835  -0.1809557 1.259846 0.3514363   0.5964308    0.5051112         \n",
       "1251 -0.1809557 1.251837 0.3934034   0.5618368    0.5051112         \n",
       "1252 -0.1809557 1.258508 0.3934034   0.5618368    0.5051112         \n",
       "     distNearestIceEdge distToShore EMPEabund EMPEdist    fastIceRatio\n",
       "417  -1.0555710         0.9092260   0.4246147 -0.26355541 -1.9846840  \n",
       "833  -0.9879506         2.1400230   0.2894751 -0.07303555 -1.9019628  \n",
       "834  -0.8117162         1.6109256   0.3442978 -0.15353452 -1.4679757  \n",
       "835  -0.7329434         0.7942367   0.4018919 -0.23334658 -1.0902296  \n",
       "1251 -0.9472820         1.4470812   0.2689726 -0.04174354 -1.7339594  \n",
       "1252 -0.6406618         1.0141212   0.3214010 -0.12046585 -0.9966877  \n",
       "     fastIceWidth glacierdist InTrough  meanbathy meanslope  Persistence2Years\n",
       "417  -0.6643016   1.176480    -0.450289 0.1204849 -0.4242119 -1.150327        \n",
       "833  -0.1142235   1.253886    -0.450289 0.3347907 -0.3792666 -1.150327        \n",
       "834  -0.1518634   1.209188    -0.450289 0.2362771 -0.4883482 -1.150327        \n",
       "835  -0.3971221   1.164544    -0.450289 0.1057705 -0.4103886 -1.150327        \n",
       "1251 -0.3476630   1.243230    -0.450289 0.3630540 -0.4064777 -1.150327        \n",
       "1252 -0.2211776   1.198328    -0.450289 0.2485439 -0.3872844 -1.150327        \n",
       "     Persistence3Years PredictabilityDec5Years PredictabilityOct5Years\n",
       "417  -0.6741129         1.2296128              -0.6641171             \n",
       "833  -0.6741129        -0.8366746              -0.6641171             \n",
       "834  -0.6741129         1.2296128              -0.6641171             \n",
       "835  -0.6741129         1.2296128              -0.6641171             \n",
       "1251 -0.6741129        -0.8366746              -0.6641171             \n",
       "1252 -0.6741129         1.2296128              -0.6641171             "
      ]
     },
     "metadata": {},
     "output_type": "display_data"
    },
    {
     "data": {
      "text/plain": [
       "   ADPEabund         ADPEdist         cont300dist       cont800dist      \n",
       " Min.   :-0.181   Min.   :-1.32858   Min.   :-1.0637   Min.   :-1.68392  \n",
       " 1st Qu.:-0.181   1st Qu.:-1.04108   1st Qu.:-0.6752   1st Qu.:-0.73901  \n",
       " Median :-0.181   Median : 0.09802   Median :-0.2728   Median :-0.02143  \n",
       " Mean   : 0.000   Mean   : 0.00000   Mean   : 0.0000   Mean   : 0.00000  \n",
       " 3rd Qu.:-0.181   3rd Qu.: 1.04346   3rd Qu.: 0.3654   3rd Qu.: 0.70377  \n",
       " Max.   :10.537   Max.   : 1.47604   Max.   : 4.8208   Max.   : 5.24859  \n",
       " DecemberIcePresence distNearestIceEdge  distToShore        EMPEabund      \n",
       " Min.   :-1.9787     Min.   :-1.1077    Min.   :-1.3182   Min.   :-0.6996  \n",
       " 1st Qu.: 0.5051     1st Qu.:-0.7665    1st Qu.:-0.8664   1st Qu.:-0.5604  \n",
       " Median : 0.5051     Median :-0.3084    Median :-0.2295   Median :-0.2755  \n",
       " Mean   : 0.0000     Mean   : 0.0000    Mean   : 0.0000   Mean   : 0.0000  \n",
       " 3rd Qu.: 0.5051     3rd Qu.: 0.4613    3rd Qu.: 0.7469   3rd Qu.: 0.1677  \n",
       " Max.   : 0.5051     Max.   : 3.5807    Max.   : 2.3111   Max.   : 9.9746  \n",
       "    EMPEdist        fastIceRatio      fastIceWidth      glacierdist     \n",
       " Min.   :-1.5232   Min.   :-2.1795   Min.   :-1.5261   Min.   :-1.1190  \n",
       " 1st Qu.:-0.8346   1st Qu.:-0.7784   1st Qu.:-0.7713   1st Qu.:-0.7993  \n",
       " Median :-0.1544   Median : 0.1540   Median :-0.2224   Median :-0.4362  \n",
       " Mean   : 0.0000   Mean   : 0.0000   Mean   : 0.0000   Mean   : 0.0000  \n",
       " 3rd Qu.: 0.6893   3rd Qu.: 0.8700   3rd Qu.: 0.5374   3rd Qu.: 0.8631  \n",
       " Max.   : 2.6570   Max.   : 1.4136   Max.   : 3.0465   Max.   : 2.5436  \n",
       "    InTrough         meanbathy         meanslope       Persistence2Years \n",
       " Min.   :-0.4503   Min.   :-6.9740   Min.   :-0.7272   Min.   :-1.15033  \n",
       " 1st Qu.:-0.4503   1st Qu.:-0.1611   1st Qu.:-0.5439   1st Qu.:-1.15033  \n",
       " Median :-0.4503   Median : 0.2454   Median :-0.3441   Median : 0.04136  \n",
       " Mean   : 0.0000   Mean   : 0.0000   Mean   : 0.0000   Mean   : 0.00000  \n",
       " 3rd Qu.:-0.4503   3rd Qu.: 0.4817   3rd Qu.: 0.1386   3rd Qu.: 1.23305  \n",
       " Max.   : 2.2196   Max.   : 1.1612   Max.   :12.1533   Max.   : 1.23305  \n",
       " Persistence3Years PredictabilityDec5Years PredictabilityOct5Years\n",
       " Min.   :-0.6741   Min.   :-2.2142         Min.   :-0.6641        \n",
       " 1st Qu.:-0.6741   1st Qu.:-0.8367         1st Qu.:-0.6641        \n",
       " Median :-0.6741   Median :-0.1479         Median :-0.6641        \n",
       " Mean   : 0.0000   Mean   : 0.0000         Mean   : 0.0000        \n",
       " 3rd Qu.: 1.5603   3rd Qu.: 1.2296         3rd Qu.: 1.1576        \n",
       " Max.   : 1.5603   Max.   : 1.2296         Max.   : 1.6130        "
      ]
     },
     "metadata": {},
     "output_type": "display_data"
    },
    {
     "data": {
      "text/html": [
       "<style>\n",
       ".list-inline {list-style: none; margin:0; padding: 0}\n",
       ".list-inline>li {display: inline-block}\n",
       ".list-inline>li:not(:last-child)::after {content: \"\\00b7\"; padding: 0 .5ex}\n",
       "</style>\n",
       "<ol class=list-inline><li>'ADPEabund'</li><li>'ADPEdist'</li><li>'cont300dist'</li><li>'cont800dist'</li><li>'DecemberIcePresence'</li><li>'distNearestIceEdge'</li><li>'distToShore'</li><li>'EMPEabund'</li><li>'EMPEdist'</li><li>'fastIceRatio'</li><li>'glacierdist'</li><li>'InTrough'</li><li>'meanbathy'</li><li>'meanslope'</li><li>'Persistence2Years'</li><li>'PredictabilityDec5Years'</li><li>'PredictabilityOct5Years'</li></ol>\n"
      ],
      "text/latex": [
       "\\begin{enumerate*}\n",
       "\\item 'ADPEabund'\n",
       "\\item 'ADPEdist'\n",
       "\\item 'cont300dist'\n",
       "\\item 'cont800dist'\n",
       "\\item 'DecemberIcePresence'\n",
       "\\item 'distNearestIceEdge'\n",
       "\\item 'distToShore'\n",
       "\\item 'EMPEabund'\n",
       "\\item 'EMPEdist'\n",
       "\\item 'fastIceRatio'\n",
       "\\item 'glacierdist'\n",
       "\\item 'InTrough'\n",
       "\\item 'meanbathy'\n",
       "\\item 'meanslope'\n",
       "\\item 'Persistence2Years'\n",
       "\\item 'PredictabilityDec5Years'\n",
       "\\item 'PredictabilityOct5Years'\n",
       "\\end{enumerate*}\n"
      ],
      "text/markdown": [
       "1. 'ADPEabund'\n",
       "2. 'ADPEdist'\n",
       "3. 'cont300dist'\n",
       "4. 'cont800dist'\n",
       "5. 'DecemberIcePresence'\n",
       "6. 'distNearestIceEdge'\n",
       "7. 'distToShore'\n",
       "8. 'EMPEabund'\n",
       "9. 'EMPEdist'\n",
       "10. 'fastIceRatio'\n",
       "11. 'glacierdist'\n",
       "12. 'InTrough'\n",
       "13. 'meanbathy'\n",
       "14. 'meanslope'\n",
       "15. 'Persistence2Years'\n",
       "16. 'PredictabilityDec5Years'\n",
       "17. 'PredictabilityOct5Years'\n",
       "\n",
       "\n"
      ],
      "text/plain": [
       " [1] \"ADPEabund\"               \"ADPEdist\"               \n",
       " [3] \"cont300dist\"             \"cont800dist\"            \n",
       " [5] \"DecemberIcePresence\"     \"distNearestIceEdge\"     \n",
       " [7] \"distToShore\"             \"EMPEabund\"              \n",
       " [9] \"EMPEdist\"                \"fastIceRatio\"           \n",
       "[11] \"glacierdist\"             \"InTrough\"               \n",
       "[13] \"meanbathy\"               \"meanslope\"              \n",
       "[15] \"Persistence2Years\"       \"PredictabilityDec5Years\"\n",
       "[17] \"PredictabilityOct5Years\""
      ]
     },
     "metadata": {},
     "output_type": "display_data"
    },
    {
     "data": {
      "text/html": [
       "<style>\n",
       ".list-inline {list-style: none; margin:0; padding: 0}\n",
       ".list-inline>li {display: inline-block}\n",
       ".list-inline>li:not(:last-child)::after {content: \"\\00b7\"; padding: 0 .5ex}\n",
       "</style>\n",
       "<ol class=list-inline><li>'fastIceWidth'</li><li>'Persistence3Years'</li></ol>\n"
      ],
      "text/latex": [
       "\\begin{enumerate*}\n",
       "\\item 'fastIceWidth'\n",
       "\\item 'Persistence3Years'\n",
       "\\end{enumerate*}\n"
      ],
      "text/markdown": [
       "1. 'fastIceWidth'\n",
       "2. 'Persistence3Years'\n",
       "\n",
       "\n"
      ],
      "text/plain": [
       "[1] \"fastIceWidth\"      \"Persistence3Years\""
      ]
     },
     "metadata": {},
     "output_type": "display_data"
    }
   ],
   "source": [
    "### Now we run the VIF \n",
    "# select covariates to use in the models based on variance inflation\n",
    "# If variable A is excluded because of VIF_A > thresh, it means that a regression of all other covariates vs A explains 90% or more of all the variance found in A\n",
    "# This function returns the names of the variables to keep for your model. These are the most informative variables.\n",
    "\n",
    "#Getting Environmental Variables for occupancy\n",
    "\n",
    "#Read in the list of enviro rasters -----\n",
    "#Please note that for VIF you need to work on the original rasters from the entire area that you plan to predict over.\n",
    "rasterdir <- paste0(pathToLocalGit,\"data/WESPresenceEnviroLayers/\")\n",
    "rastlist <- list.files(path = paste0(rasterdir,\"/Enviro_CenterScaled/\"), pattern='.tif$', all.files=TRUE, full.names=TRUE)\n",
    "length(rastlist)\n",
    "r <- stack(rastlist)\n",
    "names(r)\n",
    "\n",
    "#Convert to data frame for vif ---\n",
    "ras <- as.data.frame(r, na.rm = TRUE)\n",
    "names(ras)\n",
    "ras$presence <- NULL #Response var, not include here.\n",
    "head(ras)\n",
    "summary(ras)\n",
    "\n",
    "#VIF Function ----\n",
    "vif_func<-function(df,thresh=10){\n",
    "  #get initial vif value for all comparisons of variables\n",
    "  vif_init<-NULL\n",
    "  var_names <- names(df)\n",
    "  for(val in var_names){\n",
    "    \n",
    "    regressors <- var_names[-which(var_names == val)]\n",
    "    form <- paste(regressors, collapse = '+')\n",
    "    form_in <- formula(paste(val, '~', form))\n",
    "    vif_init<-rbind(vif_init, c(val, VIF(lm(form_in, data = df))))\n",
    "  }\n",
    "  vif_max<-max(as.numeric(vif_init[,2]), na.rm = TRUE)\n",
    "  if(vif_max < thresh){\n",
    "  return(var_names)\n",
    "  }\n",
    "  else{\n",
    "      in_dat<-df\n",
    "  #backwards selection of explanatory variables, stops when all VIF values are below 'thresh'\n",
    "  while(vif_max >= thresh){\n",
    "  vif_vals<-NULL\n",
    "  var_names <- names(in_dat)\n",
    "  for(val in var_names){\n",
    "        regressors <- var_names[-which(var_names == val)]\n",
    "        form <- paste(regressors, collapse = '+')\n",
    "        form_in <- formula(paste(val, '~', form))\n",
    "        vif_add<-VIF(lm(form_in, data = in_dat))\n",
    "        vif_vals<-rbind(vif_vals,c(val,vif_add))\n",
    "        }\n",
    "      \n",
    "      max_row<-which(vif_vals[,2] == max(as.numeric(vif_vals[,2]), na.rm = TRUE))[1]\n",
    "      vif_max<-as.numeric(vif_vals[max_row,2])\n",
    "      \n",
    "      if(vif_max<thresh) break\n",
    "        in_dat<-in_dat[,!names(in_dat) %in% vif_vals[max_row,1]]\n",
    "          }\n",
    "    return(names(in_dat))\n",
    "  }\n",
    "}\n",
    "\n",
    "vif <- vif_func(ras)\n",
    "vif #This is all the covariates we retain for modelling...\n",
    "\n",
    "names(ras)[!(names(ras) %in% vif)]\n",
    "rm(rastlist,ras,r,vif_func)\n",
    "\n",
    "#saveRDS(vif,paste0(getwd(),\"/0. Data/VIFKeeps.RDS\"))   \n"
   ]
  },
  {
   "cell_type": "markdown",
   "metadata": {},
   "source": [
    "### Loading the data\n",
    "You can get an updated version of the data, as we add more covariates, from the notebook FitRegressionModels_ofSealAbundancePresence. Just add a cell below the point where the final, attributed dataset is created, and then run the function:\n",
    "weddellSeaData<-getWeddellSeaData(wesedf)\n",
    "In the example above, wesedf is the final attributed data.frame for the continental analyses. The result is the subset for the Weddell Sea. Just save it to the \"data\" folder:\n",
    "save(weddellSeaData,file=paste0(pathToLocalGit,\"data/weddellSeaData.RData\"))"
   ]
  },
  {
   "cell_type": "code",
   "execution_count": 28,
   "metadata": {},
   "outputs": [
    {
     "data": {
      "text/html": [
       "<style>\n",
       ".list-inline {list-style: none; margin:0; padding: 0}\n",
       ".list-inline>li {display: inline-block}\n",
       ".list-inline>li:not(:last-child)::after {content: \"\\00b7\"; padding: 0 .5ex}\n",
       "</style>\n",
       "<ol class=list-inline><li>'gridCellId'</li><li>'meanslope'</li><li>'meanbathy'</li><li>'glacierdist'</li><li>'distToShore'</li><li>'cont300dist'</li><li>'cont800dist'</li><li>'DecemberIcePresence'</li><li>'Persistence2Years'</li><li>'PredictabilityDec5Years'</li><li>'distNearestIceEdge'</li><li>'fastIceWidth'</li><li>'fastIcePresent'</li><li>'ADPEname'</li><li>'ADPEdist'</li><li>'EMPEname'</li><li>'EMPEdist'</li><li>'coords.x1'</li><li>'coords.x2'</li><li>'abundance'</li><li>'Persistence3Years'</li><li>'PredictabilityOct5Years'</li><li>'fastIceRatio'</li><li>'ADPEabund'</li><li>'EMPEabund'</li><li>'scaledmeanslope'</li><li>'logmeanbathy'</li><li>'logglacierdist'</li><li>'logdistToShore'</li><li>'logcont300dist'</li><li>'logcont800dist'</li><li>'logdistNearestIceEdge'</li><li>'logfastIceWidth'</li><li>'logempedist'</li><li>'logadpedist'</li><li>'logADPEabund'</li><li>'logEMPEabund'</li><li>'Region'</li><li>'Canyon_ID'</li><li>'InCanyon'</li><li>'canyonLength'</li><li>'canyonWidth'</li><li>'canyonMeanDepth'</li><li>'gtID'</li><li>'InTrough'</li><li>'troughArea'</li><li>'presence'</li></ol>\n"
      ],
      "text/latex": [
       "\\begin{enumerate*}\n",
       "\\item 'gridCellId'\n",
       "\\item 'meanslope'\n",
       "\\item 'meanbathy'\n",
       "\\item 'glacierdist'\n",
       "\\item 'distToShore'\n",
       "\\item 'cont300dist'\n",
       "\\item 'cont800dist'\n",
       "\\item 'DecemberIcePresence'\n",
       "\\item 'Persistence2Years'\n",
       "\\item 'PredictabilityDec5Years'\n",
       "\\item 'distNearestIceEdge'\n",
       "\\item 'fastIceWidth'\n",
       "\\item 'fastIcePresent'\n",
       "\\item 'ADPEname'\n",
       "\\item 'ADPEdist'\n",
       "\\item 'EMPEname'\n",
       "\\item 'EMPEdist'\n",
       "\\item 'coords.x1'\n",
       "\\item 'coords.x2'\n",
       "\\item 'abundance'\n",
       "\\item 'Persistence3Years'\n",
       "\\item 'PredictabilityOct5Years'\n",
       "\\item 'fastIceRatio'\n",
       "\\item 'ADPEabund'\n",
       "\\item 'EMPEabund'\n",
       "\\item 'scaledmeanslope'\n",
       "\\item 'logmeanbathy'\n",
       "\\item 'logglacierdist'\n",
       "\\item 'logdistToShore'\n",
       "\\item 'logcont300dist'\n",
       "\\item 'logcont800dist'\n",
       "\\item 'logdistNearestIceEdge'\n",
       "\\item 'logfastIceWidth'\n",
       "\\item 'logempedist'\n",
       "\\item 'logadpedist'\n",
       "\\item 'logADPEabund'\n",
       "\\item 'logEMPEabund'\n",
       "\\item 'Region'\n",
       "\\item 'Canyon\\_ID'\n",
       "\\item 'InCanyon'\n",
       "\\item 'canyonLength'\n",
       "\\item 'canyonWidth'\n",
       "\\item 'canyonMeanDepth'\n",
       "\\item 'gtID'\n",
       "\\item 'InTrough'\n",
       "\\item 'troughArea'\n",
       "\\item 'presence'\n",
       "\\end{enumerate*}\n"
      ],
      "text/markdown": [
       "1. 'gridCellId'\n",
       "2. 'meanslope'\n",
       "3. 'meanbathy'\n",
       "4. 'glacierdist'\n",
       "5. 'distToShore'\n",
       "6. 'cont300dist'\n",
       "7. 'cont800dist'\n",
       "8. 'DecemberIcePresence'\n",
       "9. 'Persistence2Years'\n",
       "10. 'PredictabilityDec5Years'\n",
       "11. 'distNearestIceEdge'\n",
       "12. 'fastIceWidth'\n",
       "13. 'fastIcePresent'\n",
       "14. 'ADPEname'\n",
       "15. 'ADPEdist'\n",
       "16. 'EMPEname'\n",
       "17. 'EMPEdist'\n",
       "18. 'coords.x1'\n",
       "19. 'coords.x2'\n",
       "20. 'abundance'\n",
       "21. 'Persistence3Years'\n",
       "22. 'PredictabilityOct5Years'\n",
       "23. 'fastIceRatio'\n",
       "24. 'ADPEabund'\n",
       "25. 'EMPEabund'\n",
       "26. 'scaledmeanslope'\n",
       "27. 'logmeanbathy'\n",
       "28. 'logglacierdist'\n",
       "29. 'logdistToShore'\n",
       "30. 'logcont300dist'\n",
       "31. 'logcont800dist'\n",
       "32. 'logdistNearestIceEdge'\n",
       "33. 'logfastIceWidth'\n",
       "34. 'logempedist'\n",
       "35. 'logadpedist'\n",
       "36. 'logADPEabund'\n",
       "37. 'logEMPEabund'\n",
       "38. 'Region'\n",
       "39. 'Canyon_ID'\n",
       "40. 'InCanyon'\n",
       "41. 'canyonLength'\n",
       "42. 'canyonWidth'\n",
       "43. 'canyonMeanDepth'\n",
       "44. 'gtID'\n",
       "45. 'InTrough'\n",
       "46. 'troughArea'\n",
       "47. 'presence'\n",
       "\n",
       "\n"
      ],
      "text/plain": [
       " [1] \"gridCellId\"              \"meanslope\"              \n",
       " [3] \"meanbathy\"               \"glacierdist\"            \n",
       " [5] \"distToShore\"             \"cont300dist\"            \n",
       " [7] \"cont800dist\"             \"DecemberIcePresence\"    \n",
       " [9] \"Persistence2Years\"       \"PredictabilityDec5Years\"\n",
       "[11] \"distNearestIceEdge\"      \"fastIceWidth\"           \n",
       "[13] \"fastIcePresent\"          \"ADPEname\"               \n",
       "[15] \"ADPEdist\"                \"EMPEname\"               \n",
       "[17] \"EMPEdist\"                \"coords.x1\"              \n",
       "[19] \"coords.x2\"               \"abundance\"              \n",
       "[21] \"Persistence3Years\"       \"PredictabilityOct5Years\"\n",
       "[23] \"fastIceRatio\"            \"ADPEabund\"              \n",
       "[25] \"EMPEabund\"               \"scaledmeanslope\"        \n",
       "[27] \"logmeanbathy\"            \"logglacierdist\"         \n",
       "[29] \"logdistToShore\"          \"logcont300dist\"         \n",
       "[31] \"logcont800dist\"          \"logdistNearestIceEdge\"  \n",
       "[33] \"logfastIceWidth\"         \"logempedist\"            \n",
       "[35] \"logadpedist\"             \"logADPEabund\"           \n",
       "[37] \"logEMPEabund\"            \"Region\"                 \n",
       "[39] \"Canyon_ID\"               \"InCanyon\"               \n",
       "[41] \"canyonLength\"            \"canyonWidth\"            \n",
       "[43] \"canyonMeanDepth\"         \"gtID\"                   \n",
       "[45] \"InTrough\"                \"troughArea\"             \n",
       "[47] \"presence\"               "
      ]
     },
     "metadata": {},
     "output_type": "display_data"
    }
   ],
   "source": [
    "names(weddellSeaData)"
   ]
  },
  {
   "cell_type": "code",
   "execution_count": 47,
   "metadata": {},
   "outputs": [
    {
     "data": {
      "text/html": [
       "<style>\n",
       ".list-inline {list-style: none; margin:0; padding: 0}\n",
       ".list-inline>li {display: inline-block}\n",
       ".list-inline>li:not(:last-child)::after {content: \"\\00b7\"; padding: 0 .5ex}\n",
       "</style>\n",
       "<ol class=list-inline><li>'gridCellId'</li><li>'meanslope'</li><li>'meanbathy'</li><li>'glacierdist'</li><li>'distToShore'</li><li>'cont300dist'</li><li>'cont800dist'</li><li>'DecemberIcePresence'</li><li>'Persistence2Years'</li><li>'PredictabilityDec5Years'</li><li>'distNearestIceEdge'</li><li>'fastIceWidth'</li><li>'fastIcePresent'</li><li>'ADPEname'</li><li>'ADPEdist'</li><li>'EMPEname'</li><li>'EMPEdist'</li><li>'coords.x1'</li><li>'coords.x2'</li><li>'abundance'</li><li>'Persistence3Years'</li><li>'PredictabilityOct5Years'</li><li>'fastIceRatio'</li><li>'ADPEabund'</li><li>'EMPEabund'</li><li>'scaledmeanslope'</li><li>'logmeanbathy'</li><li>'logglacierdist'</li><li>'logdistToShore'</li><li>'logcont300dist'</li><li>'logcont800dist'</li><li>'logdistNearestIceEdge'</li><li>'logfastIceWidth'</li><li>'logempedist'</li><li>'logadpedist'</li><li>'logADPEabund'</li><li>'logEMPEabund'</li><li>'Region'</li><li>'Canyon_ID'</li><li>'InCanyon'</li><li>'canyonLength'</li><li>'canyonWidth'</li><li>'canyonMeanDepth'</li><li>'gtID'</li><li>'InTrough'</li><li>'troughArea'</li><li>'presence'</li></ol>\n"
      ],
      "text/latex": [
       "\\begin{enumerate*}\n",
       "\\item 'gridCellId'\n",
       "\\item 'meanslope'\n",
       "\\item 'meanbathy'\n",
       "\\item 'glacierdist'\n",
       "\\item 'distToShore'\n",
       "\\item 'cont300dist'\n",
       "\\item 'cont800dist'\n",
       "\\item 'DecemberIcePresence'\n",
       "\\item 'Persistence2Years'\n",
       "\\item 'PredictabilityDec5Years'\n",
       "\\item 'distNearestIceEdge'\n",
       "\\item 'fastIceWidth'\n",
       "\\item 'fastIcePresent'\n",
       "\\item 'ADPEname'\n",
       "\\item 'ADPEdist'\n",
       "\\item 'EMPEname'\n",
       "\\item 'EMPEdist'\n",
       "\\item 'coords.x1'\n",
       "\\item 'coords.x2'\n",
       "\\item 'abundance'\n",
       "\\item 'Persistence3Years'\n",
       "\\item 'PredictabilityOct5Years'\n",
       "\\item 'fastIceRatio'\n",
       "\\item 'ADPEabund'\n",
       "\\item 'EMPEabund'\n",
       "\\item 'scaledmeanslope'\n",
       "\\item 'logmeanbathy'\n",
       "\\item 'logglacierdist'\n",
       "\\item 'logdistToShore'\n",
       "\\item 'logcont300dist'\n",
       "\\item 'logcont800dist'\n",
       "\\item 'logdistNearestIceEdge'\n",
       "\\item 'logfastIceWidth'\n",
       "\\item 'logempedist'\n",
       "\\item 'logadpedist'\n",
       "\\item 'logADPEabund'\n",
       "\\item 'logEMPEabund'\n",
       "\\item 'Region'\n",
       "\\item 'Canyon\\_ID'\n",
       "\\item 'InCanyon'\n",
       "\\item 'canyonLength'\n",
       "\\item 'canyonWidth'\n",
       "\\item 'canyonMeanDepth'\n",
       "\\item 'gtID'\n",
       "\\item 'InTrough'\n",
       "\\item 'troughArea'\n",
       "\\item 'presence'\n",
       "\\end{enumerate*}\n"
      ],
      "text/markdown": [
       "1. 'gridCellId'\n",
       "2. 'meanslope'\n",
       "3. 'meanbathy'\n",
       "4. 'glacierdist'\n",
       "5. 'distToShore'\n",
       "6. 'cont300dist'\n",
       "7. 'cont800dist'\n",
       "8. 'DecemberIcePresence'\n",
       "9. 'Persistence2Years'\n",
       "10. 'PredictabilityDec5Years'\n",
       "11. 'distNearestIceEdge'\n",
       "12. 'fastIceWidth'\n",
       "13. 'fastIcePresent'\n",
       "14. 'ADPEname'\n",
       "15. 'ADPEdist'\n",
       "16. 'EMPEname'\n",
       "17. 'EMPEdist'\n",
       "18. 'coords.x1'\n",
       "19. 'coords.x2'\n",
       "20. 'abundance'\n",
       "21. 'Persistence3Years'\n",
       "22. 'PredictabilityOct5Years'\n",
       "23. 'fastIceRatio'\n",
       "24. 'ADPEabund'\n",
       "25. 'EMPEabund'\n",
       "26. 'scaledmeanslope'\n",
       "27. 'logmeanbathy'\n",
       "28. 'logglacierdist'\n",
       "29. 'logdistToShore'\n",
       "30. 'logcont300dist'\n",
       "31. 'logcont800dist'\n",
       "32. 'logdistNearestIceEdge'\n",
       "33. 'logfastIceWidth'\n",
       "34. 'logempedist'\n",
       "35. 'logadpedist'\n",
       "36. 'logADPEabund'\n",
       "37. 'logEMPEabund'\n",
       "38. 'Region'\n",
       "39. 'Canyon_ID'\n",
       "40. 'InCanyon'\n",
       "41. 'canyonLength'\n",
       "42. 'canyonWidth'\n",
       "43. 'canyonMeanDepth'\n",
       "44. 'gtID'\n",
       "45. 'InTrough'\n",
       "46. 'troughArea'\n",
       "47. 'presence'\n",
       "\n",
       "\n"
      ],
      "text/plain": [
       " [1] \"gridCellId\"              \"meanslope\"              \n",
       " [3] \"meanbathy\"               \"glacierdist\"            \n",
       " [5] \"distToShore\"             \"cont300dist\"            \n",
       " [7] \"cont800dist\"             \"DecemberIcePresence\"    \n",
       " [9] \"Persistence2Years\"       \"PredictabilityDec5Years\"\n",
       "[11] \"distNearestIceEdge\"      \"fastIceWidth\"           \n",
       "[13] \"fastIcePresent\"          \"ADPEname\"               \n",
       "[15] \"ADPEdist\"                \"EMPEname\"               \n",
       "[17] \"EMPEdist\"                \"coords.x1\"              \n",
       "[19] \"coords.x2\"               \"abundance\"              \n",
       "[21] \"Persistence3Years\"       \"PredictabilityOct5Years\"\n",
       "[23] \"fastIceRatio\"            \"ADPEabund\"              \n",
       "[25] \"EMPEabund\"               \"scaledmeanslope\"        \n",
       "[27] \"logmeanbathy\"            \"logglacierdist\"         \n",
       "[29] \"logdistToShore\"          \"logcont300dist\"         \n",
       "[31] \"logcont800dist\"          \"logdistNearestIceEdge\"  \n",
       "[33] \"logfastIceWidth\"         \"logempedist\"            \n",
       "[35] \"logadpedist\"             \"logADPEabund\"           \n",
       "[37] \"logEMPEabund\"            \"Region\"                 \n",
       "[39] \"Canyon_ID\"               \"InCanyon\"               \n",
       "[41] \"canyonLength\"            \"canyonWidth\"            \n",
       "[43] \"canyonMeanDepth\"         \"gtID\"                   \n",
       "[45] \"InTrough\"                \"troughArea\"             \n",
       "[47] \"presence\"               "
      ]
     },
     "metadata": {},
     "output_type": "display_data"
    },
    {
     "data": {
      "text/html": [
       "<style>\n",
       ".list-inline {list-style: none; margin:0; padding: 0}\n",
       ".list-inline>li {display: inline-block}\n",
       ".list-inline>li:not(:last-child)::after {content: \"\\00b7\"; padding: 0 .5ex}\n",
       "</style>\n",
       "<ol class=list-inline><li>'presence'</li><li>'coords.x1'</li><li>'coords.x2'</li><li>'meanslope'</li><li>'meanbathy'</li><li>'glacierdist'</li><li>'distToShore'</li><li>'cont300dist'</li><li>'cont800dist'</li><li>'DecemberIcePresence'</li><li>'Persistence2Years'</li><li>'PredictabilityDec5Years'</li><li>'distNearestIceEdge'</li><li>'fastIceWidth'</li><li>'ADPEdist'</li><li>'EMPEdist'</li><li>'Persistence3Years'</li><li>'PredictabilityOct5Years'</li><li>'fastIceRatio'</li><li>'ADPEabund'</li><li>'EMPEabund'</li><li>'InTrough'</li></ol>\n"
      ],
      "text/latex": [
       "\\begin{enumerate*}\n",
       "\\item 'presence'\n",
       "\\item 'coords.x1'\n",
       "\\item 'coords.x2'\n",
       "\\item 'meanslope'\n",
       "\\item 'meanbathy'\n",
       "\\item 'glacierdist'\n",
       "\\item 'distToShore'\n",
       "\\item 'cont300dist'\n",
       "\\item 'cont800dist'\n",
       "\\item 'DecemberIcePresence'\n",
       "\\item 'Persistence2Years'\n",
       "\\item 'PredictabilityDec5Years'\n",
       "\\item 'distNearestIceEdge'\n",
       "\\item 'fastIceWidth'\n",
       "\\item 'ADPEdist'\n",
       "\\item 'EMPEdist'\n",
       "\\item 'Persistence3Years'\n",
       "\\item 'PredictabilityOct5Years'\n",
       "\\item 'fastIceRatio'\n",
       "\\item 'ADPEabund'\n",
       "\\item 'EMPEabund'\n",
       "\\item 'InTrough'\n",
       "\\end{enumerate*}\n"
      ],
      "text/markdown": [
       "1. 'presence'\n",
       "2. 'coords.x1'\n",
       "3. 'coords.x2'\n",
       "4. 'meanslope'\n",
       "5. 'meanbathy'\n",
       "6. 'glacierdist'\n",
       "7. 'distToShore'\n",
       "8. 'cont300dist'\n",
       "9. 'cont800dist'\n",
       "10. 'DecemberIcePresence'\n",
       "11. 'Persistence2Years'\n",
       "12. 'PredictabilityDec5Years'\n",
       "13. 'distNearestIceEdge'\n",
       "14. 'fastIceWidth'\n",
       "15. 'ADPEdist'\n",
       "16. 'EMPEdist'\n",
       "17. 'Persistence3Years'\n",
       "18. 'PredictabilityOct5Years'\n",
       "19. 'fastIceRatio'\n",
       "20. 'ADPEabund'\n",
       "21. 'EMPEabund'\n",
       "22. 'InTrough'\n",
       "\n",
       "\n"
      ],
      "text/plain": [
       " [1] \"presence\"                \"coords.x1\"              \n",
       " [3] \"coords.x2\"               \"meanslope\"              \n",
       " [5] \"meanbathy\"               \"glacierdist\"            \n",
       " [7] \"distToShore\"             \"cont300dist\"            \n",
       " [9] \"cont800dist\"             \"DecemberIcePresence\"    \n",
       "[11] \"Persistence2Years\"       \"PredictabilityDec5Years\"\n",
       "[13] \"distNearestIceEdge\"      \"fastIceWidth\"           \n",
       "[15] \"ADPEdist\"                \"EMPEdist\"               \n",
       "[17] \"Persistence3Years\"       \"PredictabilityOct5Years\"\n",
       "[19] \"fastIceRatio\"            \"ADPEabund\"              \n",
       "[21] \"EMPEabund\"               \"InTrough\"               "
      ]
     },
     "metadata": {},
     "output_type": "display_data"
    },
    {
     "data": {
      "text/html": [
       "<style>\n",
       ".list-inline {list-style: none; margin:0; padding: 0}\n",
       ".list-inline>li {display: inline-block}\n",
       ".list-inline>li:not(:last-child)::after {content: \"\\00b7\"; padding: 0 .5ex}\n",
       "</style>\n",
       "<ol class=list-inline><li>'presence'</li><li>'lon'</li><li>'lat'</li><li>'ADPEabund'</li><li>'ADPEdist'</li><li>'cont300dist'</li><li>'cont800dist'</li><li>'DecemberIcePresence'</li><li>'distNearestIceEdge'</li><li>'distToShore'</li><li>'EMPEabund'</li><li>'EMPEdist'</li><li>'fastIceRatio'</li><li>'glacierdist'</li><li>'InTrough'</li><li>'meanbathy'</li><li>'meanslope'</li><li>'Persistence2Years'</li><li>'PredictabilityDec5Years'</li><li>'PredictabilityOct5Years'</li></ol>\n"
      ],
      "text/latex": [
       "\\begin{enumerate*}\n",
       "\\item 'presence'\n",
       "\\item 'lon'\n",
       "\\item 'lat'\n",
       "\\item 'ADPEabund'\n",
       "\\item 'ADPEdist'\n",
       "\\item 'cont300dist'\n",
       "\\item 'cont800dist'\n",
       "\\item 'DecemberIcePresence'\n",
       "\\item 'distNearestIceEdge'\n",
       "\\item 'distToShore'\n",
       "\\item 'EMPEabund'\n",
       "\\item 'EMPEdist'\n",
       "\\item 'fastIceRatio'\n",
       "\\item 'glacierdist'\n",
       "\\item 'InTrough'\n",
       "\\item 'meanbathy'\n",
       "\\item 'meanslope'\n",
       "\\item 'Persistence2Years'\n",
       "\\item 'PredictabilityDec5Years'\n",
       "\\item 'PredictabilityOct5Years'\n",
       "\\end{enumerate*}\n"
      ],
      "text/markdown": [
       "1. 'presence'\n",
       "2. 'lon'\n",
       "3. 'lat'\n",
       "4. 'ADPEabund'\n",
       "5. 'ADPEdist'\n",
       "6. 'cont300dist'\n",
       "7. 'cont800dist'\n",
       "8. 'DecemberIcePresence'\n",
       "9. 'distNearestIceEdge'\n",
       "10. 'distToShore'\n",
       "11. 'EMPEabund'\n",
       "12. 'EMPEdist'\n",
       "13. 'fastIceRatio'\n",
       "14. 'glacierdist'\n",
       "15. 'InTrough'\n",
       "16. 'meanbathy'\n",
       "17. 'meanslope'\n",
       "18. 'Persistence2Years'\n",
       "19. 'PredictabilityDec5Years'\n",
       "20. 'PredictabilityOct5Years'\n",
       "\n",
       "\n"
      ],
      "text/plain": [
       " [1] \"presence\"                \"lon\"                    \n",
       " [3] \"lat\"                     \"ADPEabund\"              \n",
       " [5] \"ADPEdist\"                \"cont300dist\"            \n",
       " [7] \"cont800dist\"             \"DecemberIcePresence\"    \n",
       " [9] \"distNearestIceEdge\"      \"distToShore\"            \n",
       "[11] \"EMPEabund\"               \"EMPEdist\"               \n",
       "[13] \"fastIceRatio\"            \"glacierdist\"            \n",
       "[15] \"InTrough\"                \"meanbathy\"              \n",
       "[17] \"meanslope\"               \"Persistence2Years\"      \n",
       "[19] \"PredictabilityDec5Years\" \"PredictabilityOct5Years\""
      ]
     },
     "metadata": {},
     "output_type": "display_data"
    },
    {
     "data": {
      "text/html": [
       "<style>\n",
       ".list-inline {list-style: none; margin:0; padding: 0}\n",
       ".list-inline>li {display: inline-block}\n",
       ".list-inline>li:not(:last-child)::after {content: \"\\00b7\"; padding: 0 .5ex}\n",
       "</style>\n",
       "<ol class=list-inline><li>'presence'</li><li>'lon'</li><li>'lat'</li></ol>\n"
      ],
      "text/latex": [
       "\\begin{enumerate*}\n",
       "\\item 'presence'\n",
       "\\item 'lon'\n",
       "\\item 'lat'\n",
       "\\end{enumerate*}\n"
      ],
      "text/markdown": [
       "1. 'presence'\n",
       "2. 'lon'\n",
       "3. 'lat'\n",
       "\n",
       "\n"
      ],
      "text/plain": [
       "[1] \"presence\" \"lon\"      \"lat\"     "
      ]
     },
     "metadata": {},
     "output_type": "display_data"
    },
    {
     "data": {
      "text/html": [
       "<style>\n",
       ".list-inline {list-style: none; margin:0; padding: 0}\n",
       ".list-inline>li {display: inline-block}\n",
       ".list-inline>li:not(:last-child)::after {content: \"\\00b7\"; padding: 0 .5ex}\n",
       "</style>\n",
       "<ol class=list-inline><li>'presence'</li><li>'lon'</li><li>'lat'</li><li>'DecemberIcePresence'</li><li>'InTrough'</li></ol>\n"
      ],
      "text/latex": [
       "\\begin{enumerate*}\n",
       "\\item 'presence'\n",
       "\\item 'lon'\n",
       "\\item 'lat'\n",
       "\\item 'DecemberIcePresence'\n",
       "\\item 'InTrough'\n",
       "\\end{enumerate*}\n"
      ],
      "text/markdown": [
       "1. 'presence'\n",
       "2. 'lon'\n",
       "3. 'lat'\n",
       "4. 'DecemberIcePresence'\n",
       "5. 'InTrough'\n",
       "\n",
       "\n"
      ],
      "text/plain": [
       "[1] \"presence\"            \"lon\"                 \"lat\"                \n",
       "[4] \"DecemberIcePresence\" \"InTrough\"           "
      ]
     },
     "metadata": {},
     "output_type": "display_data"
    },
    {
     "data": {
      "text/html": [
       "<style>\n",
       ".list-inline {list-style: none; margin:0; padding: 0}\n",
       ".list-inline>li {display: inline-block}\n",
       ".list-inline>li:not(:last-child)::after {content: \"\\00b7\"; padding: 0 .5ex}\n",
       "</style>\n",
       "<ol class=list-inline><li>'presence'</li><li>'lon'</li><li>'lat'</li><li>'ADPEabund'</li><li>'ADPEdist'</li><li>'cont300dist'</li><li>'cont800dist'</li><li>'distNearestIceEdge'</li><li>'distToShore'</li><li>'EMPEabund'</li><li>'EMPEdist'</li><li>'fastIceRatio'</li><li>'glacierdist'</li><li>'meanbathy'</li><li>'meanslope'</li><li>'Persistence2Years'</li><li>'PredictabilityDec5Years'</li><li>'PredictabilityOct5Years'</li><li>'DecemberIcePresence'</li><li>'InTrough'</li></ol>\n"
      ],
      "text/latex": [
       "\\begin{enumerate*}\n",
       "\\item 'presence'\n",
       "\\item 'lon'\n",
       "\\item 'lat'\n",
       "\\item 'ADPEabund'\n",
       "\\item 'ADPEdist'\n",
       "\\item 'cont300dist'\n",
       "\\item 'cont800dist'\n",
       "\\item 'distNearestIceEdge'\n",
       "\\item 'distToShore'\n",
       "\\item 'EMPEabund'\n",
       "\\item 'EMPEdist'\n",
       "\\item 'fastIceRatio'\n",
       "\\item 'glacierdist'\n",
       "\\item 'meanbathy'\n",
       "\\item 'meanslope'\n",
       "\\item 'Persistence2Years'\n",
       "\\item 'PredictabilityDec5Years'\n",
       "\\item 'PredictabilityOct5Years'\n",
       "\\item 'DecemberIcePresence'\n",
       "\\item 'InTrough'\n",
       "\\end{enumerate*}\n"
      ],
      "text/markdown": [
       "1. 'presence'\n",
       "2. 'lon'\n",
       "3. 'lat'\n",
       "4. 'ADPEabund'\n",
       "5. 'ADPEdist'\n",
       "6. 'cont300dist'\n",
       "7. 'cont800dist'\n",
       "8. 'distNearestIceEdge'\n",
       "9. 'distToShore'\n",
       "10. 'EMPEabund'\n",
       "11. 'EMPEdist'\n",
       "12. 'fastIceRatio'\n",
       "13. 'glacierdist'\n",
       "14. 'meanbathy'\n",
       "15. 'meanslope'\n",
       "16. 'Persistence2Years'\n",
       "17. 'PredictabilityDec5Years'\n",
       "18. 'PredictabilityOct5Years'\n",
       "19. 'DecemberIcePresence'\n",
       "20. 'InTrough'\n",
       "\n",
       "\n"
      ],
      "text/plain": [
       " [1] \"presence\"                \"lon\"                    \n",
       " [3] \"lat\"                     \"ADPEabund\"              \n",
       " [5] \"ADPEdist\"                \"cont300dist\"            \n",
       " [7] \"cont800dist\"             \"distNearestIceEdge\"     \n",
       " [9] \"distToShore\"             \"EMPEabund\"              \n",
       "[11] \"EMPEdist\"                \"fastIceRatio\"           \n",
       "[13] \"glacierdist\"             \"meanbathy\"              \n",
       "[15] \"meanslope\"               \"Persistence2Years\"      \n",
       "[17] \"PredictabilityDec5Years\" \"PredictabilityOct5Years\"\n",
       "[19] \"DecemberIcePresence\"     \"InTrough\"               "
      ]
     },
     "metadata": {},
     "output_type": "display_data"
    }
   ],
   "source": [
    "load(paste0(pathToLocalGit,\"/data/weddellSeaData.RData\"))\n",
    "#head(weddellSeaData)\n",
    "names(weddellSeaData)\n",
    "#We don't need all these columns and variables\n",
    "# My criteria for selecting variables were where there are no NA's in the vars, where there were values across all\n",
    "# factor levels and I excluded all log transformed variables\n",
    "# Get only response and predictors that we'll work with and creater new df (with shorter name)\n",
    "wes <- weddellSeaData[,c(47,18:19,2:12,15,17,21:25,45)]\n",
    "names(wes)\n",
    "#Rename the coordinates. Yes I know they are not really lon and lat, but the names make it easier for me to keep track of\n",
    "names(wes)[names(wes) == \"coords.x1\"] <- \"lon\"\n",
    "names(wes)[names(wes) == \"coords.x2\"] <- \"lat\"\n",
    "#summary(wes) #This was to check for NAs. The Canyon varialbes mostly (>1500 of 1844 obs) had NA's so this would have left us with few modelling points. And I don't want to do some imputation - rather just drop the vars.\n",
    "\n",
    "# VIF ----\n",
    "# These variables will further be reduced in bottom code based on VIF - not doing now because prediction maps not done\n",
    "\n",
    "#vif <- readRDS(paste0(pathToLocalGit,\"/data/VIFKeeps.RDS\"))\n",
    "# I saved the variables to keep after I ran VIF in an .RDS file, but I use a newer version of R\n",
    "# and it doesn't want to load here. So I use the names like this.\n",
    "# # But this should be loaded from previous step\n",
    "vif <- c(\"ADPEabund\",\"ADPEdist\", \"cont300dist\",\"cont800dist\",\"DecemberIcePresence\",\n",
    "         \"distNearestIceEdge\",\"distToShore\",\"EMPEabund\",\"EMPEdist\",\"fastIceRatio\",\n",
    "         \"glacierdist\",\"InTrough\",\"meanbathy\",\"meanslope\",\"Persistence2Years\",\n",
    "         \"PredictabilityDec5Years\",\"PredictabilityOct5Years\")\n",
    "\n",
    "#Get rid of the environmental variables in dataset that was dropped by VIF\n",
    "(keeps <- c(\"presence\",\"lon\", \"lat\",vif))\n",
    "wes2 <- wes[ ,keeps, drop = FALSE]\n",
    "#nmes(wes2)\n",
    "bkp <- wes #create backup because I always make tons of mistakes\n",
    "wes <- wes2\n",
    "#ames(wes)\n",
    "\n",
    "names(wes)[!(names(wes) %in% vif)]\n",
    "rm(keeps,wes2)\n",
    "\n",
    "#Center and Scale -----\n",
    "#Center and scale data now. Get it out of the way\n",
    "#But can't center and scale binary vars, so get them out of data first\n",
    " binaryvars <- c(\"DecemberIcePresence\",\"InTrough\")\n",
    " (keeps <- c(\"presence\",\"lon\",\"lat\",binaryvars))\n",
    " not_scale <- wes[ ,keeps, drop = FALSE]\n",
    " to_scale <- wes[,!(names(wes) %in% keeps)]\n",
    "#  names(not_scale)\n",
    "#  names(to_scale)  \n",
    " foo <- as.data.frame(scale(to_scale, center = TRUE, scale = TRUE))\n",
    " wes <- data.frame(cbind(foo,not_scale))\n",
    "#  head(wes)\n",
    "#  names(wes)\n",
    " wes <- wes[,c(16:18,1:15,19:20)]\n",
    "#  head(wes)\n",
    "#  ncol(wes)\n",
    " rm(foo)\n",
    "names(wes)\n",
    "\n",
    "\n"
   ]
  },
  {
   "cell_type": "code",
   "execution_count": 45,
   "metadata": {},
   "outputs": [
    {
     "data": {
      "text/html": [
       "'/home/ubuntu/Workspace/ContinentalWESEestimates/data/WESPresenceEnviroLayers/'"
      ],
      "text/latex": [
       "'/home/ubuntu/Workspace/ContinentalWESEestimates/data/WESPresenceEnviroLayers/'"
      ],
      "text/markdown": [
       "'/home/ubuntu/Workspace/ContinentalWESEestimates/data/WESPresenceEnviroLayers/'"
      ],
      "text/plain": [
       "[1] \"/home/ubuntu/Workspace/ContinentalWESEestimates/data/WESPresenceEnviroLayers/\""
      ]
     },
     "metadata": {},
     "output_type": "display_data"
    }
   ],
   "source": [
    "rasterdir"
   ]
  },
  {
   "cell_type": "code",
   "execution_count": 48,
   "metadata": {
    "scrolled": false
   },
   "outputs": [
    {
     "data": {
      "text/html": [
       "19"
      ],
      "text/latex": [
       "19"
      ],
      "text/markdown": [
       "19"
      ],
      "text/plain": [
       "[1] 19"
      ]
     },
     "metadata": {},
     "output_type": "display_data"
    },
    {
     "data": {
      "text/html": [
       "<style>\n",
       ".list-inline {list-style: none; margin:0; padding: 0}\n",
       ".list-inline>li {display: inline-block}\n",
       ".list-inline>li:not(:last-child)::after {content: \"\\00b7\"; padding: 0 .5ex}\n",
       "</style>\n",
       "<ol class=list-inline><li>'fastIceWidth'</li><li>'Persistence3Years'</li></ol>\n"
      ],
      "text/latex": [
       "\\begin{enumerate*}\n",
       "\\item 'fastIceWidth'\n",
       "\\item 'Persistence3Years'\n",
       "\\end{enumerate*}\n"
      ],
      "text/markdown": [
       "1. 'fastIceWidth'\n",
       "2. 'Persistence3Years'\n",
       "\n",
       "\n"
      ],
      "text/plain": [
       "[1] \"fastIceWidth\"      \"Persistence3Years\""
      ]
     },
     "metadata": {},
     "output_type": "display_data"
    },
    {
     "data": {
      "text/plain": [
       "CRS arguments:\n",
       " +proj=stere +lat_0=-90 +lat_ts=-71 +lon_0=0 +k=1 +x_0=0 +y_0=0\n",
       "+datum=WGS84 +units=m +no_defs +ellps=WGS84 +towgs84=0,0,0 "
      ]
     },
     "metadata": {},
     "output_type": "display_data"
    },
    {
     "data": {
      "text/html": [],
      "text/latex": [],
      "text/markdown": [],
      "text/plain": [
       "character(0)"
      ]
     },
     "metadata": {},
     "output_type": "display_data"
    }
   ],
   "source": [
    "### Raster VIF drop ----\n",
    "#Read in the list of enviro rasters to predict over - CENTERED AND SCALED ALREADY -----\n",
    "rastlist <- list.files(path = paste0(rasterdir,\"/Enviro_CenterScaled/\"), pattern='.tif$', all.files=TRUE, full.names=TRUE)\n",
    "length(rastlist)\n",
    "enviroRas <- stack(rastlist)\n",
    "names(enviroRas)[!(names(enviroRas) %in% names(wes))]\n",
    "crs(enviroRas)\n",
    "# plot(enviroRas)\n",
    "# str(wes)\n",
    "\n",
    "#Drop the layers that is not in vif\n",
    "enviroRas2 <- subset(enviroRas, vif, drop=TRUE)\n",
    "# names(enviroRas2)\n",
    "names(enviroRas2)[!(names(enviroRas2) %in% names(wes))]\n",
    "enviroRas <- enviroRas2\n",
    "rm(enviroRas2, rastlist)\n"
   ]
  },
  {
   "cell_type": "markdown",
   "metadata": {},
   "source": [
    "In the following code, we will set up the dataframes to use for modelling.\n",
    "First we rename the predictors column, we reorder the factor levels so that \"Seals\" is first the first factor level beacuse this determines the \"positive\" binary variable in your model and we want \"Seals\" to be the positive one.\n",
    "We then split the seals and noseals data, reorder them and split it into training and test sets.\n",
    "Because of the imbalance between the number of seal and no seal observations, we need to split the data so that 70% of the seal obs are used for training and 30% for testing. But if we split the no seal obs also 70/30, there would be an unequal amount of seal and no seal obs in the training and test sets. So I wrote a little formula to make sure we end up with equal amounts of obs. \n",
    "We will basically end up with 4 data sheets. 1 for seals and 1 for no seals for training models, and 1 for seals and 1 for no seals for testing models (out of bag testing).  While training the models, the same \"seal\" obs are used every time, while an equal amount, but randomly chosen number of no seal obs are used."
   ]
  },
  {
   "cell_type": "code",
   "execution_count": 49,
   "metadata": {},
   "outputs": [
    {
     "data": {
      "text/plain": [
       "   Min. 1st Qu.  Median    Mean 3rd Qu.    Max. \n",
       " 0.0000  0.0000  0.0000  0.1036  0.0000  1.0000 "
      ]
     },
     "metadata": {},
     "output_type": "display_data"
    },
    {
     "data": {
      "text/plain": [
       "\n",
       "NoSeals   Seals \n",
       "   1653     191 "
      ]
     },
     "metadata": {},
     "output_type": "display_data"
    },
    {
     "data": {
      "text/plain": [
       "\n",
       "   0    1 \n",
       "1653  191 "
      ]
     },
     "metadata": {},
     "output_type": "display_data"
    },
    {
     "data": {
      "text/html": [
       "<style>\n",
       ".list-inline {list-style: none; margin:0; padding: 0}\n",
       ".list-inline>li {display: inline-block}\n",
       ".list-inline>li:not(:last-child)::after {content: \"\\00b7\"; padding: 0 .5ex}\n",
       "</style>\n",
       "<ol class=list-inline><li>'NoSeals'</li><li>'Seals'</li></ol>\n"
      ],
      "text/latex": [
       "\\begin{enumerate*}\n",
       "\\item 'NoSeals'\n",
       "\\item 'Seals'\n",
       "\\end{enumerate*}\n"
      ],
      "text/markdown": [
       "1. 'NoSeals'\n",
       "2. 'Seals'\n",
       "\n",
       "\n"
      ],
      "text/plain": [
       "[1] \"NoSeals\" \"Seals\"  "
      ]
     },
     "metadata": {},
     "output_type": "display_data"
    },
    {
     "data": {
      "text/html": [
       "<style>\n",
       ".list-inline {list-style: none; margin:0; padding: 0}\n",
       ".list-inline>li {display: inline-block}\n",
       ".list-inline>li:not(:last-child)::after {content: \"\\00b7\"; padding: 0 .5ex}\n",
       "</style>\n",
       "<ol class=list-inline><li>'Seals'</li><li>'NoSeals'</li></ol>\n"
      ],
      "text/latex": [
       "\\begin{enumerate*}\n",
       "\\item 'Seals'\n",
       "\\item 'NoSeals'\n",
       "\\end{enumerate*}\n"
      ],
      "text/markdown": [
       "1. 'Seals'\n",
       "2. 'NoSeals'\n",
       "\n",
       "\n"
      ],
      "text/plain": [
       "[1] \"Seals\"   \"NoSeals\""
      ]
     },
     "metadata": {},
     "output_type": "display_data"
    },
    {
     "data": {
      "text/html": [
       "<style>\n",
       ".list-inline {list-style: none; margin:0; padding: 0}\n",
       ".list-inline>li {display: inline-block}\n",
       ".list-inline>li:not(:last-child)::after {content: \"\\00b7\"; padding: 0 .5ex}\n",
       "</style>\n",
       "<ol class=list-inline><li>'1'</li><li>'0'</li></ol>\n"
      ],
      "text/latex": [
       "\\begin{enumerate*}\n",
       "\\item '1'\n",
       "\\item '0'\n",
       "\\end{enumerate*}\n"
      ],
      "text/markdown": [
       "1. '1'\n",
       "2. '0'\n",
       "\n",
       "\n"
      ],
      "text/plain": [
       "[1] \"1\" \"0\""
      ]
     },
     "metadata": {},
     "output_type": "display_data"
    },
    {
     "data": {
      "text/plain": [
       "\n",
       "   1    0 \n",
       " 191 1653 "
      ]
     },
     "metadata": {},
     "output_type": "display_data"
    },
    {
     "data": {
      "text/plain": [
       "\n",
       "  Seals NoSeals \n",
       "    191    1653 "
      ]
     },
     "metadata": {},
     "output_type": "display_data"
    },
    {
     "data": {
      "text/html": [
       "<style>\n",
       ".list-inline {list-style: none; margin:0; padding: 0}\n",
       ".list-inline>li {display: inline-block}\n",
       ".list-inline>li:not(:last-child)::after {content: \"\\00b7\"; padding: 0 .5ex}\n",
       "</style>\n",
       "<ol class=list-inline><li>'pa'</li><li>'lon'</li><li>'lat'</li><li>'ADPEabund'</li><li>'ADPEdist'</li><li>'cont300dist'</li><li>'cont800dist'</li><li>'distNearestIceEdge'</li><li>'distToShore'</li><li>'EMPEabund'</li><li>'EMPEdist'</li><li>'fastIceRatio'</li><li>'glacierdist'</li><li>'meanbathy'</li><li>'meanslope'</li><li>'Persistence2Years'</li><li>'PredictabilityDec5Years'</li><li>'PredictabilityOct5Years'</li><li>'DecemberIcePresence'</li><li>'InTrough'</li><li>'y'</li></ol>\n"
      ],
      "text/latex": [
       "\\begin{enumerate*}\n",
       "\\item 'pa'\n",
       "\\item 'lon'\n",
       "\\item 'lat'\n",
       "\\item 'ADPEabund'\n",
       "\\item 'ADPEdist'\n",
       "\\item 'cont300dist'\n",
       "\\item 'cont800dist'\n",
       "\\item 'distNearestIceEdge'\n",
       "\\item 'distToShore'\n",
       "\\item 'EMPEabund'\n",
       "\\item 'EMPEdist'\n",
       "\\item 'fastIceRatio'\n",
       "\\item 'glacierdist'\n",
       "\\item 'meanbathy'\n",
       "\\item 'meanslope'\n",
       "\\item 'Persistence2Years'\n",
       "\\item 'PredictabilityDec5Years'\n",
       "\\item 'PredictabilityOct5Years'\n",
       "\\item 'DecemberIcePresence'\n",
       "\\item 'InTrough'\n",
       "\\item 'y'\n",
       "\\end{enumerate*}\n"
      ],
      "text/markdown": [
       "1. 'pa'\n",
       "2. 'lon'\n",
       "3. 'lat'\n",
       "4. 'ADPEabund'\n",
       "5. 'ADPEdist'\n",
       "6. 'cont300dist'\n",
       "7. 'cont800dist'\n",
       "8. 'distNearestIceEdge'\n",
       "9. 'distToShore'\n",
       "10. 'EMPEabund'\n",
       "11. 'EMPEdist'\n",
       "12. 'fastIceRatio'\n",
       "13. 'glacierdist'\n",
       "14. 'meanbathy'\n",
       "15. 'meanslope'\n",
       "16. 'Persistence2Years'\n",
       "17. 'PredictabilityDec5Years'\n",
       "18. 'PredictabilityOct5Years'\n",
       "19. 'DecemberIcePresence'\n",
       "20. 'InTrough'\n",
       "21. 'y'\n",
       "\n",
       "\n"
      ],
      "text/plain": [
       " [1] \"pa\"                      \"lon\"                    \n",
       " [3] \"lat\"                     \"ADPEabund\"              \n",
       " [5] \"ADPEdist\"                \"cont300dist\"            \n",
       " [7] \"cont800dist\"             \"distNearestIceEdge\"     \n",
       " [9] \"distToShore\"             \"EMPEabund\"              \n",
       "[11] \"EMPEdist\"                \"fastIceRatio\"           \n",
       "[13] \"glacierdist\"             \"meanbathy\"              \n",
       "[15] \"meanslope\"               \"Persistence2Years\"      \n",
       "[17] \"PredictabilityDec5Years\" \"PredictabilityOct5Years\"\n",
       "[19] \"DecemberIcePresence\"     \"InTrough\"               \n",
       "[21] \"y\"                      "
      ]
     },
     "metadata": {},
     "output_type": "display_data"
    },
    {
     "data": {
      "text/html": [
       "0.0344827586206897"
      ],
      "text/latex": [
       "0.0344827586206897"
      ],
      "text/markdown": [
       "0.0344827586206897"
      ],
      "text/plain": [
       "[1] 0.03448276"
      ]
     },
     "metadata": {},
     "output_type": "display_data"
    },
    {
     "data": {
      "text/html": [
       "TRUE"
      ],
      "text/latex": [
       "TRUE"
      ],
      "text/markdown": [
       "TRUE"
      ],
      "text/plain": [
       "[1] TRUE"
      ]
     },
     "metadata": {},
     "output_type": "display_data"
    },
    {
     "data": {
      "text/html": [
       "TRUE"
      ],
      "text/latex": [
       "TRUE"
      ],
      "text/markdown": [
       "TRUE"
      ],
      "text/plain": [
       "[1] TRUE"
      ]
     },
     "metadata": {},
     "output_type": "display_data"
    },
    {
     "data": {
      "text/plain": [
       "\n",
       "Seals \n",
       "  134 "
      ]
     },
     "metadata": {},
     "output_type": "display_data"
    },
    {
     "data": {
      "text/html": [
       "134"
      ],
      "text/latex": [
       "134"
      ],
      "text/markdown": [
       "134"
      ],
      "text/plain": [
       "[1] 134"
      ]
     },
     "metadata": {},
     "output_type": "display_data"
    }
   ],
   "source": [
    "# Machine learning set-up ----\n",
    "summary(wes$presence)\n",
    "# Rename response to y\n",
    "names(wes)[names(wes)==\"presence\"] <- \"pa\"\n",
    "\n",
    "wes$y <- as.factor(ifelse(wes$pa==1,\"Seals\",\"NoSeals\"))\n",
    "table(wes$y)\n",
    "table(wes$pa)\n",
    "levels(wes$y)\n",
    "\n",
    "#Reorder the levels - this is necessary for the modelling to pick up \"seals\" as the \"positive response\" because the first level is chosen by the model as the \"positive response\"\n",
    "wes$y <- factor(wes$y, levels = c(\"Seals\", \"NoSeals\"))\n",
    "levels(wes$y)\n",
    "wes$pa <- factor(wes$pa, levels = c(\"1\", \"0\"))\n",
    "levels(wes$pa)\n",
    "table(wes$pa)\n",
    "table(wes$y)\n",
    "\n",
    "#All the seal observations\n",
    "seals <- droplevels(subset(wes,wes$y == \"Seals\"))\n",
    "noseals <- droplevels(subset(wes,wes$y == \"NoSeals\"))\n",
    "names(seals)\n",
    "\n",
    "set.seed(49) #Important to keep ordering the same for repeatability\n",
    "#First reorder the dataframe into random order to avoid spatial autocorrlation\n",
    "seals <- seals[sample(1:nrow(seals)), ]\n",
    "noseals <- noseals[sample(1:nrow(noseals)), ]\n",
    "\n",
    "\n",
    "#Training and test sets ----\n",
    "#Seals\n",
    "inTrainS <- createDataPartition(y = seals$y, p = 0.7, list = FALSE)\n",
    "seal_train <- seals[ inTrainS,]\n",
    "seal_test <- seals[-inTrainS,]\n",
    "\n",
    "#No Seals\n",
    "# The p value has to be adapted to the nr of obs in the seal train and test set\n",
    "\n",
    "(p <- nrow(seal_test)/nrow(noseals))\n",
    "inTrainNS <- createDataPartition(y = noseals$y, p = p, list = FALSE)\n",
    "length(inTrainNS) == nrow(seal_test)\n",
    "\n",
    "noseal_train <- noseals[ -inTrainNS,]\n",
    "noseal_test <- noseals[inTrainNS,]\n",
    "\n",
    "nrow(noseal_test) == nrow(seal_test)\n",
    "\n",
    "TestData <- rbind(seal_test, noseal_test)\n",
    "TrainData <- rbind(seal_train, noseal_train)\n",
    "\n",
    "rm(p,inTrainNS,inTrainS) #Keep the other datasets\n",
    "#Now, after we split the data into training and test sets, how large should our bootstrap samples be?\n",
    "#How many \"seals\"\n",
    "table(seal_train$y)\n",
    "(boot_size <- as.vector(table(seal_train$y)[1])) #The size of the bootstrap\n"
   ]
  },
  {
   "cell_type": "markdown",
   "metadata": {},
   "source": [
    "Now we finally start the modelling. We read in a dataframe with some results from 3 previous models I have run already on my computer. Yes this is lazy, I know. But these dataframes will be the place to store your results. They are saved with each run of the loop, so if you have to interupt it, the previous runs will be there and saved."
   ]
  },
  {
   "cell_type": "code",
   "execution_count": 54,
   "metadata": {
    "scrolled": true
   },
   "outputs": [
    {
     "data": {
      "text/html": [
       "<table>\n",
       "<caption>A data.frame: 6 × 6</caption>\n",
       "<thead>\n",
       "\t<tr><th></th><th scope=col>variable</th><th scope=col>percent.contribution</th><th scope=col>permutation.importance</th><th scope=col>ImpRank</th><th scope=col>PercContRank</th><th scope=col>modnr</th></tr>\n",
       "\t<tr><th></th><th scope=col>&lt;fct&gt;</th><th scope=col>&lt;dbl&gt;</th><th scope=col>&lt;dbl&gt;</th><th scope=col>&lt;int&gt;</th><th scope=col>&lt;int&gt;</th><th scope=col>&lt;int&gt;</th></tr>\n",
       "</thead>\n",
       "<tbody>\n",
       "\t<tr><th scope=row>1</th><td>EMPEdist               </td><td>24.9692</td><td>21.7662</td><td>1</td><td>1</td><td>1</td></tr>\n",
       "\t<tr><th scope=row>2</th><td>cont300dist            </td><td>23.6440</td><td>18.0500</td><td>3</td><td>2</td><td>1</td></tr>\n",
       "\t<tr><th scope=row>3</th><td>cont800dist            </td><td>19.4140</td><td>19.1118</td><td>2</td><td>3</td><td>1</td></tr>\n",
       "\t<tr><th scope=row>4</th><td>ADPEdist               </td><td>14.6524</td><td>11.6794</td><td>4</td><td>4</td><td>1</td></tr>\n",
       "\t<tr><th scope=row>5</th><td>PredictabilityOct5Years</td><td> 5.9105</td><td> 7.9632</td><td>5</td><td>5</td><td>1</td></tr>\n",
       "\t<tr><th scope=row>6</th><td>EMPEabund              </td><td> 3.2888</td><td> 3.7162</td><td>8</td><td>6</td><td>1</td></tr>\n",
       "</tbody>\n",
       "</table>\n"
      ],
      "text/latex": [
       "A data.frame: 6 × 6\n",
       "\\begin{tabular}{r|llllll}\n",
       "  & variable & percent.contribution & permutation.importance & ImpRank & PercContRank & modnr\\\\\n",
       "  & <fct> & <dbl> & <dbl> & <int> & <int> & <int>\\\\\n",
       "\\hline\n",
       "\t1 & EMPEdist                & 24.9692 & 21.7662 & 1 & 1 & 1\\\\\n",
       "\t2 & cont300dist             & 23.6440 & 18.0500 & 3 & 2 & 1\\\\\n",
       "\t3 & cont800dist             & 19.4140 & 19.1118 & 2 & 3 & 1\\\\\n",
       "\t4 & ADPEdist                & 14.6524 & 11.6794 & 4 & 4 & 1\\\\\n",
       "\t5 & PredictabilityOct5Years &  5.9105 &  7.9632 & 5 & 5 & 1\\\\\n",
       "\t6 & EMPEabund               &  3.2888 &  3.7162 & 8 & 6 & 1\\\\\n",
       "\\end{tabular}\n"
      ],
      "text/markdown": [
       "\n",
       "A data.frame: 6 × 6\n",
       "\n",
       "| <!--/--> | variable &lt;fct&gt; | percent.contribution &lt;dbl&gt; | permutation.importance &lt;dbl&gt; | ImpRank &lt;int&gt; | PercContRank &lt;int&gt; | modnr &lt;int&gt; |\n",
       "|---|---|---|---|---|---|---|\n",
       "| 1 | EMPEdist                | 24.9692 | 21.7662 | 1 | 1 | 1 |\n",
       "| 2 | cont300dist             | 23.6440 | 18.0500 | 3 | 2 | 1 |\n",
       "| 3 | cont800dist             | 19.4140 | 19.1118 | 2 | 3 | 1 |\n",
       "| 4 | ADPEdist                | 14.6524 | 11.6794 | 4 | 4 | 1 |\n",
       "| 5 | PredictabilityOct5Years |  5.9105 |  7.9632 | 5 | 5 | 1 |\n",
       "| 6 | EMPEabund               |  3.2888 |  3.7162 | 8 | 6 | 1 |\n",
       "\n"
      ],
      "text/plain": [
       "  variable                percent.contribution permutation.importance ImpRank\n",
       "1 EMPEdist                24.9692              21.7662                1      \n",
       "2 cont300dist             23.6440              18.0500                3      \n",
       "3 cont800dist             19.4140              19.1118                2      \n",
       "4 ADPEdist                14.6524              11.6794                4      \n",
       "5 PredictabilityOct5Years  5.9105               7.9632                5      \n",
       "6 EMPEabund                3.2888               3.7162                8      \n",
       "  PercContRank modnr\n",
       "1 1            1    \n",
       "2 2            1    \n",
       "3 3            1    \n",
       "4 4            1    \n",
       "5 5            1    \n",
       "6 6            1    "
      ]
     },
     "metadata": {},
     "output_type": "display_data"
    },
    {
     "data": {
      "text/html": [
       "<table>\n",
       "<caption>A data.frame: 3 × 8</caption>\n",
       "<thead>\n",
       "\t<tr><th></th><th scope=col>modnr</th><th scope=col>seed</th><th scope=col>train.AUC</th><th scope=col>test.AUC</th><th scope=col>features</th><th scope=col>rm</th><th scope=col>parameters</th><th scope=col>AUC</th></tr>\n",
       "\t<tr><th></th><th scope=col>&lt;int&gt;</th><th scope=col>&lt;int&gt;</th><th scope=col>&lt;dbl&gt;</th><th scope=col>&lt;dbl&gt;</th><th scope=col>&lt;fct&gt;</th><th scope=col>&lt;dbl&gt;</th><th scope=col>&lt;int&gt;</th><th scope=col>&lt;dbl&gt;</th></tr>\n",
       "</thead>\n",
       "<tbody>\n",
       "\t<tr><th scope=row>1</th><td>1</td><td> 2016</td><td>0.8117</td><td>0.8287313</td><td>LQHP</td><td>1.0</td><td>58</td><td>0.7631579</td></tr>\n",
       "\t<tr><th scope=row>2</th><td>2</td><td>17617</td><td>0.8346</td><td>0.8214655</td><td>QHPT</td><td>4.0</td><td>50</td><td>0.7982456</td></tr>\n",
       "\t<tr><th scope=row>3</th><td>3</td><td> 9563</td><td>0.8271</td><td>0.8179022</td><td>QHPT</td><td>3.5</td><td>51</td><td>0.7631579</td></tr>\n",
       "</tbody>\n",
       "</table>\n"
      ],
      "text/latex": [
       "A data.frame: 3 × 8\n",
       "\\begin{tabular}{r|llllllll}\n",
       "  & modnr & seed & train.AUC & test.AUC & features & rm & parameters & AUC\\\\\n",
       "  & <int> & <int> & <dbl> & <dbl> & <fct> & <dbl> & <int> & <dbl>\\\\\n",
       "\\hline\n",
       "\t1 & 1 &  2016 & 0.8117 & 0.8287313 & LQHP & 1.0 & 58 & 0.7631579\\\\\n",
       "\t2 & 2 & 17617 & 0.8346 & 0.8214655 & QHPT & 4.0 & 50 & 0.7982456\\\\\n",
       "\t3 & 3 &  9563 & 0.8271 & 0.8179022 & QHPT & 3.5 & 51 & 0.7631579\\\\\n",
       "\\end{tabular}\n"
      ],
      "text/markdown": [
       "\n",
       "A data.frame: 3 × 8\n",
       "\n",
       "| <!--/--> | modnr &lt;int&gt; | seed &lt;int&gt; | train.AUC &lt;dbl&gt; | test.AUC &lt;dbl&gt; | features &lt;fct&gt; | rm &lt;dbl&gt; | parameters &lt;int&gt; | AUC &lt;dbl&gt; |\n",
       "|---|---|---|---|---|---|---|---|---|\n",
       "| 1 | 1 |  2016 | 0.8117 | 0.8287313 | LQHP | 1.0 | 58 | 0.7631579 |\n",
       "| 2 | 2 | 17617 | 0.8346 | 0.8214655 | QHPT | 4.0 | 50 | 0.7982456 |\n",
       "| 3 | 3 |  9563 | 0.8271 | 0.8179022 | QHPT | 3.5 | 51 | 0.7631579 |\n",
       "\n"
      ],
      "text/plain": [
       "  modnr seed  train.AUC test.AUC  features rm  parameters AUC      \n",
       "1 1      2016 0.8117    0.8287313 LQHP     1.0 58         0.7631579\n",
       "2 2     17617 0.8346    0.8214655 QHPT     4.0 50         0.7982456\n",
       "3 3      9563 0.8271    0.8179022 QHPT     3.5 51         0.7631579"
      ]
     },
     "metadata": {},
     "output_type": "display_data"
    }
   ],
   "source": [
    "#This file contains the rankins of importance for each variable\n",
    "pathToMax <- paste0(pathToLocalGit,\"/data/MaxentResults/\")\n",
    "resultsImp_Max <- read.csv(paste0(pathToLocalGit,\"/data/MaxentResults/ResultsImp_Max.csv\"))\n",
    "head(resultsImp_Max)\n",
    "#This one contains model metrics for each model\n",
    "resultsPerf_Max <- read.csv(paste0(pathToLocalGit,\"/data/MaxentResults/ResultsPerf_Max.csv\"))\n",
    "head(resultsPerf_Max)\n",
    "\n",
    "set.seed(69)\n",
    "runs <- 500\n",
    "# generate vector of seeds\n",
    "eff_seeds <- sample(1:2^15, runs)\n",
    "occs <- seal_train[,c(\"lon\",\"lat\")]\n",
    "\n"
   ]
  },
  {
   "cell_type": "code",
   "execution_count": 66,
   "metadata": {},
   "outputs": [],
   "source": [
    "#### NB! Edit this every time before running the loop\n",
    "N <- 500 #The number of boostraps you want to run\n",
    "j <- 451 #The number where your loop should start."
   ]
  },
  {
   "cell_type": "code",
   "execution_count": 67,
   "metadata": {},
   "outputs": [
    {
     "name": "stdout",
     "output_type": "stream",
     "text": [
      "[1] 451\n"
     ]
    },
    {
     "name": "stderr",
     "output_type": "stream",
     "text": [
      "*** Running ENMevaluate using Maxent 3.4.1 via dismo 1.1.4 ***\n",
      "\n",
      "Doing random k-fold evaluation groups...\n",
      "\n",
      "Of 2 total cores using 2\n",
      "\n",
      "Running in parallel...\n",
      "\n",
      "Warning message in calc.aicc(nparam, occ, predictive.maps):\n",
      "“AICc not valid... returning NA's.”\n",
      "ENMeval completed in 4 minutes 51.3 seconds.\n",
      "\n"
     ]
    },
    {
     "name": "stdout",
     "output_type": "stream",
     "text": [
      "[1] 0.7719298\n",
      "[1] 452\n"
     ]
    },
    {
     "name": "stderr",
     "output_type": "stream",
     "text": [
      "*** Running ENMevaluate using Maxent 3.4.1 via dismo 1.1.4 ***\n",
      "\n",
      "Doing random k-fold evaluation groups...\n",
      "\n",
      "Of 2 total cores using 2\n",
      "\n",
      "Running in parallel...\n",
      "\n",
      "Warning message in calc.aicc(nparam, occ, predictive.maps):\n",
      "“AICc not valid... returning NA's.”\n",
      "ENMeval completed in 4 minutes 54.2 seconds.\n",
      "\n"
     ]
    },
    {
     "name": "stdout",
     "output_type": "stream",
     "text": [
      "[1] 0.7719298\n",
      "[1] 453\n"
     ]
    },
    {
     "name": "stderr",
     "output_type": "stream",
     "text": [
      "*** Running ENMevaluate using Maxent 3.4.1 via dismo 1.1.4 ***\n",
      "\n",
      "Doing random k-fold evaluation groups...\n",
      "\n",
      "Of 2 total cores using 2\n",
      "\n",
      "Running in parallel...\n",
      "\n",
      "Warning message in calc.aicc(nparam, occ, predictive.maps):\n",
      "“AICc not valid... returning NA's.”\n",
      "ENMeval completed in 5 minutes 0.3 seconds.\n",
      "\n"
     ]
    },
    {
     "name": "stdout",
     "output_type": "stream",
     "text": [
      "[1] 0.7982456\n",
      "[1] 454\n"
     ]
    },
    {
     "name": "stderr",
     "output_type": "stream",
     "text": [
      "*** Running ENMevaluate using Maxent 3.4.1 via dismo 1.1.4 ***\n",
      "\n",
      "Doing random k-fold evaluation groups...\n",
      "\n",
      "Of 2 total cores using 2\n",
      "\n",
      "Running in parallel...\n",
      "\n",
      "Warning message in calc.aicc(nparam, occ, predictive.maps):\n",
      "“AICc not valid... returning NA's.”\n",
      "ENMeval completed in 4 minutes 56.9 seconds.\n",
      "\n"
     ]
    },
    {
     "name": "stdout",
     "output_type": "stream",
     "text": [
      "[1] 0.7982456\n",
      "[1] 455\n"
     ]
    },
    {
     "name": "stderr",
     "output_type": "stream",
     "text": [
      "*** Running ENMevaluate using Maxent 3.4.1 via dismo 1.1.4 ***\n",
      "\n",
      "Doing random k-fold evaluation groups...\n",
      "\n",
      "Of 2 total cores using 2\n",
      "\n",
      "Running in parallel...\n",
      "\n",
      "Warning message in calc.aicc(nparam, occ, predictive.maps):\n",
      "“AICc not valid... returning NA's.”\n",
      "ENMeval completed in 4 minutes 48.2 seconds.\n",
      "\n"
     ]
    },
    {
     "name": "stdout",
     "output_type": "stream",
     "text": [
      "[1] 0.8070175\n",
      "[1] 456\n"
     ]
    },
    {
     "name": "stderr",
     "output_type": "stream",
     "text": [
      "*** Running ENMevaluate using Maxent 3.4.1 via dismo 1.1.4 ***\n",
      "\n",
      "Doing random k-fold evaluation groups...\n",
      "\n",
      "Of 2 total cores using 2\n",
      "\n",
      "Running in parallel...\n",
      "\n",
      "Warning message in calc.aicc(nparam, occ, predictive.maps):\n",
      "“AICc not valid... returning NA's.”\n",
      "ENMeval completed in 4 minutes 48.7 seconds.\n",
      "\n"
     ]
    },
    {
     "name": "stdout",
     "output_type": "stream",
     "text": [
      "[1] 0.7982456\n",
      "[1] 457\n"
     ]
    },
    {
     "name": "stderr",
     "output_type": "stream",
     "text": [
      "*** Running ENMevaluate using Maxent 3.4.1 via dismo 1.1.4 ***\n",
      "\n",
      "Doing random k-fold evaluation groups...\n",
      "\n",
      "Of 2 total cores using 2\n",
      "\n",
      "Running in parallel...\n",
      "\n",
      "Warning message in calc.aicc(nparam, occ, predictive.maps):\n",
      "“AICc not valid... returning NA's.”\n",
      "ENMeval completed in 4 minutes 50 seconds.\n",
      "\n"
     ]
    },
    {
     "name": "stdout",
     "output_type": "stream",
     "text": [
      "[1] 0.7719298\n",
      "[1] 458\n"
     ]
    },
    {
     "name": "stderr",
     "output_type": "stream",
     "text": [
      "*** Running ENMevaluate using Maxent 3.4.1 via dismo 1.1.4 ***\n",
      "\n",
      "Doing random k-fold evaluation groups...\n",
      "\n",
      "Of 2 total cores using 2\n",
      "\n",
      "Running in parallel...\n",
      "\n",
      "Warning message in calc.aicc(nparam, occ, predictive.maps):\n",
      "“AICc not valid... returning NA's.”\n",
      "ENMeval completed in 4 minutes 51.4 seconds.\n",
      "\n"
     ]
    },
    {
     "name": "stdout",
     "output_type": "stream",
     "text": [
      "[1] 0.7982456\n",
      "[1] 459\n"
     ]
    },
    {
     "name": "stderr",
     "output_type": "stream",
     "text": [
      "*** Running ENMevaluate using Maxent 3.4.1 via dismo 1.1.4 ***\n",
      "\n",
      "Doing random k-fold evaluation groups...\n",
      "\n",
      "Of 2 total cores using 2\n",
      "\n",
      "Running in parallel...\n",
      "\n",
      "Warning message in calc.aicc(nparam, occ, predictive.maps):\n",
      "“AICc not valid... returning NA's.”\n",
      "ENMeval completed in 4 minutes 52.6 seconds.\n",
      "\n"
     ]
    },
    {
     "name": "stdout",
     "output_type": "stream",
     "text": [
      "[1] 0.7719298\n",
      "[1] 460\n"
     ]
    },
    {
     "name": "stderr",
     "output_type": "stream",
     "text": [
      "*** Running ENMevaluate using Maxent 3.4.1 via dismo 1.1.4 ***\n",
      "\n",
      "Doing random k-fold evaluation groups...\n",
      "\n",
      "Of 2 total cores using 2\n",
      "\n",
      "Running in parallel...\n",
      "\n",
      "Warning message in calc.aicc(nparam, occ, predictive.maps):\n",
      "“AICc not valid... returning NA's.”\n",
      "ENMeval completed in 4 minutes 49.5 seconds.\n",
      "\n"
     ]
    },
    {
     "name": "stdout",
     "output_type": "stream",
     "text": [
      "[1] 0.7719298\n",
      "[1] 461\n"
     ]
    },
    {
     "name": "stderr",
     "output_type": "stream",
     "text": [
      "*** Running ENMevaluate using Maxent 3.4.1 via dismo 1.1.4 ***\n",
      "\n",
      "Doing random k-fold evaluation groups...\n",
      "\n",
      "Of 2 total cores using 2\n",
      "\n",
      "Running in parallel...\n",
      "\n",
      "Warning message in calc.aicc(nparam, occ, predictive.maps):\n",
      "“AICc not valid... returning NA's.”\n",
      "ENMeval completed in 4 minutes 44.7 seconds.\n",
      "\n"
     ]
    },
    {
     "name": "stdout",
     "output_type": "stream",
     "text": [
      "[1] 0.7982456\n",
      "[1] 462\n"
     ]
    },
    {
     "name": "stderr",
     "output_type": "stream",
     "text": [
      "*** Running ENMevaluate using Maxent 3.4.1 via dismo 1.1.4 ***\n",
      "\n",
      "Doing random k-fold evaluation groups...\n",
      "\n",
      "Of 2 total cores using 2\n",
      "\n",
      "Running in parallel...\n",
      "\n",
      "Warning message in calc.aicc(nparam, occ, predictive.maps):\n",
      "“AICc not valid... returning NA's.”\n",
      "ENMeval completed in 4 minutes 45.8 seconds.\n",
      "\n"
     ]
    },
    {
     "name": "stdout",
     "output_type": "stream",
     "text": [
      "[1] 0.7982456\n",
      "[1] 463\n"
     ]
    },
    {
     "name": "stderr",
     "output_type": "stream",
     "text": [
      "*** Running ENMevaluate using Maxent 3.4.1 via dismo 1.1.4 ***\n",
      "\n",
      "Doing random k-fold evaluation groups...\n",
      "\n",
      "Of 2 total cores using 2\n",
      "\n",
      "Running in parallel...\n",
      "\n",
      "Warning message in calc.aicc(nparam, occ, predictive.maps):\n",
      "“AICc not valid... returning NA's.”\n",
      "ENMeval completed in 4 minutes 45.6 seconds.\n",
      "\n"
     ]
    },
    {
     "name": "stdout",
     "output_type": "stream",
     "text": [
      "[1] 0.7982456\n",
      "[1] 464\n"
     ]
    },
    {
     "name": "stderr",
     "output_type": "stream",
     "text": [
      "*** Running ENMevaluate using Maxent 3.4.1 via dismo 1.1.4 ***\n",
      "\n",
      "Doing random k-fold evaluation groups...\n",
      "\n",
      "Of 2 total cores using 2\n",
      "\n",
      "Running in parallel...\n",
      "\n",
      "Warning message in calc.aicc(nparam, occ, predictive.maps):\n",
      "“AICc not valid... returning NA's.”\n",
      "ENMeval completed in 4 minutes 50.9 seconds.\n",
      "\n"
     ]
    },
    {
     "name": "stdout",
     "output_type": "stream",
     "text": [
      "[1] 0.7719298\n",
      "[1] 465\n"
     ]
    },
    {
     "name": "stderr",
     "output_type": "stream",
     "text": [
      "*** Running ENMevaluate using Maxent 3.4.1 via dismo 1.1.4 ***\n",
      "\n",
      "Doing random k-fold evaluation groups...\n",
      "\n",
      "Of 2 total cores using 2\n",
      "\n",
      "Running in parallel...\n",
      "\n",
      "Warning message in calc.aicc(nparam, occ, predictive.maps):\n",
      "“AICc not valid... returning NA's.”\n",
      "ENMeval completed in 4 minutes 45.1 seconds.\n",
      "\n"
     ]
    },
    {
     "name": "stdout",
     "output_type": "stream",
     "text": [
      "[1] 0.7982456\n",
      "[1] 466\n"
     ]
    },
    {
     "name": "stderr",
     "output_type": "stream",
     "text": [
      "*** Running ENMevaluate using Maxent 3.4.1 via dismo 1.1.4 ***\n",
      "\n",
      "Doing random k-fold evaluation groups...\n",
      "\n",
      "Of 2 total cores using 2\n",
      "\n",
      "Running in parallel...\n",
      "\n",
      "Warning message in calc.aicc(nparam, occ, predictive.maps):\n",
      "“AICc not valid... returning NA's.”\n",
      "ENMeval completed in 4 minutes 47.6 seconds.\n",
      "\n"
     ]
    },
    {
     "name": "stdout",
     "output_type": "stream",
     "text": [
      "[1] 0.8070175\n",
      "[1] 467\n"
     ]
    },
    {
     "name": "stderr",
     "output_type": "stream",
     "text": [
      "*** Running ENMevaluate using Maxent 3.4.1 via dismo 1.1.4 ***\n",
      "\n",
      "Doing random k-fold evaluation groups...\n",
      "\n",
      "Of 2 total cores using 2\n",
      "\n",
      "Running in parallel...\n",
      "\n",
      "Warning message in calc.aicc(nparam, occ, predictive.maps):\n",
      "“AICc not valid... returning NA's.”\n",
      "ENMeval completed in 4 minutes 51 seconds.\n",
      "\n"
     ]
    },
    {
     "name": "stdout",
     "output_type": "stream",
     "text": [
      "[1] 0.7719298\n",
      "[1] 468\n"
     ]
    },
    {
     "name": "stderr",
     "output_type": "stream",
     "text": [
      "*** Running ENMevaluate using Maxent 3.4.1 via dismo 1.1.4 ***\n",
      "\n",
      "Doing random k-fold evaluation groups...\n",
      "\n",
      "Of 2 total cores using 2\n",
      "\n",
      "Running in parallel...\n",
      "\n",
      "Warning message in calc.aicc(nparam, occ, predictive.maps):\n",
      "“AICc not valid... returning NA's.”\n",
      "ENMeval completed in 4 minutes 49.9 seconds.\n",
      "\n"
     ]
    },
    {
     "name": "stdout",
     "output_type": "stream",
     "text": [
      "[1] 0.7719298\n",
      "[1] 469\n"
     ]
    },
    {
     "name": "stderr",
     "output_type": "stream",
     "text": [
      "*** Running ENMevaluate using Maxent 3.4.1 via dismo 1.1.4 ***\n",
      "\n",
      "Doing random k-fold evaluation groups...\n",
      "\n",
      "Of 2 total cores using 2\n",
      "\n",
      "Running in parallel...\n",
      "\n",
      "Warning message in calc.aicc(nparam, occ, predictive.maps):\n",
      "“AICc not valid... returning NA's.”\n",
      "ENMeval completed in 4 minutes 42.3 seconds.\n",
      "\n"
     ]
    },
    {
     "name": "stdout",
     "output_type": "stream",
     "text": [
      "[1] 0.7982456\n",
      "[1] 470\n"
     ]
    },
    {
     "name": "stderr",
     "output_type": "stream",
     "text": [
      "*** Running ENMevaluate using Maxent 3.4.1 via dismo 1.1.4 ***\n",
      "\n",
      "Doing random k-fold evaluation groups...\n",
      "\n",
      "Of 2 total cores using 2\n",
      "\n",
      "Running in parallel...\n",
      "\n",
      "Warning message in calc.aicc(nparam, occ, predictive.maps):\n",
      "“AICc not valid... returning NA's.”\n",
      "ENMeval completed in 4 minutes 48.5 seconds.\n",
      "\n"
     ]
    },
    {
     "name": "stdout",
     "output_type": "stream",
     "text": [
      "[1] 0.7982456\n",
      "[1] 471\n"
     ]
    },
    {
     "name": "stderr",
     "output_type": "stream",
     "text": [
      "*** Running ENMevaluate using Maxent 3.4.1 via dismo 1.1.4 ***\n",
      "\n",
      "Doing random k-fold evaluation groups...\n",
      "\n",
      "Of 2 total cores using 2\n",
      "\n",
      "Running in parallel...\n",
      "\n",
      "Warning message in calc.aicc(nparam, occ, predictive.maps):\n",
      "“AICc not valid... returning NA's.”\n",
      "ENMeval completed in 4 minutes 50.2 seconds.\n",
      "\n"
     ]
    },
    {
     "name": "stdout",
     "output_type": "stream",
     "text": [
      "[1] 0.7719298\n",
      "[1] 472\n"
     ]
    },
    {
     "name": "stderr",
     "output_type": "stream",
     "text": [
      "*** Running ENMevaluate using Maxent 3.4.1 via dismo 1.1.4 ***\n",
      "\n",
      "Doing random k-fold evaluation groups...\n",
      "\n",
      "Of 2 total cores using 2\n",
      "\n",
      "Running in parallel...\n",
      "\n",
      "Warning message in calc.aicc(nparam, occ, predictive.maps):\n",
      "“AICc not valid... returning NA's.”\n",
      "ENMeval completed in 4 minutes 51.3 seconds.\n",
      "\n"
     ]
    },
    {
     "name": "stdout",
     "output_type": "stream",
     "text": [
      "[1] 0.7982456\n",
      "[1] 473\n"
     ]
    },
    {
     "name": "stderr",
     "output_type": "stream",
     "text": [
      "*** Running ENMevaluate using Maxent 3.4.1 via dismo 1.1.4 ***\n",
      "\n",
      "Doing random k-fold evaluation groups...\n",
      "\n",
      "Of 2 total cores using 2\n",
      "\n",
      "Running in parallel...\n",
      "\n",
      "Warning message in calc.aicc(nparam, occ, predictive.maps):\n",
      "“AICc not valid... returning NA's.”\n",
      "ENMeval completed in 4 minutes 47.3 seconds.\n",
      "\n"
     ]
    },
    {
     "name": "stdout",
     "output_type": "stream",
     "text": [
      "[1] 0.7280702\n",
      "[1] 474\n"
     ]
    },
    {
     "name": "stderr",
     "output_type": "stream",
     "text": [
      "*** Running ENMevaluate using Maxent 3.4.1 via dismo 1.1.4 ***\n",
      "\n",
      "Doing random k-fold evaluation groups...\n",
      "\n",
      "Of 2 total cores using 2\n",
      "\n",
      "Running in parallel...\n",
      "\n",
      "Warning message in calc.aicc(nparam, occ, predictive.maps):\n",
      "“AICc not valid... returning NA's.”\n",
      "ENMeval completed in 4 minutes 49.1 seconds.\n",
      "\n"
     ]
    },
    {
     "name": "stdout",
     "output_type": "stream",
     "text": [
      "[1] 0.8245614\n",
      "[1] 475\n"
     ]
    },
    {
     "name": "stderr",
     "output_type": "stream",
     "text": [
      "*** Running ENMevaluate using Maxent 3.4.1 via dismo 1.1.4 ***\n",
      "\n",
      "Doing random k-fold evaluation groups...\n",
      "\n",
      "Of 2 total cores using 2\n",
      "\n",
      "Running in parallel...\n",
      "\n",
      "Warning message in calc.aicc(nparam, occ, predictive.maps):\n",
      "“AICc not valid... returning NA's.”\n",
      "ENMeval completed in 4 minutes 47.6 seconds.\n",
      "\n"
     ]
    },
    {
     "name": "stdout",
     "output_type": "stream",
     "text": [
      "[1] 0.7631579\n",
      "[1] 476\n"
     ]
    },
    {
     "name": "stderr",
     "output_type": "stream",
     "text": [
      "*** Running ENMevaluate using Maxent 3.4.1 via dismo 1.1.4 ***\n",
      "\n",
      "Doing random k-fold evaluation groups...\n",
      "\n",
      "Of 2 total cores using 2\n",
      "\n",
      "Running in parallel...\n",
      "\n",
      "Warning message in calc.aicc(nparam, occ, predictive.maps):\n",
      "“AICc not valid... returning NA's.”\n",
      "ENMeval completed in 4 minutes 51.8 seconds.\n",
      "\n"
     ]
    },
    {
     "name": "stdout",
     "output_type": "stream",
     "text": [
      "[1] 0.7982456\n",
      "[1] 477\n"
     ]
    },
    {
     "name": "stderr",
     "output_type": "stream",
     "text": [
      "*** Running ENMevaluate using Maxent 3.4.1 via dismo 1.1.4 ***\n",
      "\n",
      "Doing random k-fold evaluation groups...\n",
      "\n",
      "Of 2 total cores using 2\n",
      "\n",
      "Running in parallel...\n",
      "\n",
      "Warning message in calc.aicc(nparam, occ, predictive.maps):\n",
      "“AICc not valid... returning NA's.”\n",
      "ENMeval completed in 4 minutes 58.1 seconds.\n",
      "\n"
     ]
    },
    {
     "name": "stdout",
     "output_type": "stream",
     "text": [
      "[1] 0.8070175\n",
      "[1] 478\n"
     ]
    },
    {
     "name": "stderr",
     "output_type": "stream",
     "text": [
      "*** Running ENMevaluate using Maxent 3.4.1 via dismo 1.1.4 ***\n",
      "\n",
      "Doing random k-fold evaluation groups...\n",
      "\n",
      "Of 2 total cores using 2\n",
      "\n",
      "Running in parallel...\n",
      "\n",
      "Warning message in calc.aicc(nparam, occ, predictive.maps):\n",
      "“AICc not valid... returning NA's.”\n",
      "ENMeval completed in 5 minutes 1.3 seconds.\n",
      "\n"
     ]
    },
    {
     "name": "stdout",
     "output_type": "stream",
     "text": [
      "[1] 0.8070175\n",
      "[1] 479\n"
     ]
    },
    {
     "name": "stderr",
     "output_type": "stream",
     "text": [
      "*** Running ENMevaluate using Maxent 3.4.1 via dismo 1.1.4 ***\n",
      "\n",
      "Doing random k-fold evaluation groups...\n",
      "\n",
      "Of 2 total cores using 2\n",
      "\n",
      "Running in parallel...\n",
      "\n",
      "Warning message in calc.aicc(nparam, occ, predictive.maps):\n",
      "“AICc not valid... returning NA's.”\n",
      "ENMeval completed in 5 minutes 2 seconds.\n",
      "\n"
     ]
    },
    {
     "name": "stdout",
     "output_type": "stream",
     "text": [
      "[1] 0.8070175\n",
      "[1] 480\n"
     ]
    },
    {
     "name": "stderr",
     "output_type": "stream",
     "text": [
      "*** Running ENMevaluate using Maxent 3.4.1 via dismo 1.1.4 ***\n",
      "\n",
      "Doing random k-fold evaluation groups...\n",
      "\n",
      "Of 2 total cores using 2\n",
      "\n",
      "Running in parallel...\n",
      "\n",
      "Warning message in calc.aicc(nparam, occ, predictive.maps):\n",
      "“AICc not valid... returning NA's.”\n",
      "ENMeval completed in 5 minutes 1 seconds.\n",
      "\n"
     ]
    },
    {
     "name": "stdout",
     "output_type": "stream",
     "text": [
      "[1] 0.8070175\n",
      "[1] 481\n"
     ]
    },
    {
     "name": "stderr",
     "output_type": "stream",
     "text": [
      "*** Running ENMevaluate using Maxent 3.4.1 via dismo 1.1.4 ***\n",
      "\n",
      "Doing random k-fold evaluation groups...\n",
      "\n",
      "Of 2 total cores using 2\n",
      "\n",
      "Running in parallel...\n",
      "\n",
      "Warning message in calc.aicc(nparam, occ, predictive.maps):\n",
      "“AICc not valid... returning NA's.”\n",
      "ENMeval completed in 4 minutes 53.7 seconds.\n",
      "\n"
     ]
    },
    {
     "name": "stdout",
     "output_type": "stream",
     "text": [
      "[1] 0.8245614\n",
      "[1] 482\n"
     ]
    },
    {
     "name": "stderr",
     "output_type": "stream",
     "text": [
      "*** Running ENMevaluate using Maxent 3.4.1 via dismo 1.1.4 ***\n",
      "\n",
      "Doing random k-fold evaluation groups...\n",
      "\n",
      "Of 2 total cores using 2\n",
      "\n",
      "Running in parallel...\n",
      "\n",
      "Warning message in calc.aicc(nparam, occ, predictive.maps):\n",
      "“AICc not valid... returning NA's.”\n",
      "ENMeval completed in 5 minutes 4.1 seconds.\n",
      "\n"
     ]
    },
    {
     "name": "stdout",
     "output_type": "stream",
     "text": [
      "[1] 0.7982456\n",
      "[1] 483\n"
     ]
    },
    {
     "name": "stderr",
     "output_type": "stream",
     "text": [
      "*** Running ENMevaluate using Maxent 3.4.1 via dismo 1.1.4 ***\n",
      "\n",
      "Doing random k-fold evaluation groups...\n",
      "\n",
      "Of 2 total cores using 2\n",
      "\n",
      "Running in parallel...\n",
      "\n",
      "Warning message in calc.aicc(nparam, occ, predictive.maps):\n",
      "“AICc not valid... returning NA's.”\n",
      "ENMeval completed in 4 minutes 54.8 seconds.\n",
      "\n"
     ]
    },
    {
     "name": "stdout",
     "output_type": "stream",
     "text": [
      "[1] 0.7719298\n",
      "[1] 484\n"
     ]
    },
    {
     "name": "stderr",
     "output_type": "stream",
     "text": [
      "*** Running ENMevaluate using Maxent 3.4.1 via dismo 1.1.4 ***\n",
      "\n",
      "Doing random k-fold evaluation groups...\n",
      "\n",
      "Of 2 total cores using 2\n",
      "\n",
      "Running in parallel...\n",
      "\n",
      "Warning message in calc.aicc(nparam, occ, predictive.maps):\n",
      "“AICc not valid... returning NA's.”\n",
      "ENMeval completed in 4 minutes 53.2 seconds.\n",
      "\n"
     ]
    },
    {
     "name": "stdout",
     "output_type": "stream",
     "text": [
      "[1] 0.8070175\n",
      "[1] 485\n"
     ]
    },
    {
     "name": "stderr",
     "output_type": "stream",
     "text": [
      "*** Running ENMevaluate using Maxent 3.4.1 via dismo 1.1.4 ***\n",
      "\n",
      "Doing random k-fold evaluation groups...\n",
      "\n",
      "Of 2 total cores using 2\n",
      "\n",
      "Running in parallel...\n",
      "\n",
      "Warning message in calc.aicc(nparam, occ, predictive.maps):\n",
      "“AICc not valid... returning NA's.”\n",
      "ENMeval completed in 4 minutes 55.2 seconds.\n",
      "\n"
     ]
    },
    {
     "name": "stdout",
     "output_type": "stream",
     "text": [
      "[1] 0.8070175\n",
      "[1] 486\n"
     ]
    },
    {
     "name": "stderr",
     "output_type": "stream",
     "text": [
      "*** Running ENMevaluate using Maxent 3.4.1 via dismo 1.1.4 ***\n",
      "\n",
      "Doing random k-fold evaluation groups...\n",
      "\n",
      "Of 2 total cores using 2\n",
      "\n",
      "Running in parallel...\n",
      "\n",
      "Warning message in calc.aicc(nparam, occ, predictive.maps):\n",
      "“AICc not valid... returning NA's.”\n",
      "ENMeval completed in 4 minutes 55.7 seconds.\n",
      "\n"
     ]
    },
    {
     "name": "stdout",
     "output_type": "stream",
     "text": [
      "[1] 0.7982456\n",
      "[1] 487\n"
     ]
    },
    {
     "name": "stderr",
     "output_type": "stream",
     "text": [
      "*** Running ENMevaluate using Maxent 3.4.1 via dismo 1.1.4 ***\n",
      "\n",
      "Doing random k-fold evaluation groups...\n",
      "\n",
      "Of 2 total cores using 2\n",
      "\n",
      "Running in parallel...\n",
      "\n",
      "Warning message in calc.aicc(nparam, occ, predictive.maps):\n",
      "“AICc not valid... returning NA's.”\n",
      "ENMeval completed in 4 minutes 55.4 seconds.\n",
      "\n"
     ]
    },
    {
     "name": "stdout",
     "output_type": "stream",
     "text": [
      "[1] 0.7719298\n",
      "[1] 488\n"
     ]
    },
    {
     "name": "stderr",
     "output_type": "stream",
     "text": [
      "*** Running ENMevaluate using Maxent 3.4.1 via dismo 1.1.4 ***\n",
      "\n",
      "Doing random k-fold evaluation groups...\n",
      "\n",
      "Of 2 total cores using 2\n",
      "\n",
      "Running in parallel...\n",
      "\n",
      "Warning message in calc.aicc(nparam, occ, predictive.maps):\n",
      "“AICc not valid... returning NA's.”\n",
      "ENMeval completed in 4 minutes 53.7 seconds.\n",
      "\n"
     ]
    },
    {
     "name": "stdout",
     "output_type": "stream",
     "text": [
      "[1] 0.8070175\n",
      "[1] 489\n"
     ]
    },
    {
     "name": "stderr",
     "output_type": "stream",
     "text": [
      "*** Running ENMevaluate using Maxent 3.4.1 via dismo 1.1.4 ***\n",
      "\n",
      "Doing random k-fold evaluation groups...\n",
      "\n",
      "Of 2 total cores using 2\n",
      "\n",
      "Running in parallel...\n",
      "\n",
      "Warning message in calc.aicc(nparam, occ, predictive.maps):\n",
      "“AICc not valid... returning NA's.”\n",
      "ENMeval completed in 4 minutes 58.4 seconds.\n",
      "\n"
     ]
    },
    {
     "name": "stdout",
     "output_type": "stream",
     "text": [
      "[1] 0.7719298\n",
      "[1] 490\n"
     ]
    },
    {
     "name": "stderr",
     "output_type": "stream",
     "text": [
      "*** Running ENMevaluate using Maxent 3.4.1 via dismo 1.1.4 ***\n",
      "\n",
      "Doing random k-fold evaluation groups...\n",
      "\n",
      "Of 2 total cores using 2\n",
      "\n",
      "Running in parallel...\n",
      "\n",
      "Warning message in calc.aicc(nparam, occ, predictive.maps):\n",
      "“AICc not valid... returning NA's.”\n",
      "ENMeval completed in 4 minutes 54.8 seconds.\n",
      "\n"
     ]
    },
    {
     "name": "stdout",
     "output_type": "stream",
     "text": [
      "[1] 0.7982456\n",
      "[1] 491\n"
     ]
    },
    {
     "name": "stderr",
     "output_type": "stream",
     "text": [
      "*** Running ENMevaluate using Maxent 3.4.1 via dismo 1.1.4 ***\n",
      "\n",
      "Doing random k-fold evaluation groups...\n",
      "\n",
      "Of 2 total cores using 2\n",
      "\n",
      "Running in parallel...\n",
      "\n",
      "Warning message in calc.aicc(nparam, occ, predictive.maps):\n",
      "“AICc not valid... returning NA's.”\n",
      "ENMeval completed in 4 minutes 52.5 seconds.\n",
      "\n"
     ]
    },
    {
     "name": "stdout",
     "output_type": "stream",
     "text": [
      "[1] 0.8070175\n",
      "[1] 492\n"
     ]
    },
    {
     "name": "stderr",
     "output_type": "stream",
     "text": [
      "*** Running ENMevaluate using Maxent 3.4.1 via dismo 1.1.4 ***\n",
      "\n",
      "Doing random k-fold evaluation groups...\n",
      "\n",
      "Of 2 total cores using 2\n",
      "\n",
      "Running in parallel...\n",
      "\n",
      "Warning message in calc.aicc(nparam, occ, predictive.maps):\n",
      "“AICc not valid... returning NA's.”\n",
      "ENMeval completed in 4 minutes 56.2 seconds.\n",
      "\n"
     ]
    },
    {
     "name": "stdout",
     "output_type": "stream",
     "text": [
      "[1] 0.8070175\n",
      "[1] 493\n"
     ]
    },
    {
     "name": "stderr",
     "output_type": "stream",
     "text": [
      "*** Running ENMevaluate using Maxent 3.4.1 via dismo 1.1.4 ***\n",
      "\n",
      "Doing random k-fold evaluation groups...\n",
      "\n",
      "Of 2 total cores using 2\n",
      "\n",
      "Running in parallel...\n",
      "\n",
      "Warning message in calc.aicc(nparam, occ, predictive.maps):\n",
      "“AICc not valid... returning NA's.”\n",
      "ENMeval completed in 4 minutes 48.6 seconds.\n",
      "\n"
     ]
    },
    {
     "name": "stdout",
     "output_type": "stream",
     "text": [
      "[1] 0.8245614\n",
      "[1] 494\n"
     ]
    },
    {
     "name": "stderr",
     "output_type": "stream",
     "text": [
      "*** Running ENMevaluate using Maxent 3.4.1 via dismo 1.1.4 ***\n",
      "\n",
      "Doing random k-fold evaluation groups...\n",
      "\n",
      "Of 2 total cores using 2\n",
      "\n",
      "Running in parallel...\n",
      "\n",
      "Warning message in calc.aicc(nparam, occ, predictive.maps):\n",
      "“AICc not valid... returning NA's.”\n",
      "ENMeval completed in 4 minutes 58.3 seconds.\n",
      "\n"
     ]
    },
    {
     "name": "stdout",
     "output_type": "stream",
     "text": [
      "[1] 0.7719298\n",
      "[1] 495\n"
     ]
    },
    {
     "name": "stderr",
     "output_type": "stream",
     "text": [
      "*** Running ENMevaluate using Maxent 3.4.1 via dismo 1.1.4 ***\n",
      "\n",
      "Doing random k-fold evaluation groups...\n",
      "\n",
      "Of 2 total cores using 2\n",
      "\n",
      "Running in parallel...\n",
      "\n",
      "Warning message in calc.aicc(nparam, occ, predictive.maps):\n",
      "“AICc not valid... returning NA's.”\n",
      "ENMeval completed in 4 minutes 51.8 seconds.\n",
      "\n"
     ]
    },
    {
     "name": "stdout",
     "output_type": "stream",
     "text": [
      "[1] 0.7982456\n",
      "[1] 496\n"
     ]
    },
    {
     "name": "stderr",
     "output_type": "stream",
     "text": [
      "*** Running ENMevaluate using Maxent 3.4.1 via dismo 1.1.4 ***\n",
      "\n",
      "Doing random k-fold evaluation groups...\n",
      "\n",
      "Of 2 total cores using 2\n",
      "\n",
      "Running in parallel...\n",
      "\n",
      "Warning message in calc.aicc(nparam, occ, predictive.maps):\n",
      "“AICc not valid... returning NA's.”\n",
      "ENMeval completed in 4 minutes 53.6 seconds.\n",
      "\n"
     ]
    },
    {
     "name": "stdout",
     "output_type": "stream",
     "text": [
      "[1] 0.8070175\n",
      "[1] 497\n"
     ]
    },
    {
     "name": "stderr",
     "output_type": "stream",
     "text": [
      "*** Running ENMevaluate using Maxent 3.4.1 via dismo 1.1.4 ***\n",
      "\n",
      "Doing random k-fold evaluation groups...\n",
      "\n",
      "Of 2 total cores using 2\n",
      "\n",
      "Running in parallel...\n",
      "\n",
      "Warning message in calc.aicc(nparam, occ, predictive.maps):\n",
      "“AICc not valid... returning NA's.”\n",
      "ENMeval completed in 4 minutes 55.1 seconds.\n",
      "\n"
     ]
    },
    {
     "name": "stdout",
     "output_type": "stream",
     "text": [
      "[1] 0.7982456\n",
      "[1] 498\n"
     ]
    },
    {
     "name": "stderr",
     "output_type": "stream",
     "text": [
      "*** Running ENMevaluate using Maxent 3.4.1 via dismo 1.1.4 ***\n",
      "\n",
      "Doing random k-fold evaluation groups...\n",
      "\n",
      "Of 2 total cores using 2\n",
      "\n",
      "Running in parallel...\n",
      "\n",
      "Warning message in calc.aicc(nparam, occ, predictive.maps):\n",
      "“AICc not valid... returning NA's.”\n",
      "ENMeval completed in 4 minutes 53.5 seconds.\n",
      "\n"
     ]
    },
    {
     "name": "stdout",
     "output_type": "stream",
     "text": [
      "[1] 0.7719298\n",
      "[1] 499\n"
     ]
    },
    {
     "name": "stderr",
     "output_type": "stream",
     "text": [
      "*** Running ENMevaluate using Maxent 3.4.1 via dismo 1.1.4 ***\n",
      "\n",
      "Doing random k-fold evaluation groups...\n",
      "\n",
      "Of 2 total cores using 2\n",
      "\n",
      "Running in parallel...\n",
      "\n",
      "Warning message in calc.aicc(nparam, occ, predictive.maps):\n",
      "“AICc not valid... returning NA's.”\n",
      "ENMeval completed in 4 minutes 52.1 seconds.\n",
      "\n"
     ]
    },
    {
     "name": "stdout",
     "output_type": "stream",
     "text": [
      "[1] 0.7719298\n",
      "[1] 500\n"
     ]
    },
    {
     "name": "stderr",
     "output_type": "stream",
     "text": [
      "*** Running ENMevaluate using Maxent 3.4.1 via dismo 1.1.4 ***\n",
      "\n",
      "Doing random k-fold evaluation groups...\n",
      "\n",
      "Of 2 total cores using 2\n",
      "\n",
      "Running in parallel...\n",
      "\n",
      "Warning message in calc.aicc(nparam, occ, predictive.maps):\n",
      "“AICc not valid... returning NA's.”\n",
      "ENMeval completed in 4 minutes 56.3 seconds.\n",
      "\n"
     ]
    },
    {
     "name": "stdout",
     "output_type": "stream",
     "text": [
      "[1] 0.7982456\n"
     ]
    }
   ],
   "source": [
    "# Loop starts here ----\n",
    "\n",
    "for (i in j:N){\n",
    "  \n",
    "  print(i)\n",
    "  set.seed(eff_seeds[i])\n",
    "  foo <- noseal_train[sample(boot_size),]\n",
    "  foo <- na.omit(foo)\n",
    "  bg <- foo[,c(\"lon\",\"lat\")]\n",
    "  \n",
    "  eval1 <- ENMevaluate(occ = occs,\n",
    "                       env = enviroRas,\n",
    "                       bg.coords = bg ,\n",
    "                       method=\"randomkfold\",\n",
    "                       RMvalues= seq(0.5, 4, 0.5),\n",
    "                       fc = c(\"LQH\", \"LQHP\", \"QHPT\", \"LQHPT\"),\n",
    "                       kfolds = 10,\n",
    "                       rasterPreds = TRUE,\n",
    "                       bin.output = FALSE,\n",
    "                       progbar = TRUE,\n",
    "                       parallel = TRUE,\n",
    "                       algorithm = \"maxent.jar\")\n",
    "  \n",
    "  bestmod <- droplevels(eval1@results[which.max(eval1@results$avg.test.AUC),])\n",
    "  \n",
    "  if (nrow(bestmod) >1){\n",
    "    bestmod <- bestmod[which.max(bestmod$rm),]\n",
    "  } else bestmod <- bestmod\n",
    "  \n",
    "  bestmod\n",
    "  \n",
    "  #Evaluate in-model performance\n",
    "  (tuning <- data.frame(modnr = i,\n",
    "                        seed = eff_seeds[i],\n",
    "                        train.AUC = bestmod$train.AUC,\n",
    "                        test.AUC = bestmod$avg.test.AUC,\n",
    "                        features = bestmod$features,\n",
    "                        rm = bestmod$rm,\n",
    "                        # AICc = bestmod$AICc,\n",
    "                        parameters = bestmod$parameters\n",
    "  ))\n",
    "  \n",
    "  #Out of model predicitons\n",
    "  (auc.opt <- eval1@models[[which.max(eval1@results$avg.test.AUC)]])\n",
    "  \n",
    "  model_eval_ROCR <- dismo::evaluateROCR(\n",
    "    p = (seal_test[,4:(ncol(seal_test)-1)]),\n",
    "    a = noseal_test[,4:(ncol(noseal_test)-1)],\n",
    "    model = auc.opt)\n",
    "  \n",
    "  perf <- performance(model_eval_ROCR,\"auc\")\n",
    "  tuning$AUC <- perf@y.values[[1]]\n",
    "  print(tuning$AUC) \n",
    "  \n",
    "  resultsPerf_Max <- rbind(resultsPerf_Max,tuning)\n",
    "  rm(tuning,perf,model_eval_ROCR,bestmod)\n",
    "  \n",
    "  #Variable Importance\n",
    "  (importance <- var.importance(auc.opt))\n",
    "  (importance <- importance[order(importance$permutation.importance,\n",
    "                                  decreasing = TRUE), ])\n",
    "  (importance$ImpRank <- 1:nrow(importance))\n",
    "  \n",
    "  (importance <- importance[order(importance$percent.contribution,\n",
    "                                  decreasing = TRUE), ])\n",
    "  (importance$PercContRank <- 1:nrow(importance))\n",
    "  (importance$modnr <- i)\n",
    "  (resultsImp_Max <- rbind(resultsImp_Max, importance))\n",
    "  rm(importance)\n",
    "  \n",
    "  #Raster prediction\n",
    "  predRas <- eval1@predictions[[which.max(eval1@results$avg.test.AUC)]]\n",
    "#   plot(predRas)\n",
    "#   plot(ant,add=TRUE,col=\"grey\")\n",
    "  \n",
    "  names(predRas) <- paste0(\"MaxentENMval\",i)\n",
    "  # MAXrastStack <- stack(MAXrastStack, predRas)\n",
    "  \n",
    "  writeRaster(predRas, paste0(pathToMax,\"/Max_Rasters/ENMVal/MaxrasterENMVal_\",i,\".tiff\"),overwrite=TRUE)\n",
    "  \n",
    "  # Raster predict\n",
    "  predRas2 <- predict(auc.opt,enviroRas,na.rm=TRUE)\n",
    "  # , type=\"prob\")\n",
    "  # par(mfrow=c(1,1))\n",
    "  # plot(predRas)\n",
    "  # plot(ant,add=TRUE,col=\"grey\")\n",
    "  \n",
    "  writeRaster(predRas2, paste0(pathToMax,\"/Max_Rasters/Dismo/MaxrasterDismo_\",i,\".tiff\"),overwrite=TRUE)\n",
    "  \n",
    "  \n",
    "  #Independent data testing - hold out sample\n",
    "  model_eval <- dismo::evaluate(p = seal_test[,4:(ncol(seal_test)-1)] ,a = noseal_test[,4:(ncol(noseal_test)-1)], model = auc.opt)\n",
    "# print(model_eval)\n",
    "#   plot(model_eval,'ROC')\n",
    "  \n",
    "  (tr <- threshold(model_eval, 'prevalence'))\n",
    "  paRas <- predRas2\n",
    "  paRas[paRas > tr] <- 1\n",
    "  paRas[paRas <= tr] <- 0\n",
    "  \n",
    "  # plot(paRas, main='Prevelance Threshold: presence/absence')\n",
    "  # plot(ant,add=TRUE,col=\"grey\")\n",
    "  \n",
    "  writeRaster(paRas, paste0(pathToMax,\"/Max_Rasters/Prevelance/ThresholdRasPrev_\",i,\".tiff\"),overwrite=TRUE)\n",
    "  \n",
    "  \n",
    "  (tr2 <- threshold(model_eval, 'equal_sens_spec'))\n",
    "#   plot(predRas2 > tr2, main='Equal sensitivity-specificity: presence/absence')\n",
    "#   plot(ant,add=TRUE,col=\"grey\")\n",
    "  \n",
    "  paRas2 <- predRas2\n",
    "  paRas2[paRas2 > tr2] <- 1\n",
    "  paRas2[paRas2 <= tr2] <- 0\n",
    "  \n",
    "  # plot(paRas2, main='Prevelance Threshold: presence/absence')\n",
    "  # plot(ant,add=TRUE,col=\"grey\")\n",
    "  \n",
    "  writeRaster(paRas2, paste0(pathToMax,\"/Max_Rasters/EqualSensSpec/ThresholdRasEqualSensSpec_\",i,\".tiff\"),overwrite=TRUE)\n",
    "  \n",
    "  \n",
    "  rm(predRas,predRas2,paRas, paRas2, tr,tr2,model_eval,foo)\n",
    "  \n",
    "  #Save and backup files ---\n",
    "  write.csv(resultsImp_Max,paste0(pathToMax,\"/ResultsImp_Max.csv\"),row.names = FALSE)\n",
    "  write.csv(resultsPerf_Max,paste0(pathToMax,\"/ResultsPerf_Max.csv\"),row.names = FALSE)\n",
    "  saveRDS(eval1, file = paste0(pathToMax,\"/Max_Models/Maxmodel_\",i,\".RDS\"))\n",
    "  \n",
    "}\n",
    "\n",
    "#save.image(\"WES_Maxent.RData\")"
   ]
  },
  {
   "cell_type": "code",
   "execution_count": 81,
   "metadata": {},
   "outputs": [
    {
     "data": {
      "text/html": [
       "246"
      ],
      "text/latex": [
       "246"
      ],
      "text/markdown": [
       "246"
      ],
      "text/plain": [
       "[1] 246"
      ]
     },
     "metadata": {},
     "output_type": "display_data"
    }
   ],
   "source": [
    "#### Zip Maxent results folder to download\n",
    "# library(utils)\n",
    "setwd(paste0(pathToLocalGit,\"data/MaxentResults/\"))\n",
    "\n",
    "files2zip <- dir(paste0(pathToLocalGit,\"/data/MaxentResults/Max_Models/\"), full.names = TRUE)\n",
    "length(files2zip)\n",
    "zip(zipfile = 'MaxModelsZip', files = files2zip)\n",
    "\n",
    "\n",
    "files2zipB <- dir(paste0(pathToLocalGit,\"/data/MaxentResults/Max_Rasters/\"), full.names = TRUE)\n",
    "length(files2zipB)\n",
    "zip(zipfile = 'MaxRastersZip', files = files2zipB)\n",
    "\n",
    "setwd(pathToLocalGit)\n",
    "rm(files2zip, files2zipB)"
   ]
  }
 ],
 "metadata": {
  "kernelspec": {
   "display_name": "R",
   "language": "R",
   "name": "ir"
  },
  "language_info": {
   "codemirror_mode": "r",
   "file_extension": ".r",
   "mimetype": "text/x-r-source",
   "name": "R",
   "pygments_lexer": "r",
   "version": "3.4.4"
  }
 },
 "nbformat": 4,
 "nbformat_minor": 2
}
