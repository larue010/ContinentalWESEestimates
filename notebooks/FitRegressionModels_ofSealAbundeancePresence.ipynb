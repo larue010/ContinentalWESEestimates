{
 "cells": [
  {
   "cell_type": "markdown",
   "metadata": {},
   "source": [
    "# Fit regression models of seal abundance and presence\n",
    "This notebook uses the information on the estimated number of seals per 5 x 5 KM grid cell to build regression models that aim to explain some of the factors that explain the observed distribution and abundance of Weddell seals around Antarctica.\n",
    "\n",
    "Run this file every time you run the notebook \"Attribute geospatial data with seal abundance data\", as it means you have new geospatial covariates to analyze."
   ]
  },
  {
   "cell_type": "markdown",
   "metadata": {},
   "source": [
    "### Loading the required libraries and other dependencies"
   ]
  },
  {
   "cell_type": "code",
   "execution_count": 77,
   "metadata": {},
   "outputs": [
    {
     "data": {
      "text/html": [
       "<table>\n",
       "<caption>A matrix: 2 × 6 of type dbl</caption>\n",
       "<thead>\n",
       "\t<tr><th></th><th scope=col>used</th><th scope=col>(Mb)</th><th scope=col>gc trigger</th><th scope=col>(Mb)</th><th scope=col>max used</th><th scope=col>(Mb)</th></tr>\n",
       "</thead>\n",
       "<tbody>\n",
       "\t<tr><th scope=row>Ncells</th><td>1299498</td><td>69.5</td><td> 2637877</td><td>140.9</td><td> 2637877</td><td>140.9</td></tr>\n",
       "\t<tr><th scope=row>Vcells</th><td>1657833</td><td>12.7</td><td>22658849</td><td>172.9</td><td>41186610</td><td>314.3</td></tr>\n",
       "</tbody>\n",
       "</table>\n"
      ],
      "text/latex": [
       "A matrix: 2 × 6 of type dbl\n",
       "\\begin{tabular}{r|llllll}\n",
       "  & used & (Mb) & gc trigger & (Mb) & max used & (Mb)\\\\\n",
       "\\hline\n",
       "\tNcells & 1299498 & 69.5 &  2637877 & 140.9 &  2637877 & 140.9\\\\\n",
       "\tVcells & 1657833 & 12.7 & 22658849 & 172.9 & 41186610 & 314.3\\\\\n",
       "\\end{tabular}\n"
      ],
      "text/markdown": [
       "\n",
       "A matrix: 2 × 6 of type dbl\n",
       "\n",
       "| <!--/--> | used | (Mb) | gc trigger | (Mb) | max used | (Mb) |\n",
       "|---|---|---|---|---|---|---|\n",
       "| Ncells | 1299498 | 69.5 |  2637877 | 140.9 |  2637877 | 140.9 |\n",
       "| Vcells | 1657833 | 12.7 | 22658849 | 172.9 | 41186610 | 314.3 |\n",
       "\n"
      ],
      "text/plain": [
       "       used    (Mb) gc trigger (Mb)  max used (Mb) \n",
       "Ncells 1299498 69.5  2637877   140.9  2637877 140.9\n",
       "Vcells 1657833 12.7 22658849   172.9 41186610 314.3"
      ]
     },
     "metadata": {},
     "output_type": "display_data"
    }
   ],
   "source": [
    "## Clear memory\n",
    "rm(list=ls())\n",
    "gc()"
   ]
  },
  {
   "cell_type": "code",
   "execution_count": 94,
   "metadata": {
    "scrolled": false
   },
   "outputs": [
    {
     "data": {
      "text/html": [
       "<ol>\n",
       "\t<li>TRUE</li>\n",
       "\t<li>TRUE</li>\n",
       "\t<li>TRUE</li>\n",
       "\t<li>TRUE</li>\n",
       "\t<li>TRUE</li>\n",
       "\t<li>TRUE</li>\n",
       "\t<li>TRUE</li>\n",
       "</ol>\n"
      ],
      "text/latex": [
       "\\begin{enumerate}\n",
       "\\item TRUE\n",
       "\\item TRUE\n",
       "\\item TRUE\n",
       "\\item TRUE\n",
       "\\item TRUE\n",
       "\\item TRUE\n",
       "\\item TRUE\n",
       "\\end{enumerate}\n"
      ],
      "text/markdown": [
       "1. TRUE\n",
       "2. TRUE\n",
       "3. TRUE\n",
       "4. TRUE\n",
       "5. TRUE\n",
       "6. TRUE\n",
       "7. TRUE\n",
       "\n",
       "\n"
      ],
      "text/plain": [
       "[[1]]\n",
       "[1] TRUE\n",
       "\n",
       "[[2]]\n",
       "[1] TRUE\n",
       "\n",
       "[[3]]\n",
       "[1] TRUE\n",
       "\n",
       "[[4]]\n",
       "[1] TRUE\n",
       "\n",
       "[[5]]\n",
       "[1] TRUE\n",
       "\n",
       "[[6]]\n",
       "[1] TRUE\n",
       "\n",
       "[[7]]\n",
       "[1] TRUE\n"
      ]
     },
     "metadata": {},
     "output_type": "display_data"
    },
    {
     "data": {
      "text/html": [
       "<table>\n",
       "<caption>A data.frame: 6 × 22</caption>\n",
       "<thead>\n",
       "\t<tr><th></th><th scope=col>gridCellId</th><th scope=col>meanslope</th><th scope=col>meanbathy</th><th scope=col>slope</th><th scope=col>bathy</th><th scope=col>shoredist</th><th scope=col>glacierdist</th><th scope=col>nearLineId</th><th scope=col>near_x</th><th scope=col>near_y</th><th scope=col>⋯</th><th scope=col>adpecol</th><th scope=col>empedist</th><th scope=col>empecol</th><th scope=col>cont300dist</th><th scope=col>cont800dist</th><th scope=col>coords.x1</th><th scope=col>coords.x2</th><th scope=col>mdlCol</th><th scope=col>mdlIsl</th><th scope=col>hasMaps</th></tr>\n",
       "\t<tr><th></th><th scope=col>&lt;int&gt;</th><th scope=col>&lt;dbl&gt;</th><th scope=col>&lt;dbl&gt;</th><th scope=col>&lt;dbl&gt;</th><th scope=col>&lt;dbl&gt;</th><th scope=col>&lt;dbl&gt;</th><th scope=col>&lt;dbl&gt;</th><th scope=col>&lt;dbl&gt;</th><th scope=col>&lt;dbl&gt;</th><th scope=col>&lt;dbl&gt;</th><th scope=col>⋯</th><th scope=col>&lt;fct&gt;</th><th scope=col>&lt;dbl&gt;</th><th scope=col>&lt;fct&gt;</th><th scope=col>&lt;dbl&gt;</th><th scope=col>&lt;dbl&gt;</th><th scope=col>&lt;dbl&gt;</th><th scope=col>&lt;dbl&gt;</th><th scope=col>&lt;dbl&gt;</th><th scope=col>&lt;dbl&gt;</th><th scope=col>&lt;dbl&gt;</th></tr>\n",
       "</thead>\n",
       "<tbody>\n",
       "\t<tr><th scope=row>1</th><td>68791</td><td>2.621992</td><td>-2846.908</td><td>2.5563672</td><td>-2864.911</td><td>206728.3</td><td>247849.6</td><td>2351</td><td>-2273383</td><td>2327082</td><td>⋯</td><td>Ferrier Peninsula</td><td>1013124</td><td>Snow Hill Island</td><td>142791.6</td><td>588996.1</td><td>-2191000</td><td>2511000</td><td>0</td><td>0</td><td>0</td></tr>\n",
       "\t<tr><th scope=row>2</th><td>68792</td><td>4.591249</td><td>-2587.330</td><td>4.4836812</td><td>-2612.724</td><td>208790.2</td><td>250334.0</td><td>2351</td><td>-2273383</td><td>2327082</td><td>⋯</td><td>Ferrier Peninsula</td><td>1014024</td><td>Snow Hill Island</td><td>142791.6</td><td>588996.1</td><td>-2186000</td><td>2511000</td><td>0</td><td>0</td><td>0</td></tr>\n",
       "\t<tr><th scope=row>3</th><td>68819</td><td>1.411659</td><td>-3014.080</td><td>1.5170590</td><td>-3024.577</td><td>200154.1</td><td>241050.2</td><td>2351</td><td>-2273383</td><td>2327082</td><td>⋯</td><td>Ferrier Peninsula</td><td>1007323</td><td>Snow Hill Island</td><td>138016.9</td><td>584654.8</td><td>-2196000</td><td>2506000</td><td>0</td><td>0</td><td>0</td></tr>\n",
       "\t<tr><th scope=row>4</th><td>68820</td><td>1.413779</td><td>-2920.630</td><td>0.7565953</td><td>-2930.036</td><td>202161.9</td><td>243501.3</td><td>2351</td><td>-2273383</td><td>2327082</td><td>⋯</td><td>Ferrier Peninsula</td><td>1008204</td><td>Snow Hill Island</td><td>138016.9</td><td>584654.8</td><td>-2191000</td><td>2506000</td><td>0</td><td>0</td><td>0</td></tr>\n",
       "\t<tr><th scope=row>5</th><td>68821</td><td>4.561732</td><td>-2686.220</td><td>4.5623317</td><td>-2716.875</td><td>204263.8</td><td>246029.6</td><td>2351</td><td>-2273383</td><td>2327082</td><td>⋯</td><td>Ferrier Peninsula</td><td>1009109</td><td>Snow Hill Island</td><td>138016.9</td><td>584654.8</td><td>-2186000</td><td>2506000</td><td>0</td><td>0</td><td>0</td></tr>\n",
       "\t<tr><th scope=row>6</th><td>68822</td><td>4.902608</td><td>-2264.930</td><td>5.1146288</td><td>-2277.257</td><td>206460.4</td><td>248632.8</td><td>2351</td><td>-2273383</td><td>2327082</td><td>⋯</td><td>Ferrier Peninsula</td><td>1010037</td><td>Snow Hill Island</td><td>138016.9</td><td>584654.8</td><td>-2181000</td><td>2506000</td><td>0</td><td>0</td><td>0</td></tr>\n",
       "</tbody>\n",
       "</table>\n"
      ],
      "text/latex": [
       "A data.frame: 6 × 22\n",
       "\\begin{tabular}{r|lllllllllllllllllllll}\n",
       "  & gridCellId & meanslope & meanbathy & slope & bathy & shoredist & glacierdist & nearLineId & near\\_x & near\\_y & ⋯ & adpecol & empedist & empecol & cont300dist & cont800dist & coords.x1 & coords.x2 & mdlCol & mdlIsl & hasMaps\\\\\n",
       "  & <int> & <dbl> & <dbl> & <dbl> & <dbl> & <dbl> & <dbl> & <dbl> & <dbl> & <dbl> & ⋯ & <fct> & <dbl> & <fct> & <dbl> & <dbl> & <dbl> & <dbl> & <dbl> & <dbl> & <dbl>\\\\\n",
       "\\hline\n",
       "\t1 & 68791 & 2.621992 & -2846.908 & 2.5563672 & -2864.911 & 206728.3 & 247849.6 & 2351 & -2273383 & 2327082 & ⋯ & Ferrier Peninsula & 1013124 & Snow Hill Island & 142791.6 & 588996.1 & -2191000 & 2511000 & 0 & 0 & 0\\\\\n",
       "\t2 & 68792 & 4.591249 & -2587.330 & 4.4836812 & -2612.724 & 208790.2 & 250334.0 & 2351 & -2273383 & 2327082 & ⋯ & Ferrier Peninsula & 1014024 & Snow Hill Island & 142791.6 & 588996.1 & -2186000 & 2511000 & 0 & 0 & 0\\\\\n",
       "\t3 & 68819 & 1.411659 & -3014.080 & 1.5170590 & -3024.577 & 200154.1 & 241050.2 & 2351 & -2273383 & 2327082 & ⋯ & Ferrier Peninsula & 1007323 & Snow Hill Island & 138016.9 & 584654.8 & -2196000 & 2506000 & 0 & 0 & 0\\\\\n",
       "\t4 & 68820 & 1.413779 & -2920.630 & 0.7565953 & -2930.036 & 202161.9 & 243501.3 & 2351 & -2273383 & 2327082 & ⋯ & Ferrier Peninsula & 1008204 & Snow Hill Island & 138016.9 & 584654.8 & -2191000 & 2506000 & 0 & 0 & 0\\\\\n",
       "\t5 & 68821 & 4.561732 & -2686.220 & 4.5623317 & -2716.875 & 204263.8 & 246029.6 & 2351 & -2273383 & 2327082 & ⋯ & Ferrier Peninsula & 1009109 & Snow Hill Island & 138016.9 & 584654.8 & -2186000 & 2506000 & 0 & 0 & 0\\\\\n",
       "\t6 & 68822 & 4.902608 & -2264.930 & 5.1146288 & -2277.257 & 206460.4 & 248632.8 & 2351 & -2273383 & 2327082 & ⋯ & Ferrier Peninsula & 1010037 & Snow Hill Island & 138016.9 & 584654.8 & -2181000 & 2506000 & 0 & 0 & 0\\\\\n",
       "\\end{tabular}\n"
      ],
      "text/markdown": [
       "\n",
       "A data.frame: 6 × 22\n",
       "\n",
       "| <!--/--> | gridCellId &lt;int&gt; | meanslope &lt;dbl&gt; | meanbathy &lt;dbl&gt; | slope &lt;dbl&gt; | bathy &lt;dbl&gt; | shoredist &lt;dbl&gt; | glacierdist &lt;dbl&gt; | nearLineId &lt;dbl&gt; | near_x &lt;dbl&gt; | near_y &lt;dbl&gt; | ⋯ ⋯ | adpecol &lt;fct&gt; | empedist &lt;dbl&gt; | empecol &lt;fct&gt; | cont300dist &lt;dbl&gt; | cont800dist &lt;dbl&gt; | coords.x1 &lt;dbl&gt; | coords.x2 &lt;dbl&gt; | mdlCol &lt;dbl&gt; | mdlIsl &lt;dbl&gt; | hasMaps &lt;dbl&gt; |\n",
       "|---|---|---|---|---|---|---|---|---|---|---|---|---|---|---|---|---|---|---|---|---|---|\n",
       "| 1 | 68791 | 2.621992 | -2846.908 | 2.5563672 | -2864.911 | 206728.3 | 247849.6 | 2351 | -2273383 | 2327082 | ⋯ | Ferrier Peninsula | 1013124 | Snow Hill Island | 142791.6 | 588996.1 | -2191000 | 2511000 | 0 | 0 | 0 |\n",
       "| 2 | 68792 | 4.591249 | -2587.330 | 4.4836812 | -2612.724 | 208790.2 | 250334.0 | 2351 | -2273383 | 2327082 | ⋯ | Ferrier Peninsula | 1014024 | Snow Hill Island | 142791.6 | 588996.1 | -2186000 | 2511000 | 0 | 0 | 0 |\n",
       "| 3 | 68819 | 1.411659 | -3014.080 | 1.5170590 | -3024.577 | 200154.1 | 241050.2 | 2351 | -2273383 | 2327082 | ⋯ | Ferrier Peninsula | 1007323 | Snow Hill Island | 138016.9 | 584654.8 | -2196000 | 2506000 | 0 | 0 | 0 |\n",
       "| 4 | 68820 | 1.413779 | -2920.630 | 0.7565953 | -2930.036 | 202161.9 | 243501.3 | 2351 | -2273383 | 2327082 | ⋯ | Ferrier Peninsula | 1008204 | Snow Hill Island | 138016.9 | 584654.8 | -2191000 | 2506000 | 0 | 0 | 0 |\n",
       "| 5 | 68821 | 4.561732 | -2686.220 | 4.5623317 | -2716.875 | 204263.8 | 246029.6 | 2351 | -2273383 | 2327082 | ⋯ | Ferrier Peninsula | 1009109 | Snow Hill Island | 138016.9 | 584654.8 | -2186000 | 2506000 | 0 | 0 | 0 |\n",
       "| 6 | 68822 | 4.902608 | -2264.930 | 5.1146288 | -2277.257 | 206460.4 | 248632.8 | 2351 | -2273383 | 2327082 | ⋯ | Ferrier Peninsula | 1010037 | Snow Hill Island | 138016.9 | 584654.8 | -2181000 | 2506000 | 0 | 0 | 0 |\n",
       "\n"
      ],
      "text/plain": [
       "  gridCellId meanslope meanbathy slope     bathy     shoredist glacierdist\n",
       "1 68791      2.621992  -2846.908 2.5563672 -2864.911 206728.3  247849.6   \n",
       "2 68792      4.591249  -2587.330 4.4836812 -2612.724 208790.2  250334.0   \n",
       "3 68819      1.411659  -3014.080 1.5170590 -3024.577 200154.1  241050.2   \n",
       "4 68820      1.413779  -2920.630 0.7565953 -2930.036 202161.9  243501.3   \n",
       "5 68821      4.561732  -2686.220 4.5623317 -2716.875 204263.8  246029.6   \n",
       "6 68822      4.902608  -2264.930 5.1146288 -2277.257 206460.4  248632.8   \n",
       "  nearLineId near_x   near_y  ⋯ adpecol           empedist empecol         \n",
       "1 2351       -2273383 2327082 ⋯ Ferrier Peninsula 1013124  Snow Hill Island\n",
       "2 2351       -2273383 2327082 ⋯ Ferrier Peninsula 1014024  Snow Hill Island\n",
       "3 2351       -2273383 2327082 ⋯ Ferrier Peninsula 1007323  Snow Hill Island\n",
       "4 2351       -2273383 2327082 ⋯ Ferrier Peninsula 1008204  Snow Hill Island\n",
       "5 2351       -2273383 2327082 ⋯ Ferrier Peninsula 1009109  Snow Hill Island\n",
       "6 2351       -2273383 2327082 ⋯ Ferrier Peninsula 1010037  Snow Hill Island\n",
       "  cont300dist cont800dist coords.x1 coords.x2 mdlCol mdlIsl hasMaps\n",
       "1 142791.6    588996.1    -2191000  2511000   0      0      0      \n",
       "2 142791.6    588996.1    -2186000  2511000   0      0      0      \n",
       "3 138016.9    584654.8    -2196000  2506000   0      0      0      \n",
       "4 138016.9    584654.8    -2191000  2506000   0      0      0      \n",
       "5 138016.9    584654.8    -2186000  2506000   0      0      0      \n",
       "6 138016.9    584654.8    -2181000  2506000   0      0      0      "
      ]
     },
     "metadata": {},
     "output_type": "display_data"
    }
   ],
   "source": [
    "libs<-c(\"ggplot2\",\"plyr\",\"dplyr\",\"sp\",\"rgeos\",\"raster\",\"rgdal\")\n",
    "lapply(libs, require, character.only = TRUE)\n",
    "pathToLocalGit<-\"/home/ubuntu/Workspace/ContinentalWESEestimates/\"\n",
    "\n",
    "## Load the source utility functions file\n",
    "source(file=paste0(pathToLocalGit,\"scripts/fitRegressionModels_functions.R\"))\n",
    "\n",
    "## load the WESE grid data\n",
    "load(file=paste0(pathToLocalGit,\"data/continentalWESE.RData\"))\n",
    "head(wesedf)\n",
    "\n",
    "dataproj<-\"+proj=stere +lat_0=-90 +lat_ts=-71 +lon_0=0 +k=1 +x_0=0 +y_0=0 +datum=WGS84 +units=m +no_defs +ellps=WGS84 +towgs84=0,0,0\""
   ]
  },
  {
   "cell_type": "markdown",
   "metadata": {},
   "source": [
    "## Regresion analysis preliminaries"
   ]
  },
  {
   "cell_type": "markdown",
   "metadata": {},
   "source": [
    "The above tble (wesedf) is ready for fitting regression models, but first we will need the following:\n",
    "1. Be able to extend the attribution of the table with geospatial hypotheses (e.g., David's WESE zones vs. Michelle's WESE zones)\n",
    "2. Generate N samples of \"no-seal\" locations of identical size as the number of grid cells with WESE presence\n",
    "3. Be able to compute a linear model with the set of N bootstrap samples, and have it summarized for us\n",
    "  \n",
    "### On the above needs\n",
    "__Regarding #1__ it is done with the functions \"readShapeFile\" and \"attributeWithShape\". The first function reads the shape file into a spatial object and the second one uses information on the spatial object (e.g., David's WESE zones) into the data.  \n",
    "Here's an example to load a point shapefile, from an example copied into the repository's data folder:"
   ]
  },
  {
   "cell_type": "code",
   "execution_count": 79,
   "metadata": {},
   "outputs": [
    {
     "name": "stdout",
     "output_type": "stream",
     "text": [
      "OGR data source with driver: ESRI Shapefile \n",
      "Source: \"/home/ubuntu/Workspace/ContinentalWESEestimates/data/glaciers\", layer: \"glaciers\"\n",
      "with 1499 features\n",
      "It has 69 fields\n",
      "Integer64 fields read as strings:  objectid gaz_id scar_commo coordinate altitude_a max_digita location_m country_id \n"
     ]
    },
    {
     "data": {
      "image/png": "[encoded data removed]",
      "text/plain": [
       "plot without title"
      ]
     },
     "metadata": {
      "image/png": {
       "height": 420,
       "width": 420
      },
      "text/plain": {
       "height": 420,
       "width": 420
      }
     },
     "output_type": "display_data"
    }
   ],
   "source": [
    "icebergs<-readShapeFile(pathToGit=pathToLocalGit,folderName=\"glaciers\",shapeName=\"glaciers\")\n",
    "#folderName is the folder name in the workspace, and shapeName is the name of the .shp file\n",
    "plot(icebergs)"
   ]
  },
  {
   "cell_type": "markdown",
   "metadata": {},
   "source": [
    "We could (but we don't because this is a point shapefile, not a polygon shapefile) use the spatial object \"icebergs\" ploted above to attribute wesedf with some information in it. We can see the contents of \"icebergs\" with a head:"
   ]
  },
  {
   "cell_type": "code",
   "execution_count": 80,
   "metadata": {},
   "outputs": [
    {
     "data": {
      "text/html": [
       "<table>\n",
       "<caption>A data.frame: 6 × 69</caption>\n",
       "<thead>\n",
       "\t<tr><th></th><th scope=col>objectid</th><th scope=col>fid_</th><th scope=col>place_name</th><th scope=col>place_na_1</th><th scope=col>gaz_id</th><th scope=col>country_na</th><th scope=col>latitude</th><th scope=col>longitude</th><th scope=col>altitude</th><th scope=col>feature_ty</th><th scope=col>⋯</th><th scope=col>max_digita</th><th scope=col>location_m</th><th scope=col>metadata_e</th><th scope=col>survey_sta</th><th scope=col>satellite_</th><th scope=col>online_dis</th><th scope=col>geometry</th><th scope=col>reason</th><th scope=col>relic_flag</th><th scope=col>country_id</th></tr>\n",
       "\t<tr><th></th><th scope=col>&lt;fct&gt;</th><th scope=col>&lt;fct&gt;</th><th scope=col>&lt;fct&gt;</th><th scope=col>&lt;fct&gt;</th><th scope=col>&lt;fct&gt;</th><th scope=col>&lt;fct&gt;</th><th scope=col>&lt;dbl&gt;</th><th scope=col>&lt;dbl&gt;</th><th scope=col>&lt;dbl&gt;</th><th scope=col>&lt;fct&gt;</th><th scope=col>⋯</th><th scope=col>&lt;fct&gt;</th><th scope=col>&lt;fct&gt;</th><th scope=col>&lt;fct&gt;</th><th scope=col>&lt;fct&gt;</th><th scope=col>&lt;fct&gt;</th><th scope=col>&lt;fct&gt;</th><th scope=col>&lt;fct&gt;</th><th scope=col>&lt;fct&gt;</th><th scope=col>&lt;fct&gt;</th><th scope=col>&lt;fct&gt;</th></tr>\n",
       "</thead>\n",
       "<tbody>\n",
       "\t<tr><th scope=row>1</th><td>59283</td><td>NA</td><td>Aagaard Glacier </td><td>Aagaard Glacier </td><td>121528</td><td>United States of America</td><td>-66.7667</td><td>-64.5167</td><td>0</td><td>Glacier</td><td>⋯</td><td>0</td><td>0</td><td>NA</td><td>NA</td><td>NA</td><td>NA</td><td>POINT (-64.516667 -66.766667)</td><td>NA</td><td>No</td><td>840</td></tr>\n",
       "\t<tr><th scope=row>2</th><td>59285</td><td>NA</td><td>Aaron Glacier   </td><td>Aaron Glacier   </td><td>121530</td><td>United States of America</td><td>-85.1333</td><td>-90.6667</td><td>0</td><td>Glacier</td><td>⋯</td><td>0</td><td>0</td><td>NA</td><td>NA</td><td>NA</td><td>NA</td><td>POINT (-90.666667 -85.133333)</td><td>NA</td><td>No</td><td>840</td></tr>\n",
       "\t<tr><th scope=row>3</th><td>59308</td><td>NA</td><td>Academy Glacier </td><td>Academy Glacier </td><td>121553</td><td>United States of America</td><td>-84.2500</td><td>-61.0000</td><td>0</td><td>Glacier</td><td>⋯</td><td>0</td><td>0</td><td>NA</td><td>NA</td><td>NA</td><td>NA</td><td>POINT (-61 -84.25)           </td><td>NA</td><td>No</td><td>840</td></tr>\n",
       "\t<tr><th scope=row>4</th><td>59329</td><td>NA</td><td>Adams Glacier   </td><td>Adams Glacier   </td><td>121575</td><td>United States of America</td><td>-66.8333</td><td>109.6667</td><td>0</td><td>Glacier</td><td>⋯</td><td>0</td><td>0</td><td>NA</td><td>NA</td><td>NA</td><td>NA</td><td>POINT (109.666667 -66.833333)</td><td>NA</td><td>No</td><td>840</td></tr>\n",
       "\t<tr><th scope=row>5</th><td>59330</td><td>NA</td><td>Adams Glacier   </td><td>Adams Glacier   </td><td>121576</td><td>United States of America</td><td>-78.1167</td><td>163.6333</td><td>0</td><td>Glacier</td><td>⋯</td><td>0</td><td>0</td><td>NA</td><td>NA</td><td>NA</td><td>NA</td><td>POINT (163.633333 -78.116667)</td><td>NA</td><td>No</td><td>840</td></tr>\n",
       "\t<tr><th scope=row>6</th><td>59364</td><td>NA</td><td>Aeronaut Glacier</td><td>Aeronaut Glacier</td><td>121611</td><td>United States of America</td><td>-73.2667</td><td>163.6000</td><td>0</td><td>Glacier</td><td>⋯</td><td>0</td><td>0</td><td>NA</td><td>NA</td><td>NA</td><td>NA</td><td>POINT (163.6 -73.266667)     </td><td>NA</td><td>No</td><td>840</td></tr>\n",
       "</tbody>\n",
       "</table>\n"
      ],
      "text/latex": [
       "A data.frame: 6 × 69\n",
       "\\begin{tabular}{r|lllllllllllllllllllll}\n",
       "  & objectid & fid\\_ & place\\_name & place\\_na\\_1 & gaz\\_id & country\\_na & latitude & longitude & altitude & feature\\_ty & ⋯ & max\\_digita & location\\_m & metadata\\_e & survey\\_sta & satellite\\_ & online\\_dis & geometry & reason & relic\\_flag & country\\_id\\\\\n",
       "  & <fct> & <fct> & <fct> & <fct> & <fct> & <fct> & <dbl> & <dbl> & <dbl> & <fct> & ⋯ & <fct> & <fct> & <fct> & <fct> & <fct> & <fct> & <fct> & <fct> & <fct> & <fct>\\\\\n",
       "\\hline\n",
       "\t1 & 59283 & NA & Aagaard Glacier  & Aagaard Glacier  & 121528 & United States of America & -66.7667 & -64.5167 & 0 & Glacier & ⋯ & 0 & 0 & NA & NA & NA & NA & POINT (-64.516667 -66.766667) & NA & No & 840\\\\\n",
       "\t2 & 59285 & NA & Aaron Glacier    & Aaron Glacier    & 121530 & United States of America & -85.1333 & -90.6667 & 0 & Glacier & ⋯ & 0 & 0 & NA & NA & NA & NA & POINT (-90.666667 -85.133333) & NA & No & 840\\\\\n",
       "\t3 & 59308 & NA & Academy Glacier  & Academy Glacier  & 121553 & United States of America & -84.2500 & -61.0000 & 0 & Glacier & ⋯ & 0 & 0 & NA & NA & NA & NA & POINT (-61 -84.25)            & NA & No & 840\\\\\n",
       "\t4 & 59329 & NA & Adams Glacier    & Adams Glacier    & 121575 & United States of America & -66.8333 & 109.6667 & 0 & Glacier & ⋯ & 0 & 0 & NA & NA & NA & NA & POINT (109.666667 -66.833333) & NA & No & 840\\\\\n",
       "\t5 & 59330 & NA & Adams Glacier    & Adams Glacier    & 121576 & United States of America & -78.1167 & 163.6333 & 0 & Glacier & ⋯ & 0 & 0 & NA & NA & NA & NA & POINT (163.633333 -78.116667) & NA & No & 840\\\\\n",
       "\t6 & 59364 & NA & Aeronaut Glacier & Aeronaut Glacier & 121611 & United States of America & -73.2667 & 163.6000 & 0 & Glacier & ⋯ & 0 & 0 & NA & NA & NA & NA & POINT (163.6 -73.266667)      & NA & No & 840\\\\\n",
       "\\end{tabular}\n"
      ],
      "text/markdown": [
       "\n",
       "A data.frame: 6 × 69\n",
       "\n",
       "| <!--/--> | objectid &lt;fct&gt; | fid_ &lt;fct&gt; | place_name &lt;fct&gt; | place_na_1 &lt;fct&gt; | gaz_id &lt;fct&gt; | country_na &lt;fct&gt; | latitude &lt;dbl&gt; | longitude &lt;dbl&gt; | altitude &lt;dbl&gt; | feature_ty &lt;fct&gt; | ⋯ ⋯ | max_digita &lt;fct&gt; | location_m &lt;fct&gt; | metadata_e &lt;fct&gt; | survey_sta &lt;fct&gt; | satellite_ &lt;fct&gt; | online_dis &lt;fct&gt; | geometry &lt;fct&gt; | reason &lt;fct&gt; | relic_flag &lt;fct&gt; | country_id &lt;fct&gt; |\n",
       "|---|---|---|---|---|---|---|---|---|---|---|---|---|---|---|---|---|---|---|---|---|---|\n",
       "| 1 | 59283 | NA | Aagaard Glacier  | Aagaard Glacier  | 121528 | United States of America | -66.7667 | -64.5167 | 0 | Glacier | ⋯ | 0 | 0 | NA | NA | NA | NA | POINT (-64.516667 -66.766667) | NA | No | 840 |\n",
       "| 2 | 59285 | NA | Aaron Glacier    | Aaron Glacier    | 121530 | United States of America | -85.1333 | -90.6667 | 0 | Glacier | ⋯ | 0 | 0 | NA | NA | NA | NA | POINT (-90.666667 -85.133333) | NA | No | 840 |\n",
       "| 3 | 59308 | NA | Academy Glacier  | Academy Glacier  | 121553 | United States of America | -84.2500 | -61.0000 | 0 | Glacier | ⋯ | 0 | 0 | NA | NA | NA | NA | POINT (-61 -84.25)            | NA | No | 840 |\n",
       "| 4 | 59329 | NA | Adams Glacier    | Adams Glacier    | 121575 | United States of America | -66.8333 | 109.6667 | 0 | Glacier | ⋯ | 0 | 0 | NA | NA | NA | NA | POINT (109.666667 -66.833333) | NA | No | 840 |\n",
       "| 5 | 59330 | NA | Adams Glacier    | Adams Glacier    | 121576 | United States of America | -78.1167 | 163.6333 | 0 | Glacier | ⋯ | 0 | 0 | NA | NA | NA | NA | POINT (163.633333 -78.116667) | NA | No | 840 |\n",
       "| 6 | 59364 | NA | Aeronaut Glacier | Aeronaut Glacier | 121611 | United States of America | -73.2667 | 163.6000 | 0 | Glacier | ⋯ | 0 | 0 | NA | NA | NA | NA | POINT (163.6 -73.266667)      | NA | No | 840 |\n",
       "\n"
      ],
      "text/plain": [
       "  objectid fid_ place_name       place_na_1       gaz_id\n",
       "1 59283    NA   Aagaard Glacier  Aagaard Glacier  121528\n",
       "2 59285    NA   Aaron Glacier    Aaron Glacier    121530\n",
       "3 59308    NA   Academy Glacier  Academy Glacier  121553\n",
       "4 59329    NA   Adams Glacier    Adams Glacier    121575\n",
       "5 59330    NA   Adams Glacier    Adams Glacier    121576\n",
       "6 59364    NA   Aeronaut Glacier Aeronaut Glacier 121611\n",
       "  country_na               latitude longitude altitude feature_ty ⋯ max_digita\n",
       "1 United States of America -66.7667 -64.5167  0        Glacier    ⋯ 0         \n",
       "2 United States of America -85.1333 -90.6667  0        Glacier    ⋯ 0         \n",
       "3 United States of America -84.2500 -61.0000  0        Glacier    ⋯ 0         \n",
       "4 United States of America -66.8333 109.6667  0        Glacier    ⋯ 0         \n",
       "5 United States of America -78.1167 163.6333  0        Glacier    ⋯ 0         \n",
       "6 United States of America -73.2667 163.6000  0        Glacier    ⋯ 0         \n",
       "  location_m metadata_e survey_sta satellite_ online_dis\n",
       "1 0          NA         NA         NA         NA        \n",
       "2 0          NA         NA         NA         NA        \n",
       "3 0          NA         NA         NA         NA        \n",
       "4 0          NA         NA         NA         NA        \n",
       "5 0          NA         NA         NA         NA        \n",
       "6 0          NA         NA         NA         NA        \n",
       "  geometry                      reason relic_flag country_id\n",
       "1 POINT (-64.516667 -66.766667) NA     No         840       \n",
       "2 POINT (-90.666667 -85.133333) NA     No         840       \n",
       "3 POINT (-61 -84.25)            NA     No         840       \n",
       "4 POINT (109.666667 -66.833333) NA     No         840       \n",
       "5 POINT (163.633333 -78.116667) NA     No         840       \n",
       "6 POINT (163.6 -73.266667)      NA     No         840       "
      ]
     },
     "metadata": {},
     "output_type": "display_data"
    }
   ],
   "source": [
    "head(icebergs)"
   ]
  },
  {
   "cell_type": "markdown",
   "metadata": {},
   "source": [
    "So, we could attribute the wesedf table with the parameter \"place_name\", like so:"
   ]
  },
  {
   "cell_type": "code",
   "execution_count": 81,
   "metadata": {},
   "outputs": [],
   "source": [
    "## DO NOT RUN\n",
    "## wesedf2<-attributeWithShape(shpobj=icebergs,attribName=\"place_name\",data=wesedf,datKey=\"gridCellId\",\n",
    "##                              lonfld=\"coords.x1\",latfld=\"coords.x2\",dataproj=dataproj)"
   ]
  },
  {
   "cell_type": "markdown",
   "metadata": {},
   "source": [
    "If we executed the above example, the resulting table wesedf2 will have a new field called \"place_name.\"\n",
    "\n",
    "__Regarding #2__ we use the function \"bootSampleWESEdata\". This function by default generates 100 bootstrap samples (but change with the parameter \"nsamples\") and returns a list object. Each element of the list is one of the samples. Each sample is a table like wesedf, but it contains an equal number of grids with seals and no seals.  \n",
    "  \n",
    "The wesedf table has a column called \"hasMaps\" to indicate cells with maps, even if these wereeventually estimated to have 0 seals. The function \"bootSampleWESEdata\" can treat these as if they had no seals, or as if they did. You may indicate the behavior with the parameter \"hasMapsBehavior\". Set the parameter to 0 (this is the default behavior) to treat these cells as if there are no seals there, or 1 otherwise.\n",
    "\n",
    "Additionally, we my want to stratify the sample by bins of any one or two (but no more) of the variables in wesedf. To do so, we use the parameter \"strtifyByClusters\". This parameter is a number between 2 and 5. The function will find clusters in the covariate space in the data, then assign each record to one of these clusters, and it will then stratify the random sample such that it includes an even number of values in each of the clusters.  \n",
    "\n",
    "Lastly, the function can also return an ensemble of data converted to presence-absence. Again, if a grid with maps is considered to have seals (i.e., hasMapsBehavior=1), then it will be assigned presence = 1.\n",
    "\n",
    "Here's an example on how to create an ensemble of abundance (no clustering, just normal random sampling):"
   ]
  },
  {
   "cell_type": "code",
   "execution_count": 82,
   "metadata": {},
   "outputs": [
    {
     "data": {
      "text/html": [
       "<table>\n",
       "<caption>A data.frame: 6 × 22</caption>\n",
       "<thead>\n",
       "\t<tr><th></th><th scope=col>gridCellId</th><th scope=col>meanslope</th><th scope=col>meanbathy</th><th scope=col>slope</th><th scope=col>bathy</th><th scope=col>shoredist</th><th scope=col>glacierdist</th><th scope=col>nearLineId</th><th scope=col>near_x</th><th scope=col>near_y</th><th scope=col>⋯</th><th scope=col>adpecol</th><th scope=col>empedist</th><th scope=col>empecol</th><th scope=col>cont300dist</th><th scope=col>cont800dist</th><th scope=col>coords.x1</th><th scope=col>coords.x2</th><th scope=col>abundance</th><th scope=col>mdlIsl</th><th scope=col>hasMaps</th></tr>\n",
       "\t<tr><th></th><th scope=col>&lt;int&gt;</th><th scope=col>&lt;dbl&gt;</th><th scope=col>&lt;dbl&gt;</th><th scope=col>&lt;dbl&gt;</th><th scope=col>&lt;dbl&gt;</th><th scope=col>&lt;dbl&gt;</th><th scope=col>&lt;dbl&gt;</th><th scope=col>&lt;dbl&gt;</th><th scope=col>&lt;dbl&gt;</th><th scope=col>&lt;dbl&gt;</th><th scope=col>⋯</th><th scope=col>&lt;fct&gt;</th><th scope=col>&lt;dbl&gt;</th><th scope=col>&lt;fct&gt;</th><th scope=col>&lt;dbl&gt;</th><th scope=col>&lt;dbl&gt;</th><th scope=col>&lt;dbl&gt;</th><th scope=col>&lt;dbl&gt;</th><th scope=col>&lt;dbl&gt;</th><th scope=col>&lt;dbl&gt;</th><th scope=col>&lt;dbl&gt;</th></tr>\n",
       "</thead>\n",
       "<tbody>\n",
       "\t<tr><th scope=row>8168</th><td>122030</td><td>2.5123022</td><td>-318.58</td><td>0.6027454</td><td>-310.1347</td><td>15187.383</td><td>169512.1</td><td>6</td><td>-212080.2</td><td>2144389</td><td>⋯</td><td>Thule Island</td><td>94659.60</td><td>Atka</td><td>73022.03</td><td>329705.0</td><td>-221000</td><td>2156000</td><td>15</td><td>18</td><td>1</td></tr>\n",
       "\t<tr><th scope=row>8169</th><td>122031</td><td>1.2012005</td><td>-266.96</td><td>1.6832575</td><td>-268.1202</td><td>12905.335</td><td>166852.4</td><td>6</td><td>-212080.2</td><td>2144389</td><td>⋯</td><td>Thule Island</td><td>98906.23</td><td>Atka</td><td>73022.03</td><td>329705.0</td><td>-216000</td><td>2156000</td><td>42</td><td>51</td><td>1</td></tr>\n",
       "\t<tr><th scope=row>8256</th><td>122158</td><td>0.4402819</td><td>-238.41</td><td>0.3618537</td><td>-237.5242</td><td>11069.010</td><td>165334.1</td><td>6</td><td>-212080.2</td><td>2144389</td><td>⋯</td><td>Thule Island</td><td>92058.26</td><td>Atka</td><td>76785.59</td><td>327298.0</td><td>-221000</td><td>2151000</td><td>58</td><td>68</td><td>1</td></tr>\n",
       "\t<tr><th scope=row>8257</th><td>122159</td><td>0.5317709</td><td>-235.92</td><td>0.4853334</td><td>-227.2131</td><td> 8542.728</td><td>162606.1</td><td>6</td><td>-212080.2</td><td>2144389</td><td>⋯</td><td>Thule Island</td><td>96419.53</td><td>Atka</td><td>76785.59</td><td>327298.0</td><td>-216000</td><td>2151000</td><td>11</td><td>14</td><td>1</td></tr>\n",
       "\t<tr><th scope=row>8344</th><td>122286</td><td>0.3624971</td><td>-243.93</td><td>0.3787392</td><td>-242.3279</td><td> 7719.291</td><td>161202.9</td><td>6</td><td>-214905.9</td><td>2140233</td><td>⋯</td><td>Thule Island</td><td>89660.51</td><td>Atka</td><td>80667.40</td><td>324950.0</td><td>-221000</td><td>2146000</td><td>41</td><td>50</td><td>1</td></tr>\n",
       "\t<tr><th scope=row>8433</th><td>122414</td><td>0.5814596</td><td>-261.49</td><td>0.4114927</td><td>-262.9747</td><td> 4871.616</td><td>157122.2</td><td>6</td><td>-219560.1</td><td>2136410</td><td>⋯</td><td>Thule Island</td><td>87483.08</td><td>Atka</td><td>84645.60</td><td>322661.1</td><td>-221000</td><td>2141000</td><td>35</td><td>41</td><td>1</td></tr>\n",
       "</tbody>\n",
       "</table>\n"
      ],
      "text/latex": [
       "A data.frame: 6 × 22\n",
       "\\begin{tabular}{r|lllllllllllllllllllll}\n",
       "  & gridCellId & meanslope & meanbathy & slope & bathy & shoredist & glacierdist & nearLineId & near\\_x & near\\_y & ⋯ & adpecol & empedist & empecol & cont300dist & cont800dist & coords.x1 & coords.x2 & abundance & mdlIsl & hasMaps\\\\\n",
       "  & <int> & <dbl> & <dbl> & <dbl> & <dbl> & <dbl> & <dbl> & <dbl> & <dbl> & <dbl> & ⋯ & <fct> & <dbl> & <fct> & <dbl> & <dbl> & <dbl> & <dbl> & <dbl> & <dbl> & <dbl>\\\\\n",
       "\\hline\n",
       "\t8168 & 122030 & 2.5123022 & -318.58 & 0.6027454 & -310.1347 & 15187.383 & 169512.1 & 6 & -212080.2 & 2144389 & ⋯ & Thule Island & 94659.60 & Atka & 73022.03 & 329705.0 & -221000 & 2156000 & 15 & 18 & 1\\\\\n",
       "\t8169 & 122031 & 1.2012005 & -266.96 & 1.6832575 & -268.1202 & 12905.335 & 166852.4 & 6 & -212080.2 & 2144389 & ⋯ & Thule Island & 98906.23 & Atka & 73022.03 & 329705.0 & -216000 & 2156000 & 42 & 51 & 1\\\\\n",
       "\t8256 & 122158 & 0.4402819 & -238.41 & 0.3618537 & -237.5242 & 11069.010 & 165334.1 & 6 & -212080.2 & 2144389 & ⋯ & Thule Island & 92058.26 & Atka & 76785.59 & 327298.0 & -221000 & 2151000 & 58 & 68 & 1\\\\\n",
       "\t8257 & 122159 & 0.5317709 & -235.92 & 0.4853334 & -227.2131 &  8542.728 & 162606.1 & 6 & -212080.2 & 2144389 & ⋯ & Thule Island & 96419.53 & Atka & 76785.59 & 327298.0 & -216000 & 2151000 & 11 & 14 & 1\\\\\n",
       "\t8344 & 122286 & 0.3624971 & -243.93 & 0.3787392 & -242.3279 &  7719.291 & 161202.9 & 6 & -214905.9 & 2140233 & ⋯ & Thule Island & 89660.51 & Atka & 80667.40 & 324950.0 & -221000 & 2146000 & 41 & 50 & 1\\\\\n",
       "\t8433 & 122414 & 0.5814596 & -261.49 & 0.4114927 & -262.9747 &  4871.616 & 157122.2 & 6 & -219560.1 & 2136410 & ⋯ & Thule Island & 87483.08 & Atka & 84645.60 & 322661.1 & -221000 & 2141000 & 35 & 41 & 1\\\\\n",
       "\\end{tabular}\n"
      ],
      "text/markdown": [
       "\n",
       "A data.frame: 6 × 22\n",
       "\n",
       "| <!--/--> | gridCellId &lt;int&gt; | meanslope &lt;dbl&gt; | meanbathy &lt;dbl&gt; | slope &lt;dbl&gt; | bathy &lt;dbl&gt; | shoredist &lt;dbl&gt; | glacierdist &lt;dbl&gt; | nearLineId &lt;dbl&gt; | near_x &lt;dbl&gt; | near_y &lt;dbl&gt; | ⋯ ⋯ | adpecol &lt;fct&gt; | empedist &lt;dbl&gt; | empecol &lt;fct&gt; | cont300dist &lt;dbl&gt; | cont800dist &lt;dbl&gt; | coords.x1 &lt;dbl&gt; | coords.x2 &lt;dbl&gt; | abundance &lt;dbl&gt; | mdlIsl &lt;dbl&gt; | hasMaps &lt;dbl&gt; |\n",
       "|---|---|---|---|---|---|---|---|---|---|---|---|---|---|---|---|---|---|---|---|---|---|\n",
       "| 8168 | 122030 | 2.5123022 | -318.58 | 0.6027454 | -310.1347 | 15187.383 | 169512.1 | 6 | -212080.2 | 2144389 | ⋯ | Thule Island | 94659.60 | Atka | 73022.03 | 329705.0 | -221000 | 2156000 | 15 | 18 | 1 |\n",
       "| 8169 | 122031 | 1.2012005 | -266.96 | 1.6832575 | -268.1202 | 12905.335 | 166852.4 | 6 | -212080.2 | 2144389 | ⋯ | Thule Island | 98906.23 | Atka | 73022.03 | 329705.0 | -216000 | 2156000 | 42 | 51 | 1 |\n",
       "| 8256 | 122158 | 0.4402819 | -238.41 | 0.3618537 | -237.5242 | 11069.010 | 165334.1 | 6 | -212080.2 | 2144389 | ⋯ | Thule Island | 92058.26 | Atka | 76785.59 | 327298.0 | -221000 | 2151000 | 58 | 68 | 1 |\n",
       "| 8257 | 122159 | 0.5317709 | -235.92 | 0.4853334 | -227.2131 |  8542.728 | 162606.1 | 6 | -212080.2 | 2144389 | ⋯ | Thule Island | 96419.53 | Atka | 76785.59 | 327298.0 | -216000 | 2151000 | 11 | 14 | 1 |\n",
       "| 8344 | 122286 | 0.3624971 | -243.93 | 0.3787392 | -242.3279 |  7719.291 | 161202.9 | 6 | -214905.9 | 2140233 | ⋯ | Thule Island | 89660.51 | Atka | 80667.40 | 324950.0 | -221000 | 2146000 | 41 | 50 | 1 |\n",
       "| 8433 | 122414 | 0.5814596 | -261.49 | 0.4114927 | -262.9747 |  4871.616 | 157122.2 | 6 | -219560.1 | 2136410 | ⋯ | Thule Island | 87483.08 | Atka | 84645.60 | 322661.1 | -221000 | 2141000 | 35 | 41 | 1 |\n",
       "\n"
      ],
      "text/plain": [
       "     gridCellId meanslope meanbathy slope     bathy     shoredist glacierdist\n",
       "8168 122030     2.5123022 -318.58   0.6027454 -310.1347 15187.383 169512.1   \n",
       "8169 122031     1.2012005 -266.96   1.6832575 -268.1202 12905.335 166852.4   \n",
       "8256 122158     0.4402819 -238.41   0.3618537 -237.5242 11069.010 165334.1   \n",
       "8257 122159     0.5317709 -235.92   0.4853334 -227.2131  8542.728 162606.1   \n",
       "8344 122286     0.3624971 -243.93   0.3787392 -242.3279  7719.291 161202.9   \n",
       "8433 122414     0.5814596 -261.49   0.4114927 -262.9747  4871.616 157122.2   \n",
       "     nearLineId near_x    near_y  ⋯ adpecol      empedist empecol cont300dist\n",
       "8168 6          -212080.2 2144389 ⋯ Thule Island 94659.60 Atka    73022.03   \n",
       "8169 6          -212080.2 2144389 ⋯ Thule Island 98906.23 Atka    73022.03   \n",
       "8256 6          -212080.2 2144389 ⋯ Thule Island 92058.26 Atka    76785.59   \n",
       "8257 6          -212080.2 2144389 ⋯ Thule Island 96419.53 Atka    76785.59   \n",
       "8344 6          -214905.9 2140233 ⋯ Thule Island 89660.51 Atka    80667.40   \n",
       "8433 6          -219560.1 2136410 ⋯ Thule Island 87483.08 Atka    84645.60   \n",
       "     cont800dist coords.x1 coords.x2 abundance mdlIsl hasMaps\n",
       "8168 329705.0    -221000   2156000   15        18     1      \n",
       "8169 329705.0    -216000   2156000   42        51     1      \n",
       "8256 327298.0    -221000   2151000   58        68     1      \n",
       "8257 327298.0    -216000   2151000   11        14     1      \n",
       "8344 324950.0    -221000   2146000   41        50     1      \n",
       "8433 322661.1    -221000   2141000   35        41     1      "
      ]
     },
     "metadata": {},
     "output_type": "display_data"
    },
    {
     "data": {
      "text/html": [
       "<table>\n",
       "<caption>A data.frame: 6 × 22</caption>\n",
       "<thead>\n",
       "\t<tr><th></th><th scope=col>gridCellId</th><th scope=col>meanslope</th><th scope=col>meanbathy</th><th scope=col>slope</th><th scope=col>bathy</th><th scope=col>shoredist</th><th scope=col>glacierdist</th><th scope=col>nearLineId</th><th scope=col>near_x</th><th scope=col>near_y</th><th scope=col>⋯</th><th scope=col>adpecol</th><th scope=col>empedist</th><th scope=col>empecol</th><th scope=col>cont300dist</th><th scope=col>cont800dist</th><th scope=col>coords.x1</th><th scope=col>coords.x2</th><th scope=col>abundance</th><th scope=col>mdlIsl</th><th scope=col>hasMaps</th></tr>\n",
       "\t<tr><th></th><th scope=col>&lt;int&gt;</th><th scope=col>&lt;dbl&gt;</th><th scope=col>&lt;dbl&gt;</th><th scope=col>&lt;dbl&gt;</th><th scope=col>&lt;dbl&gt;</th><th scope=col>&lt;dbl&gt;</th><th scope=col>&lt;dbl&gt;</th><th scope=col>&lt;dbl&gt;</th><th scope=col>&lt;dbl&gt;</th><th scope=col>&lt;dbl&gt;</th><th scope=col>⋯</th><th scope=col>&lt;fct&gt;</th><th scope=col>&lt;dbl&gt;</th><th scope=col>&lt;fct&gt;</th><th scope=col>&lt;dbl&gt;</th><th scope=col>&lt;dbl&gt;</th><th scope=col>&lt;dbl&gt;</th><th scope=col>&lt;dbl&gt;</th><th scope=col>&lt;dbl&gt;</th><th scope=col>&lt;dbl&gt;</th><th scope=col>&lt;dbl&gt;</th></tr>\n",
       "</thead>\n",
       "<tbody>\n",
       "\t<tr><th scope=row>212653</th><td>1252355</td><td>1.7046343</td><td> -252.7959</td><td>2.0824969</td><td> -215.1550</td><td>     0.000</td><td> 32168.31</td><td>6</td><td>1401607.6</td><td>-2044280.1</td><td>⋯</td><td>SE Fisher Bay </td><td> 32099.05</td><td>Mertz break off</td><td>1148042.6</td><td>1105816.2</td><td>1399000</td><td>-2034000</td><td>0</td><td>0</td><td>0</td></tr>\n",
       "\t<tr><th scope=row>200718</th><td>1221283</td><td>4.7873082</td><td>-1497.9500</td><td>4.6513991</td><td>-1469.1035</td><td>103705.409</td><td>120432.72</td><td>6</td><td> 345493.6</td><td>-2019378.7</td><td>⋯</td><td>Cape Adare    </td><td>159147.94</td><td>Cape Roget     </td><td>1200285.4</td><td>1160007.1</td><td> 279000</td><td>-2099000</td><td>0</td><td>0</td><td>0</td></tr>\n",
       "\t<tr><th scope=row>150070</th><td> 826097</td><td>0.2038354</td><td> -496.7000</td><td>0.2290817</td><td> -498.3176</td><td>115889.474</td><td>199117.07</td><td>6</td><td>2665883.1</td><td> -505063.6</td><td>⋯</td><td>Merritt Island</td><td>166494.68</td><td>Bowman Island  </td><td> 254818.1</td><td> 173487.8</td><td>2784000</td><td> -499000</td><td>0</td><td>0</td><td>0</td></tr>\n",
       "\t<tr><th scope=row>178275</th><td>1059609</td><td>1.4472678</td><td> -507.4000</td><td>1.6294609</td><td> -499.4572</td><td> 40843.743</td><td> 97555.40</td><td>6</td><td>-524261.6</td><td>-1300517.0</td><td>⋯</td><td>Cruzen Island </td><td> 55664.23</td><td>Cape Colbeck   </td><td> 732267.7</td><td> 586189.7</td><td>-501000</td><td>-1344000</td><td>0</td><td>0</td><td>0</td></tr>\n",
       "\t<tr><th scope=row>190883</th><td>1122507</td><td>0.1471168</td><td> -461.4500</td><td>0.1252840</td><td> -462.8557</td><td> 81964.727</td><td>122627.53</td><td>6</td><td>2232138.8</td><td>-1211498.1</td><td>⋯</td><td>Henry Islands </td><td>128250.38</td><td>Sabrina coast  </td><td> 707509.5</td><td> 510389.4</td><td>2309000</td><td>-1239000</td><td>0</td><td>0</td><td>0</td></tr>\n",
       "\t<tr><th scope=row>194212</th><td>1130779</td><td>0.3995059</td><td> -588.8300</td><td>0.3317709</td><td> -591.8447</td><td>  4497.212</td><td> 36469.19</td><td>6</td><td>2071348.3</td><td>-1565424.5</td><td>⋯</td><td>Chick Islands </td><td>278013.43</td><td>Sabrina coast  </td><td> 825981.4</td><td> 761724.3</td><td>2069000</td><td>-1564000</td><td>0</td><td>0</td><td>0</td></tr>\n",
       "</tbody>\n",
       "</table>\n"
      ],
      "text/latex": [
       "A data.frame: 6 × 22\n",
       "\\begin{tabular}{r|lllllllllllllllllllll}\n",
       "  & gridCellId & meanslope & meanbathy & slope & bathy & shoredist & glacierdist & nearLineId & near\\_x & near\\_y & ⋯ & adpecol & empedist & empecol & cont300dist & cont800dist & coords.x1 & coords.x2 & abundance & mdlIsl & hasMaps\\\\\n",
       "  & <int> & <dbl> & <dbl> & <dbl> & <dbl> & <dbl> & <dbl> & <dbl> & <dbl> & <dbl> & ⋯ & <fct> & <dbl> & <fct> & <dbl> & <dbl> & <dbl> & <dbl> & <dbl> & <dbl> & <dbl>\\\\\n",
       "\\hline\n",
       "\t212653 & 1252355 & 1.7046343 &  -252.7959 & 2.0824969 &  -215.1550 &      0.000 &  32168.31 & 6 & 1401607.6 & -2044280.1 & ⋯ & SE Fisher Bay  &  32099.05 & Mertz break off & 1148042.6 & 1105816.2 & 1399000 & -2034000 & 0 & 0 & 0\\\\\n",
       "\t200718 & 1221283 & 4.7873082 & -1497.9500 & 4.6513991 & -1469.1035 & 103705.409 & 120432.72 & 6 &  345493.6 & -2019378.7 & ⋯ & Cape Adare     & 159147.94 & Cape Roget      & 1200285.4 & 1160007.1 &  279000 & -2099000 & 0 & 0 & 0\\\\\n",
       "\t150070 &  826097 & 0.2038354 &  -496.7000 & 0.2290817 &  -498.3176 & 115889.474 & 199117.07 & 6 & 2665883.1 &  -505063.6 & ⋯ & Merritt Island & 166494.68 & Bowman Island   &  254818.1 &  173487.8 & 2784000 &  -499000 & 0 & 0 & 0\\\\\n",
       "\t178275 & 1059609 & 1.4472678 &  -507.4000 & 1.6294609 &  -499.4572 &  40843.743 &  97555.40 & 6 & -524261.6 & -1300517.0 & ⋯ & Cruzen Island  &  55664.23 & Cape Colbeck    &  732267.7 &  586189.7 & -501000 & -1344000 & 0 & 0 & 0\\\\\n",
       "\t190883 & 1122507 & 0.1471168 &  -461.4500 & 0.1252840 &  -462.8557 &  81964.727 & 122627.53 & 6 & 2232138.8 & -1211498.1 & ⋯ & Henry Islands  & 128250.38 & Sabrina coast   &  707509.5 &  510389.4 & 2309000 & -1239000 & 0 & 0 & 0\\\\\n",
       "\t194212 & 1130779 & 0.3995059 &  -588.8300 & 0.3317709 &  -591.8447 &   4497.212 &  36469.19 & 6 & 2071348.3 & -1565424.5 & ⋯ & Chick Islands  & 278013.43 & Sabrina coast   &  825981.4 &  761724.3 & 2069000 & -1564000 & 0 & 0 & 0\\\\\n",
       "\\end{tabular}\n"
      ],
      "text/markdown": [
       "\n",
       "A data.frame: 6 × 22\n",
       "\n",
       "| <!--/--> | gridCellId &lt;int&gt; | meanslope &lt;dbl&gt; | meanbathy &lt;dbl&gt; | slope &lt;dbl&gt; | bathy &lt;dbl&gt; | shoredist &lt;dbl&gt; | glacierdist &lt;dbl&gt; | nearLineId &lt;dbl&gt; | near_x &lt;dbl&gt; | near_y &lt;dbl&gt; | ⋯ ⋯ | adpecol &lt;fct&gt; | empedist &lt;dbl&gt; | empecol &lt;fct&gt; | cont300dist &lt;dbl&gt; | cont800dist &lt;dbl&gt; | coords.x1 &lt;dbl&gt; | coords.x2 &lt;dbl&gt; | abundance &lt;dbl&gt; | mdlIsl &lt;dbl&gt; | hasMaps &lt;dbl&gt; |\n",
       "|---|---|---|---|---|---|---|---|---|---|---|---|---|---|---|---|---|---|---|---|---|---|\n",
       "| 212653 | 1252355 | 1.7046343 |  -252.7959 | 2.0824969 |  -215.1550 |      0.000 |  32168.31 | 6 | 1401607.6 | -2044280.1 | ⋯ | SE Fisher Bay  |  32099.05 | Mertz break off | 1148042.6 | 1105816.2 | 1399000 | -2034000 | 0 | 0 | 0 |\n",
       "| 200718 | 1221283 | 4.7873082 | -1497.9500 | 4.6513991 | -1469.1035 | 103705.409 | 120432.72 | 6 |  345493.6 | -2019378.7 | ⋯ | Cape Adare     | 159147.94 | Cape Roget      | 1200285.4 | 1160007.1 |  279000 | -2099000 | 0 | 0 | 0 |\n",
       "| 150070 |  826097 | 0.2038354 |  -496.7000 | 0.2290817 |  -498.3176 | 115889.474 | 199117.07 | 6 | 2665883.1 |  -505063.6 | ⋯ | Merritt Island | 166494.68 | Bowman Island   |  254818.1 |  173487.8 | 2784000 |  -499000 | 0 | 0 | 0 |\n",
       "| 178275 | 1059609 | 1.4472678 |  -507.4000 | 1.6294609 |  -499.4572 |  40843.743 |  97555.40 | 6 | -524261.6 | -1300517.0 | ⋯ | Cruzen Island  |  55664.23 | Cape Colbeck    |  732267.7 |  586189.7 | -501000 | -1344000 | 0 | 0 | 0 |\n",
       "| 190883 | 1122507 | 0.1471168 |  -461.4500 | 0.1252840 |  -462.8557 |  81964.727 | 122627.53 | 6 | 2232138.8 | -1211498.1 | ⋯ | Henry Islands  | 128250.38 | Sabrina coast   |  707509.5 |  510389.4 | 2309000 | -1239000 | 0 | 0 | 0 |\n",
       "| 194212 | 1130779 | 0.3995059 |  -588.8300 | 0.3317709 |  -591.8447 |   4497.212 |  36469.19 | 6 | 2071348.3 | -1565424.5 | ⋯ | Chick Islands  | 278013.43 | Sabrina coast   |  825981.4 |  761724.3 | 2069000 | -1564000 | 0 | 0 | 0 |\n",
       "\n"
      ],
      "text/plain": [
       "       gridCellId meanslope meanbathy  slope     bathy      shoredist \n",
       "212653 1252355    1.7046343  -252.7959 2.0824969  -215.1550      0.000\n",
       "200718 1221283    4.7873082 -1497.9500 4.6513991 -1469.1035 103705.409\n",
       "150070  826097    0.2038354  -496.7000 0.2290817  -498.3176 115889.474\n",
       "178275 1059609    1.4472678  -507.4000 1.6294609  -499.4572  40843.743\n",
       "190883 1122507    0.1471168  -461.4500 0.1252840  -462.8557  81964.727\n",
       "194212 1130779    0.3995059  -588.8300 0.3317709  -591.8447   4497.212\n",
       "       glacierdist nearLineId near_x    near_y     ⋯ adpecol        empedist \n",
       "212653  32168.31   6          1401607.6 -2044280.1 ⋯ SE Fisher Bay   32099.05\n",
       "200718 120432.72   6           345493.6 -2019378.7 ⋯ Cape Adare     159147.94\n",
       "150070 199117.07   6          2665883.1  -505063.6 ⋯ Merritt Island 166494.68\n",
       "178275  97555.40   6          -524261.6 -1300517.0 ⋯ Cruzen Island   55664.23\n",
       "190883 122627.53   6          2232138.8 -1211498.1 ⋯ Henry Islands  128250.38\n",
       "194212  36469.19   6          2071348.3 -1565424.5 ⋯ Chick Islands  278013.43\n",
       "       empecol         cont300dist cont800dist coords.x1 coords.x2 abundance\n",
       "212653 Mertz break off 1148042.6   1105816.2   1399000   -2034000  0        \n",
       "200718 Cape Roget      1200285.4   1160007.1    279000   -2099000  0        \n",
       "150070 Bowman Island    254818.1    173487.8   2784000    -499000  0        \n",
       "178275 Cape Colbeck     732267.7    586189.7   -501000   -1344000  0        \n",
       "190883 Sabrina coast    707509.5    510389.4   2309000   -1239000  0        \n",
       "194212 Sabrina coast    825981.4    761724.3   2069000   -1564000  0        \n",
       "       mdlIsl hasMaps\n",
       "212653 0      0      \n",
       "200718 0      0      \n",
       "150070 0      0      \n",
       "178275 0      0      \n",
       "190883 0      0      \n",
       "194212 0      0      "
      ]
     },
     "metadata": {},
     "output_type": "display_data"
    },
    {
     "data": {
      "text/html": [
       "3368"
      ],
      "text/latex": [
       "3368"
      ],
      "text/markdown": [
       "3368"
      ],
      "text/plain": [
       "[1] 3368"
      ]
     },
     "metadata": {},
     "output_type": "display_data"
    }
   ],
   "source": [
    "bootsamp<-bootSampleWESEdata(data=wesedf,nsamples=100,hasMapsBehavior=0,stratifyByClusters=0,countVar=\"mdlCol\",setBinomial=FALSE)\n",
    "head(bootsamp[[12]])\n",
    "tail(bootsamp[[43]])\n",
    "nrow(bootsamp[[7]])"
   ]
  },
  {
   "cell_type": "markdown",
   "metadata": {},
   "source": [
    "#### __Regarding #3__ we use the function \"fitModelToBootstrap\" to fit a simple or generalized regression model to the full ensemble. The function just requires a formula, the ensemble as generated above, and the error family link (by default the Gaussian, which is a normal error).  \n",
    "  \n",
    "The default behavior (i.e., Gaussian error) fits a normal linear model. Otherwise, use \"poisson\" if you think it is appropriate for the counts, or \"binomial\" if fitting logistic regressions (that is, if you set the setBinomial parameter to TRUE when generating the ensemble above). In the case of poisson or logistic regression, a generalized linear model is fit. We can add a negative binomial option later, to accommodate for overdispersion. But for now let's start working with this to get it going.  \n",
    "  \n",
    "Whether fitting a simple regression or a generalized liner model, the output is the same, with the exception that R-squared values cannot be obtained from a GLM. Instead, the function returns the residual deviance of the model for each sample bootstrap.  \n",
    "  \n",
    "The function returns a list with 3 objects: coefficients, goodness-of-fit data, and residuals. But because it performs the model fit on an ensemble of data, it returns a collection of results within each of the above objects.  \n",
    "  \n",
    "For example, the coefficients object is actually 4 data.frames. Each data.frame has as many columns as datasets in the ensemble (from the example above, 100 columns), and each row in the data.frame is a different coefficient from the model. The four data.frames are, respectively: the coefficient estimates, their standard errors, t-values and p-values.  \n",
    "  \n",
    "The residuals data is a single data.frame: each row is a datum in the ensemble, each column is the set of residuals for each model fit. Since every bootstrap sample has 3368 records, this data.frame would have 3368 rows and 100 columns.\n",
    "  \n",
    "The GOF data is also only one data.frame. But unlike the other results above, each column is a GOF paramter, and each row is a different ensemble result. So, it has 4 columns: the degees of freedom of the model, the AIC of the model, the -2*logLikelyhood of the model, and the R-squared or residual deviance. Therefore, for example, with the above bootstrap ensemble the function would return a data.frame of 4 columns, and 100 rows.  \n",
    "  \n",
    "Let's try it."
   ]
  },
  {
   "cell_type": "code",
   "execution_count": 83,
   "metadata": {},
   "outputs": [],
   "source": [
    "reslst<-fitModelToBootstrap(fml=\"abundance~slope+bathy+shoredist+glacierdist\",datalist=bootsamp)\n",
    "## Note: not indicating the family so it defaults to \"gaussian\" and fits a simple regression"
   ]
  },
  {
   "cell_type": "markdown",
   "metadata": {},
   "source": [
    "Let's examine the results, starting with a summary of the coefficients. For this we use the function \"summarizeResults\". The function has two arguments: the fitobj is the object resulting from using the fitModelToBootstrap function above (in our example, fitobj is reslst), and the \"what\" parameter. This parameter has three possible values: \"coefs\", \"gof\", or \"resids\". The latter is the vector of average residuals. Let's look at the coefficients and the goodness-of-fit results."
   ]
  },
  {
   "cell_type": "code",
   "execution_count": 88,
   "metadata": {},
   "outputs": [
    {
     "name": "stdout",
     "output_type": "stream",
     "text": [
      "              Parameter   Coefficient      StError    t_value       Prob_t\n",
      "(Intercept) (Intercept) 99.0241269494 7.615259e+00 13.0043043 1.268834e-36\n",
      "slope             slope  4.5325618945 2.127640e+00  2.1241212 3.847913e-02\n",
      "bathy             bathy  0.0058720343 6.288768e-03  0.9348919 3.554552e-01\n",
      "shoredist     shoredist -0.0003499718 1.207800e-04 -2.8986078 4.142464e-03\n",
      "glacierdist glacierdist -0.0002090387 5.497766e-05 -3.8019720 1.690808e-04\n",
      "            Nboot\n",
      "(Intercept)   100\n",
      "slope         100\n",
      "bathy         100\n",
      "shoredist     100\n",
      "glacierdist   100\n"
     ]
    }
   ],
   "source": [
    "coefres<-summarizeResults(fitobj=reslst,what=\"coefs\")\n",
    "print(coefres)"
   ]
  },
  {
   "cell_type": "code",
   "execution_count": 95,
   "metadata": {},
   "outputs": [
    {
     "name": "stdout",
     "output_type": "stream",
     "text": [
      "       Parameter         Value Nboot\n",
      "Df            Df  3.362770e+03   100\n",
      "AIC          AIC  4.716873e+04   100\n",
      "LogLik    LogLik -2.357837e+04   100\n",
      "Rsq          Rsq  2.895463e-02   100\n"
     ]
    }
   ],
   "source": [
    "gofres<-summarizeResults(fitobj=reslst,what=\"gof\")\n",
    "print(gofres)"
   ]
  },
  {
   "cell_type": "code",
   "execution_count": 96,
   "metadata": {},
   "outputs": [
    {
     "data": {
      "text/html": [
       "<style>\n",
       ".list-inline {list-style: none; margin:0; padding: 0}\n",
       ".list-inline>li {display: inline-block}\n",
       ".list-inline>li:not(:last-child)::after {content: \"\\00b7\"; padding: 0 .5ex}\n",
       "</style>\n",
       "<ol class=list-inline><li>-44.1852488137713</li><li>-23.684071024659</li><li>-2.834443287457</li><li>-51.9090502091025</li><li>-21.9186569477712</li><li>-29.7955058023561</li></ol>\n"
      ],
      "text/latex": [
       "\\begin{enumerate*}\n",
       "\\item -44.1852488137713\n",
       "\\item -23.684071024659\n",
       "\\item -2.834443287457\n",
       "\\item -51.9090502091025\n",
       "\\item -21.9186569477712\n",
       "\\item -29.7955058023561\n",
       "\\end{enumerate*}\n"
      ],
      "text/markdown": [
       "1. -44.1852488137713\n",
       "2. -23.684071024659\n",
       "3. -2.834443287457\n",
       "4. -51.9090502091025\n",
       "5. -21.9186569477712\n",
       "6. -29.7955058023561\n",
       "\n",
       "\n"
      ],
      "text/plain": [
       "[1] -44.185249 -23.684071  -2.834443 -51.909050 -21.918657 -29.795506"
      ]
     },
     "metadata": {},
     "output_type": "display_data"
    }
   ],
   "source": [
    "residuals<-summarizeResults(fitobj=reslst,what=\"resids\")\n",
    "head(residuals)"
   ]
  },
  {
   "cell_type": "code",
   "execution_count": null,
   "metadata": {},
   "outputs": [],
   "source": []
  }
 ],
 "metadata": {
  "kernelspec": {
   "display_name": "R",
   "language": "R",
   "name": "ir"
  },
  "language_info": {
   "codemirror_mode": "r",
   "file_extension": ".r",
   "mimetype": "text/x-r-source",
   "name": "R",
   "pygments_lexer": "r",
   "version": "3.4.4"
  }
 },
 "nbformat": 4,
 "nbformat_minor": 2
}
