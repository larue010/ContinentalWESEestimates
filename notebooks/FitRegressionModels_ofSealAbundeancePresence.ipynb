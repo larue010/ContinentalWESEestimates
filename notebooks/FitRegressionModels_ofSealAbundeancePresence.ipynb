{
 "cells": [
  {
   "cell_type": "markdown",
   "metadata": {},
   "source": [
    "# Fit regression models of seal abundance and presence\n",
    "This notebook uses the information on the estimated number of seals per 5 x 5 KM grid cell to build regression models that aim to explain some of the factors that explain the observed distribution and abundance of Weddell seals around Antarctica.\n",
    "\n",
    "Run this file every time you run the notebook \"Attribute geospatial data with seal abundance data\", as it means you have new geospatial covariates to analyze."
   ]
  },
  {
   "cell_type": "markdown",
   "metadata": {},
   "source": [
    "### Loading the required libraries and other dependencies"
   ]
  },
  {
   "cell_type": "code",
   "execution_count": 1,
   "metadata": {
    "scrolled": true
   },
   "outputs": [
    {
     "data": {
      "text/html": [
       "<table>\n",
       "<caption>A matrix: 2 × 6 of type dbl</caption>\n",
       "<thead>\n",
       "\t<tr><th></th><th scope=col>used</th><th scope=col>(Mb)</th><th scope=col>gc trigger</th><th scope=col>(Mb)</th><th scope=col>max used</th><th scope=col>(Mb)</th></tr>\n",
       "</thead>\n",
       "<tbody>\n",
       "\t<tr><th scope=row>Ncells</th><td>511879</td><td>27.4</td><td> 940480</td><td>50.3</td><td> 750400</td><td>40.1</td></tr>\n",
       "\t<tr><th scope=row>Vcells</th><td>931863</td><td> 7.2</td><td>1650153</td><td>12.6</td><td>1103576</td><td> 8.5</td></tr>\n",
       "</tbody>\n",
       "</table>\n"
      ],
      "text/latex": [
       "A matrix: 2 × 6 of type dbl\n",
       "\\begin{tabular}{r|llllll}\n",
       "  & used & (Mb) & gc trigger & (Mb) & max used & (Mb)\\\\\n",
       "\\hline\n",
       "\tNcells & 511879 & 27.4 &  940480 & 50.3 &  750400 & 40.1\\\\\n",
       "\tVcells & 931863 &  7.2 & 1650153 & 12.6 & 1103576 &  8.5\\\\\n",
       "\\end{tabular}\n"
      ],
      "text/markdown": [
       "\n",
       "A matrix: 2 × 6 of type dbl\n",
       "\n",
       "| <!--/--> | used | (Mb) | gc trigger | (Mb) | max used | (Mb) |\n",
       "|---|---|---|---|---|---|---|\n",
       "| Ncells | 511879 | 27.4 |  940480 | 50.3 |  750400 | 40.1 |\n",
       "| Vcells | 931863 |  7.2 | 1650153 | 12.6 | 1103576 |  8.5 |\n",
       "\n"
      ],
      "text/plain": [
       "       used   (Mb) gc trigger (Mb) max used (Mb)\n",
       "Ncells 511879 27.4  940480    50.3  750400  40.1\n",
       "Vcells 931863  7.2 1650153    12.6 1103576   8.5"
      ]
     },
     "metadata": {},
     "output_type": "display_data"
    }
   ],
   "source": [
    "## Clear memory\n",
    "rm(list=ls())\n",
    "gc()"
   ]
  },
  {
   "cell_type": "code",
   "execution_count": 2,
   "metadata": {
    "collapsed": true
   },
   "outputs": [
    {
     "name": "stderr",
     "output_type": "stream",
     "text": [
      "Loading required package: ggplot2\n",
      "\n",
      "Loading required package: plyr\n",
      "\n",
      "Loading required package: dplyr\n",
      "\n",
      "\n",
      "Attaching package: ‘dplyr’\n",
      "\n",
      "\n",
      "The following objects are masked from ‘package:plyr’:\n",
      "\n",
      "    arrange, count, desc, failwith, id, mutate, rename, summarise,\n",
      "    summarize\n",
      "\n",
      "\n",
      "The following objects are masked from ‘package:stats’:\n",
      "\n",
      "    filter, lag\n",
      "\n",
      "\n",
      "The following objects are masked from ‘package:base’:\n",
      "\n",
      "    intersect, setdiff, setequal, union\n",
      "\n",
      "\n",
      "Loading required package: sp\n",
      "\n",
      "Loading required package: rgeos\n",
      "\n",
      "rgeos version: 0.5-2, (SVN revision 621)\n",
      " GEOS runtime version: 3.6.2-CAPI-1.10.2 \n",
      " Linking to sp version: 1.4-1 \n",
      " Polygon checking: TRUE \n",
      "\n",
      "\n",
      "Loading required package: raster\n",
      "\n",
      "\n",
      "Attaching package: ‘raster’\n",
      "\n",
      "\n",
      "The following object is masked from ‘package:dplyr’:\n",
      "\n",
      "    select\n",
      "\n",
      "\n",
      "Loading required package: rgdal\n",
      "\n",
      "rgdal: version: 1.2-20, (SVN revision 725)\n",
      " Geospatial Data Abstraction Library extensions to R successfully loaded\n",
      " Loaded GDAL runtime: GDAL 2.2.3, released 2017/11/20\n",
      " Path to GDAL shared files: /usr/share/gdal/2.2\n",
      " GDAL binary built with GEOS: TRUE \n",
      " Loaded PROJ.4 runtime: Rel. 4.9.3, 15 August 2016, [PJ_VERSION: 493]\n",
      " Path to PROJ.4 shared files: (autodetected)\n",
      " Linking to sp version: 1.4-1 \n",
      "\n",
      "Loading required package: MASS\n",
      "\n",
      "\n",
      "Attaching package: ‘MASS’\n",
      "\n",
      "\n",
      "The following objects are masked from ‘package:raster’:\n",
      "\n",
      "    area, select\n",
      "\n",
      "\n",
      "The following object is masked from ‘package:dplyr’:\n",
      "\n",
      "    select\n",
      "\n",
      "\n"
     ]
    },
    {
     "data": {
      "text/html": [
       "<ol>\n",
       "\t<li>TRUE</li>\n",
       "\t<li>TRUE</li>\n",
       "\t<li>TRUE</li>\n",
       "\t<li>TRUE</li>\n",
       "\t<li>TRUE</li>\n",
       "\t<li>TRUE</li>\n",
       "\t<li>TRUE</li>\n",
       "\t<li>TRUE</li>\n",
       "</ol>\n"
      ],
      "text/latex": [
       "\\begin{enumerate}\n",
       "\\item TRUE\n",
       "\\item TRUE\n",
       "\\item TRUE\n",
       "\\item TRUE\n",
       "\\item TRUE\n",
       "\\item TRUE\n",
       "\\item TRUE\n",
       "\\item TRUE\n",
       "\\end{enumerate}\n"
      ],
      "text/markdown": [
       "1. TRUE\n",
       "2. TRUE\n",
       "3. TRUE\n",
       "4. TRUE\n",
       "5. TRUE\n",
       "6. TRUE\n",
       "7. TRUE\n",
       "8. TRUE\n",
       "\n",
       "\n"
      ],
      "text/plain": [
       "[[1]]\n",
       "[1] TRUE\n",
       "\n",
       "[[2]]\n",
       "[1] TRUE\n",
       "\n",
       "[[3]]\n",
       "[1] TRUE\n",
       "\n",
       "[[4]]\n",
       "[1] TRUE\n",
       "\n",
       "[[5]]\n",
       "[1] TRUE\n",
       "\n",
       "[[6]]\n",
       "[1] TRUE\n",
       "\n",
       "[[7]]\n",
       "[1] TRUE\n",
       "\n",
       "[[8]]\n",
       "[1] TRUE\n"
      ]
     },
     "metadata": {},
     "output_type": "display_data"
    }
   ],
   "source": [
    "libs<-c(\"ggplot2\",\"plyr\",\"dplyr\",\"sp\",\"rgeos\",\"rgdal\",\"MASS\",\"fitdistrplus\")\n",
    "lapply(libs, require, character.only = TRUE)\n",
    "pathToLocalGit<-\"/home/ubuntu/Workspace/ContinentalWESEestimates/\"\n",
    "\n",
    "## Load the source utility functions file\n",
    "source(file=paste0(pathToLocalGit,\"scripts/fitRegressionModels_functions.R\"))\n",
    "\n",
    "dataproj<-\"+proj=stere +lat_0=-90 +lat_ts=-71 +lon_0=0 +k=1 +x_0=0 +y_0=0 +datum=WGS84 +units=m +no_defs +ellps=WGS84 +towgs84=0,0,0\""
   ]
  },
  {
   "cell_type": "code",
   "execution_count": 3,
   "metadata": {
    "collapsed": true
   },
   "outputs": [
    {
     "data": {
      "text/html": [
       "<table>\n",
       "<caption>A data.frame: 6 × 25</caption>\n",
       "<thead>\n",
       "\t<tr><th></th><th scope=col>gridCellId</th><th scope=col>meanslope</th><th scope=col>meanbathy</th><th scope=col>glacierdist</th><th scope=col>distToShore</th><th scope=col>cont300dist</th><th scope=col>cont800dist</th><th scope=col>DecemberIcePresence</th><th scope=col>Persistence2Years</th><th scope=col>PredictabilityDec5Years</th><th scope=col>⋯</th><th scope=col>ADPEabund</th><th scope=col>EMPEname</th><th scope=col>EMPEdist</th><th scope=col>EMPEabund</th><th scope=col>coords.x1</th><th scope=col>coords.x2</th><th scope=col>mdlCol</th><th scope=col>mdlIsl</th><th scope=col>hasMaps</th><th scope=col>fastIceRatio</th></tr>\n",
       "\t<tr><th></th><th scope=col>&lt;int&gt;</th><th scope=col>&lt;dbl&gt;</th><th scope=col>&lt;dbl&gt;</th><th scope=col>&lt;dbl&gt;</th><th scope=col>&lt;dbl&gt;</th><th scope=col>&lt;dbl&gt;</th><th scope=col>&lt;dbl&gt;</th><th scope=col>&lt;dbl&gt;</th><th scope=col>&lt;dbl&gt;</th><th scope=col>&lt;dbl&gt;</th><th scope=col>⋯</th><th scope=col>&lt;dbl&gt;</th><th scope=col>&lt;chr&gt;</th><th scope=col>&lt;dbl&gt;</th><th scope=col>&lt;dbl&gt;</th><th scope=col>&lt;dbl&gt;</th><th scope=col>&lt;dbl&gt;</th><th scope=col>&lt;dbl&gt;</th><th scope=col>&lt;dbl&gt;</th><th scope=col>&lt;dbl&gt;</th><th scope=col>&lt;dbl&gt;</th></tr>\n",
       "</thead>\n",
       "<tbody>\n",
       "\t<tr><th scope=row>1</th><td>68791</td><td>2.621992</td><td>-2846.908</td><td>247849.6</td><td>201526.4</td><td>142791.6</td><td>588996.1</td><td>0</td><td>0</td><td>0</td><td>⋯</td><td>NA</td><td>NA</td><td>NA</td><td>NA</td><td>-2191000</td><td>2511000</td><td>0</td><td>0</td><td>0</td><td>0</td></tr>\n",
       "\t<tr><th scope=row>2</th><td>68792</td><td>4.591249</td><td>-2587.330</td><td>250334.0</td><td>203621.5</td><td>142791.6</td><td>588996.1</td><td>0</td><td>0</td><td>0</td><td>⋯</td><td>NA</td><td>NA</td><td>NA</td><td>NA</td><td>-2186000</td><td>2511000</td><td>0</td><td>0</td><td>0</td><td>0</td></tr>\n",
       "\t<tr><th scope=row>3</th><td>68819</td><td>1.411659</td><td>-3014.080</td><td>241050.2</td><td>194935.5</td><td>138016.9</td><td>584654.8</td><td>0</td><td>0</td><td>0</td><td>⋯</td><td>NA</td><td>NA</td><td>NA</td><td>NA</td><td>-2196000</td><td>2506000</td><td>0</td><td>0</td><td>0</td><td>0</td></tr>\n",
       "\t<tr><th scope=row>4</th><td>68820</td><td>1.413779</td><td>-2920.630</td><td>243501.3</td><td>196973.9</td><td>138016.9</td><td>584654.8</td><td>0</td><td>0</td><td>0</td><td>⋯</td><td>NA</td><td>NA</td><td>NA</td><td>NA</td><td>-2191000</td><td>2506000</td><td>0</td><td>0</td><td>0</td><td>0</td></tr>\n",
       "\t<tr><th scope=row>5</th><td>68821</td><td>4.561732</td><td>-2686.220</td><td>246029.6</td><td>199116.9</td><td>138016.9</td><td>584654.8</td><td>0</td><td>0</td><td>0</td><td>⋯</td><td>NA</td><td>NA</td><td>NA</td><td>NA</td><td>-2186000</td><td>2506000</td><td>0</td><td>0</td><td>0</td><td>0</td></tr>\n",
       "\t<tr><th scope=row>6</th><td>68822</td><td>4.902608</td><td>-2264.930</td><td>248632.8</td><td>201361.3</td><td>138016.9</td><td>584654.8</td><td>0</td><td>0</td><td>0</td><td>⋯</td><td>NA</td><td>NA</td><td>NA</td><td>NA</td><td>-2181000</td><td>2506000</td><td>0</td><td>0</td><td>0</td><td>0</td></tr>\n",
       "</tbody>\n",
       "</table>\n"
      ],
      "text/latex": [
       "A data.frame: 6 × 25\n",
       "\\begin{tabular}{r|lllllllllllllllllllll}\n",
       "  & gridCellId & meanslope & meanbathy & glacierdist & distToShore & cont300dist & cont800dist & DecemberIcePresence & Persistence2Years & PredictabilityDec5Years & ⋯ & ADPEabund & EMPEname & EMPEdist & EMPEabund & coords.x1 & coords.x2 & mdlCol & mdlIsl & hasMaps & fastIceRatio\\\\\n",
       "  & <int> & <dbl> & <dbl> & <dbl> & <dbl> & <dbl> & <dbl> & <dbl> & <dbl> & <dbl> & ⋯ & <dbl> & <chr> & <dbl> & <dbl> & <dbl> & <dbl> & <dbl> & <dbl> & <dbl> & <dbl>\\\\\n",
       "\\hline\n",
       "\t1 & 68791 & 2.621992 & -2846.908 & 247849.6 & 201526.4 & 142791.6 & 588996.1 & 0 & 0 & 0 & ⋯ & NA & NA & NA & NA & -2191000 & 2511000 & 0 & 0 & 0 & 0\\\\\n",
       "\t2 & 68792 & 4.591249 & -2587.330 & 250334.0 & 203621.5 & 142791.6 & 588996.1 & 0 & 0 & 0 & ⋯ & NA & NA & NA & NA & -2186000 & 2511000 & 0 & 0 & 0 & 0\\\\\n",
       "\t3 & 68819 & 1.411659 & -3014.080 & 241050.2 & 194935.5 & 138016.9 & 584654.8 & 0 & 0 & 0 & ⋯ & NA & NA & NA & NA & -2196000 & 2506000 & 0 & 0 & 0 & 0\\\\\n",
       "\t4 & 68820 & 1.413779 & -2920.630 & 243501.3 & 196973.9 & 138016.9 & 584654.8 & 0 & 0 & 0 & ⋯ & NA & NA & NA & NA & -2191000 & 2506000 & 0 & 0 & 0 & 0\\\\\n",
       "\t5 & 68821 & 4.561732 & -2686.220 & 246029.6 & 199116.9 & 138016.9 & 584654.8 & 0 & 0 & 0 & ⋯ & NA & NA & NA & NA & -2186000 & 2506000 & 0 & 0 & 0 & 0\\\\\n",
       "\t6 & 68822 & 4.902608 & -2264.930 & 248632.8 & 201361.3 & 138016.9 & 584654.8 & 0 & 0 & 0 & ⋯ & NA & NA & NA & NA & -2181000 & 2506000 & 0 & 0 & 0 & 0\\\\\n",
       "\\end{tabular}\n"
      ],
      "text/markdown": [
       "\n",
       "A data.frame: 6 × 25\n",
       "\n",
       "| <!--/--> | gridCellId &lt;int&gt; | meanslope &lt;dbl&gt; | meanbathy &lt;dbl&gt; | glacierdist &lt;dbl&gt; | distToShore &lt;dbl&gt; | cont300dist &lt;dbl&gt; | cont800dist &lt;dbl&gt; | DecemberIcePresence &lt;dbl&gt; | Persistence2Years &lt;dbl&gt; | PredictabilityDec5Years &lt;dbl&gt; | ⋯ ⋯ | ADPEabund &lt;dbl&gt; | EMPEname &lt;chr&gt; | EMPEdist &lt;dbl&gt; | EMPEabund &lt;dbl&gt; | coords.x1 &lt;dbl&gt; | coords.x2 &lt;dbl&gt; | mdlCol &lt;dbl&gt; | mdlIsl &lt;dbl&gt; | hasMaps &lt;dbl&gt; | fastIceRatio &lt;dbl&gt; |\n",
       "|---|---|---|---|---|---|---|---|---|---|---|---|---|---|---|---|---|---|---|---|---|---|\n",
       "| 1 | 68791 | 2.621992 | -2846.908 | 247849.6 | 201526.4 | 142791.6 | 588996.1 | 0 | 0 | 0 | ⋯ | NA | NA | NA | NA | -2191000 | 2511000 | 0 | 0 | 0 | 0 |\n",
       "| 2 | 68792 | 4.591249 | -2587.330 | 250334.0 | 203621.5 | 142791.6 | 588996.1 | 0 | 0 | 0 | ⋯ | NA | NA | NA | NA | -2186000 | 2511000 | 0 | 0 | 0 | 0 |\n",
       "| 3 | 68819 | 1.411659 | -3014.080 | 241050.2 | 194935.5 | 138016.9 | 584654.8 | 0 | 0 | 0 | ⋯ | NA | NA | NA | NA | -2196000 | 2506000 | 0 | 0 | 0 | 0 |\n",
       "| 4 | 68820 | 1.413779 | -2920.630 | 243501.3 | 196973.9 | 138016.9 | 584654.8 | 0 | 0 | 0 | ⋯ | NA | NA | NA | NA | -2191000 | 2506000 | 0 | 0 | 0 | 0 |\n",
       "| 5 | 68821 | 4.561732 | -2686.220 | 246029.6 | 199116.9 | 138016.9 | 584654.8 | 0 | 0 | 0 | ⋯ | NA | NA | NA | NA | -2186000 | 2506000 | 0 | 0 | 0 | 0 |\n",
       "| 6 | 68822 | 4.902608 | -2264.930 | 248632.8 | 201361.3 | 138016.9 | 584654.8 | 0 | 0 | 0 | ⋯ | NA | NA | NA | NA | -2181000 | 2506000 | 0 | 0 | 0 | 0 |\n",
       "\n"
      ],
      "text/plain": [
       "  gridCellId meanslope meanbathy glacierdist distToShore cont300dist\n",
       "1 68791      2.621992  -2846.908 247849.6    201526.4    142791.6   \n",
       "2 68792      4.591249  -2587.330 250334.0    203621.5    142791.6   \n",
       "3 68819      1.411659  -3014.080 241050.2    194935.5    138016.9   \n",
       "4 68820      1.413779  -2920.630 243501.3    196973.9    138016.9   \n",
       "5 68821      4.561732  -2686.220 246029.6    199116.9    138016.9   \n",
       "6 68822      4.902608  -2264.930 248632.8    201361.3    138016.9   \n",
       "  cont800dist DecemberIcePresence Persistence2Years PredictabilityDec5Years ⋯\n",
       "1 588996.1    0                   0                 0                       ⋯\n",
       "2 588996.1    0                   0                 0                       ⋯\n",
       "3 584654.8    0                   0                 0                       ⋯\n",
       "4 584654.8    0                   0                 0                       ⋯\n",
       "5 584654.8    0                   0                 0                       ⋯\n",
       "6 584654.8    0                   0                 0                       ⋯\n",
       "  ADPEabund EMPEname EMPEdist EMPEabund coords.x1 coords.x2 mdlCol mdlIsl\n",
       "1 NA        NA       NA       NA        -2191000  2511000   0      0     \n",
       "2 NA        NA       NA       NA        -2186000  2511000   0      0     \n",
       "3 NA        NA       NA       NA        -2196000  2506000   0      0     \n",
       "4 NA        NA       NA       NA        -2191000  2506000   0      0     \n",
       "5 NA        NA       NA       NA        -2186000  2506000   0      0     \n",
       "6 NA        NA       NA       NA        -2181000  2506000   0      0     \n",
       "  hasMaps fastIceRatio\n",
       "1 0       0           \n",
       "2 0       0           \n",
       "3 0       0           \n",
       "4 0       0           \n",
       "5 0       0           \n",
       "6 0       0           "
      ]
     },
     "metadata": {},
     "output_type": "display_data"
    }
   ],
   "source": [
    "## load the WESE grid data\n",
    "load(file=paste0(pathToLocalGit,\"data/continentalWESE.RData\"))\n",
    "wesedf$fastIceRatio<-ifelse(is.na(wesedf$fastIceWidth),0,\n",
    "                            ifelse(wesedf$fastIceWidth==0,0,wesedf$distNearestIceEdge/wesedf$fastIceWidth))\n",
    "head(wesedf)\n",
    "wesedf$ADPEname<-as.character(wesedf$ADPEname)\n",
    "wesedf$EMPEname<-as.character(wesedf$EMPEname)\n",
    "#removing the original abundances to use only the 2011, MLR approved values\n",
    "wesedf<-wesedf[,which(!names(wesedf) %in% c(\"ADPEabund\",\"EMPEabund\"))]\n"
   ]
  },
  {
   "cell_type": "code",
   "execution_count": 4,
   "metadata": {
    "collapsed": true
   },
   "outputs": [
    {
     "data": {
      "text/html": [
       "<table>\n",
       "<caption>A data.frame: 6 × 7</caption>\n",
       "<thead>\n",
       "\t<tr><th></th><th scope=col>pointid</th><th scope=col>ADPEname</th><th scope=col>ADPEdist</th><th scope=col>ADPEabund</th><th scope=col>EMPEname</th><th scope=col>EMPEdist</th><th scope=col>EMPEabund</th></tr>\n",
       "\t<tr><th></th><th scope=col>&lt;int&gt;</th><th scope=col>&lt;chr&gt;</th><th scope=col>&lt;dbl&gt;</th><th scope=col>&lt;dbl&gt;</th><th scope=col>&lt;chr&gt;</th><th scope=col>&lt;dbl&gt;</th><th scope=col>&lt;dbl&gt;</th></tr>\n",
       "</thead>\n",
       "<tbody>\n",
       "\t<tr><th scope=row>1</th><td>121905</td><td>Thule Island</td><td>1597981</td><td>0</td><td>Atka </td><td>110055.3</td><td>1623.017</td></tr>\n",
       "\t<tr><th scope=row>2</th><td>121906</td><td>Thule Island</td><td>1602203</td><td>0</td><td>Atka </td><td>114386.0</td><td>1541.087</td></tr>\n",
       "\t<tr><th scope=row>3</th><td>121907</td><td>Thule Island</td><td>1606429</td><td>0</td><td>Atka </td><td>118769.4</td><td>1802.988</td></tr>\n",
       "\t<tr><th scope=row>4</th><td>121908</td><td>Thule Island</td><td>1610660</td><td>0</td><td>Atka </td><td>123199.7</td><td>1749.174</td></tr>\n",
       "\t<tr><th scope=row>5</th><td>121909</td><td>Thule Island</td><td>1614895</td><td>0</td><td>Atka </td><td>127672.1</td><td>1698.200</td></tr>\n",
       "\t<tr><th scope=row>6</th><td>121910</td><td>Kujira Point</td><td>1618768</td><td>0</td><td>Sanae</td><td>130802.4</td><td>1650.068</td></tr>\n",
       "</tbody>\n",
       "</table>\n"
      ],
      "text/latex": [
       "A data.frame: 6 × 7\n",
       "\\begin{tabular}{r|lllllll}\n",
       "  & pointid & ADPEname & ADPEdist & ADPEabund & EMPEname & EMPEdist & EMPEabund\\\\\n",
       "  & <int> & <chr> & <dbl> & <dbl> & <chr> & <dbl> & <dbl>\\\\\n",
       "\\hline\n",
       "\t1 & 121905 & Thule Island & 1597981 & 0 & Atka  & 110055.3 & 1623.017\\\\\n",
       "\t2 & 121906 & Thule Island & 1602203 & 0 & Atka  & 114386.0 & 1541.087\\\\\n",
       "\t3 & 121907 & Thule Island & 1606429 & 0 & Atka  & 118769.4 & 1802.988\\\\\n",
       "\t4 & 121908 & Thule Island & 1610660 & 0 & Atka  & 123199.7 & 1749.174\\\\\n",
       "\t5 & 121909 & Thule Island & 1614895 & 0 & Atka  & 127672.1 & 1698.200\\\\\n",
       "\t6 & 121910 & Kujira Point & 1618768 & 0 & Sanae & 130802.4 & 1650.068\\\\\n",
       "\\end{tabular}\n"
      ],
      "text/markdown": [
       "\n",
       "A data.frame: 6 × 7\n",
       "\n",
       "| <!--/--> | pointid &lt;int&gt; | ADPEname &lt;chr&gt; | ADPEdist &lt;dbl&gt; | ADPEabund &lt;dbl&gt; | EMPEname &lt;chr&gt; | EMPEdist &lt;dbl&gt; | EMPEabund &lt;dbl&gt; |\n",
       "|---|---|---|---|---|---|---|---|\n",
       "| 1 | 121905 | Thule Island | 1597981 | 0 | Atka  | 110055.3 | 1623.017 |\n",
       "| 2 | 121906 | Thule Island | 1602203 | 0 | Atka  | 114386.0 | 1541.087 |\n",
       "| 3 | 121907 | Thule Island | 1606429 | 0 | Atka  | 118769.4 | 1802.988 |\n",
       "| 4 | 121908 | Thule Island | 1610660 | 0 | Atka  | 123199.7 | 1749.174 |\n",
       "| 5 | 121909 | Thule Island | 1614895 | 0 | Atka  | 127672.1 | 1698.200 |\n",
       "| 6 | 121910 | Kujira Point | 1618768 | 0 | Sanae | 130802.4 | 1650.068 |\n",
       "\n"
      ],
      "text/plain": [
       "  pointid ADPEname     ADPEdist ADPEabund EMPEname EMPEdist EMPEabund\n",
       "1 121905  Thule Island 1597981  0         Atka     110055.3 1623.017 \n",
       "2 121906  Thule Island 1602203  0         Atka     114386.0 1541.087 \n",
       "3 121907  Thule Island 1606429  0         Atka     118769.4 1802.988 \n",
       "4 121908  Thule Island 1610660  0         Atka     123199.7 1749.174 \n",
       "5 121909  Thule Island 1614895  0         Atka     127672.1 1698.200 \n",
       "6 121910  Kujira Point 1618768  0         Sanae    130802.4 1650.068 "
      ]
     },
     "metadata": {},
     "output_type": "display_data"
    }
   ],
   "source": [
    "## Read the ADPE and EMPE colony size data from Michelle\n",
    "adpedat<-read.csv(file=paste0(pathToLocalGit,\"data/ADPE_colonies_20200416.csv\"),stringsAsFactors=FALSE)\n",
    "empedat<-read.csv(file=paste0(pathToLocalGit,\"data/EMPE_colonies_20200327.csv\"),stringsAsFactors=FALSE)\n",
    "\n",
    "wesesp<-wesedf\n",
    "names(wesesp)<-gsub(\"gridCellId\",\"pointid\",names(wesesp))\n",
    "coordinates(wesesp)<-c(\"coords.x1\",\"coords.x2\")\n",
    "proj4string(wesesp)<-CRS(dataproj)\n",
    "## We want to rescale them by the decay function as discussed with Nadav and david\n",
    "source(\"/home/ubuntu/fastIce/FastIceCovars/scripts/fastIceCovars_utils.R\")\n",
    "penguindf<-getDistanceToPenguins2011(studyarea_pointswLand=wesesp,adpedf=adpedat,empedf=empedat)\n",
    "head(penguindf)"
   ]
  },
  {
   "cell_type": "code",
   "execution_count": 5,
   "metadata": {},
   "outputs": [],
   "source": [
    "## Merge these penguin abundance data back to wesedf\n",
    "names(penguindf)<-gsub(\"pointid\",\"gridCellId\",names(penguindf))\n",
    "wesedf<-merge(wesedf,penguindf[,c(\"gridCellId\",\"ADPEabund\",\"EMPEabund\")],by=\"gridCellId\",all.x=TRUE)\n",
    "wesedf$ADPEabund<-ifelse(is.na(wesedf$ADPEabund),0,wesedf$ADPEabund)\n",
    "wesedf$EMPEabund<-ifelse(is.na(wesedf$EMPEabund),0,wesedf$EMPEabund)"
   ]
  },
  {
   "cell_type": "code",
   "execution_count": 6,
   "metadata": {},
   "outputs": [
    {
     "data": {
      "text/html": [
       "37"
      ],
      "text/latex": [
       "37"
      ],
      "text/markdown": [
       "37"
      ],
      "text/plain": [
       "[1] 37"
      ]
     },
     "metadata": {},
     "output_type": "display_data"
    },
    {
     "data": {
      "text/html": [
       "37"
      ],
      "text/latex": [
       "37"
      ],
      "text/markdown": [
       "37"
      ],
      "text/plain": [
       "[1] 37"
      ]
     },
     "metadata": {},
     "output_type": "display_data"
    },
    {
     "data": {
      "text/html": [
       "227507"
      ],
      "text/latex": [
       "227507"
      ],
      "text/markdown": [
       "227507"
      ],
      "text/plain": [
       "[1] 227507"
      ]
     },
     "metadata": {},
     "output_type": "display_data"
    },
    {
     "data": {
      "text/html": [
       "227470"
      ],
      "text/latex": [
       "227470"
      ],
      "text/markdown": [
       "227470"
      ],
      "text/plain": [
       "[1] 227470"
      ]
     },
     "metadata": {},
     "output_type": "display_data"
    }
   ],
   "source": [
    "## Some of the locatons with WESE have no penguin data\n",
    "sum(wesedf$mdlCol>0 & is.na(wesedf$ADPEname))\n",
    "sum(wesedf$mdlCol>0 & is.na(wesedf$EMPEname))\n",
    "## These also have no fastIce, so we filter them out\n",
    "nrow(wesedf)\n",
    "wesedf<-subset(wesedf,(mdlCol==0) | (mdlCol>0 & fastIcePresent==TRUE))\n",
    "nrow(wesedf)"
   ]
  },
  {
   "cell_type": "code",
   "execution_count": 7,
   "metadata": {},
   "outputs": [
    {
     "data": {
      "text/html": [
       "4087"
      ],
      "text/latex": [
       "4087"
      ],
      "text/markdown": [
       "4087"
      ],
      "text/plain": [
       "[1] 4087"
      ]
     },
     "metadata": {},
     "output_type": "display_data"
    },
    {
     "data": {
      "text/html": [
       "4087"
      ],
      "text/latex": [
       "4087"
      ],
      "text/markdown": [
       "4087"
      ],
      "text/plain": [
       "[1] 4087"
      ]
     },
     "metadata": {},
     "output_type": "display_data"
    }
   ],
   "source": [
    "# Too many cells with WESE have no bathymetry or slope data. \n",
    "# We use the mean bathymetry of cells with WESE for those those cells without bathymetry and with WESE\n",
    "# We use the mean bathymetry of cells without WESE for those those cells without bathymetry and without WESE\n",
    "sum(is.na(wesedf$meanbathy))\n",
    "meanWbathy<-mean(subset(wesedf,mdlCol>0)$meanbathy,na.rm=T); meanNWbathy<-mean(subset(wesedf,mdlCol==0)$meanbathy,na.rm=T)\n",
    "wesedf$meanbathy<-ifelse(!is.na(wesedf$meanbathy),wesedf$meanbathy,\n",
    "                         ifelse(is.na(wesedf$meanbathy) & wesedf$mdlCol>0,meanWbathy,meanNWbathy))\n",
    "sum(wesedf$meanbathy==meanWbathy) + sum(wesedf$meanbathy==meanNWbathy)"
   ]
  },
  {
   "cell_type": "code",
   "execution_count": 8,
   "metadata": {},
   "outputs": [
    {
     "data": {
      "text/html": [
       "4360"
      ],
      "text/latex": [
       "4360"
      ],
      "text/markdown": [
       "4360"
      ],
      "text/plain": [
       "[1] 4360"
      ]
     },
     "metadata": {},
     "output_type": "display_data"
    },
    {
     "data": {
      "text/html": [
       "4360"
      ],
      "text/latex": [
       "4360"
      ],
      "text/markdown": [
       "4360"
      ],
      "text/plain": [
       "[1] 4360"
      ]
     },
     "metadata": {},
     "output_type": "display_data"
    }
   ],
   "source": [
    "# We do the same mutatis mutandi for cells without slope\n",
    "sum(is.na(wesedf$meanslope))\n",
    "meanWslope<-mean(subset(wesedf,mdlCol>0)$meanslope,na.rm=T); meanNWslope<-mean(subset(wesedf,mdlCol==0)$meanslope,na.rm=T)\n",
    "wesedf$meanslope<-ifelse(!is.na(wesedf$meanslope),wesedf$meanslope,\n",
    "                         ifelse(is.na(wesedf$meanslope) & wesedf$mdlCol>0,meanWslope,meanNWslope))\n",
    "sum(wesedf$meanslope==meanWslope) + sum(wesedf$meanslope==meanNWslope)"
   ]
  },
  {
   "cell_type": "code",
   "execution_count": 9,
   "metadata": {},
   "outputs": [],
   "source": [
    "# There are 12 numeric variables in the data to be use for modeling, but 3 of these should be converted to factors\n",
    "# One is DecemberIcePresence - since it is binary (0/1) there is no need to convert to a factor\n",
    "wesedf$Persistence2Years<-as.numeric(as.character(wesedf$Persistence2Years))\n",
    "wesedf$PredictabilityDec5Years<-as.numeric(as.character(wesedf$PredictabilityDec5Years))\n",
    "\n",
    "# All other numeric variables need to be rescaled (except the ratio distEdge/width)\n",
    "# Rescaling is so that values are bound between 0 and 14\n",
    "wesedf$scaledmeanslope<-wesedf$meanslope/2\n",
    "wesedf$logmeanbathy<--1*log(-1*wesedf$meanbathy) \n",
    "wesedf$logglacierdist<-log(wesedf$glacierdist+1) \n",
    "wesedf$logdistToShore<-log(wesedf$distToShore+1) \n",
    "wesedf$logcont300dist<-log(wesedf$cont300dist+1) \n",
    "wesedf$logcont800dist<-log(wesedf$cont800dist+1) \n",
    "wesedf$logdistNearestIceEdge<-log(wesedf$distNearestIceEdge+1)\n",
    "wesedf$logfastIceWidth<-log(wesedf$fastIceWidth)\n",
    "wesedf$logempedist<-log(wesedf$EMPEdist+1) \n",
    "wesedf$logadpedist<-log(wesedf$ADPEdist+1) \n",
    "wesedf$logADPEabund<-log(wesedf$ADPEabund+1)\n",
    "wesedf$logEMPEabund<-log(wesedf$EMPEabund+1)\n"
   ]
  },
  {
   "cell_type": "markdown",
   "metadata": {},
   "source": [
    "## Regresion analysis preliminaries"
   ]
  },
  {
   "cell_type": "markdown",
   "metadata": {},
   "source": [
    "The above tble (wesedf) is ready for fitting regression models, but first we will need the following:\n",
    "1. Be able to extend the attribution of the table with geospatial hypotheses (e.g., David's WESE zones vs. Michelle's WESE zones)\n",
    "2. Generate N samples of \"no-seal\" locations of identical size as the number of grid cells with WESE presence\n",
    "3. Be able to compute a linear model with the set of N bootstrap samples, and have it summarized for us\n",
    "  \n",
    "### On the above needs\n",
    "__Regarding #1__ it is done with the functions \"readShapeFile\" and \"attributeWithShape\". The first function reads the shape file into a spatial object and the second one uses information on the spatial object (e.g., David's WESE zones) into the data.  \n",
    "Here's an example to load a point shapefile, from an example copied into the repository's data folder:"
   ]
  },
  {
   "cell_type": "code",
   "execution_count": 10,
   "metadata": {},
   "outputs": [
    {
     "name": "stdout",
     "output_type": "stream",
     "text": [
      "OGR data source with driver: ESRI Shapefile \n",
      "Source: \"/home/ubuntu/Workspace/ContinentalWESEestimates/data/Antarctic Regions_shapefile_20200528\", layer: \"Antarctic_Regions_WESE_v2\"\n",
      "with 4 features\n",
      "It has 3 fields\n"
     ]
    },
    {
     "data": {
      "image/png": "[encoded data removed]",
      "text/plain": [
       "plot without title"
      ]
     },
     "metadata": {
      "image/png": {
       "height": 420,
       "width": 420
      },
      "text/plain": {
       "height": 420,
       "width": 420
      }
     },
     "output_type": "display_data"
    }
   ],
   "source": [
    "arWESE<-readShapeFile(pathToGit=pathToLocalGit,folderName=\"Antarctic Regions_shapefile_20200528\",shapeName=\"Antarctic_Regions_WESE_v2\")\n",
    "proj4string(arWESE)<-CRS(dataproj)\n",
    "#folderName is the folder name in the workspace, and shapeName is the name of the .shp file\n",
    "wesespdf<-wesedf[,c(\"coords.x1\",\"coords.x2\")]\n",
    "coordinates(wesespdf)<-c(\"coords.x1\",\"coords.x2\")\n",
    "projection(wesespdf)<-CRS(dataproj)\n",
    "plot(wesespdf,col=\"red\")\n",
    "plot(arWESE, add=T)\n"
   ]
  },
  {
   "cell_type": "markdown",
   "metadata": {},
   "source": [
    "We could (but we don't because this is a point shapefile, not a polygon shapefile) use the spatial object \"icebergs\" ploted above to attribute wesedf with some information in it. We can see the contents of \"icebergs\" with a head:"
   ]
  },
  {
   "cell_type": "code",
   "execution_count": 11,
   "metadata": {},
   "outputs": [
    {
     "data": {
      "text/html": [
       "<table>\n",
       "<caption>A data.frame: 4 × 3</caption>\n",
       "<thead>\n",
       "\t<tr><th></th><th scope=col>Id</th><th scope=col>Region</th><th scope=col>RegionNum</th></tr>\n",
       "\t<tr><th></th><th scope=col>&lt;int&gt;</th><th scope=col>&lt;fct&gt;</th><th scope=col>&lt;int&gt;</th></tr>\n",
       "</thead>\n",
       "<tbody>\n",
       "\t<tr><th scope=row>0</th><td>0</td><td>Ross Sea                   </td><td>1</td></tr>\n",
       "\t<tr><th scope=row>1</th><td>0</td><td>Amundsen-Bellingshausen-WAP</td><td>2</td></tr>\n",
       "\t<tr><th scope=row>2</th><td>0</td><td>Weddell Sea                </td><td>3</td></tr>\n",
       "\t<tr><th scope=row>3</th><td>0</td><td>East Antarctica            </td><td>4</td></tr>\n",
       "</tbody>\n",
       "</table>\n"
      ],
      "text/latex": [
       "A data.frame: 4 × 3\n",
       "\\begin{tabular}{r|lll}\n",
       "  & Id & Region & RegionNum\\\\\n",
       "  & <int> & <fct> & <int>\\\\\n",
       "\\hline\n",
       "\t0 & 0 & Ross Sea                    & 1\\\\\n",
       "\t1 & 0 & Amundsen-Bellingshausen-WAP & 2\\\\\n",
       "\t2 & 0 & Weddell Sea                 & 3\\\\\n",
       "\t3 & 0 & East Antarctica             & 4\\\\\n",
       "\\end{tabular}\n"
      ],
      "text/markdown": [
       "\n",
       "A data.frame: 4 × 3\n",
       "\n",
       "| <!--/--> | Id &lt;int&gt; | Region &lt;fct&gt; | RegionNum &lt;int&gt; |\n",
       "|---|---|---|---|\n",
       "| 0 | 0 | Ross Sea                    | 1 |\n",
       "| 1 | 0 | Amundsen-Bellingshausen-WAP | 2 |\n",
       "| 2 | 0 | Weddell Sea                 | 3 |\n",
       "| 3 | 0 | East Antarctica             | 4 |\n",
       "\n"
      ],
      "text/plain": [
       "  Id Region                      RegionNum\n",
       "0 0  Ross Sea                    1        \n",
       "1 0  Amundsen-Bellingshausen-WAP 2        \n",
       "2 0  Weddell Sea                 3        \n",
       "3 0  East Antarctica             4        "
      ]
     },
     "metadata": {},
     "output_type": "display_data"
    }
   ],
   "source": [
    "head(arWESE)"
   ]
  },
  {
   "cell_type": "markdown",
   "metadata": {},
   "source": [
    "We should remove all areas without region attribution"
   ]
  },
  {
   "cell_type": "markdown",
   "metadata": {},
   "source": [
    "So, we could attribute the wesedf table with the parameter \"place_name\", like so:"
   ]
  },
  {
   "cell_type": "code",
   "execution_count": 19,
   "metadata": {},
   "outputs": [],
   "source": [
    "wesedf2<-attributeWithShape(shpobj=arWESE,attribName=\"Region\",data=wesedf,datKey=\"gridCellId\",\n",
    "                              lonfld=\"coords.x1\",latfld=\"coords.x2\",dataproj=dataproj)"
   ]
  },
  {
   "cell_type": "markdown",
   "metadata": {},
   "source": [
    "The example shapefileAntarcticRegions did not go far north enough to cover the entire fast ice region. We need to check and see if some of those grid cells missing region attribution had seals."
   ]
  },
  {
   "cell_type": "code",
   "execution_count": 22,
   "metadata": {},
   "outputs": [
    {
     "data": {
      "text/html": [
       "<table>\n",
       "<caption>A data.frame: 6 × 38</caption>\n",
       "<thead>\n",
       "\t<tr><th></th><th scope=col>gridCellId</th><th scope=col>meanslope</th><th scope=col>meanbathy</th><th scope=col>glacierdist</th><th scope=col>distToShore</th><th scope=col>cont300dist</th><th scope=col>cont800dist</th><th scope=col>DecemberIcePresence</th><th scope=col>Persistence2Years</th><th scope=col>PredictabilityDec5Years</th><th scope=col>⋯</th><th scope=col>logdistToShore</th><th scope=col>logcont300dist</th><th scope=col>logcont800dist</th><th scope=col>lofdistNearestIceEdge</th><th scope=col>logfastIceWidth</th><th scope=col>logempedist</th><th scope=col>logadpedist</th><th scope=col>logADPEabund</th><th scope=col>logEMPEabund</th><th scope=col>Region</th></tr>\n",
       "\t<tr><th></th><th scope=col>&lt;int&gt;</th><th scope=col>&lt;dbl&gt;</th><th scope=col>&lt;dbl&gt;</th><th scope=col>&lt;dbl&gt;</th><th scope=col>&lt;dbl&gt;</th><th scope=col>&lt;dbl&gt;</th><th scope=col>&lt;dbl&gt;</th><th scope=col>&lt;dbl&gt;</th><th scope=col>&lt;dbl&gt;</th><th scope=col>&lt;dbl&gt;</th><th scope=col>⋯</th><th scope=col>&lt;dbl&gt;</th><th scope=col>&lt;dbl&gt;</th><th scope=col>&lt;dbl&gt;</th><th scope=col>&lt;dbl&gt;</th><th scope=col>&lt;dbl&gt;</th><th scope=col>&lt;dbl&gt;</th><th scope=col>&lt;dbl&gt;</th><th scope=col>&lt;dbl&gt;</th><th scope=col>&lt;dbl&gt;</th><th scope=col>&lt;fct&gt;</th></tr>\n",
       "</thead>\n",
       "<tbody>\n",
       "\t<tr><th scope=row>1</th><td>68791</td><td>2.621992</td><td>-2846.908</td><td>247849.6</td><td>201526.4</td><td>142791.6</td><td>588996.1</td><td>0</td><td>0</td><td>0</td><td>⋯</td><td>12.21368</td><td>11.86915</td><td>13.28618</td><td>NA</td><td>NA</td><td>NA</td><td>NA</td><td>0</td><td>0</td><td>NA</td></tr>\n",
       "\t<tr><th scope=row>2</th><td>68792</td><td>4.591249</td><td>-2587.330</td><td>250334.0</td><td>203621.5</td><td>142791.6</td><td>588996.1</td><td>0</td><td>0</td><td>0</td><td>⋯</td><td>12.22402</td><td>11.86915</td><td>13.28618</td><td>NA</td><td>NA</td><td>NA</td><td>NA</td><td>0</td><td>0</td><td>NA</td></tr>\n",
       "\t<tr><th scope=row>3</th><td>68819</td><td>1.411659</td><td>-3014.080</td><td>241050.2</td><td>194935.5</td><td>138016.9</td><td>584654.8</td><td>0</td><td>0</td><td>0</td><td>⋯</td><td>12.18043</td><td>11.83514</td><td>13.27878</td><td>NA</td><td>NA</td><td>NA</td><td>NA</td><td>0</td><td>0</td><td>NA</td></tr>\n",
       "\t<tr><th scope=row>4</th><td>68820</td><td>1.413779</td><td>-2920.630</td><td>243501.3</td><td>196973.9</td><td>138016.9</td><td>584654.8</td><td>0</td><td>0</td><td>0</td><td>⋯</td><td>12.19083</td><td>11.83514</td><td>13.27878</td><td>NA</td><td>NA</td><td>NA</td><td>NA</td><td>0</td><td>0</td><td>NA</td></tr>\n",
       "\t<tr><th scope=row>5</th><td>68821</td><td>4.561732</td><td>-2686.220</td><td>246029.6</td><td>199116.9</td><td>138016.9</td><td>584654.8</td><td>0</td><td>0</td><td>0</td><td>⋯</td><td>12.20165</td><td>11.83514</td><td>13.27878</td><td>NA</td><td>NA</td><td>NA</td><td>NA</td><td>0</td><td>0</td><td>NA</td></tr>\n",
       "\t<tr><th scope=row>6</th><td>68822</td><td>4.902608</td><td>-2264.930</td><td>248632.8</td><td>201361.3</td><td>138016.9</td><td>584654.8</td><td>0</td><td>0</td><td>0</td><td>⋯</td><td>12.21286</td><td>11.83514</td><td>13.27878</td><td>NA</td><td>NA</td><td>NA</td><td>NA</td><td>0</td><td>0</td><td>NA</td></tr>\n",
       "</tbody>\n",
       "</table>\n"
      ],
      "text/latex": [
       "A data.frame: 6 × 38\n",
       "\\begin{tabular}{r|lllllllllllllllllllll}\n",
       "  & gridCellId & meanslope & meanbathy & glacierdist & distToShore & cont300dist & cont800dist & DecemberIcePresence & Persistence2Years & PredictabilityDec5Years & ⋯ & logdistToShore & logcont300dist & logcont800dist & lofdistNearestIceEdge & logfastIceWidth & logempedist & logadpedist & logADPEabund & logEMPEabund & Region\\\\\n",
       "  & <int> & <dbl> & <dbl> & <dbl> & <dbl> & <dbl> & <dbl> & <dbl> & <dbl> & <dbl> & ⋯ & <dbl> & <dbl> & <dbl> & <dbl> & <dbl> & <dbl> & <dbl> & <dbl> & <dbl> & <fct>\\\\\n",
       "\\hline\n",
       "\t1 & 68791 & 2.621992 & -2846.908 & 247849.6 & 201526.4 & 142791.6 & 588996.1 & 0 & 0 & 0 & ⋯ & 12.21368 & 11.86915 & 13.28618 & NA & NA & NA & NA & 0 & 0 & NA\\\\\n",
       "\t2 & 68792 & 4.591249 & -2587.330 & 250334.0 & 203621.5 & 142791.6 & 588996.1 & 0 & 0 & 0 & ⋯ & 12.22402 & 11.86915 & 13.28618 & NA & NA & NA & NA & 0 & 0 & NA\\\\\n",
       "\t3 & 68819 & 1.411659 & -3014.080 & 241050.2 & 194935.5 & 138016.9 & 584654.8 & 0 & 0 & 0 & ⋯ & 12.18043 & 11.83514 & 13.27878 & NA & NA & NA & NA & 0 & 0 & NA\\\\\n",
       "\t4 & 68820 & 1.413779 & -2920.630 & 243501.3 & 196973.9 & 138016.9 & 584654.8 & 0 & 0 & 0 & ⋯ & 12.19083 & 11.83514 & 13.27878 & NA & NA & NA & NA & 0 & 0 & NA\\\\\n",
       "\t5 & 68821 & 4.561732 & -2686.220 & 246029.6 & 199116.9 & 138016.9 & 584654.8 & 0 & 0 & 0 & ⋯ & 12.20165 & 11.83514 & 13.27878 & NA & NA & NA & NA & 0 & 0 & NA\\\\\n",
       "\t6 & 68822 & 4.902608 & -2264.930 & 248632.8 & 201361.3 & 138016.9 & 584654.8 & 0 & 0 & 0 & ⋯ & 12.21286 & 11.83514 & 13.27878 & NA & NA & NA & NA & 0 & 0 & NA\\\\\n",
       "\\end{tabular}\n"
      ],
      "text/markdown": [
       "\n",
       "A data.frame: 6 × 38\n",
       "\n",
       "| <!--/--> | gridCellId &lt;int&gt; | meanslope &lt;dbl&gt; | meanbathy &lt;dbl&gt; | glacierdist &lt;dbl&gt; | distToShore &lt;dbl&gt; | cont300dist &lt;dbl&gt; | cont800dist &lt;dbl&gt; | DecemberIcePresence &lt;dbl&gt; | Persistence2Years &lt;dbl&gt; | PredictabilityDec5Years &lt;dbl&gt; | ⋯ ⋯ | logdistToShore &lt;dbl&gt; | logcont300dist &lt;dbl&gt; | logcont800dist &lt;dbl&gt; | lofdistNearestIceEdge &lt;dbl&gt; | logfastIceWidth &lt;dbl&gt; | logempedist &lt;dbl&gt; | logadpedist &lt;dbl&gt; | logADPEabund &lt;dbl&gt; | logEMPEabund &lt;dbl&gt; | Region &lt;fct&gt; |\n",
       "|---|---|---|---|---|---|---|---|---|---|---|---|---|---|---|---|---|---|---|---|---|---|\n",
       "| 1 | 68791 | 2.621992 | -2846.908 | 247849.6 | 201526.4 | 142791.6 | 588996.1 | 0 | 0 | 0 | ⋯ | 12.21368 | 11.86915 | 13.28618 | NA | NA | NA | NA | 0 | 0 | NA |\n",
       "| 2 | 68792 | 4.591249 | -2587.330 | 250334.0 | 203621.5 | 142791.6 | 588996.1 | 0 | 0 | 0 | ⋯ | 12.22402 | 11.86915 | 13.28618 | NA | NA | NA | NA | 0 | 0 | NA |\n",
       "| 3 | 68819 | 1.411659 | -3014.080 | 241050.2 | 194935.5 | 138016.9 | 584654.8 | 0 | 0 | 0 | ⋯ | 12.18043 | 11.83514 | 13.27878 | NA | NA | NA | NA | 0 | 0 | NA |\n",
       "| 4 | 68820 | 1.413779 | -2920.630 | 243501.3 | 196973.9 | 138016.9 | 584654.8 | 0 | 0 | 0 | ⋯ | 12.19083 | 11.83514 | 13.27878 | NA | NA | NA | NA | 0 | 0 | NA |\n",
       "| 5 | 68821 | 4.561732 | -2686.220 | 246029.6 | 199116.9 | 138016.9 | 584654.8 | 0 | 0 | 0 | ⋯ | 12.20165 | 11.83514 | 13.27878 | NA | NA | NA | NA | 0 | 0 | NA |\n",
       "| 6 | 68822 | 4.902608 | -2264.930 | 248632.8 | 201361.3 | 138016.9 | 584654.8 | 0 | 0 | 0 | ⋯ | 12.21286 | 11.83514 | 13.27878 | NA | NA | NA | NA | 0 | 0 | NA |\n",
       "\n"
      ],
      "text/plain": [
       "  gridCellId meanslope meanbathy glacierdist distToShore cont300dist\n",
       "1 68791      2.621992  -2846.908 247849.6    201526.4    142791.6   \n",
       "2 68792      4.591249  -2587.330 250334.0    203621.5    142791.6   \n",
       "3 68819      1.411659  -3014.080 241050.2    194935.5    138016.9   \n",
       "4 68820      1.413779  -2920.630 243501.3    196973.9    138016.9   \n",
       "5 68821      4.561732  -2686.220 246029.6    199116.9    138016.9   \n",
       "6 68822      4.902608  -2264.930 248632.8    201361.3    138016.9   \n",
       "  cont800dist DecemberIcePresence Persistence2Years PredictabilityDec5Years ⋯\n",
       "1 588996.1    0                   0                 0                       ⋯\n",
       "2 588996.1    0                   0                 0                       ⋯\n",
       "3 584654.8    0                   0                 0                       ⋯\n",
       "4 584654.8    0                   0                 0                       ⋯\n",
       "5 584654.8    0                   0                 0                       ⋯\n",
       "6 584654.8    0                   0                 0                       ⋯\n",
       "  logdistToShore logcont300dist logcont800dist lofdistNearestIceEdge\n",
       "1 12.21368       11.86915       13.28618       NA                   \n",
       "2 12.22402       11.86915       13.28618       NA                   \n",
       "3 12.18043       11.83514       13.27878       NA                   \n",
       "4 12.19083       11.83514       13.27878       NA                   \n",
       "5 12.20165       11.83514       13.27878       NA                   \n",
       "6 12.21286       11.83514       13.27878       NA                   \n",
       "  logfastIceWidth logempedist logadpedist logADPEabund logEMPEabund Region\n",
       "1 NA              NA          NA          0            0            NA    \n",
       "2 NA              NA          NA          0            0            NA    \n",
       "3 NA              NA          NA          0            0            NA    \n",
       "4 NA              NA          NA          0            0            NA    \n",
       "5 NA              NA          NA          0            0            NA    \n",
       "6 NA              NA          NA          0            0            NA    "
      ]
     },
     "metadata": {},
     "output_type": "display_data"
    },
    {
     "name": "stdout",
     "output_type": "stream",
     "text": [
      "                       Region Num.Cells\n",
      "1 Amundsen-Bellingshausen-WAP     40897\n",
      "2             East Antarctica     81198\n",
      "3                    Ross Sea     23216\n",
      "4                 Weddell Sea     50286\n"
     ]
    },
    {
     "data": {
      "text/html": [
       "31873"
      ],
      "text/latex": [
       "31873"
      ],
      "text/markdown": [
       "31873"
      ],
      "text/plain": [
       "[1] 31873"
      ]
     },
     "metadata": {},
     "output_type": "display_data"
    },
    {
     "data": {
      "text/html": [
       "0"
      ],
      "text/latex": [
       "0"
      ],
      "text/markdown": [
       "0"
      ],
      "text/plain": [
       "[1] 0"
      ]
     },
     "metadata": {},
     "output_type": "display_data"
    },
    {
     "data": {
      "text/html": [
       "1647"
      ],
      "text/latex": [
       "1647"
      ],
      "text/markdown": [
       "1647"
      ],
      "text/plain": [
       "[1] 1647"
      ]
     },
     "metadata": {},
     "output_type": "display_data"
    }
   ],
   "source": [
    "head(wesedf2)    #see the data\n",
    "aa<-aggregate(gridCellId~Region,wesedf2,NROW)\n",
    "    names(aa)<-c(\"Region\",\"Num.Cells\"); print(aa)    #count number of grid cells per region\n",
    "sum(is.na(wesedf2$Region))    #How many grid cells without region attribution\n",
    "sum(is.na(wesedf2$Region) & wesedf2$mdlCol>0)   #How many grid cells without a region yet with WESE?\n",
    "sum(wesedf2$mdlCol>0 & wesedf2$fastIcePresent==TRUE)   #How many grid cells without a region yet with WESE?"
   ]
  },
  {
   "cell_type": "markdown",
   "metadata": {},
   "source": [
    "We can safely remove these grid points without region attribution, and grid points without fast ice\n"
   ]
  },
  {
   "cell_type": "code",
   "execution_count": 23,
   "metadata": {},
   "outputs": [],
   "source": [
    "wesedf2<-subset(wesedf2,!is.na(Region))\n",
    "wesedf2<-subset(wesedf2,fastIcePresent==TRUE)"
   ]
  },
  {
   "cell_type": "markdown",
   "metadata": {},
   "source": [
    "## Attributing with canyons and troughs data ##\n",
    "We use the above function to attribute the data with the canyons and glacial troughs data from Jarrod Santora.  \n",
    "IMPORTANT: we are adding Canyon_ID (i.e., the ID of the canyon), InCanyon (binary to say the grid cell is on a canyon), canyonLength, canyonWidth, and canyonMeanDepth. We are also adding gtID (i.e., the ID of the glacial through), InTrough (binary), and troughArea (the area of the glacial trough) for each grid cell that is on top of a trough. Cells not on trough or canyons get NA for the numeric values, and 0 for the InCanyon or InTrough fields."
   ]
  },
  {
   "cell_type": "code",
   "execution_count": 25,
   "metadata": {},
   "outputs": [
    {
     "name": "stdout",
     "output_type": "stream",
     "text": [
      "OGR data source with driver: ESRI Shapefile \n",
      "Source: \"/home/ubuntu/Workspace/ContinentalWESEestimates/data/CanyonsTroughs\", layer: \"Canyons\"\n",
      "with 800 features\n",
      "It has 11 fields\n",
      "OGR data source with driver: ESRI Shapefile \n",
      "Source: \"/home/ubuntu/Workspace/ContinentalWESEestimates/data/CanyonsTroughs\", layer: \"Glacial_Trough\"\n",
      "with 64 features\n",
      "It has 3 fields\n"
     ]
    }
   ],
   "source": [
    "canyons<-readShapeFile(pathToGit=pathToLocalGit,folderName=\"CanyonsTroughs\",shapeName=\"Canyons\")\n",
    "troughs<-readShapeFile(pathToGit=pathToLocalGit,folderName=\"CanyonsTroughs\",shapeName=\"Glacial_Trough\")\n",
    "troughs$gtID<-paste0(\"gtID_\",1:nrow(troughs))\n",
    "\n",
    "wesedf2<-attributeWithShape(shpobj=canyons,attribName=\"Canyon_ID\",data=wesedf2,datKey=\"gridCellId\",\n",
    "                              lonfld=\"coords.x1\",latfld=\"coords.x2\",dataproj=dataproj)\n",
    "wesedf2$InCanyon<-ifelse(is.na(wesedf2$Canyon_ID),0,1)\n",
    "wesedf2<-attributeWithShape(shpobj=canyons,attribName=\"Length\",data=wesedf2,datKey=\"gridCellId\",\n",
    "                              lonfld=\"coords.x1\",latfld=\"coords.x2\",dataproj=dataproj)\n",
    "names(wesedf2)<-gsub(\"Length\",\"canyonLength\",names(wesedf2))\n",
    "wesedf2<-attributeWithShape(shpobj=canyons,attribName=\"Width\",data=wesedf2,datKey=\"gridCellId\",\n",
    "                              lonfld=\"coords.x1\",latfld=\"coords.x2\",dataproj=dataproj)\n",
    "names(wesedf2)<-gsub(\"Width\",\"canyonWidth\",names(wesedf2))\n",
    "wesedf2<-attributeWithShape(shpobj=canyons,attribName=\"Mean_Depth\",data=wesedf2,datKey=\"gridCellId\",\n",
    "                              lonfld=\"coords.x1\",latfld=\"coords.x2\",dataproj=dataproj)\n",
    "names(wesedf2)<-gsub(\"Mean_Depth\",\"canyonMeanDepth\",names(wesedf2))\n",
    "\n",
    "wesedf2<-attributeWithShape(shpobj=troughs,attribName=\"gtID\",data=wesedf2,datKey=\"gridCellId\",\n",
    "                              lonfld=\"coords.x1\",latfld=\"coords.x2\",dataproj=dataproj)\n",
    "wesedf2$InTrough<-ifelse(is.na(wesedf2$gtID),0,1)\n",
    "wesedf2<-attributeWithShape(shpobj=troughs,attribName=\"area_km2\",data=wesedf2,datKey=\"gridCellId\",\n",
    "                              lonfld=\"coords.x1\",latfld=\"coords.x2\",dataproj=dataproj)\n",
    "names(wesedf2)<-gsub(\"area_km2\",\"troughArea\",names(wesedf2))\n",
    "\n",
    "#And then there is this silliness...\n",
    "names(wesedf2)<-gsub(\"fastIcecanyonWidth\",\"fastIceWidth\",names(wesedf2))\n",
    "names(wesedf2)<-gsub(\"scaledfastIcecanyonWidth\",\"scaledfastIceWidth\",names(wesedf2))"
   ]
  },
  {
   "cell_type": "markdown",
   "metadata": {},
   "source": [
    "There are very many grid points without canyon or trough data.\n",
    "## ONLY USE variables InCanyon and InThrough\n",
    "All other data have too many missing values"
   ]
  },
  {
   "cell_type": "markdown",
   "metadata": {},
   "source": [
    "# Export a copy of the data but only for the Weddell Sea"
   ]
  },
  {
   "cell_type": "markdown",
   "metadata": {},
   "source": [
    "This is for Mia (DELETE WHEN DONE)"
   ]
  },
  {
   "cell_type": "code",
   "execution_count": 27,
   "metadata": {},
   "outputs": [
    {
     "data": {
      "text/html": [
       "2223"
      ],
      "text/latex": [
       "2223"
      ],
      "text/markdown": [
       "2223"
      ],
      "text/plain": [
       "[1] 2223"
      ]
     },
     "metadata": {},
     "output_type": "display_data"
    },
    {
     "data": {
      "text/html": [
       "191"
      ],
      "text/latex": [
       "191"
      ],
      "text/markdown": [
       "191"
      ],
      "text/plain": [
       "[1] 191"
      ]
     },
     "metadata": {},
     "output_type": "display_data"
    }
   ],
   "source": [
    "weddellSeaData<-getWeddellSeaData(wesedf2)\n",
    "nrow(weddellSeaData)\n",
    "sum(weddellSeaData$presence>0)\n",
    "save(weddellSeaData,file=paste0(pathToLocalGit,\"data/weddellSeaData.RData\"))"
   ]
  },
  {
   "cell_type": "markdown",
   "metadata": {},
   "source": [
    "__Regarding #2__ we use the function \"bootSampleWESEdata\". This function by default generates 100 bootstrap samples (but change with the parameter \"nsamples\") and returns a list object. Each element of the list is one of the samples. Each sample is a table like wesedf, but it contains an equal number of grids with seals and no seals.  \n",
    "\n",
    "We need this bootstrap to subsample among the cells with no seals, which are much more numerous than those with seals. \n",
    "  \n",
    "The first distinction we must make is to determine if cells inspected in maps, but with no seals, are truly not seal habitat or simply areas with undetected seals. The wesedf table has a column called \"hasMaps\" to indicate cells with maps inspected by the crowd. The function \"bootSampleWESEdata\" can treat these as if they had no seals, or as if they did. You may indicate the behavior with the parameter \"hasMapsBehavior\". Set the parameter to 0 (this is the default behavior, what we consider is the right approach) to treat these cells as if there are no seals there, or 1 otherwise.\n",
    "\n",
    "Additionally, we my want to stratify the sample by bins of the variables in wesedf. To do so, we use the parameter \"strtifyByClusters\". This parameter is a number between 2 and 5. The function will find clusters in the covariate space in the data, then assign each record to one of these clusters, and it will then stratify the random sample such that it includes an even number of values in each of the clusters.  \n",
    "\n",
    "It is important to be able to select proper no-seal data points prior to clustering for sampling. Most critical is to select areas that are within a reasonable distance to shore (i.e., not to exceed the maximum observed). So, we first subsample the no-seal data within each region to exclude grid cells further away from shore than the farthest distance recorded for a colony in the region.\n",
    "\n",
    "Lastly, the function can also return an ensemble of data converted to presence-absence. Again, if a grid with maps is considered to have seals (i.e., hasMapsBehavior=1), then it will be assigned presence = 1.\n",
    "\n",
    "Here's an example on how to create an ensemble of abundance (no clustering, just normal random sampling):"
   ]
  },
  {
   "cell_type": "code",
   "execution_count": 33,
   "metadata": {},
   "outputs": [
    {
     "data": {
      "text/html": [
       "1647"
      ],
      "text/latex": [
       "1647"
      ],
      "text/markdown": [
       "1647"
      ],
      "text/plain": [
       "[1] 1647"
      ]
     },
     "metadata": {},
     "output_type": "display_data"
    },
    {
     "data": {
      "text/html": [
       "<table>\n",
       "<caption>A data.frame: 6 × 46</caption>\n",
       "<thead>\n",
       "\t<tr><th></th><th scope=col>gridCellId</th><th scope=col>meanslope</th><th scope=col>meanbathy</th><th scope=col>glacierdist</th><th scope=col>distToShore</th><th scope=col>cont300dist</th><th scope=col>cont800dist</th><th scope=col>DecemberIcePresence</th><th scope=col>Persistence2Years</th><th scope=col>PredictabilityDec5Years</th><th scope=col>⋯</th><th scope=col>logEMPEabund</th><th scope=col>Region</th><th scope=col>Canyon_ID</th><th scope=col>InCanyon</th><th scope=col>canyonLength</th><th scope=col>canyonWidth</th><th scope=col>canyonMeanDepth</th><th scope=col>gtID</th><th scope=col>InTrough</th><th scope=col>troughArea</th></tr>\n",
       "\t<tr><th></th><th scope=col>&lt;int&gt;</th><th scope=col>&lt;dbl&gt;</th><th scope=col>&lt;dbl&gt;</th><th scope=col>&lt;dbl&gt;</th><th scope=col>&lt;dbl&gt;</th><th scope=col>&lt;dbl&gt;</th><th scope=col>&lt;dbl&gt;</th><th scope=col>&lt;dbl&gt;</th><th scope=col>&lt;dbl&gt;</th><th scope=col>&lt;dbl&gt;</th><th scope=col>⋯</th><th scope=col>&lt;dbl&gt;</th><th scope=col>&lt;fct&gt;</th><th scope=col>&lt;fct&gt;</th><th scope=col>&lt;dbl&gt;</th><th scope=col>&lt;dbl&gt;</th><th scope=col>&lt;dbl&gt;</th><th scope=col>&lt;dbl&gt;</th><th scope=col>&lt;chr&gt;</th><th scope=col>&lt;dbl&gt;</th><th scope=col>&lt;dbl&gt;</th></tr>\n",
       "</thead>\n",
       "<tbody>\n",
       "\t<tr><th scope=row>1</th><td> 254934</td><td>0.3978787</td><td>-702.53003</td><td>161927.38</td><td>   8.258613</td><td>  78347.79</td><td>  49692.78</td><td>1</td><td>0</td><td>3</td><td>⋯</td><td>8.673525</td><td>Weddell Sea                </td><td>NA</td><td>0</td><td>NA</td><td>NA</td><td>NA</td><td>NA     </td><td>0</td><td>       NA</td></tr>\n",
       "\t<tr><th scope=row>2</th><td> 403463</td><td>2.0079803</td><td>-850.97998</td><td> 58908.82</td><td>1964.267137</td><td>  84856.64</td><td> 332330.00</td><td>1</td><td>2</td><td>5</td><td>⋯</td><td>6.734051</td><td>Weddell Sea                </td><td>NA</td><td>0</td><td>NA</td><td>NA</td><td>NA</td><td>gtID_11</td><td>1</td><td>62460.806</td></tr>\n",
       "\t<tr><th scope=row>3</th><td> 464605</td><td>2.0695188</td><td>-575.97998</td><td> 53233.16</td><td>6325.594080</td><td>  64489.14</td><td> 234127.31</td><td>0</td><td>0</td><td>2</td><td>⋯</td><td>7.326148</td><td>East Antarctica            </td><td>NA</td><td>0</td><td>NA</td><td>NA</td><td>NA</td><td>gtID_41</td><td>1</td><td> 6888.595</td></tr>\n",
       "\t<tr><th scope=row>4</th><td> 512389</td><td>0.1259949</td><td>-180.16000</td><td> 31881.51</td><td>5127.698480</td><td>  11449.55</td><td> 131392.75</td><td>1</td><td>0</td><td>2</td><td>⋯</td><td>0.000000</td><td>Amundsen-Bellingshausen-WAP</td><td>NA</td><td>0</td><td>NA</td><td>NA</td><td>NA</td><td>gtID_47</td><td>1</td><td>46146.067</td></tr>\n",
       "\t<tr><th scope=row>5</th><td> 315853</td><td>0.6648965</td><td> -22.62245</td><td> 21747.62</td><td>1212.484988</td><td> 124224.65</td><td>  78412.48</td><td>1</td><td>1</td><td>5</td><td>⋯</td><td>0.000000</td><td>East Antarctica            </td><td>NA</td><td>0</td><td>NA</td><td>NA</td><td>NA</td><td>NA     </td><td>0</td><td>       NA</td></tr>\n",
       "\t<tr><th scope=row>6</th><td>1252763</td><td>0.7888658</td><td> -46.34524</td><td> 94487.46</td><td>1387.251390</td><td>1159984.18</td><td>1118219.66</td><td>1</td><td>0</td><td>0</td><td>⋯</td><td>6.787385</td><td>East Antarctica            </td><td>NA</td><td>0</td><td>NA</td><td>NA</td><td>NA</td><td>NA     </td><td>0</td><td>       NA</td></tr>\n",
       "</tbody>\n",
       "</table>\n"
      ],
      "text/latex": [
       "A data.frame: 6 × 46\n",
       "\\begin{tabular}{r|lllllllllllllllllllll}\n",
       "  & gridCellId & meanslope & meanbathy & glacierdist & distToShore & cont300dist & cont800dist & DecemberIcePresence & Persistence2Years & PredictabilityDec5Years & ⋯ & logEMPEabund & Region & Canyon\\_ID & InCanyon & canyonLength & canyonWidth & canyonMeanDepth & gtID & InTrough & troughArea\\\\\n",
       "  & <int> & <dbl> & <dbl> & <dbl> & <dbl> & <dbl> & <dbl> & <dbl> & <dbl> & <dbl> & ⋯ & <dbl> & <fct> & <fct> & <dbl> & <dbl> & <dbl> & <dbl> & <chr> & <dbl> & <dbl>\\\\\n",
       "\\hline\n",
       "\t1 &  254934 & 0.3978787 & -702.53003 & 161927.38 &    8.258613 &   78347.79 &   49692.78 & 1 & 0 & 3 & ⋯ & 8.673525 & Weddell Sea                 & NA & 0 & NA & NA & NA & NA      & 0 &        NA\\\\\n",
       "\t2 &  403463 & 2.0079803 & -850.97998 &  58908.82 & 1964.267137 &   84856.64 &  332330.00 & 1 & 2 & 5 & ⋯ & 6.734051 & Weddell Sea                 & NA & 0 & NA & NA & NA & gtID\\_11 & 1 & 62460.806\\\\\n",
       "\t3 &  464605 & 2.0695188 & -575.97998 &  53233.16 & 6325.594080 &   64489.14 &  234127.31 & 0 & 0 & 2 & ⋯ & 7.326148 & East Antarctica             & NA & 0 & NA & NA & NA & gtID\\_41 & 1 &  6888.595\\\\\n",
       "\t4 &  512389 & 0.1259949 & -180.16000 &  31881.51 & 5127.698480 &   11449.55 &  131392.75 & 1 & 0 & 2 & ⋯ & 0.000000 & Amundsen-Bellingshausen-WAP & NA & 0 & NA & NA & NA & gtID\\_47 & 1 & 46146.067\\\\\n",
       "\t5 &  315853 & 0.6648965 &  -22.62245 &  21747.62 & 1212.484988 &  124224.65 &   78412.48 & 1 & 1 & 5 & ⋯ & 0.000000 & East Antarctica             & NA & 0 & NA & NA & NA & NA      & 0 &        NA\\\\\n",
       "\t6 & 1252763 & 0.7888658 &  -46.34524 &  94487.46 & 1387.251390 & 1159984.18 & 1118219.66 & 1 & 0 & 0 & ⋯ & 6.787385 & East Antarctica             & NA & 0 & NA & NA & NA & NA      & 0 &        NA\\\\\n",
       "\\end{tabular}\n"
      ],
      "text/markdown": [
       "\n",
       "A data.frame: 6 × 46\n",
       "\n",
       "| <!--/--> | gridCellId &lt;int&gt; | meanslope &lt;dbl&gt; | meanbathy &lt;dbl&gt; | glacierdist &lt;dbl&gt; | distToShore &lt;dbl&gt; | cont300dist &lt;dbl&gt; | cont800dist &lt;dbl&gt; | DecemberIcePresence &lt;dbl&gt; | Persistence2Years &lt;dbl&gt; | PredictabilityDec5Years &lt;dbl&gt; | ⋯ ⋯ | logEMPEabund &lt;dbl&gt; | Region &lt;fct&gt; | Canyon_ID &lt;fct&gt; | InCanyon &lt;dbl&gt; | canyonLength &lt;dbl&gt; | canyonWidth &lt;dbl&gt; | canyonMeanDepth &lt;dbl&gt; | gtID &lt;chr&gt; | InTrough &lt;dbl&gt; | troughArea &lt;dbl&gt; |\n",
       "|---|---|---|---|---|---|---|---|---|---|---|---|---|---|---|---|---|---|---|---|---|---|\n",
       "| 1 |  254934 | 0.3978787 | -702.53003 | 161927.38 |    8.258613 |   78347.79 |   49692.78 | 1 | 0 | 3 | ⋯ | 8.673525 | Weddell Sea                 | NA | 0 | NA | NA | NA | NA      | 0 |        NA |\n",
       "| 2 |  403463 | 2.0079803 | -850.97998 |  58908.82 | 1964.267137 |   84856.64 |  332330.00 | 1 | 2 | 5 | ⋯ | 6.734051 | Weddell Sea                 | NA | 0 | NA | NA | NA | gtID_11 | 1 | 62460.806 |\n",
       "| 3 |  464605 | 2.0695188 | -575.97998 |  53233.16 | 6325.594080 |   64489.14 |  234127.31 | 0 | 0 | 2 | ⋯ | 7.326148 | East Antarctica             | NA | 0 | NA | NA | NA | gtID_41 | 1 |  6888.595 |\n",
       "| 4 |  512389 | 0.1259949 | -180.16000 |  31881.51 | 5127.698480 |   11449.55 |  131392.75 | 1 | 0 | 2 | ⋯ | 0.000000 | Amundsen-Bellingshausen-WAP | NA | 0 | NA | NA | NA | gtID_47 | 1 | 46146.067 |\n",
       "| 5 |  315853 | 0.6648965 |  -22.62245 |  21747.62 | 1212.484988 |  124224.65 |   78412.48 | 1 | 1 | 5 | ⋯ | 0.000000 | East Antarctica             | NA | 0 | NA | NA | NA | NA      | 0 |        NA |\n",
       "| 6 | 1252763 | 0.7888658 |  -46.34524 |  94487.46 | 1387.251390 | 1159984.18 | 1118219.66 | 1 | 0 | 0 | ⋯ | 6.787385 | East Antarctica             | NA | 0 | NA | NA | NA | NA      | 0 |        NA |\n",
       "\n"
      ],
      "text/plain": [
       "  gridCellId meanslope meanbathy  glacierdist distToShore cont300dist\n",
       "1  254934    0.3978787 -702.53003 161927.38      8.258613   78347.79 \n",
       "2  403463    2.0079803 -850.97998  58908.82   1964.267137   84856.64 \n",
       "3  464605    2.0695188 -575.97998  53233.16   6325.594080   64489.14 \n",
       "4  512389    0.1259949 -180.16000  31881.51   5127.698480   11449.55 \n",
       "5  315853    0.6648965  -22.62245  21747.62   1212.484988  124224.65 \n",
       "6 1252763    0.7888658  -46.34524  94487.46   1387.251390 1159984.18 \n",
       "  cont800dist DecemberIcePresence Persistence2Years PredictabilityDec5Years ⋯\n",
       "1   49692.78  1                   0                 3                       ⋯\n",
       "2  332330.00  1                   2                 5                       ⋯\n",
       "3  234127.31  0                   0                 2                       ⋯\n",
       "4  131392.75  1                   0                 2                       ⋯\n",
       "5   78412.48  1                   1                 5                       ⋯\n",
       "6 1118219.66  1                   0                 0                       ⋯\n",
       "  logEMPEabund Region                      Canyon_ID InCanyon canyonLength\n",
       "1 8.673525     Weddell Sea                 NA        0        NA          \n",
       "2 6.734051     Weddell Sea                 NA        0        NA          \n",
       "3 7.326148     East Antarctica             NA        0        NA          \n",
       "4 0.000000     Amundsen-Bellingshausen-WAP NA        0        NA          \n",
       "5 0.000000     East Antarctica             NA        0        NA          \n",
       "6 6.787385     East Antarctica             NA        0        NA          \n",
       "  canyonWidth canyonMeanDepth gtID    InTrough troughArea\n",
       "1 NA          NA              NA      0               NA \n",
       "2 NA          NA              gtID_11 1        62460.806 \n",
       "3 NA          NA              gtID_41 1         6888.595 \n",
       "4 NA          NA              gtID_47 1        46146.067 \n",
       "5 NA          NA              NA      0               NA \n",
       "6 NA          NA              NA      0               NA "
      ]
     },
     "metadata": {},
     "output_type": "display_data"
    }
   ],
   "source": [
    "library(fitdistrplus)\n",
    "data=wesedf2;nsamples=5;hasMapsBehavior=0;stratifyByClusters=0;countVar=\"mdlCol\";setBinomial=TRUE;clustByVars=NA\n",
    "if(setBinomial==FALSE){\n",
    "    if(hasMapsBehavior==0){ #this is the default and correct behavior\n",
    "        pres<-subset(data,mdlCol>0)\n",
    "        abst<-subset(data,mdlCol==0)\n",
    "    }else{\n",
    "        pres<-subset(data,hasMaps==1)\n",
    "        abst<-subset(data,hasMaps==0)\n",
    "    }\n",
    "}else{\n",
    "    names(data)<-gsub(countVar,\"presence\",names(data))\n",
    "    data$presence<-ifelse(data$presence>0,1,0)\n",
    "    if(hasMapsBehavior==0){\n",
    "        pres<-subset(data,presence==1)\n",
    "        abst<-subset(data,presence==0)\n",
    "    }else{\n",
    "        pres<-subset(data,hasMap==1);pres$presence<-1\n",
    "        abst<-subset(data,hasMap==0)\n",
    "    }\n",
    "}\n",
    "negdf<-ldply(unique(data$Region),function(rr,abst,pres){\n",
    "            regneg<-subset(abst,Region==rr)\n",
    "            regpos<-subset(pres,Region==rr)\n",
    "            maxdistShore<-max(regpos$distToShore)\n",
    "            regneg<-subset(regneg,distToShore<=maxdistShore)\n",
    "            return(regneg)\n",
    "    },abst=abst,pres=pres)\n",
    "abst<-negdf\n",
    "\n",
    "#Need to assign probs from normal of positives to the negs\n",
    "fnrm<-fitdist(pres$logdistToShore, distr=\"norm\")  #better fit than a gamma\n",
    "abst$probDTS<-pnorm(abst$logdistToShore,mean=fnrm$estimate[1],sd=fnrm$estimate[2])\n",
    "\n",
    "#limit the clustering to max 5\n",
    "kv<-stratifyByClusters;if(kv>5){kv<-5}\n",
    "\n",
    "psize<-nrow(pres)\n",
    "\n",
    "if(stratifyByClusters==0 | is.na(clustByVars)){\n",
    "        abst$kval<-1\n",
    "}else{\n",
    "    #create and add the cluster attributions to abst\n",
    "    library(cluster)\n",
    "    kmm<-kmeans(abst[,which(names(abst) %in% clustByVars)], centers=kv) \n",
    "    abst$kval<-kmm$cluster\n",
    "}\n",
    "binvals<-unique(abst$kval)#this is the set of unique bin names\n",
    "asizek<-round(psize/max(binvals))#this is how much to survey from each cluster\n",
    "#For each bootstrap:\n",
    "nbdf<-abst[1:(2*psize),]\n",
    "\n",
    "#take onse sample\n",
    "rvals<-rnorm(nrow(pres),0.5,0.2)  #the sd comes from the CV of the above normal fit\n",
    "rvals<-ifelse(rvals<0,-1*rvals,rvals)\n",
    "rvals<-ifelse(rvals>1,0.5,rvals)\n",
    "\n",
    "#sample with replacement from each cluster\n",
    "if(max(binvals)==1){\t#just take a random sample from absents of size psize\n",
    "    rdf<-ldply(1:nrow(pres),function(rr,abst,rvals){\n",
    "                rv<-rvals[rr]\n",
    "                tdf<-subset(abst,probDTS<rv)\n",
    "                sdf<-tdf[sample(x=1:nrow(tdf),size=1),]\n",
    "                return(sdf)\n",
    "    },abst=abst,rvals=rvals)\n",
    "\n",
    "}else{\n",
    "#sample at random from each cluster, of size asizek, then combine into df\n",
    "    rdf<-ldply(.data=binvals, .fun=function(x,abst,asizek){\n",
    "                tdf<-subset(abst,kval==x)\n",
    "                krvals<-sample(rvals,size=asizek)\n",
    "                bsamp<-ldply(1:asizek,function(rr,abst,krvals){\n",
    "                            rv<-rvals[rr]\n",
    "                            tdf<-subset(abst,probDTS<rv)\n",
    "                            sdf<-tdf[sample(x=1:nrow(tdf),size=1),]\n",
    "                            return(sdf)\n",
    "                },abst=abst,rvals=rvals)\n",
    "                return(bsamp)\n",
    "    })\n",
    "    \n",
    "}\n",
    "\n",
    "rdf<-rdf[,which(names(rdf) %in% names(pres))]\n",
    "nrow(rdf)\n",
    "head(rdf)\n"
   ]
  },
  {
   "cell_type": "code",
   "execution_count": 30,
   "metadata": {},
   "outputs": [
    {
     "data": {
      "text/html": [
       "<style>\n",
       ".list-inline {list-style: none; margin:0; padding: 0}\n",
       ".list-inline>li {display: inline-block}\n",
       ".list-inline>li:not(:last-child)::after {content: \"\\00b7\"; padding: 0 .5ex}\n",
       "</style>\n",
       "<ol class=list-inline><li>'meanslope'</li><li>'meanbathy'</li><li>'glacierdist'</li><li>'distToShore'</li><li>'cont300dist'</li><li>'cont800dist'</li><li>'DecemberIcePresence'</li><li>'Persistence2Years'</li><li>'PredictabilityDec5Years'</li><li>'distNearestIceEdge'</li><li>'fastIceWidth'</li><li>'fastIcePresent'</li><li>'ADPEname'</li><li>'ADPEdist'</li><li>'EMPEname'</li><li>'EMPEdist'</li><li>'presence'</li><li>'fastIceRatio'</li><li>'ADPEabund'</li><li>'EMPEabund'</li><li>'scaledmeanslope'</li><li>'logmeanbathy'</li><li>'logglacierdist'</li><li>'logdistToShore'</li><li>'logcont300dist'</li><li>'logcont800dist'</li><li>'lofdistNearestIceEdge'</li><li>'logfastIceWidth'</li><li>'logempedist'</li><li>'logadpedist'</li><li>'logADPEabund'</li><li>'logEMPEabund'</li><li>'Region'</li><li>'Canyon_ID'</li><li>'InCanyon'</li><li>'canyonLength'</li><li>'canyonWidth'</li><li>'canyonMeanDepth'</li><li>'gtID'</li><li>'InTrough'</li><li>'troughArea'</li></ol>\n"
      ],
      "text/latex": [
       "\\begin{enumerate*}\n",
       "\\item 'meanslope'\n",
       "\\item 'meanbathy'\n",
       "\\item 'glacierdist'\n",
       "\\item 'distToShore'\n",
       "\\item 'cont300dist'\n",
       "\\item 'cont800dist'\n",
       "\\item 'DecemberIcePresence'\n",
       "\\item 'Persistence2Years'\n",
       "\\item 'PredictabilityDec5Years'\n",
       "\\item 'distNearestIceEdge'\n",
       "\\item 'fastIceWidth'\n",
       "\\item 'fastIcePresent'\n",
       "\\item 'ADPEname'\n",
       "\\item 'ADPEdist'\n",
       "\\item 'EMPEname'\n",
       "\\item 'EMPEdist'\n",
       "\\item 'presence'\n",
       "\\item 'fastIceRatio'\n",
       "\\item 'ADPEabund'\n",
       "\\item 'EMPEabund'\n",
       "\\item 'scaledmeanslope'\n",
       "\\item 'logmeanbathy'\n",
       "\\item 'logglacierdist'\n",
       "\\item 'logdistToShore'\n",
       "\\item 'logcont300dist'\n",
       "\\item 'logcont800dist'\n",
       "\\item 'lofdistNearestIceEdge'\n",
       "\\item 'logfastIceWidth'\n",
       "\\item 'logempedist'\n",
       "\\item 'logadpedist'\n",
       "\\item 'logADPEabund'\n",
       "\\item 'logEMPEabund'\n",
       "\\item 'Region'\n",
       "\\item 'Canyon\\_ID'\n",
       "\\item 'InCanyon'\n",
       "\\item 'canyonLength'\n",
       "\\item 'canyonWidth'\n",
       "\\item 'canyonMeanDepth'\n",
       "\\item 'gtID'\n",
       "\\item 'InTrough'\n",
       "\\item 'troughArea'\n",
       "\\end{enumerate*}\n"
      ],
      "text/markdown": [
       "1. 'meanslope'\n",
       "2. 'meanbathy'\n",
       "3. 'glacierdist'\n",
       "4. 'distToShore'\n",
       "5. 'cont300dist'\n",
       "6. 'cont800dist'\n",
       "7. 'DecemberIcePresence'\n",
       "8. 'Persistence2Years'\n",
       "9. 'PredictabilityDec5Years'\n",
       "10. 'distNearestIceEdge'\n",
       "11. 'fastIceWidth'\n",
       "12. 'fastIcePresent'\n",
       "13. 'ADPEname'\n",
       "14. 'ADPEdist'\n",
       "15. 'EMPEname'\n",
       "16. 'EMPEdist'\n",
       "17. 'presence'\n",
       "18. 'fastIceRatio'\n",
       "19. 'ADPEabund'\n",
       "20. 'EMPEabund'\n",
       "21. 'scaledmeanslope'\n",
       "22. 'logmeanbathy'\n",
       "23. 'logglacierdist'\n",
       "24. 'logdistToShore'\n",
       "25. 'logcont300dist'\n",
       "26. 'logcont800dist'\n",
       "27. 'lofdistNearestIceEdge'\n",
       "28. 'logfastIceWidth'\n",
       "29. 'logempedist'\n",
       "30. 'logadpedist'\n",
       "31. 'logADPEabund'\n",
       "32. 'logEMPEabund'\n",
       "33. 'Region'\n",
       "34. 'Canyon_ID'\n",
       "35. 'InCanyon'\n",
       "36. 'canyonLength'\n",
       "37. 'canyonWidth'\n",
       "38. 'canyonMeanDepth'\n",
       "39. 'gtID'\n",
       "40. 'InTrough'\n",
       "41. 'troughArea'\n",
       "\n",
       "\n"
      ],
      "text/plain": [
       " [1] \"meanslope\"               \"meanbathy\"              \n",
       " [3] \"glacierdist\"             \"distToShore\"            \n",
       " [5] \"cont300dist\"             \"cont800dist\"            \n",
       " [7] \"DecemberIcePresence\"     \"Persistence2Years\"      \n",
       " [9] \"PredictabilityDec5Years\" \"distNearestIceEdge\"     \n",
       "[11] \"fastIceWidth\"            \"fastIcePresent\"         \n",
       "[13] \"ADPEname\"                \"ADPEdist\"               \n",
       "[15] \"EMPEname\"                \"EMPEdist\"               \n",
       "[17] \"presence\"                \"fastIceRatio\"           \n",
       "[19] \"ADPEabund\"               \"EMPEabund\"              \n",
       "[21] \"scaledmeanslope\"         \"logmeanbathy\"           \n",
       "[23] \"logglacierdist\"          \"logdistToShore\"         \n",
       "[25] \"logcont300dist\"          \"logcont800dist\"         \n",
       "[27] \"lofdistNearestIceEdge\"   \"logfastIceWidth\"        \n",
       "[29] \"logempedist\"             \"logadpedist\"            \n",
       "[31] \"logADPEabund\"            \"logEMPEabund\"           \n",
       "[33] \"Region\"                  \"Canyon_ID\"              \n",
       "[35] \"InCanyon\"                \"canyonLength\"           \n",
       "[37] \"canyonWidth\"             \"canyonMeanDepth\"        \n",
       "[39] \"gtID\"                    \"InTrough\"               \n",
       "[41] \"troughArea\"             "
      ]
     },
     "metadata": {},
     "output_type": "display_data"
    }
   ],
   "source": [
    "names(abst)[which(!names(abst) %in% c(\"gridCellId\",\"nearLineId\",\"near_x\",\"near_y\",\"adpecol\",\"empecol\",\"coords.x1\",\"coords.x2\",\"mdlCol\",\"mdlIsl\",\"hasMaps\"))]"
   ]
  },
  {
   "cell_type": "code",
   "execution_count": null,
   "metadata": {},
   "outputs": [],
   "source": [
    "# IF we want to stratify sampling by clusters, we'll need this\n",
    "clustByVars<-c(\"scaledmeanslope\",\"logmeanbathy\",\"logglacierdist\",\"logdistToShore\",\"logcont300dist\",\n",
    "               \"logcont800dist\",\"logdistNearestIceEdge\",\"logfastIceWidth\",\"logempedist\",\"logadpedist\",\n",
    "                \"logADPEabund\",\"logEMPEabund\",\"Region\",\"InCanyon\",\"InTrough\")"
   ]
  },
  {
   "cell_type": "code",
   "execution_count": null,
   "metadata": {},
   "outputs": [],
   "source": [
    "bootsamp<-bootSampleWESEdata(data=wesedf2,nsamples=100,hasMapsBehavior=0,stratifyByClusters=0,clustByVars=NA,countVar=\"mdlCol\",setBinomial=TRUE)\n",
    "head(bootsamp[[12]])\n",
    "tail(bootsamp[[43]])\n",
    "nrow(bootsamp[[7]])"
   ]
  },
  {
   "cell_type": "markdown",
   "metadata": {},
   "source": [
    "__Regarding #3__ we use the function \"fitModelToBootstrap\" to fit a simple or generalized regression model to the full ensemble. The function just requires a formula, the ensemble as generated above, and the error family link (by default the Gaussian, which is a normal error).  \n",
    "  \n",
    "The default behavior (i.e., Gaussian error) fits a normal linear model. Otherwise, use \"poisson\" if you think it is appropriate for the counts, or \"binomial\" if fitting logistic regressions (that is, if you set the setBinomial parameter to TRUE when generating the ensemble above). In the case of poisson or logistic regression, a generalized linear model is fit. We can add a negative binomial option later, to accommodate for overdispersion. But for now let's start working with this to get it going.  \n",
    "  \n",
    "Whether fitting a simple regression or a generalized liner model, the output is the same, with the exception that R-squared values cannot be obtained from a GLM. Instead, the function returns the residual deviance of the model for each sample bootstrap.  \n",
    "  \n",
    "The function returns a list with 3 objects: coefficients, goodness-of-fit data, and residuals. But because it performs the model fit on an ensemble of data, it returns a collection of results within each of the above objects.  \n",
    "  \n",
    "For example, the coefficients object is actually 4 data.frames. Each data.frame has as many columns as datasets in the ensemble (from the example above, 100 columns), and each row in the data.frame is a different coefficient from the model. The four data.frames are, respectively: the coefficient estimates, their standard errors, t-values and p-values.  \n",
    "  \n",
    "The residuals data is a single data.frame: each row is a datum in the ensemble, each column is the set of residuals for each model fit. Since every bootstrap sample has 3368 records, this data.frame would have 3368 rows and 100 columns.\n",
    "  \n",
    "The GOF data is also only one data.frame. But unlike the other results above, each column is a GOF paramter, and each row is a different ensemble result. So, it has 4 columns: the degees of freedom of the model, the AIC of the model, the -2*logLikelyhood of the model, and the R-squared or residual deviance. Therefore, for example, with the above bootstrap ensemble the function would return a data.frame of 4 columns, and 100 rows.  \n",
    "  \n",
    "Let's try it."
   ]
  },
  {
   "cell_type": "markdown",
   "metadata": {},
   "source": [
    "# Michelle, start here\n",
    "...trying to fit abundance models"
   ]
  },
  {
   "cell_type": "markdown",
   "metadata": {},
   "source": [
    "### Here are the covariates you can use.\n",
    "Think of using linear and quadratic forms for the numerics, and combinations between numerics and factors. Remember that quadratics must be added to the equation as so: I(distToShore^2). You must put it in parentheses with the \"I\" at the beginning. Each factor you use will generate as many coefficients as levels in the factor minus 1. For example, Persistence2Years has 3 levels, so adding it to the model will result in 2 coefficients fit. Combining numerics and factors means a slope of the numeric for each level of the factor.   \n",
    "   \n",
    "Numeric:   \n",
    "  * scaledmeanslope   \n",
    "  * scaledmeanbathy  \n",
    "  * scaledglacierdist  \n",
    "  * scaleddistToShore  \n",
    "  * scaledcont300dist  \n",
    "  * scaledcont800dist  \n",
    "  * scaleddistNearestIceEdge  \n",
    "  * scaledfastIceWidth  \n",
    "  * scaledempedist  \n",
    "  * scaledadpedist  \n",
    "  * logADPEabund  \n",
    "  * logEMPEabund  \n",
    "  * fastIceRatio  \n",
    "  * Persistence2Years (3 levels: 0, 1, 2)  \n",
    "  * PredictabilityDec5Years (6 levels: 0, 1,...,5)\n",
    "  \n",
    "Factors:  \n",
    "  * DecemberIcePresence (0/1)    \n",
    "  * InCanyon (0/1)  \n",
    "  * InThrough (0/1)  \n",
    "  * Region  "
   ]
  },
  {
   "cell_type": "code",
   "execution_count": null,
   "metadata": {},
   "outputs": [],
   "source": [
    "fml<-paste0(\"presence~logadpedist*logADPEabund+logEMPEabund+Persistence2Years*Region+\",\n",
    "            \"scaledmeanslope+I(scaledmeanslope^2)+scaledmeanbathy+\",\n",
    "            \"scaledcont300dist+I(scaledcont300dist^2)+fastIceRatio*Region+\",\n",
    "            \"scaleddistToShore+I(scaleddistToShore^2)+logempedist+I(logempedist^2)+\",\n",
    "            \"logadpedist+I(logadpedist^2)\")\n",
    "reslst<-fitModelToBootstrap(fml=fml,datalist=bootsamp,fam=\"binomial\")\n",
    "## Note: not indicating the family so it defaults to \"gaussian\" and fits a simple regression"
   ]
  },
  {
   "cell_type": "markdown",
   "metadata": {},
   "source": [
    "These are my notes"
   ]
  },
  {
   "cell_type": "code",
   "execution_count": null,
   "metadata": {},
   "outputs": [],
   "source": [
    "gofres<-summarizeResults(fitobj=reslst,what=\"gof\")\n",
    "print(gofres)"
   ]
  },
  {
   "cell_type": "markdown",
   "metadata": {},
   "source": [
    "Let's examine the results, starting with a summary of the coefficients. For this we use the function \"summarizeResults\". The function has two arguments: the fitobj is the object resulting from using the fitModelToBootstrap function above (in our example, fitobj is reslst), and the \"what\" parameter. This parameter has three possible values: \"coefs\", \"gof\", or \"resids\". The latter is the vector of average residuals. Let's look at the coefficients and the goodness-of-fit results."
   ]
  },
  {
   "cell_type": "code",
   "execution_count": null,
   "metadata": {},
   "outputs": [],
   "source": [
    "coefres<-summarizeResults(fitobj=reslst,what=\"coefs\")\n",
    "row.names(coefres)<-NULL\n",
    "print(coefres)"
   ]
  },
  {
   "cell_type": "code",
   "execution_count": null,
   "metadata": {},
   "outputs": [],
   "source": [
    "bscaledempd<-numeric()\n",
    "for(b in 1:100){\n",
    "    bv<-bootsamp[[b]]$scaledempedist\n",
    "    bscaledempd<-c(bscaledempd,bv)\n",
    "}\n",
    "summary(bscaledempd)\n",
    "NROW(bscaledempd)"
   ]
  },
  {
   "cell_type": "code",
   "execution_count": null,
   "metadata": {},
   "outputs": [],
   "source": [
    "plotdf<-data.frame(distanceToEMPE=seq(-1.17,3.11,by=0.02))\n",
    "plotdf$logitPresence<-(plotdf$distanceToEMPE*-0.593)+(0.362*plotdf$distanceToEMPE^2)\n",
    "ggplot(plotdf,aes(x=distanceToEMPE,y=logitPresence)) + geom_point()"
   ]
  },
  {
   "cell_type": "code",
   "execution_count": null,
   "metadata": {},
   "outputs": [],
   "source": [
    "rdf<-summarizeResults(fitobj=reslst,what=\"residplot\")\n",
    "p<-ggplot(subset(rdf,bootstrap==54),aes(x=predicted,y=residual)) + geom_point()\n",
    "print(p)"
   ]
  },
  {
   "cell_type": "markdown",
   "metadata": {},
   "source": [
    "The above should be evenly distributed around the 0 value in the y-axis. Clearly the model needs work."
   ]
  },
  {
   "cell_type": "markdown",
   "metadata": {},
   "source": [
    "# Or try a single bootstrap sample using presence/absence first\n",
    "We can try abundance later."
   ]
  },
  {
   "cell_type": "code",
   "execution_count": null,
   "metadata": {},
   "outputs": [],
   "source": [
    "dt<-bootsamp[[78]]\n",
    "dt$presence<-ifelse(dt$abundance==0,0,1)\n",
    "aggregate(gridCellId~Region+presence,dt,NROW)\n",
    "fml<-paste0(\"presence~Persistence2Years+PredictabilityDec5Years+InTrough*scaledmeanslope+\",\n",
    "            \"I(scaledmeanslope^2)+scaledmeanbathy+I(scaledmeanbathy^2)+scaledcont800dist+\",\n",
    "            \"I(scaledcont800dist^2)+scaledcont300dist+I(scaledcont300dist^2)+\",\n",
    "            \"scaleddistToShore+I(scaleddistToShore^2)+scaledempedist+I(scaledempedist^2)+\",\n",
    "            \"scaledadpedist+I(scaledadpedist^2)+scaledadpedist*logADPEabund+scaledempedist*logEMPEabund\")\n",
    "mdl<-glm(formula=fml,data=dt,family=\"binomial\")\n",
    "summary(mdl)\n",
    "layout(matrix(c(1,2,3,4),2,2)) \n",
    "plot(mdl)\n",
    "paste(\"AIC:\",AIC(mdl))"
   ]
  },
  {
   "cell_type": "code",
   "execution_count": null,
   "metadata": {},
   "outputs": [],
   "source": [
    "dt<-bootsamp[[91]]\n",
    "dt$presence<-ifelse(dt$abundance==0,0,1)\n",
    "aggregate(gridCellId~Region+presence,dt,NROW)\n",
    "fml<-paste0(\"presence~Persistence2Years+PredictabilityDec5Years+InTrough*scaledmeanslope+\",\n",
    "            \"I(scaledmeanslope^2)+I(scaledmeanbathy^2)+scaledmeanbathy+scaledcont800dist+\",\n",
    "            \"I(scaledcont800dist^2)+scaledcont300dist+I(scaledcont300dist^2)+scaledfastIceWidth+fastIceRatio+\",\n",
    "            \"I(scaledfastIceWidth^2)+scaleddistToShore+I(scaleddistToShore^2)+scaledempedist+I(scaledempedist^2)+\",\n",
    "            \"scaledadpedist+I(scaledadpedist^2)+scaledadpedist*logADPEabund+scaledempedist*logEMPEabund\")\n",
    "mdl<-glm(formula=fml,data=dt,family=\"binomial\")\n",
    "summary(mdl)\n",
    "layout(matrix(c(1,2,3,4),2,2)) \n",
    "plot(mdl)\n",
    "paste(\"AIC:\",AIC(mdl))"
   ]
  },
  {
   "cell_type": "code",
   "execution_count": null,
   "metadata": {},
   "outputs": [],
   "source": []
  }
 ],
 "metadata": {
  "kernelspec": {
   "display_name": "R",
   "language": "R",
   "name": "ir"
  },
  "language_info": {
   "codemirror_mode": "r",
   "file_extension": ".r",
   "mimetype": "text/x-r-source",
   "name": "R",
   "pygments_lexer": "r",
   "version": "3.4.4"
  }
 },
 "nbformat": 4,
 "nbformat_minor": 2
}
