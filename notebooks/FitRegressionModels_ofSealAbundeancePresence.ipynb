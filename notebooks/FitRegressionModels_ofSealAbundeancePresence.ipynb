{
 "cells": [
  {
   "cell_type": "markdown",
   "metadata": {},
   "source": [
    "# Fit regression models of seal abundance and presence\n",
    "This notebook uses the information on the estimated number of seals per 5 x 5 KM grid cell to build regression models that aim to explain some of the factors that explain the observed distribution and abundance of Weddell seals around Antarctica.\n",
    "\n",
    "Run this file every time you run the notebook \"Attribute geospatial data with seal abundance data\", as it means you have new geospatial covariates to analyze."
   ]
  },
  {
   "cell_type": "markdown",
   "metadata": {},
   "source": [
    "### Loading the required libraries and other dependencies"
   ]
  },
  {
   "cell_type": "code",
   "execution_count": 1,
   "metadata": {},
   "outputs": [
    {
     "data": {
      "text/html": [
       "<table>\n",
       "<caption>A matrix: 2 × 6 of type dbl</caption>\n",
       "<thead>\n",
       "\t<tr><th></th><th scope=col>used</th><th scope=col>(Mb)</th><th scope=col>gc trigger</th><th scope=col>(Mb)</th><th scope=col>max used</th><th scope=col>(Mb)</th></tr>\n",
       "</thead>\n",
       "<tbody>\n",
       "\t<tr><th scope=row>Ncells</th><td>511929</td><td>27.4</td><td> 940480</td><td>50.3</td><td> 750400</td><td>40.1</td></tr>\n",
       "\t<tr><th scope=row>Vcells</th><td>931865</td><td> 7.2</td><td>1650153</td><td>12.6</td><td>1081468</td><td> 8.3</td></tr>\n",
       "</tbody>\n",
       "</table>\n"
      ],
      "text/latex": [
       "A matrix: 2 × 6 of type dbl\n",
       "\\begin{tabular}{r|llllll}\n",
       "  & used & (Mb) & gc trigger & (Mb) & max used & (Mb)\\\\\n",
       "\\hline\n",
       "\tNcells & 511929 & 27.4 &  940480 & 50.3 &  750400 & 40.1\\\\\n",
       "\tVcells & 931865 &  7.2 & 1650153 & 12.6 & 1081468 &  8.3\\\\\n",
       "\\end{tabular}\n"
      ],
      "text/markdown": [
       "\n",
       "A matrix: 2 × 6 of type dbl\n",
       "\n",
       "| <!--/--> | used | (Mb) | gc trigger | (Mb) | max used | (Mb) |\n",
       "|---|---|---|---|---|---|---|\n",
       "| Ncells | 511929 | 27.4 |  940480 | 50.3 |  750400 | 40.1 |\n",
       "| Vcells | 931865 |  7.2 | 1650153 | 12.6 | 1081468 |  8.3 |\n",
       "\n"
      ],
      "text/plain": [
       "       used   (Mb) gc trigger (Mb) max used (Mb)\n",
       "Ncells 511929 27.4  940480    50.3  750400  40.1\n",
       "Vcells 931865  7.2 1650153    12.6 1081468   8.3"
      ]
     },
     "metadata": {},
     "output_type": "display_data"
    }
   ],
   "source": [
    "## Clear memory\n",
    "rm(list=ls())\n",
    "gc()"
   ]
  },
  {
   "cell_type": "code",
   "execution_count": 6,
   "metadata": {
    "scrolled": false
   },
   "outputs": [
    {
     "data": {
      "text/html": [
       "<ol>\n",
       "\t<li>TRUE</li>\n",
       "\t<li>TRUE</li>\n",
       "\t<li>TRUE</li>\n",
       "\t<li>TRUE</li>\n",
       "\t<li>TRUE</li>\n",
       "\t<li>TRUE</li>\n",
       "\t<li>TRUE</li>\n",
       "</ol>\n"
      ],
      "text/latex": [
       "\\begin{enumerate}\n",
       "\\item TRUE\n",
       "\\item TRUE\n",
       "\\item TRUE\n",
       "\\item TRUE\n",
       "\\item TRUE\n",
       "\\item TRUE\n",
       "\\item TRUE\n",
       "\\end{enumerate}\n"
      ],
      "text/markdown": [
       "1. TRUE\n",
       "2. TRUE\n",
       "3. TRUE\n",
       "4. TRUE\n",
       "5. TRUE\n",
       "6. TRUE\n",
       "7. TRUE\n",
       "\n",
       "\n"
      ],
      "text/plain": [
       "[[1]]\n",
       "[1] TRUE\n",
       "\n",
       "[[2]]\n",
       "[1] TRUE\n",
       "\n",
       "[[3]]\n",
       "[1] TRUE\n",
       "\n",
       "[[4]]\n",
       "[1] TRUE\n",
       "\n",
       "[[5]]\n",
       "[1] TRUE\n",
       "\n",
       "[[6]]\n",
       "[1] TRUE\n",
       "\n",
       "[[7]]\n",
       "[1] TRUE\n"
      ]
     },
     "metadata": {},
     "output_type": "display_data"
    },
    {
     "data": {
      "text/html": [
       "<table>\n",
       "<caption>A data.frame: 6 × 22</caption>\n",
       "<thead>\n",
       "\t<tr><th></th><th scope=col>gridCellId</th><th scope=col>meanslope</th><th scope=col>meanbathy</th><th scope=col>slope</th><th scope=col>bathy</th><th scope=col>shoredist</th><th scope=col>glacierdist</th><th scope=col>nearLineId</th><th scope=col>near_x</th><th scope=col>near_y</th><th scope=col>⋯</th><th scope=col>adpecol</th><th scope=col>empedist</th><th scope=col>empecol</th><th scope=col>cont300dist</th><th scope=col>cont800dist</th><th scope=col>coords.x1</th><th scope=col>coords.x2</th><th scope=col>mdlCol</th><th scope=col>mdlIsl</th><th scope=col>hasMaps</th></tr>\n",
       "\t<tr><th></th><th scope=col>&lt;int&gt;</th><th scope=col>&lt;dbl&gt;</th><th scope=col>&lt;dbl&gt;</th><th scope=col>&lt;dbl&gt;</th><th scope=col>&lt;dbl&gt;</th><th scope=col>&lt;dbl&gt;</th><th scope=col>&lt;dbl&gt;</th><th scope=col>&lt;dbl&gt;</th><th scope=col>&lt;dbl&gt;</th><th scope=col>&lt;dbl&gt;</th><th scope=col>⋯</th><th scope=col>&lt;fct&gt;</th><th scope=col>&lt;dbl&gt;</th><th scope=col>&lt;fct&gt;</th><th scope=col>&lt;dbl&gt;</th><th scope=col>&lt;dbl&gt;</th><th scope=col>&lt;dbl&gt;</th><th scope=col>&lt;dbl&gt;</th><th scope=col>&lt;dbl&gt;</th><th scope=col>&lt;dbl&gt;</th><th scope=col>&lt;dbl&gt;</th></tr>\n",
       "</thead>\n",
       "<tbody>\n",
       "\t<tr><th scope=row>1</th><td>68791</td><td>2.621992</td><td>-2846.908</td><td>2.5563672</td><td>-2864.911</td><td>206728.3</td><td>247849.6</td><td>2351</td><td>-2273383</td><td>2327082</td><td>⋯</td><td>Ferrier Peninsula</td><td>1013124</td><td>Snow Hill Island</td><td>142791.6</td><td>588996.1</td><td>-2191000</td><td>2511000</td><td>0</td><td>0</td><td>0</td></tr>\n",
       "\t<tr><th scope=row>2</th><td>68792</td><td>4.591249</td><td>-2587.330</td><td>4.4836812</td><td>-2612.724</td><td>208790.2</td><td>250334.0</td><td>2351</td><td>-2273383</td><td>2327082</td><td>⋯</td><td>Ferrier Peninsula</td><td>1014024</td><td>Snow Hill Island</td><td>142791.6</td><td>588996.1</td><td>-2186000</td><td>2511000</td><td>0</td><td>0</td><td>0</td></tr>\n",
       "\t<tr><th scope=row>3</th><td>68819</td><td>1.411659</td><td>-3014.080</td><td>1.5170590</td><td>-3024.577</td><td>200154.1</td><td>241050.2</td><td>2351</td><td>-2273383</td><td>2327082</td><td>⋯</td><td>Ferrier Peninsula</td><td>1007323</td><td>Snow Hill Island</td><td>138016.9</td><td>584654.8</td><td>-2196000</td><td>2506000</td><td>0</td><td>0</td><td>0</td></tr>\n",
       "\t<tr><th scope=row>4</th><td>68820</td><td>1.413779</td><td>-2920.630</td><td>0.7565953</td><td>-2930.036</td><td>202161.9</td><td>243501.3</td><td>2351</td><td>-2273383</td><td>2327082</td><td>⋯</td><td>Ferrier Peninsula</td><td>1008204</td><td>Snow Hill Island</td><td>138016.9</td><td>584654.8</td><td>-2191000</td><td>2506000</td><td>0</td><td>0</td><td>0</td></tr>\n",
       "\t<tr><th scope=row>5</th><td>68821</td><td>4.561732</td><td>-2686.220</td><td>4.5623317</td><td>-2716.875</td><td>204263.8</td><td>246029.6</td><td>2351</td><td>-2273383</td><td>2327082</td><td>⋯</td><td>Ferrier Peninsula</td><td>1009109</td><td>Snow Hill Island</td><td>138016.9</td><td>584654.8</td><td>-2186000</td><td>2506000</td><td>0</td><td>0</td><td>0</td></tr>\n",
       "\t<tr><th scope=row>6</th><td>68822</td><td>4.902608</td><td>-2264.930</td><td>5.1146288</td><td>-2277.257</td><td>206460.4</td><td>248632.8</td><td>2351</td><td>-2273383</td><td>2327082</td><td>⋯</td><td>Ferrier Peninsula</td><td>1010037</td><td>Snow Hill Island</td><td>138016.9</td><td>584654.8</td><td>-2181000</td><td>2506000</td><td>0</td><td>0</td><td>0</td></tr>\n",
       "</tbody>\n",
       "</table>\n"
      ],
      "text/latex": [
       "A data.frame: 6 × 22\n",
       "\\begin{tabular}{r|lllllllllllllllllllll}\n",
       "  & gridCellId & meanslope & meanbathy & slope & bathy & shoredist & glacierdist & nearLineId & near\\_x & near\\_y & ⋯ & adpecol & empedist & empecol & cont300dist & cont800dist & coords.x1 & coords.x2 & mdlCol & mdlIsl & hasMaps\\\\\n",
       "  & <int> & <dbl> & <dbl> & <dbl> & <dbl> & <dbl> & <dbl> & <dbl> & <dbl> & <dbl> & ⋯ & <fct> & <dbl> & <fct> & <dbl> & <dbl> & <dbl> & <dbl> & <dbl> & <dbl> & <dbl>\\\\\n",
       "\\hline\n",
       "\t1 & 68791 & 2.621992 & -2846.908 & 2.5563672 & -2864.911 & 206728.3 & 247849.6 & 2351 & -2273383 & 2327082 & ⋯ & Ferrier Peninsula & 1013124 & Snow Hill Island & 142791.6 & 588996.1 & -2191000 & 2511000 & 0 & 0 & 0\\\\\n",
       "\t2 & 68792 & 4.591249 & -2587.330 & 4.4836812 & -2612.724 & 208790.2 & 250334.0 & 2351 & -2273383 & 2327082 & ⋯ & Ferrier Peninsula & 1014024 & Snow Hill Island & 142791.6 & 588996.1 & -2186000 & 2511000 & 0 & 0 & 0\\\\\n",
       "\t3 & 68819 & 1.411659 & -3014.080 & 1.5170590 & -3024.577 & 200154.1 & 241050.2 & 2351 & -2273383 & 2327082 & ⋯ & Ferrier Peninsula & 1007323 & Snow Hill Island & 138016.9 & 584654.8 & -2196000 & 2506000 & 0 & 0 & 0\\\\\n",
       "\t4 & 68820 & 1.413779 & -2920.630 & 0.7565953 & -2930.036 & 202161.9 & 243501.3 & 2351 & -2273383 & 2327082 & ⋯ & Ferrier Peninsula & 1008204 & Snow Hill Island & 138016.9 & 584654.8 & -2191000 & 2506000 & 0 & 0 & 0\\\\\n",
       "\t5 & 68821 & 4.561732 & -2686.220 & 4.5623317 & -2716.875 & 204263.8 & 246029.6 & 2351 & -2273383 & 2327082 & ⋯ & Ferrier Peninsula & 1009109 & Snow Hill Island & 138016.9 & 584654.8 & -2186000 & 2506000 & 0 & 0 & 0\\\\\n",
       "\t6 & 68822 & 4.902608 & -2264.930 & 5.1146288 & -2277.257 & 206460.4 & 248632.8 & 2351 & -2273383 & 2327082 & ⋯ & Ferrier Peninsula & 1010037 & Snow Hill Island & 138016.9 & 584654.8 & -2181000 & 2506000 & 0 & 0 & 0\\\\\n",
       "\\end{tabular}\n"
      ],
      "text/markdown": [
       "\n",
       "A data.frame: 6 × 22\n",
       "\n",
       "| <!--/--> | gridCellId &lt;int&gt; | meanslope &lt;dbl&gt; | meanbathy &lt;dbl&gt; | slope &lt;dbl&gt; | bathy &lt;dbl&gt; | shoredist &lt;dbl&gt; | glacierdist &lt;dbl&gt; | nearLineId &lt;dbl&gt; | near_x &lt;dbl&gt; | near_y &lt;dbl&gt; | ⋯ ⋯ | adpecol &lt;fct&gt; | empedist &lt;dbl&gt; | empecol &lt;fct&gt; | cont300dist &lt;dbl&gt; | cont800dist &lt;dbl&gt; | coords.x1 &lt;dbl&gt; | coords.x2 &lt;dbl&gt; | mdlCol &lt;dbl&gt; | mdlIsl &lt;dbl&gt; | hasMaps &lt;dbl&gt; |\n",
       "|---|---|---|---|---|---|---|---|---|---|---|---|---|---|---|---|---|---|---|---|---|---|\n",
       "| 1 | 68791 | 2.621992 | -2846.908 | 2.5563672 | -2864.911 | 206728.3 | 247849.6 | 2351 | -2273383 | 2327082 | ⋯ | Ferrier Peninsula | 1013124 | Snow Hill Island | 142791.6 | 588996.1 | -2191000 | 2511000 | 0 | 0 | 0 |\n",
       "| 2 | 68792 | 4.591249 | -2587.330 | 4.4836812 | -2612.724 | 208790.2 | 250334.0 | 2351 | -2273383 | 2327082 | ⋯ | Ferrier Peninsula | 1014024 | Snow Hill Island | 142791.6 | 588996.1 | -2186000 | 2511000 | 0 | 0 | 0 |\n",
       "| 3 | 68819 | 1.411659 | -3014.080 | 1.5170590 | -3024.577 | 200154.1 | 241050.2 | 2351 | -2273383 | 2327082 | ⋯ | Ferrier Peninsula | 1007323 | Snow Hill Island | 138016.9 | 584654.8 | -2196000 | 2506000 | 0 | 0 | 0 |\n",
       "| 4 | 68820 | 1.413779 | -2920.630 | 0.7565953 | -2930.036 | 202161.9 | 243501.3 | 2351 | -2273383 | 2327082 | ⋯ | Ferrier Peninsula | 1008204 | Snow Hill Island | 138016.9 | 584654.8 | -2191000 | 2506000 | 0 | 0 | 0 |\n",
       "| 5 | 68821 | 4.561732 | -2686.220 | 4.5623317 | -2716.875 | 204263.8 | 246029.6 | 2351 | -2273383 | 2327082 | ⋯ | Ferrier Peninsula | 1009109 | Snow Hill Island | 138016.9 | 584654.8 | -2186000 | 2506000 | 0 | 0 | 0 |\n",
       "| 6 | 68822 | 4.902608 | -2264.930 | 5.1146288 | -2277.257 | 206460.4 | 248632.8 | 2351 | -2273383 | 2327082 | ⋯ | Ferrier Peninsula | 1010037 | Snow Hill Island | 138016.9 | 584654.8 | -2181000 | 2506000 | 0 | 0 | 0 |\n",
       "\n"
      ],
      "text/plain": [
       "  gridCellId meanslope meanbathy slope     bathy     shoredist glacierdist\n",
       "1 68791      2.621992  -2846.908 2.5563672 -2864.911 206728.3  247849.6   \n",
       "2 68792      4.591249  -2587.330 4.4836812 -2612.724 208790.2  250334.0   \n",
       "3 68819      1.411659  -3014.080 1.5170590 -3024.577 200154.1  241050.2   \n",
       "4 68820      1.413779  -2920.630 0.7565953 -2930.036 202161.9  243501.3   \n",
       "5 68821      4.561732  -2686.220 4.5623317 -2716.875 204263.8  246029.6   \n",
       "6 68822      4.902608  -2264.930 5.1146288 -2277.257 206460.4  248632.8   \n",
       "  nearLineId near_x   near_y  ⋯ adpecol           empedist empecol         \n",
       "1 2351       -2273383 2327082 ⋯ Ferrier Peninsula 1013124  Snow Hill Island\n",
       "2 2351       -2273383 2327082 ⋯ Ferrier Peninsula 1014024  Snow Hill Island\n",
       "3 2351       -2273383 2327082 ⋯ Ferrier Peninsula 1007323  Snow Hill Island\n",
       "4 2351       -2273383 2327082 ⋯ Ferrier Peninsula 1008204  Snow Hill Island\n",
       "5 2351       -2273383 2327082 ⋯ Ferrier Peninsula 1009109  Snow Hill Island\n",
       "6 2351       -2273383 2327082 ⋯ Ferrier Peninsula 1010037  Snow Hill Island\n",
       "  cont300dist cont800dist coords.x1 coords.x2 mdlCol mdlIsl hasMaps\n",
       "1 142791.6    588996.1    -2191000  2511000   0      0      0      \n",
       "2 142791.6    588996.1    -2186000  2511000   0      0      0      \n",
       "3 138016.9    584654.8    -2196000  2506000   0      0      0      \n",
       "4 138016.9    584654.8    -2191000  2506000   0      0      0      \n",
       "5 138016.9    584654.8    -2186000  2506000   0      0      0      \n",
       "6 138016.9    584654.8    -2181000  2506000   0      0      0      "
      ]
     },
     "metadata": {},
     "output_type": "display_data"
    }
   ],
   "source": [
    "libs<-c(\"ggplot2\",\"plyr\",\"dplyr\",\"sp\",\"rgeos\",\"raster\",\"rgdal\")\n",
    "lapply(libs, require, character.only = TRUE)\n",
    "pathToLocalGit<-\"/home/ubuntu/Workspace/ContinentalWESEestimates/\"\n",
    "\n",
    "## Load the source utility functions file\n",
    "source(file=paste0(pathToLocalGit,\"scripts/fitRegressionModels_functions.R\"))\n",
    "\n",
    "## load the WESE grid data\n",
    "load(file=paste0(pathToLocalGit,\"data/continentalWESE.RData\"))\n",
    "head(wesedf)\n",
    "\n",
    "dataproj<-\"+proj=stere +lat_0=-90 +lat_ts=-71 +lon_0=0 +k=1 +x_0=0 +y_0=0 +datum=WGS84 +units=m +no_defs +ellps=WGS84 +towgs84=0,0,0\""
   ]
  },
  {
   "cell_type": "markdown",
   "metadata": {},
   "source": [
    "## Regresion analysis preliminaries"
   ]
  },
  {
   "cell_type": "markdown",
   "metadata": {},
   "source": [
    "The above tble (wesedf) is ready for fitting regression models, but first we will need the following:\n",
    "1. Be able to extend the attribution of the table with geospatial hypotheses (e.g., David's WESE zones vs. Michelle's WESE zones)\n",
    "2. Generate N samples of \"no-seal\" locations of identical size as the number of grid cells with WESE presence\n",
    "3. Be able to compute a linear model with the set of N bootstrap samples, and have it summarized for us\n",
    "  \n",
    "### On the above needs\n",
    "__Regarding #1__ it is done with the functions \"readShapeFile\" and \"attributeWithShape\". The first function reads the shape file into a spatial object and the second one uses information on the spatial object (e.g., David's WESE zones) into the data.  \n",
    "Here's an example to load a point shapefile, from an example copied into the repository's data folder:"
   ]
  },
  {
   "cell_type": "code",
   "execution_count": 7,
   "metadata": {},
   "outputs": [
    {
     "name": "stdout",
     "output_type": "stream",
     "text": [
      "OGR data source with driver: ESRI Shapefile \n",
      "Source: \"/home/ubuntu/Workspace/ContinentalWESEestimates/data/glaciers\", layer: \"glaciers\"\n",
      "with 1499 features\n",
      "It has 69 fields\n",
      "Integer64 fields read as strings:  objectid gaz_id scar_commo coordinate altitude_a max_digita location_m country_id \n"
     ]
    },
    {
     "data": {
      "image/png": "[encoded data removed]",
      "text/plain": [
       "plot without title"
      ]
     },
     "metadata": {
      "image/png": {
       "height": 420,
       "width": 420
      },
      "text/plain": {
       "height": 420,
       "width": 420
      }
     },
     "output_type": "display_data"
    }
   ],
   "source": [
    "icebergs<-readShapeFile(pathToGit=pathToLocalGit,folderName=\"glaciers\",shapeName=\"glaciers\")\n",
    "#folderName is the folder name in the workspace, and shapeName is the name of the .shp file\n",
    "plot(icebergs)"
   ]
  },
  {
   "cell_type": "markdown",
   "metadata": {},
   "source": [
    "We could (but we don't because this is a point shapefile, not a polygon shapefile) use the spatial object \"icebergs\" ploted above to attribute wesedf with some information in it. We can see the contents of \"icebergs\" with a head:"
   ]
  },
  {
   "cell_type": "code",
   "execution_count": 8,
   "metadata": {},
   "outputs": [
    {
     "data": {
      "text/html": [
       "<table>\n",
       "<caption>A data.frame: 6 × 69</caption>\n",
       "<thead>\n",
       "\t<tr><th></th><th scope=col>objectid</th><th scope=col>fid_</th><th scope=col>place_name</th><th scope=col>place_na_1</th><th scope=col>gaz_id</th><th scope=col>country_na</th><th scope=col>latitude</th><th scope=col>longitude</th><th scope=col>altitude</th><th scope=col>feature_ty</th><th scope=col>⋯</th><th scope=col>max_digita</th><th scope=col>location_m</th><th scope=col>metadata_e</th><th scope=col>survey_sta</th><th scope=col>satellite_</th><th scope=col>online_dis</th><th scope=col>geometry</th><th scope=col>reason</th><th scope=col>relic_flag</th><th scope=col>country_id</th></tr>\n",
       "\t<tr><th></th><th scope=col>&lt;fct&gt;</th><th scope=col>&lt;fct&gt;</th><th scope=col>&lt;fct&gt;</th><th scope=col>&lt;fct&gt;</th><th scope=col>&lt;fct&gt;</th><th scope=col>&lt;fct&gt;</th><th scope=col>&lt;dbl&gt;</th><th scope=col>&lt;dbl&gt;</th><th scope=col>&lt;dbl&gt;</th><th scope=col>&lt;fct&gt;</th><th scope=col>⋯</th><th scope=col>&lt;fct&gt;</th><th scope=col>&lt;fct&gt;</th><th scope=col>&lt;fct&gt;</th><th scope=col>&lt;fct&gt;</th><th scope=col>&lt;fct&gt;</th><th scope=col>&lt;fct&gt;</th><th scope=col>&lt;fct&gt;</th><th scope=col>&lt;fct&gt;</th><th scope=col>&lt;fct&gt;</th><th scope=col>&lt;fct&gt;</th></tr>\n",
       "</thead>\n",
       "<tbody>\n",
       "\t<tr><th scope=row>1</th><td>59283</td><td>NA</td><td>Aagaard Glacier </td><td>Aagaard Glacier </td><td>121528</td><td>United States of America</td><td>-66.7667</td><td>-64.5167</td><td>0</td><td>Glacier</td><td>⋯</td><td>0</td><td>0</td><td>NA</td><td>NA</td><td>NA</td><td>NA</td><td>POINT (-64.516667 -66.766667)</td><td>NA</td><td>No</td><td>840</td></tr>\n",
       "\t<tr><th scope=row>2</th><td>59285</td><td>NA</td><td>Aaron Glacier   </td><td>Aaron Glacier   </td><td>121530</td><td>United States of America</td><td>-85.1333</td><td>-90.6667</td><td>0</td><td>Glacier</td><td>⋯</td><td>0</td><td>0</td><td>NA</td><td>NA</td><td>NA</td><td>NA</td><td>POINT (-90.666667 -85.133333)</td><td>NA</td><td>No</td><td>840</td></tr>\n",
       "\t<tr><th scope=row>3</th><td>59308</td><td>NA</td><td>Academy Glacier </td><td>Academy Glacier </td><td>121553</td><td>United States of America</td><td>-84.2500</td><td>-61.0000</td><td>0</td><td>Glacier</td><td>⋯</td><td>0</td><td>0</td><td>NA</td><td>NA</td><td>NA</td><td>NA</td><td>POINT (-61 -84.25)           </td><td>NA</td><td>No</td><td>840</td></tr>\n",
       "\t<tr><th scope=row>4</th><td>59329</td><td>NA</td><td>Adams Glacier   </td><td>Adams Glacier   </td><td>121575</td><td>United States of America</td><td>-66.8333</td><td>109.6667</td><td>0</td><td>Glacier</td><td>⋯</td><td>0</td><td>0</td><td>NA</td><td>NA</td><td>NA</td><td>NA</td><td>POINT (109.666667 -66.833333)</td><td>NA</td><td>No</td><td>840</td></tr>\n",
       "\t<tr><th scope=row>5</th><td>59330</td><td>NA</td><td>Adams Glacier   </td><td>Adams Glacier   </td><td>121576</td><td>United States of America</td><td>-78.1167</td><td>163.6333</td><td>0</td><td>Glacier</td><td>⋯</td><td>0</td><td>0</td><td>NA</td><td>NA</td><td>NA</td><td>NA</td><td>POINT (163.633333 -78.116667)</td><td>NA</td><td>No</td><td>840</td></tr>\n",
       "\t<tr><th scope=row>6</th><td>59364</td><td>NA</td><td>Aeronaut Glacier</td><td>Aeronaut Glacier</td><td>121611</td><td>United States of America</td><td>-73.2667</td><td>163.6000</td><td>0</td><td>Glacier</td><td>⋯</td><td>0</td><td>0</td><td>NA</td><td>NA</td><td>NA</td><td>NA</td><td>POINT (163.6 -73.266667)     </td><td>NA</td><td>No</td><td>840</td></tr>\n",
       "</tbody>\n",
       "</table>\n"
      ],
      "text/latex": [
       "A data.frame: 6 × 69\n",
       "\\begin{tabular}{r|lllllllllllllllllllll}\n",
       "  & objectid & fid\\_ & place\\_name & place\\_na\\_1 & gaz\\_id & country\\_na & latitude & longitude & altitude & feature\\_ty & ⋯ & max\\_digita & location\\_m & metadata\\_e & survey\\_sta & satellite\\_ & online\\_dis & geometry & reason & relic\\_flag & country\\_id\\\\\n",
       "  & <fct> & <fct> & <fct> & <fct> & <fct> & <fct> & <dbl> & <dbl> & <dbl> & <fct> & ⋯ & <fct> & <fct> & <fct> & <fct> & <fct> & <fct> & <fct> & <fct> & <fct> & <fct>\\\\\n",
       "\\hline\n",
       "\t1 & 59283 & NA & Aagaard Glacier  & Aagaard Glacier  & 121528 & United States of America & -66.7667 & -64.5167 & 0 & Glacier & ⋯ & 0 & 0 & NA & NA & NA & NA & POINT (-64.516667 -66.766667) & NA & No & 840\\\\\n",
       "\t2 & 59285 & NA & Aaron Glacier    & Aaron Glacier    & 121530 & United States of America & -85.1333 & -90.6667 & 0 & Glacier & ⋯ & 0 & 0 & NA & NA & NA & NA & POINT (-90.666667 -85.133333) & NA & No & 840\\\\\n",
       "\t3 & 59308 & NA & Academy Glacier  & Academy Glacier  & 121553 & United States of America & -84.2500 & -61.0000 & 0 & Glacier & ⋯ & 0 & 0 & NA & NA & NA & NA & POINT (-61 -84.25)            & NA & No & 840\\\\\n",
       "\t4 & 59329 & NA & Adams Glacier    & Adams Glacier    & 121575 & United States of America & -66.8333 & 109.6667 & 0 & Glacier & ⋯ & 0 & 0 & NA & NA & NA & NA & POINT (109.666667 -66.833333) & NA & No & 840\\\\\n",
       "\t5 & 59330 & NA & Adams Glacier    & Adams Glacier    & 121576 & United States of America & -78.1167 & 163.6333 & 0 & Glacier & ⋯ & 0 & 0 & NA & NA & NA & NA & POINT (163.633333 -78.116667) & NA & No & 840\\\\\n",
       "\t6 & 59364 & NA & Aeronaut Glacier & Aeronaut Glacier & 121611 & United States of America & -73.2667 & 163.6000 & 0 & Glacier & ⋯ & 0 & 0 & NA & NA & NA & NA & POINT (163.6 -73.266667)      & NA & No & 840\\\\\n",
       "\\end{tabular}\n"
      ],
      "text/markdown": [
       "\n",
       "A data.frame: 6 × 69\n",
       "\n",
       "| <!--/--> | objectid &lt;fct&gt; | fid_ &lt;fct&gt; | place_name &lt;fct&gt; | place_na_1 &lt;fct&gt; | gaz_id &lt;fct&gt; | country_na &lt;fct&gt; | latitude &lt;dbl&gt; | longitude &lt;dbl&gt; | altitude &lt;dbl&gt; | feature_ty &lt;fct&gt; | ⋯ ⋯ | max_digita &lt;fct&gt; | location_m &lt;fct&gt; | metadata_e &lt;fct&gt; | survey_sta &lt;fct&gt; | satellite_ &lt;fct&gt; | online_dis &lt;fct&gt; | geometry &lt;fct&gt; | reason &lt;fct&gt; | relic_flag &lt;fct&gt; | country_id &lt;fct&gt; |\n",
       "|---|---|---|---|---|---|---|---|---|---|---|---|---|---|---|---|---|---|---|---|---|---|\n",
       "| 1 | 59283 | NA | Aagaard Glacier  | Aagaard Glacier  | 121528 | United States of America | -66.7667 | -64.5167 | 0 | Glacier | ⋯ | 0 | 0 | NA | NA | NA | NA | POINT (-64.516667 -66.766667) | NA | No | 840 |\n",
       "| 2 | 59285 | NA | Aaron Glacier    | Aaron Glacier    | 121530 | United States of America | -85.1333 | -90.6667 | 0 | Glacier | ⋯ | 0 | 0 | NA | NA | NA | NA | POINT (-90.666667 -85.133333) | NA | No | 840 |\n",
       "| 3 | 59308 | NA | Academy Glacier  | Academy Glacier  | 121553 | United States of America | -84.2500 | -61.0000 | 0 | Glacier | ⋯ | 0 | 0 | NA | NA | NA | NA | POINT (-61 -84.25)            | NA | No | 840 |\n",
       "| 4 | 59329 | NA | Adams Glacier    | Adams Glacier    | 121575 | United States of America | -66.8333 | 109.6667 | 0 | Glacier | ⋯ | 0 | 0 | NA | NA | NA | NA | POINT (109.666667 -66.833333) | NA | No | 840 |\n",
       "| 5 | 59330 | NA | Adams Glacier    | Adams Glacier    | 121576 | United States of America | -78.1167 | 163.6333 | 0 | Glacier | ⋯ | 0 | 0 | NA | NA | NA | NA | POINT (163.633333 -78.116667) | NA | No | 840 |\n",
       "| 6 | 59364 | NA | Aeronaut Glacier | Aeronaut Glacier | 121611 | United States of America | -73.2667 | 163.6000 | 0 | Glacier | ⋯ | 0 | 0 | NA | NA | NA | NA | POINT (163.6 -73.266667)      | NA | No | 840 |\n",
       "\n"
      ],
      "text/plain": [
       "  objectid fid_ place_name       place_na_1       gaz_id\n",
       "1 59283    NA   Aagaard Glacier  Aagaard Glacier  121528\n",
       "2 59285    NA   Aaron Glacier    Aaron Glacier    121530\n",
       "3 59308    NA   Academy Glacier  Academy Glacier  121553\n",
       "4 59329    NA   Adams Glacier    Adams Glacier    121575\n",
       "5 59330    NA   Adams Glacier    Adams Glacier    121576\n",
       "6 59364    NA   Aeronaut Glacier Aeronaut Glacier 121611\n",
       "  country_na               latitude longitude altitude feature_ty ⋯ max_digita\n",
       "1 United States of America -66.7667 -64.5167  0        Glacier    ⋯ 0         \n",
       "2 United States of America -85.1333 -90.6667  0        Glacier    ⋯ 0         \n",
       "3 United States of America -84.2500 -61.0000  0        Glacier    ⋯ 0         \n",
       "4 United States of America -66.8333 109.6667  0        Glacier    ⋯ 0         \n",
       "5 United States of America -78.1167 163.6333  0        Glacier    ⋯ 0         \n",
       "6 United States of America -73.2667 163.6000  0        Glacier    ⋯ 0         \n",
       "  location_m metadata_e survey_sta satellite_ online_dis\n",
       "1 0          NA         NA         NA         NA        \n",
       "2 0          NA         NA         NA         NA        \n",
       "3 0          NA         NA         NA         NA        \n",
       "4 0          NA         NA         NA         NA        \n",
       "5 0          NA         NA         NA         NA        \n",
       "6 0          NA         NA         NA         NA        \n",
       "  geometry                      reason relic_flag country_id\n",
       "1 POINT (-64.516667 -66.766667) NA     No         840       \n",
       "2 POINT (-90.666667 -85.133333) NA     No         840       \n",
       "3 POINT (-61 -84.25)            NA     No         840       \n",
       "4 POINT (109.666667 -66.833333) NA     No         840       \n",
       "5 POINT (163.633333 -78.116667) NA     No         840       \n",
       "6 POINT (163.6 -73.266667)      NA     No         840       "
      ]
     },
     "metadata": {},
     "output_type": "display_data"
    }
   ],
   "source": [
    "head(icebergs)"
   ]
  },
  {
   "cell_type": "markdown",
   "metadata": {},
   "source": [
    "So, we could attribute the wesedf table with the parameter \"place_name\", like so:"
   ]
  },
  {
   "cell_type": "code",
   "execution_count": null,
   "metadata": {},
   "outputs": [],
   "source": [
    "## DO NOT RUN\n",
    "## wesedf2<-attributeWithShape(shpobj=icebergs,attribName=\"place_name\",data=wesedf,datKey=\"gridCellId\",\n",
    "##                              lonfld=\"coords.x1\",latfld=\"coords.x2\",dataproj=dataproj)"
   ]
  },
  {
   "cell_type": "markdown",
   "metadata": {},
   "source": [
    "If we executed the above example, the resulting table wesedf2 will have a new field called \"place_name.\"\n",
    "\n",
    "__Regarding #2__ we use the function \"bootSampleWESEdata\". This function by default generates 100 bootstrap samples (but change with the parameter \"nsamples\") and returns a list object. Each element of the list is one of the samples. Each sample is a table like wesedf, but it contains an equal number of grids with seals and no seals.  \n",
    "  \n",
    "The wesedf table has a column called \"hasMaps\" to indicate cells with maps, even if these wereeventually estimated to have 0 seals. The function \"bootSampleWESEdata\" can treat these as if they had no seals, or as if they did. You may indicate the behavior with the parameter \"hasMapsBehavior\". Set the parameter to 0 (this is the default behavior) to treat these cells as if there are no seals there, or 1 otherwise.\n",
    "\n",
    "Lastly, we my want to stratify the sample by bins of any one or two (but no more) of the variables in wesedf. To do so, we use the parameter \"strtifyByBins\". This parameter is a json string that looks like this (for a 2-parameter stratification):  \n",
    "    \"[{\"field\":\"empedist\",\"numbins\":3},{\"field\":\"cont800dist\",\"numbins\":4}]\"  \n",
    "    \n",
    "The above string will create 3 equally spaced strata from the values in empedist, and 4 from the values in cont800dist. It will then stratify the random sample such that it includes an even number of values in each of the bins of empedist and cont800dist.  \n",
    "For example:"
   ]
  },
  {
   "cell_type": "code",
   "execution_count": 9,
   "metadata": {},
   "outputs": [
    {
     "data": {
      "text/html": [
       "<style>\n",
       ".list-inline {list-style: none; margin:0; padding: 0}\n",
       ".list-inline>li {display: inline-block}\n",
       ".list-inline>li:not(:last-child)::after {content: \"\\00b7\"; padding: 0 .5ex}\n",
       "</style>\n",
       "<ol class=list-inline><li>'gridCellId'</li><li>'meanslope'</li><li>'meanbathy'</li><li>'slope'</li><li>'bathy'</li><li>'shoredist'</li><li>'glacierdist'</li><li>'nearLineId'</li><li>'near_x'</li><li>'near_y'</li><li>'distToShore'</li><li>'adpedist'</li><li>'adpecol'</li><li>'empedist'</li><li>'empecol'</li><li>'cont300dist'</li><li>'cont800dist'</li><li>'coords.x1'</li><li>'coords.x2'</li><li>'mdlCol'</li><li>'mdlIsl'</li><li>'hasMaps'</li></ol>\n"
      ],
      "text/latex": [
       "\\begin{enumerate*}\n",
       "\\item 'gridCellId'\n",
       "\\item 'meanslope'\n",
       "\\item 'meanbathy'\n",
       "\\item 'slope'\n",
       "\\item 'bathy'\n",
       "\\item 'shoredist'\n",
       "\\item 'glacierdist'\n",
       "\\item 'nearLineId'\n",
       "\\item 'near\\_x'\n",
       "\\item 'near\\_y'\n",
       "\\item 'distToShore'\n",
       "\\item 'adpedist'\n",
       "\\item 'adpecol'\n",
       "\\item 'empedist'\n",
       "\\item 'empecol'\n",
       "\\item 'cont300dist'\n",
       "\\item 'cont800dist'\n",
       "\\item 'coords.x1'\n",
       "\\item 'coords.x2'\n",
       "\\item 'mdlCol'\n",
       "\\item 'mdlIsl'\n",
       "\\item 'hasMaps'\n",
       "\\end{enumerate*}\n"
      ],
      "text/markdown": [
       "1. 'gridCellId'\n",
       "2. 'meanslope'\n",
       "3. 'meanbathy'\n",
       "4. 'slope'\n",
       "5. 'bathy'\n",
       "6. 'shoredist'\n",
       "7. 'glacierdist'\n",
       "8. 'nearLineId'\n",
       "9. 'near_x'\n",
       "10. 'near_y'\n",
       "11. 'distToShore'\n",
       "12. 'adpedist'\n",
       "13. 'adpecol'\n",
       "14. 'empedist'\n",
       "15. 'empecol'\n",
       "16. 'cont300dist'\n",
       "17. 'cont800dist'\n",
       "18. 'coords.x1'\n",
       "19. 'coords.x2'\n",
       "20. 'mdlCol'\n",
       "21. 'mdlIsl'\n",
       "22. 'hasMaps'\n",
       "\n",
       "\n"
      ],
      "text/plain": [
       " [1] \"gridCellId\"  \"meanslope\"   \"meanbathy\"   \"slope\"       \"bathy\"      \n",
       " [6] \"shoredist\"   \"glacierdist\" \"nearLineId\"  \"near_x\"      \"near_y\"     \n",
       "[11] \"distToShore\" \"adpedist\"    \"adpecol\"     \"empedist\"    \"empecol\"    \n",
       "[16] \"cont300dist\" \"cont800dist\" \"coords.x1\"   \"coords.x2\"   \"mdlCol\"     \n",
       "[21] \"mdlIsl\"      \"hasMaps\"    "
      ]
     },
     "metadata": {},
     "output_type": "display_data"
    }
   ],
   "source": [
    "names(wesedf)"
   ]
  },
  {
   "cell_type": "code",
   "execution_count": null,
   "metadata": {},
   "outputs": [],
   "source": [
    "dataList<-bootSampleWESEdata(data=wesedf,nsamples=100,hasMapsBehavior=0,stratifyByBins=\"[{\"field\":\"empedist\",\"numbins\":3}]\")"
   ]
  },
  {
   "cell_type": "code",
   "execution_count": null,
   "metadata": {},
   "outputs": [],
   "source": [
    "## The above is ready for fitting regression models, but first \n",
    "##we'd like to generate a sample of \"no-seal\" locations of identical size\n",
    "# Also show example of how to attribute with shapefile"
   ]
  }
 ],
 "metadata": {
  "kernelspec": {
   "display_name": "R",
   "language": "R",
   "name": "ir"
  },
  "language_info": {
   "codemirror_mode": "r",
   "file_extension": ".r",
   "mimetype": "text/x-r-source",
   "name": "R",
   "pygments_lexer": "r",
   "version": "3.4.4"
  }
 },
 "nbformat": 4,
 "nbformat_minor": 2
}
