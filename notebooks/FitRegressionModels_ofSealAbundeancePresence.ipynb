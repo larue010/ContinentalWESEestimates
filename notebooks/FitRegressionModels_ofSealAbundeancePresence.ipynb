{
 "cells": [
  {
   "cell_type": "markdown",
   "metadata": {},
   "source": [
    "# Fit regression models of seal abundance and presence\n",
    "This notebook uses the information on the estimated number of seals per 5 x 5 KM grid cell to build regression models that aim to explain some of the factors that explain the observed distribution and abundance of Weddell seals around Antarctica.\n",
    "\n",
    "Run this file every time you run the notebook \"Attribute geospatial data with seal abundance data\", as it means you have new geospatial covariates to analyze."
   ]
  },
  {
   "cell_type": "markdown",
   "metadata": {},
   "source": [
    "### Loading the required libraries and other dependencies"
   ]
  },
  {
   "cell_type": "code",
   "execution_count": 77,
   "metadata": {},
   "outputs": [
    {
     "data": {
      "text/html": [
       "<table>\n",
       "<caption>A matrix: 2 × 6 of type dbl</caption>\n",
       "<thead>\n",
       "\t<tr><th></th><th scope=col>used</th><th scope=col>(Mb)</th><th scope=col>gc trigger</th><th scope=col>(Mb)</th><th scope=col>max used</th><th scope=col>(Mb)</th></tr>\n",
       "</thead>\n",
       "<tbody>\n",
       "\t<tr><th scope=row>Ncells</th><td>1299498</td><td>69.5</td><td> 2637877</td><td>140.9</td><td> 2637877</td><td>140.9</td></tr>\n",
       "\t<tr><th scope=row>Vcells</th><td>1657833</td><td>12.7</td><td>22658849</td><td>172.9</td><td>41186610</td><td>314.3</td></tr>\n",
       "</tbody>\n",
       "</table>\n"
      ],
      "text/latex": [
       "A matrix: 2 × 6 of type dbl\n",
       "\\begin{tabular}{r|llllll}\n",
       "  & used & (Mb) & gc trigger & (Mb) & max used & (Mb)\\\\\n",
       "\\hline\n",
       "\tNcells & 1299498 & 69.5 &  2637877 & 140.9 &  2637877 & 140.9\\\\\n",
       "\tVcells & 1657833 & 12.7 & 22658849 & 172.9 & 41186610 & 314.3\\\\\n",
       "\\end{tabular}\n"
      ],
      "text/markdown": [
       "\n",
       "A matrix: 2 × 6 of type dbl\n",
       "\n",
       "| <!--/--> | used | (Mb) | gc trigger | (Mb) | max used | (Mb) |\n",
       "|---|---|---|---|---|---|---|\n",
       "| Ncells | 1299498 | 69.5 |  2637877 | 140.9 |  2637877 | 140.9 |\n",
       "| Vcells | 1657833 | 12.7 | 22658849 | 172.9 | 41186610 | 314.3 |\n",
       "\n"
      ],
      "text/plain": [
       "       used    (Mb) gc trigger (Mb)  max used (Mb) \n",
       "Ncells 1299498 69.5  2637877   140.9  2637877 140.9\n",
       "Vcells 1657833 12.7 22658849   172.9 41186610 314.3"
      ]
     },
     "metadata": {},
     "output_type": "display_data"
    }
   ],
   "source": [
    "## Clear memory\n",
    "rm(list=ls())\n",
    "gc()"
   ]
  },
  {
   "cell_type": "code",
   "execution_count": 159,
   "metadata": {
    "scrolled": false
   },
   "outputs": [
    {
     "data": {
      "text/html": [
       "<ol>\n",
       "\t<li>TRUE</li>\n",
       "\t<li>TRUE</li>\n",
       "\t<li>TRUE</li>\n",
       "\t<li>TRUE</li>\n",
       "\t<li>TRUE</li>\n",
       "\t<li>TRUE</li>\n",
       "\t<li>TRUE</li>\n",
       "</ol>\n"
      ],
      "text/latex": [
       "\\begin{enumerate}\n",
       "\\item TRUE\n",
       "\\item TRUE\n",
       "\\item TRUE\n",
       "\\item TRUE\n",
       "\\item TRUE\n",
       "\\item TRUE\n",
       "\\item TRUE\n",
       "\\end{enumerate}\n"
      ],
      "text/markdown": [
       "1. TRUE\n",
       "2. TRUE\n",
       "3. TRUE\n",
       "4. TRUE\n",
       "5. TRUE\n",
       "6. TRUE\n",
       "7. TRUE\n",
       "\n",
       "\n"
      ],
      "text/plain": [
       "[[1]]\n",
       "[1] TRUE\n",
       "\n",
       "[[2]]\n",
       "[1] TRUE\n",
       "\n",
       "[[3]]\n",
       "[1] TRUE\n",
       "\n",
       "[[4]]\n",
       "[1] TRUE\n",
       "\n",
       "[[5]]\n",
       "[1] TRUE\n",
       "\n",
       "[[6]]\n",
       "[1] TRUE\n",
       "\n",
       "[[7]]\n",
       "[1] TRUE\n"
      ]
     },
     "metadata": {},
     "output_type": "display_data"
    },
    {
     "data": {
      "text/html": [
       "<table>\n",
       "<caption>A data.frame: 6 × 22</caption>\n",
       "<thead>\n",
       "\t<tr><th></th><th scope=col>gridCellId</th><th scope=col>meanslope</th><th scope=col>meanbathy</th><th scope=col>slope</th><th scope=col>bathy</th><th scope=col>shoredist</th><th scope=col>glacierdist</th><th scope=col>nearLineId</th><th scope=col>near_x</th><th scope=col>near_y</th><th scope=col>⋯</th><th scope=col>adpecol</th><th scope=col>empedist</th><th scope=col>empecol</th><th scope=col>cont300dist</th><th scope=col>cont800dist</th><th scope=col>coords.x1</th><th scope=col>coords.x2</th><th scope=col>mdlCol</th><th scope=col>mdlIsl</th><th scope=col>hasMaps</th></tr>\n",
       "\t<tr><th></th><th scope=col>&lt;int&gt;</th><th scope=col>&lt;dbl&gt;</th><th scope=col>&lt;dbl&gt;</th><th scope=col>&lt;dbl&gt;</th><th scope=col>&lt;dbl&gt;</th><th scope=col>&lt;dbl&gt;</th><th scope=col>&lt;dbl&gt;</th><th scope=col>&lt;dbl&gt;</th><th scope=col>&lt;dbl&gt;</th><th scope=col>&lt;dbl&gt;</th><th scope=col>⋯</th><th scope=col>&lt;fct&gt;</th><th scope=col>&lt;dbl&gt;</th><th scope=col>&lt;fct&gt;</th><th scope=col>&lt;dbl&gt;</th><th scope=col>&lt;dbl&gt;</th><th scope=col>&lt;dbl&gt;</th><th scope=col>&lt;dbl&gt;</th><th scope=col>&lt;dbl&gt;</th><th scope=col>&lt;dbl&gt;</th><th scope=col>&lt;dbl&gt;</th></tr>\n",
       "</thead>\n",
       "<tbody>\n",
       "\t<tr><th scope=row>1</th><td>68791</td><td>2.621992</td><td>-2846.908</td><td>2.5563672</td><td>-2864.911</td><td>206728.3</td><td>247849.6</td><td>2351</td><td>-2273383</td><td>2327082</td><td>⋯</td><td>Ferrier Peninsula</td><td>1013124</td><td>Snow Hill Island</td><td>142791.6</td><td>588996.1</td><td>-2191000</td><td>2511000</td><td>0</td><td>0</td><td>0</td></tr>\n",
       "\t<tr><th scope=row>2</th><td>68792</td><td>4.591249</td><td>-2587.330</td><td>4.4836812</td><td>-2612.724</td><td>208790.2</td><td>250334.0</td><td>2351</td><td>-2273383</td><td>2327082</td><td>⋯</td><td>Ferrier Peninsula</td><td>1014024</td><td>Snow Hill Island</td><td>142791.6</td><td>588996.1</td><td>-2186000</td><td>2511000</td><td>0</td><td>0</td><td>0</td></tr>\n",
       "\t<tr><th scope=row>3</th><td>68819</td><td>1.411659</td><td>-3014.080</td><td>1.5170590</td><td>-3024.577</td><td>200154.1</td><td>241050.2</td><td>2351</td><td>-2273383</td><td>2327082</td><td>⋯</td><td>Ferrier Peninsula</td><td>1007323</td><td>Snow Hill Island</td><td>138016.9</td><td>584654.8</td><td>-2196000</td><td>2506000</td><td>0</td><td>0</td><td>0</td></tr>\n",
       "\t<tr><th scope=row>4</th><td>68820</td><td>1.413779</td><td>-2920.630</td><td>0.7565953</td><td>-2930.036</td><td>202161.9</td><td>243501.3</td><td>2351</td><td>-2273383</td><td>2327082</td><td>⋯</td><td>Ferrier Peninsula</td><td>1008204</td><td>Snow Hill Island</td><td>138016.9</td><td>584654.8</td><td>-2191000</td><td>2506000</td><td>0</td><td>0</td><td>0</td></tr>\n",
       "\t<tr><th scope=row>5</th><td>68821</td><td>4.561732</td><td>-2686.220</td><td>4.5623317</td><td>-2716.875</td><td>204263.8</td><td>246029.6</td><td>2351</td><td>-2273383</td><td>2327082</td><td>⋯</td><td>Ferrier Peninsula</td><td>1009109</td><td>Snow Hill Island</td><td>138016.9</td><td>584654.8</td><td>-2186000</td><td>2506000</td><td>0</td><td>0</td><td>0</td></tr>\n",
       "\t<tr><th scope=row>6</th><td>68822</td><td>4.902608</td><td>-2264.930</td><td>5.1146288</td><td>-2277.257</td><td>206460.4</td><td>248632.8</td><td>2351</td><td>-2273383</td><td>2327082</td><td>⋯</td><td>Ferrier Peninsula</td><td>1010037</td><td>Snow Hill Island</td><td>138016.9</td><td>584654.8</td><td>-2181000</td><td>2506000</td><td>0</td><td>0</td><td>0</td></tr>\n",
       "</tbody>\n",
       "</table>\n"
      ],
      "text/latex": [
       "A data.frame: 6 × 22\n",
       "\\begin{tabular}{r|lllllllllllllllllllll}\n",
       "  & gridCellId & meanslope & meanbathy & slope & bathy & shoredist & glacierdist & nearLineId & near\\_x & near\\_y & ⋯ & adpecol & empedist & empecol & cont300dist & cont800dist & coords.x1 & coords.x2 & mdlCol & mdlIsl & hasMaps\\\\\n",
       "  & <int> & <dbl> & <dbl> & <dbl> & <dbl> & <dbl> & <dbl> & <dbl> & <dbl> & <dbl> & ⋯ & <fct> & <dbl> & <fct> & <dbl> & <dbl> & <dbl> & <dbl> & <dbl> & <dbl> & <dbl>\\\\\n",
       "\\hline\n",
       "\t1 & 68791 & 2.621992 & -2846.908 & 2.5563672 & -2864.911 & 206728.3 & 247849.6 & 2351 & -2273383 & 2327082 & ⋯ & Ferrier Peninsula & 1013124 & Snow Hill Island & 142791.6 & 588996.1 & -2191000 & 2511000 & 0 & 0 & 0\\\\\n",
       "\t2 & 68792 & 4.591249 & -2587.330 & 4.4836812 & -2612.724 & 208790.2 & 250334.0 & 2351 & -2273383 & 2327082 & ⋯ & Ferrier Peninsula & 1014024 & Snow Hill Island & 142791.6 & 588996.1 & -2186000 & 2511000 & 0 & 0 & 0\\\\\n",
       "\t3 & 68819 & 1.411659 & -3014.080 & 1.5170590 & -3024.577 & 200154.1 & 241050.2 & 2351 & -2273383 & 2327082 & ⋯ & Ferrier Peninsula & 1007323 & Snow Hill Island & 138016.9 & 584654.8 & -2196000 & 2506000 & 0 & 0 & 0\\\\\n",
       "\t4 & 68820 & 1.413779 & -2920.630 & 0.7565953 & -2930.036 & 202161.9 & 243501.3 & 2351 & -2273383 & 2327082 & ⋯ & Ferrier Peninsula & 1008204 & Snow Hill Island & 138016.9 & 584654.8 & -2191000 & 2506000 & 0 & 0 & 0\\\\\n",
       "\t5 & 68821 & 4.561732 & -2686.220 & 4.5623317 & -2716.875 & 204263.8 & 246029.6 & 2351 & -2273383 & 2327082 & ⋯ & Ferrier Peninsula & 1009109 & Snow Hill Island & 138016.9 & 584654.8 & -2186000 & 2506000 & 0 & 0 & 0\\\\\n",
       "\t6 & 68822 & 4.902608 & -2264.930 & 5.1146288 & -2277.257 & 206460.4 & 248632.8 & 2351 & -2273383 & 2327082 & ⋯ & Ferrier Peninsula & 1010037 & Snow Hill Island & 138016.9 & 584654.8 & -2181000 & 2506000 & 0 & 0 & 0\\\\\n",
       "\\end{tabular}\n"
      ],
      "text/markdown": [
       "\n",
       "A data.frame: 6 × 22\n",
       "\n",
       "| <!--/--> | gridCellId &lt;int&gt; | meanslope &lt;dbl&gt; | meanbathy &lt;dbl&gt; | slope &lt;dbl&gt; | bathy &lt;dbl&gt; | shoredist &lt;dbl&gt; | glacierdist &lt;dbl&gt; | nearLineId &lt;dbl&gt; | near_x &lt;dbl&gt; | near_y &lt;dbl&gt; | ⋯ ⋯ | adpecol &lt;fct&gt; | empedist &lt;dbl&gt; | empecol &lt;fct&gt; | cont300dist &lt;dbl&gt; | cont800dist &lt;dbl&gt; | coords.x1 &lt;dbl&gt; | coords.x2 &lt;dbl&gt; | mdlCol &lt;dbl&gt; | mdlIsl &lt;dbl&gt; | hasMaps &lt;dbl&gt; |\n",
       "|---|---|---|---|---|---|---|---|---|---|---|---|---|---|---|---|---|---|---|---|---|---|\n",
       "| 1 | 68791 | 2.621992 | -2846.908 | 2.5563672 | -2864.911 | 206728.3 | 247849.6 | 2351 | -2273383 | 2327082 | ⋯ | Ferrier Peninsula | 1013124 | Snow Hill Island | 142791.6 | 588996.1 | -2191000 | 2511000 | 0 | 0 | 0 |\n",
       "| 2 | 68792 | 4.591249 | -2587.330 | 4.4836812 | -2612.724 | 208790.2 | 250334.0 | 2351 | -2273383 | 2327082 | ⋯ | Ferrier Peninsula | 1014024 | Snow Hill Island | 142791.6 | 588996.1 | -2186000 | 2511000 | 0 | 0 | 0 |\n",
       "| 3 | 68819 | 1.411659 | -3014.080 | 1.5170590 | -3024.577 | 200154.1 | 241050.2 | 2351 | -2273383 | 2327082 | ⋯ | Ferrier Peninsula | 1007323 | Snow Hill Island | 138016.9 | 584654.8 | -2196000 | 2506000 | 0 | 0 | 0 |\n",
       "| 4 | 68820 | 1.413779 | -2920.630 | 0.7565953 | -2930.036 | 202161.9 | 243501.3 | 2351 | -2273383 | 2327082 | ⋯ | Ferrier Peninsula | 1008204 | Snow Hill Island | 138016.9 | 584654.8 | -2191000 | 2506000 | 0 | 0 | 0 |\n",
       "| 5 | 68821 | 4.561732 | -2686.220 | 4.5623317 | -2716.875 | 204263.8 | 246029.6 | 2351 | -2273383 | 2327082 | ⋯ | Ferrier Peninsula | 1009109 | Snow Hill Island | 138016.9 | 584654.8 | -2186000 | 2506000 | 0 | 0 | 0 |\n",
       "| 6 | 68822 | 4.902608 | -2264.930 | 5.1146288 | -2277.257 | 206460.4 | 248632.8 | 2351 | -2273383 | 2327082 | ⋯ | Ferrier Peninsula | 1010037 | Snow Hill Island | 138016.9 | 584654.8 | -2181000 | 2506000 | 0 | 0 | 0 |\n",
       "\n"
      ],
      "text/plain": [
       "  gridCellId meanslope meanbathy slope     bathy     shoredist glacierdist\n",
       "1 68791      2.621992  -2846.908 2.5563672 -2864.911 206728.3  247849.6   \n",
       "2 68792      4.591249  -2587.330 4.4836812 -2612.724 208790.2  250334.0   \n",
       "3 68819      1.411659  -3014.080 1.5170590 -3024.577 200154.1  241050.2   \n",
       "4 68820      1.413779  -2920.630 0.7565953 -2930.036 202161.9  243501.3   \n",
       "5 68821      4.561732  -2686.220 4.5623317 -2716.875 204263.8  246029.6   \n",
       "6 68822      4.902608  -2264.930 5.1146288 -2277.257 206460.4  248632.8   \n",
       "  nearLineId near_x   near_y  ⋯ adpecol           empedist empecol         \n",
       "1 2351       -2273383 2327082 ⋯ Ferrier Peninsula 1013124  Snow Hill Island\n",
       "2 2351       -2273383 2327082 ⋯ Ferrier Peninsula 1014024  Snow Hill Island\n",
       "3 2351       -2273383 2327082 ⋯ Ferrier Peninsula 1007323  Snow Hill Island\n",
       "4 2351       -2273383 2327082 ⋯ Ferrier Peninsula 1008204  Snow Hill Island\n",
       "5 2351       -2273383 2327082 ⋯ Ferrier Peninsula 1009109  Snow Hill Island\n",
       "6 2351       -2273383 2327082 ⋯ Ferrier Peninsula 1010037  Snow Hill Island\n",
       "  cont300dist cont800dist coords.x1 coords.x2 mdlCol mdlIsl hasMaps\n",
       "1 142791.6    588996.1    -2191000  2511000   0      0      0      \n",
       "2 142791.6    588996.1    -2186000  2511000   0      0      0      \n",
       "3 138016.9    584654.8    -2196000  2506000   0      0      0      \n",
       "4 138016.9    584654.8    -2191000  2506000   0      0      0      \n",
       "5 138016.9    584654.8    -2186000  2506000   0      0      0      \n",
       "6 138016.9    584654.8    -2181000  2506000   0      0      0      "
      ]
     },
     "metadata": {},
     "output_type": "display_data"
    },
    {
     "data": {
      "text/html": [
       "<style>\n",
       ".list-inline {list-style: none; margin:0; padding: 0}\n",
       ".list-inline>li {display: inline-block}\n",
       ".list-inline>li:not(:last-child)::after {content: \"\\00b7\"; padding: 0 .5ex}\n",
       "</style>\n",
       "<ol class=list-inline><li>'gridCellId'</li><li>'meanslope'</li><li>'meanbathy'</li><li>'slope'</li><li>'bathy'</li><li>'shoredist'</li><li>'glacierdist'</li><li>'nearLineId'</li><li>'near_x'</li><li>'near_y'</li><li>'distToShore'</li><li>'adpedist'</li><li>'adpecol'</li><li>'empedist'</li><li>'empecol'</li><li>'cont300dist'</li><li>'cont800dist'</li><li>'coords.x1'</li><li>'coords.x2'</li><li>'mdlCol'</li><li>'mdlIsl'</li><li>'hasMaps'</li></ol>\n"
      ],
      "text/latex": [
       "\\begin{enumerate*}\n",
       "\\item 'gridCellId'\n",
       "\\item 'meanslope'\n",
       "\\item 'meanbathy'\n",
       "\\item 'slope'\n",
       "\\item 'bathy'\n",
       "\\item 'shoredist'\n",
       "\\item 'glacierdist'\n",
       "\\item 'nearLineId'\n",
       "\\item 'near\\_x'\n",
       "\\item 'near\\_y'\n",
       "\\item 'distToShore'\n",
       "\\item 'adpedist'\n",
       "\\item 'adpecol'\n",
       "\\item 'empedist'\n",
       "\\item 'empecol'\n",
       "\\item 'cont300dist'\n",
       "\\item 'cont800dist'\n",
       "\\item 'coords.x1'\n",
       "\\item 'coords.x2'\n",
       "\\item 'mdlCol'\n",
       "\\item 'mdlIsl'\n",
       "\\item 'hasMaps'\n",
       "\\end{enumerate*}\n"
      ],
      "text/markdown": [
       "1. 'gridCellId'\n",
       "2. 'meanslope'\n",
       "3. 'meanbathy'\n",
       "4. 'slope'\n",
       "5. 'bathy'\n",
       "6. 'shoredist'\n",
       "7. 'glacierdist'\n",
       "8. 'nearLineId'\n",
       "9. 'near_x'\n",
       "10. 'near_y'\n",
       "11. 'distToShore'\n",
       "12. 'adpedist'\n",
       "13. 'adpecol'\n",
       "14. 'empedist'\n",
       "15. 'empecol'\n",
       "16. 'cont300dist'\n",
       "17. 'cont800dist'\n",
       "18. 'coords.x1'\n",
       "19. 'coords.x2'\n",
       "20. 'mdlCol'\n",
       "21. 'mdlIsl'\n",
       "22. 'hasMaps'\n",
       "\n",
       "\n"
      ],
      "text/plain": [
       " [1] \"gridCellId\"  \"meanslope\"   \"meanbathy\"   \"slope\"       \"bathy\"      \n",
       " [6] \"shoredist\"   \"glacierdist\" \"nearLineId\"  \"near_x\"      \"near_y\"     \n",
       "[11] \"distToShore\" \"adpedist\"    \"adpecol\"     \"empedist\"    \"empecol\"    \n",
       "[16] \"cont300dist\" \"cont800dist\" \"coords.x1\"   \"coords.x2\"   \"mdlCol\"     \n",
       "[21] \"mdlIsl\"      \"hasMaps\"    "
      ]
     },
     "metadata": {},
     "output_type": "display_data"
    }
   ],
   "source": [
    "libs<-c(\"ggplot2\",\"plyr\",\"dplyr\",\"sp\",\"rgeos\",\"raster\",\"rgdal\")\n",
    "lapply(libs, require, character.only = TRUE)\n",
    "pathToLocalGit<-\"/home/ubuntu/Workspace/ContinentalWESEestimates/\"\n",
    "\n",
    "## Load the source utility functions file\n",
    "source(file=paste0(pathToLocalGit,\"scripts/fitRegressionModels_functions.R\"))\n",
    "\n",
    "## load the WESE grid data\n",
    "load(file=paste0(pathToLocalGit,\"data/continentalWESE.RData\"))\n",
    "head(wesedf)\n",
    "names(wesedf)\n",
    "\n",
    "dataproj<-\"+proj=stere +lat_0=-90 +lat_ts=-71 +lon_0=0 +k=1 +x_0=0 +y_0=0 +datum=WGS84 +units=m +no_defs +ellps=WGS84 +towgs84=0,0,0\""
   ]
  },
  {
   "cell_type": "markdown",
   "metadata": {},
   "source": [
    "## Regresion analysis preliminaries"
   ]
  },
  {
   "cell_type": "markdown",
   "metadata": {},
   "source": [
    "The above tble (wesedf) is ready for fitting regression models, but first we will need the following:\n",
    "1. Be able to extend the attribution of the table with geospatial hypotheses (e.g., David's WESE zones vs. Michelle's WESE zones)\n",
    "2. Generate N samples of \"no-seal\" locations of identical size as the number of grid cells with WESE presence\n",
    "3. Be able to compute a linear model with the set of N bootstrap samples, and have it summarized for us\n",
    "  \n",
    "### On the above needs\n",
    "__Regarding #1__ it is done with the functions \"readShapeFile\" and \"attributeWithShape\". The first function reads the shape file into a spatial object and the second one uses information on the spatial object (e.g., David's WESE zones) into the data.  \n",
    "Here's an example to load a point shapefile, from an example copied into the repository's data folder:"
   ]
  },
  {
   "cell_type": "code",
   "execution_count": 105,
   "metadata": {},
   "outputs": [
    {
     "name": "stdout",
     "output_type": "stream",
     "text": [
      "OGR data source with driver: ESRI Shapefile \n",
      "Source: \"/home/ubuntu/Workspace/ContinentalWESEestimates/data/AntarcticRegions\", layer: \"Antarctic_Regions_WESE\"\n",
      "with 8 features\n",
      "It has 4 fields\n"
     ]
    },
    {
     "data": {
      "image/png": "[encoded data removed]",
      "text/plain": [
       "plot without title"
      ]
     },
     "metadata": {
      "image/png": {
       "height": 420,
       "width": 420
      },
      "text/plain": {
       "height": 420,
       "width": 420
      }
     },
     "output_type": "display_data"
    }
   ],
   "source": [
    "arWESE<-readShapeFile(pathToGit=pathToLocalGit,folderName=\"AntarcticRegions\",shapeName=\"Antarctic_Regions_WESE\")\n",
    "#folderName is the folder name in the workspace, and shapeName is the name of the .shp file\n",
    "plot(arWESE)"
   ]
  },
  {
   "cell_type": "markdown",
   "metadata": {},
   "source": [
    "We could (but we don't because this is a point shapefile, not a polygon shapefile) use the spatial object \"icebergs\" ploted above to attribute wesedf with some information in it. We can see the contents of \"icebergs\" with a head:"
   ]
  },
  {
   "cell_type": "code",
   "execution_count": 106,
   "metadata": {},
   "outputs": [
    {
     "data": {
      "text/html": [
       "<table>\n",
       "<caption>A data.frame: 6 × 4</caption>\n",
       "<thead>\n",
       "\t<tr><th></th><th scope=col>Id</th><th scope=col>RegionName</th><th scope=col>region</th><th scope=col>desc_</th></tr>\n",
       "\t<tr><th></th><th scope=col>&lt;int&gt;</th><th scope=col>&lt;fct&gt;</th><th scope=col>&lt;int&gt;</th><th scope=col>&lt;fct&gt;</th></tr>\n",
       "</thead>\n",
       "<tbody>\n",
       "\t<tr><th scope=row>0</th><td>0</td><td>Ross Sea             </td><td>1</td><td>Bathymetry, EMPE, ADPE, ice extent              </td></tr>\n",
       "\t<tr><th scope=row>1</th><td>0</td><td>Amundsen Sea         </td><td>2</td><td>ice extent, ice duration, ADPE                  </td></tr>\n",
       "\t<tr><th scope=row>2</th><td>0</td><td>Bellingshausen Sea   </td><td>3</td><td>ADPE, ice extent, ice duration                  </td></tr>\n",
       "\t<tr><th scope=row>3</th><td>0</td><td>Weddell Sea          </td><td>4</td><td>Bathymetry, EMPE, ADPE, ice extent, ice duration</td></tr>\n",
       "\t<tr><th scope=row>4</th><td>0</td><td>Queen Maud Land      </td><td>5</td><td>Bathymetry, EMPE, ADPE                          </td></tr>\n",
       "\t<tr><th scope=row>5</th><td>0</td><td>Southern Indian Ocean</td><td>6</td><td>Bathymetry, ADPE, ice duration                  </td></tr>\n",
       "</tbody>\n",
       "</table>\n"
      ],
      "text/latex": [
       "A data.frame: 6 × 4\n",
       "\\begin{tabular}{r|llll}\n",
       "  & Id & RegionName & region & desc\\_\\\\\n",
       "  & <int> & <fct> & <int> & <fct>\\\\\n",
       "\\hline\n",
       "\t0 & 0 & Ross Sea              & 1 & Bathymetry, EMPE, ADPE, ice extent              \\\\\n",
       "\t1 & 0 & Amundsen Sea          & 2 & ice extent, ice duration, ADPE                  \\\\\n",
       "\t2 & 0 & Bellingshausen Sea    & 3 & ADPE, ice extent, ice duration                  \\\\\n",
       "\t3 & 0 & Weddell Sea           & 4 & Bathymetry, EMPE, ADPE, ice extent, ice duration\\\\\n",
       "\t4 & 0 & Queen Maud Land       & 5 & Bathymetry, EMPE, ADPE                          \\\\\n",
       "\t5 & 0 & Southern Indian Ocean & 6 & Bathymetry, ADPE, ice duration                  \\\\\n",
       "\\end{tabular}\n"
      ],
      "text/markdown": [
       "\n",
       "A data.frame: 6 × 4\n",
       "\n",
       "| <!--/--> | Id &lt;int&gt; | RegionName &lt;fct&gt; | region &lt;int&gt; | desc_ &lt;fct&gt; |\n",
       "|---|---|---|---|---|\n",
       "| 0 | 0 | Ross Sea              | 1 | Bathymetry, EMPE, ADPE, ice extent               |\n",
       "| 1 | 0 | Amundsen Sea          | 2 | ice extent, ice duration, ADPE                   |\n",
       "| 2 | 0 | Bellingshausen Sea    | 3 | ADPE, ice extent, ice duration                   |\n",
       "| 3 | 0 | Weddell Sea           | 4 | Bathymetry, EMPE, ADPE, ice extent, ice duration |\n",
       "| 4 | 0 | Queen Maud Land       | 5 | Bathymetry, EMPE, ADPE                           |\n",
       "| 5 | 0 | Southern Indian Ocean | 6 | Bathymetry, ADPE, ice duration                   |\n",
       "\n"
      ],
      "text/plain": [
       "  Id RegionName            region\n",
       "0 0  Ross Sea              1     \n",
       "1 0  Amundsen Sea          2     \n",
       "2 0  Bellingshausen Sea    3     \n",
       "3 0  Weddell Sea           4     \n",
       "4 0  Queen Maud Land       5     \n",
       "5 0  Southern Indian Ocean 6     \n",
       "  desc_                                           \n",
       "0 Bathymetry, EMPE, ADPE, ice extent              \n",
       "1 ice extent, ice duration, ADPE                  \n",
       "2 ADPE, ice extent, ice duration                  \n",
       "3 Bathymetry, EMPE, ADPE, ice extent, ice duration\n",
       "4 Bathymetry, EMPE, ADPE                          \n",
       "5 Bathymetry, ADPE, ice duration                  "
      ]
     },
     "metadata": {},
     "output_type": "display_data"
    }
   ],
   "source": [
    "head(arWESE)"
   ]
  },
  {
   "cell_type": "markdown",
   "metadata": {},
   "source": [
    "So, we could attribute the wesedf table with the parameter \"place_name\", like so:"
   ]
  },
  {
   "cell_type": "code",
   "execution_count": 129,
   "metadata": {},
   "outputs": [],
   "source": [
    "wesedf2<-attributeWithShape(shpobj=arWESE,attribName=\"RegionName\",data=wesedf,datKey=\"gridCellId\",\n",
    "                              lonfld=\"coords.x1\",latfld=\"coords.x2\",dataproj=dataproj)"
   ]
  },
  {
   "cell_type": "markdown",
   "metadata": {},
   "source": [
    "The example shapefileAntarcticRegions did not go far north enough to cover the entire fast ice region, so about 1/5 of all grid cells did not get attributed with a region name. Unfortunately, some of those grid cells missing region attribution had seals."
   ]
  },
  {
   "cell_type": "code",
   "execution_count": 142,
   "metadata": {},
   "outputs": [
    {
     "data": {
      "text/html": [
       "<table>\n",
       "<caption>A data.frame: 6 × 23</caption>\n",
       "<thead>\n",
       "\t<tr><th></th><th scope=col>gridCellId</th><th scope=col>meanslope</th><th scope=col>meanbathy</th><th scope=col>slope</th><th scope=col>bathy</th><th scope=col>shoredist</th><th scope=col>glacierdist</th><th scope=col>nearLineId</th><th scope=col>near_x</th><th scope=col>near_y</th><th scope=col>⋯</th><th scope=col>empedist</th><th scope=col>empecol</th><th scope=col>cont300dist</th><th scope=col>cont800dist</th><th scope=col>coords.x1</th><th scope=col>coords.x2</th><th scope=col>mdlCol</th><th scope=col>mdlIsl</th><th scope=col>hasMaps</th><th scope=col>RegionName</th></tr>\n",
       "\t<tr><th></th><th scope=col>&lt;int&gt;</th><th scope=col>&lt;dbl&gt;</th><th scope=col>&lt;dbl&gt;</th><th scope=col>&lt;dbl&gt;</th><th scope=col>&lt;dbl&gt;</th><th scope=col>&lt;dbl&gt;</th><th scope=col>&lt;dbl&gt;</th><th scope=col>&lt;dbl&gt;</th><th scope=col>&lt;dbl&gt;</th><th scope=col>&lt;dbl&gt;</th><th scope=col>⋯</th><th scope=col>&lt;dbl&gt;</th><th scope=col>&lt;fct&gt;</th><th scope=col>&lt;dbl&gt;</th><th scope=col>&lt;dbl&gt;</th><th scope=col>&lt;dbl&gt;</th><th scope=col>&lt;dbl&gt;</th><th scope=col>&lt;dbl&gt;</th><th scope=col>&lt;dbl&gt;</th><th scope=col>&lt;dbl&gt;</th><th scope=col>&lt;fct&gt;</th></tr>\n",
       "</thead>\n",
       "<tbody>\n",
       "\t<tr><th scope=row>1</th><td>68791</td><td>2.621992</td><td>-2846.908</td><td>2.5563672</td><td>-2864.911</td><td>206728.3</td><td>247849.6</td><td>2351</td><td>-2273383</td><td>2327082</td><td>⋯</td><td>1013124</td><td>Snow Hill Island</td><td>142791.6</td><td>588996.1</td><td>-2191000</td><td>2511000</td><td>0</td><td>0</td><td>0</td><td>NA</td></tr>\n",
       "\t<tr><th scope=row>2</th><td>68792</td><td>4.591249</td><td>-2587.330</td><td>4.4836812</td><td>-2612.724</td><td>208790.2</td><td>250334.0</td><td>2351</td><td>-2273383</td><td>2327082</td><td>⋯</td><td>1014024</td><td>Snow Hill Island</td><td>142791.6</td><td>588996.1</td><td>-2186000</td><td>2511000</td><td>0</td><td>0</td><td>0</td><td>NA</td></tr>\n",
       "\t<tr><th scope=row>3</th><td>68819</td><td>1.411659</td><td>-3014.080</td><td>1.5170590</td><td>-3024.577</td><td>200154.1</td><td>241050.2</td><td>2351</td><td>-2273383</td><td>2327082</td><td>⋯</td><td>1007323</td><td>Snow Hill Island</td><td>138016.9</td><td>584654.8</td><td>-2196000</td><td>2506000</td><td>0</td><td>0</td><td>0</td><td>NA</td></tr>\n",
       "\t<tr><th scope=row>4</th><td>68820</td><td>1.413779</td><td>-2920.630</td><td>0.7565953</td><td>-2930.036</td><td>202161.9</td><td>243501.3</td><td>2351</td><td>-2273383</td><td>2327082</td><td>⋯</td><td>1008204</td><td>Snow Hill Island</td><td>138016.9</td><td>584654.8</td><td>-2191000</td><td>2506000</td><td>0</td><td>0</td><td>0</td><td>NA</td></tr>\n",
       "\t<tr><th scope=row>5</th><td>68821</td><td>4.561732</td><td>-2686.220</td><td>4.5623317</td><td>-2716.875</td><td>204263.8</td><td>246029.6</td><td>2351</td><td>-2273383</td><td>2327082</td><td>⋯</td><td>1009109</td><td>Snow Hill Island</td><td>138016.9</td><td>584654.8</td><td>-2186000</td><td>2506000</td><td>0</td><td>0</td><td>0</td><td>NA</td></tr>\n",
       "\t<tr><th scope=row>6</th><td>68822</td><td>4.902608</td><td>-2264.930</td><td>5.1146288</td><td>-2277.257</td><td>206460.4</td><td>248632.8</td><td>2351</td><td>-2273383</td><td>2327082</td><td>⋯</td><td>1010037</td><td>Snow Hill Island</td><td>138016.9</td><td>584654.8</td><td>-2181000</td><td>2506000</td><td>0</td><td>0</td><td>0</td><td>NA</td></tr>\n",
       "</tbody>\n",
       "</table>\n"
      ],
      "text/latex": [
       "A data.frame: 6 × 23\n",
       "\\begin{tabular}{r|lllllllllllllllllllll}\n",
       "  & gridCellId & meanslope & meanbathy & slope & bathy & shoredist & glacierdist & nearLineId & near\\_x & near\\_y & ⋯ & empedist & empecol & cont300dist & cont800dist & coords.x1 & coords.x2 & mdlCol & mdlIsl & hasMaps & RegionName\\\\\n",
       "  & <int> & <dbl> & <dbl> & <dbl> & <dbl> & <dbl> & <dbl> & <dbl> & <dbl> & <dbl> & ⋯ & <dbl> & <fct> & <dbl> & <dbl> & <dbl> & <dbl> & <dbl> & <dbl> & <dbl> & <fct>\\\\\n",
       "\\hline\n",
       "\t1 & 68791 & 2.621992 & -2846.908 & 2.5563672 & -2864.911 & 206728.3 & 247849.6 & 2351 & -2273383 & 2327082 & ⋯ & 1013124 & Snow Hill Island & 142791.6 & 588996.1 & -2191000 & 2511000 & 0 & 0 & 0 & NA\\\\\n",
       "\t2 & 68792 & 4.591249 & -2587.330 & 4.4836812 & -2612.724 & 208790.2 & 250334.0 & 2351 & -2273383 & 2327082 & ⋯ & 1014024 & Snow Hill Island & 142791.6 & 588996.1 & -2186000 & 2511000 & 0 & 0 & 0 & NA\\\\\n",
       "\t3 & 68819 & 1.411659 & -3014.080 & 1.5170590 & -3024.577 & 200154.1 & 241050.2 & 2351 & -2273383 & 2327082 & ⋯ & 1007323 & Snow Hill Island & 138016.9 & 584654.8 & -2196000 & 2506000 & 0 & 0 & 0 & NA\\\\\n",
       "\t4 & 68820 & 1.413779 & -2920.630 & 0.7565953 & -2930.036 & 202161.9 & 243501.3 & 2351 & -2273383 & 2327082 & ⋯ & 1008204 & Snow Hill Island & 138016.9 & 584654.8 & -2191000 & 2506000 & 0 & 0 & 0 & NA\\\\\n",
       "\t5 & 68821 & 4.561732 & -2686.220 & 4.5623317 & -2716.875 & 204263.8 & 246029.6 & 2351 & -2273383 & 2327082 & ⋯ & 1009109 & Snow Hill Island & 138016.9 & 584654.8 & -2186000 & 2506000 & 0 & 0 & 0 & NA\\\\\n",
       "\t6 & 68822 & 4.902608 & -2264.930 & 5.1146288 & -2277.257 & 206460.4 & 248632.8 & 2351 & -2273383 & 2327082 & ⋯ & 1010037 & Snow Hill Island & 138016.9 & 584654.8 & -2181000 & 2506000 & 0 & 0 & 0 & NA\\\\\n",
       "\\end{tabular}\n"
      ],
      "text/markdown": [
       "\n",
       "A data.frame: 6 × 23\n",
       "\n",
       "| <!--/--> | gridCellId &lt;int&gt; | meanslope &lt;dbl&gt; | meanbathy &lt;dbl&gt; | slope &lt;dbl&gt; | bathy &lt;dbl&gt; | shoredist &lt;dbl&gt; | glacierdist &lt;dbl&gt; | nearLineId &lt;dbl&gt; | near_x &lt;dbl&gt; | near_y &lt;dbl&gt; | ⋯ ⋯ | empedist &lt;dbl&gt; | empecol &lt;fct&gt; | cont300dist &lt;dbl&gt; | cont800dist &lt;dbl&gt; | coords.x1 &lt;dbl&gt; | coords.x2 &lt;dbl&gt; | mdlCol &lt;dbl&gt; | mdlIsl &lt;dbl&gt; | hasMaps &lt;dbl&gt; | RegionName &lt;fct&gt; |\n",
       "|---|---|---|---|---|---|---|---|---|---|---|---|---|---|---|---|---|---|---|---|---|---|\n",
       "| 1 | 68791 | 2.621992 | -2846.908 | 2.5563672 | -2864.911 | 206728.3 | 247849.6 | 2351 | -2273383 | 2327082 | ⋯ | 1013124 | Snow Hill Island | 142791.6 | 588996.1 | -2191000 | 2511000 | 0 | 0 | 0 | NA |\n",
       "| 2 | 68792 | 4.591249 | -2587.330 | 4.4836812 | -2612.724 | 208790.2 | 250334.0 | 2351 | -2273383 | 2327082 | ⋯ | 1014024 | Snow Hill Island | 142791.6 | 588996.1 | -2186000 | 2511000 | 0 | 0 | 0 | NA |\n",
       "| 3 | 68819 | 1.411659 | -3014.080 | 1.5170590 | -3024.577 | 200154.1 | 241050.2 | 2351 | -2273383 | 2327082 | ⋯ | 1007323 | Snow Hill Island | 138016.9 | 584654.8 | -2196000 | 2506000 | 0 | 0 | 0 | NA |\n",
       "| 4 | 68820 | 1.413779 | -2920.630 | 0.7565953 | -2930.036 | 202161.9 | 243501.3 | 2351 | -2273383 | 2327082 | ⋯ | 1008204 | Snow Hill Island | 138016.9 | 584654.8 | -2191000 | 2506000 | 0 | 0 | 0 | NA |\n",
       "| 5 | 68821 | 4.561732 | -2686.220 | 4.5623317 | -2716.875 | 204263.8 | 246029.6 | 2351 | -2273383 | 2327082 | ⋯ | 1009109 | Snow Hill Island | 138016.9 | 584654.8 | -2186000 | 2506000 | 0 | 0 | 0 | NA |\n",
       "| 6 | 68822 | 4.902608 | -2264.930 | 5.1146288 | -2277.257 | 206460.4 | 248632.8 | 2351 | -2273383 | 2327082 | ⋯ | 1010037 | Snow Hill Island | 138016.9 | 584654.8 | -2181000 | 2506000 | 0 | 0 | 0 | NA |\n",
       "\n"
      ],
      "text/plain": [
       "  gridCellId meanslope meanbathy slope     bathy     shoredist glacierdist\n",
       "1 68791      2.621992  -2846.908 2.5563672 -2864.911 206728.3  247849.6   \n",
       "2 68792      4.591249  -2587.330 4.4836812 -2612.724 208790.2  250334.0   \n",
       "3 68819      1.411659  -3014.080 1.5170590 -3024.577 200154.1  241050.2   \n",
       "4 68820      1.413779  -2920.630 0.7565953 -2930.036 202161.9  243501.3   \n",
       "5 68821      4.561732  -2686.220 4.5623317 -2716.875 204263.8  246029.6   \n",
       "6 68822      4.902608  -2264.930 5.1146288 -2277.257 206460.4  248632.8   \n",
       "  nearLineId near_x   near_y  ⋯ empedist empecol          cont300dist\n",
       "1 2351       -2273383 2327082 ⋯ 1013124  Snow Hill Island 142791.6   \n",
       "2 2351       -2273383 2327082 ⋯ 1014024  Snow Hill Island 142791.6   \n",
       "3 2351       -2273383 2327082 ⋯ 1007323  Snow Hill Island 138016.9   \n",
       "4 2351       -2273383 2327082 ⋯ 1008204  Snow Hill Island 138016.9   \n",
       "5 2351       -2273383 2327082 ⋯ 1009109  Snow Hill Island 138016.9   \n",
       "6 2351       -2273383 2327082 ⋯ 1010037  Snow Hill Island 138016.9   \n",
       "  cont800dist coords.x1 coords.x2 mdlCol mdlIsl hasMaps RegionName\n",
       "1 588996.1    -2191000  2511000   0      0      0       NA        \n",
       "2 588996.1    -2186000  2511000   0      0      0       NA        \n",
       "3 584654.8    -2196000  2506000   0      0      0       NA        \n",
       "4 584654.8    -2191000  2506000   0      0      0       NA        \n",
       "5 584654.8    -2186000  2506000   0      0      0       NA        \n",
       "6 584654.8    -2181000  2506000   0      0      0       NA        "
      ]
     },
     "metadata": {},
     "output_type": "display_data"
    },
    {
     "name": "stdout",
     "output_type": "stream",
     "text": [
      "             RegionName Num.Cells\n",
      "1          Amundsen Sea     16439\n",
      "2    Bellingshausen Sea     19733\n",
      "3       East Antarctica     21881\n",
      "4         French Sector     24329\n",
      "5       Queen Maud Land     20534\n",
      "6              Ross Sea     21344\n",
      "7 Southern Indian Ocean     14422\n",
      "8           Weddell Sea     39575\n"
     ]
    },
    {
     "data": {
      "text/html": [
       "49250"
      ],
      "text/latex": [
       "49250"
      ],
      "text/markdown": [
       "49250"
      ],
      "text/plain": [
       "[1] 49250"
      ]
     },
     "metadata": {},
     "output_type": "display_data"
    },
    {
     "data": {
      "text/html": [
       "180"
      ],
      "text/latex": [
       "180"
      ],
      "text/markdown": [
       "180"
      ],
      "text/plain": [
       "[1] 180"
      ]
     },
     "metadata": {},
     "output_type": "display_data"
    }
   ],
   "source": [
    "head(wesedf2)    #see the data\n",
    "aa<-aggregate(gridCellId~RegionName,wesedf2,NROW)\n",
    "    names(aa)<-c(\"RegionName\",\"Num.Cells\"); print(aa)    #count number of grid cells per region\n",
    "sum(is.na(wesedf2$RegionName))    #How many grid cells without region attribution\n",
    "sum(is.na(wesedf2$RegionName) & wesedf2$mdlCol>0)   #How many grid cells without a region yet with WESE?"
   ]
  },
  {
   "cell_type": "markdown",
   "metadata": {},
   "source": [
    "__ATTENTION:__ AntarcticRegions is a BAD attribute, as it does not cover the entirety of our study area. DO NOT use in our regression models."
   ]
  },
  {
   "cell_type": "markdown",
   "metadata": {},
   "source": [
    "## Attributing with canyons and troughs data ##\n",
    "We use the above function to attribute the data with the canyons and glacial troughs data from Jarrod Santora.  \n",
    "IMPORTANT: we are adding Canyon_ID (i.e., the ID of the canyon), InCanyon (binary to say the grid cell is on a canyon), canyonLength, canyonWidth, and canyonMeanDepth. We are also adding gtID (i.e., the ID of the glacial through), InTrough (binary), and troughArea (the area of the glacial trough) for each grid cell that is on top of a trough. Cells not on trough or canyons get NA for the numeric values, and 0 for the InCanyon or InTrough fields."
   ]
  },
  {
   "cell_type": "code",
   "execution_count": 149,
   "metadata": {},
   "outputs": [
    {
     "name": "stdout",
     "output_type": "stream",
     "text": [
      "OGR data source with driver: ESRI Shapefile \n",
      "Source: \"/home/ubuntu/Workspace/ContinentalWESEestimates/data/CanyonsTroughs\", layer: \"Canyons\"\n",
      "with 800 features\n",
      "It has 11 fields\n",
      "OGR data source with driver: ESRI Shapefile \n",
      "Source: \"/home/ubuntu/Workspace/ContinentalWESEestimates/data/CanyonsTroughs\", layer: \"Glacial_Trough\"\n",
      "with 64 features\n",
      "It has 3 fields\n"
     ]
    }
   ],
   "source": [
    "canyons<-readShapeFile(pathToGit=pathToLocalGit,folderName=\"CanyonsTroughs\",shapeName=\"Canyons\")\n",
    "troughs<-readShapeFile(pathToGit=pathToLocalGit,folderName=\"CanyonsTroughs\",shapeName=\"Glacial_Trough\")\n",
    "troughs$gtID<-paste0(\"gtID_\",1:nrow(troughs))\n",
    "\n",
    "wesedf2<-attributeWithShape(shpobj=canyons,attribName=\"Canyon_ID\",data=wesedf2,datKey=\"gridCellId\",\n",
    "                              lonfld=\"coords.x1\",latfld=\"coords.x2\",dataproj=dataproj)\n",
    "wesedf2$InCanyon<-ifelse(is.na(wesedf2$Canyon_ID),0,1)\n",
    "wesedf2<-attributeWithShape(shpobj=canyons,attribName=\"Length\",data=wesedf2,datKey=\"gridCellId\",\n",
    "                              lonfld=\"coords.x1\",latfld=\"coords.x2\",dataproj=dataproj)\n",
    "names(wesedf2)<-gsub(\"Length\",\"canyonLength\",names(wesedf2))\n",
    "wesedf2<-attributeWithShape(shpobj=canyons,attribName=\"Width\",data=wesedf2,datKey=\"gridCellId\",\n",
    "                              lonfld=\"coords.x1\",latfld=\"coords.x2\",dataproj=dataproj)\n",
    "names(wesedf2)<-gsub(\"Width\",\"canyonWidth\",names(wesedf2))\n",
    "wesedf2<-attributeWithShape(shpobj=canyons,attribName=\"Mean_Depth\",data=wesedf2,datKey=\"gridCellId\",\n",
    "                              lonfld=\"coords.x1\",latfld=\"coords.x2\",dataproj=dataproj)\n",
    "names(wesedf2)<-gsub(\"Mean_Depth\",\"canyonMeanDepth\",names(wesedf2))\n",
    "\n",
    "wesedf2<-attributeWithShape(shpobj=troughs,attribName=\"gtID\",data=wesedf2,datKey=\"gridCellId\",\n",
    "                              lonfld=\"coords.x1\",latfld=\"coords.x2\",dataproj=dataproj)\n",
    "wesedf2$InTrough<-ifelse(is.na(wesedf2$gtID),0,1)\n",
    "wesedf2<-attributeWithShape(shpobj=troughs,attribName=\"area_km2\",data=wesedf2,datKey=\"gridCellId\",\n",
    "                              lonfld=\"coords.x1\",latfld=\"coords.x2\",dataproj=dataproj)\n",
    "names(wesedf2)<-gsub(\"area_km2\",\"troughArea\",names(wesedf2))\n"
   ]
  },
  {
   "cell_type": "code",
   "execution_count": 153,
   "metadata": {},
   "outputs": [
    {
     "data": {
      "text/html": [
       "<table>\n",
       "<caption>A data.frame: 6 × 31</caption>\n",
       "<thead>\n",
       "\t<tr><th></th><th scope=col>gridCellId</th><th scope=col>meanslope</th><th scope=col>meanbathy</th><th scope=col>slope</th><th scope=col>bathy</th><th scope=col>shoredist</th><th scope=col>glacierdist</th><th scope=col>nearLineId</th><th scope=col>near_x</th><th scope=col>near_y</th><th scope=col>⋯</th><th scope=col>hasMaps</th><th scope=col>RegionName</th><th scope=col>Canyon_ID</th><th scope=col>InCanyon</th><th scope=col>canyonLength</th><th scope=col>canyonWidth</th><th scope=col>canyonMeanDepth</th><th scope=col>gtID</th><th scope=col>InTrough</th><th scope=col>troughArea</th></tr>\n",
       "\t<tr><th></th><th scope=col>&lt;int&gt;</th><th scope=col>&lt;dbl&gt;</th><th scope=col>&lt;dbl&gt;</th><th scope=col>&lt;dbl&gt;</th><th scope=col>&lt;dbl&gt;</th><th scope=col>&lt;dbl&gt;</th><th scope=col>&lt;dbl&gt;</th><th scope=col>&lt;dbl&gt;</th><th scope=col>&lt;dbl&gt;</th><th scope=col>&lt;dbl&gt;</th><th scope=col>⋯</th><th scope=col>&lt;dbl&gt;</th><th scope=col>&lt;fct&gt;</th><th scope=col>&lt;fct&gt;</th><th scope=col>&lt;dbl&gt;</th><th scope=col>&lt;dbl&gt;</th><th scope=col>&lt;dbl&gt;</th><th scope=col>&lt;dbl&gt;</th><th scope=col>&lt;chr&gt;</th><th scope=col>&lt;dbl&gt;</th><th scope=col>&lt;dbl&gt;</th></tr>\n",
       "</thead>\n",
       "<tbody>\n",
       "\t<tr><th scope=row>1</th><td>68791</td><td>2.621992</td><td>-2846.908</td><td>2.5563672</td><td>-2864.911</td><td>206728.3</td><td>247849.6</td><td>2351</td><td>-2273383</td><td>2327082</td><td>⋯</td><td>0</td><td>NA</td><td>NA</td><td>0</td><td>NA</td><td>NA</td><td>NA</td><td>NA</td><td>0</td><td>NA</td></tr>\n",
       "\t<tr><th scope=row>2</th><td>68792</td><td>4.591249</td><td>-2587.330</td><td>4.4836812</td><td>-2612.724</td><td>208790.2</td><td>250334.0</td><td>2351</td><td>-2273383</td><td>2327082</td><td>⋯</td><td>0</td><td>NA</td><td>NA</td><td>0</td><td>NA</td><td>NA</td><td>NA</td><td>NA</td><td>0</td><td>NA</td></tr>\n",
       "\t<tr><th scope=row>3</th><td>68819</td><td>1.411659</td><td>-3014.080</td><td>1.5170590</td><td>-3024.577</td><td>200154.1</td><td>241050.2</td><td>2351</td><td>-2273383</td><td>2327082</td><td>⋯</td><td>0</td><td>NA</td><td>NA</td><td>0</td><td>NA</td><td>NA</td><td>NA</td><td>NA</td><td>0</td><td>NA</td></tr>\n",
       "\t<tr><th scope=row>4</th><td>68820</td><td>1.413779</td><td>-2920.630</td><td>0.7565953</td><td>-2930.036</td><td>202161.9</td><td>243501.3</td><td>2351</td><td>-2273383</td><td>2327082</td><td>⋯</td><td>0</td><td>NA</td><td>NA</td><td>0</td><td>NA</td><td>NA</td><td>NA</td><td>NA</td><td>0</td><td>NA</td></tr>\n",
       "\t<tr><th scope=row>5</th><td>68821</td><td>4.561732</td><td>-2686.220</td><td>4.5623317</td><td>-2716.875</td><td>204263.8</td><td>246029.6</td><td>2351</td><td>-2273383</td><td>2327082</td><td>⋯</td><td>0</td><td>NA</td><td>NA</td><td>0</td><td>NA</td><td>NA</td><td>NA</td><td>NA</td><td>0</td><td>NA</td></tr>\n",
       "\t<tr><th scope=row>6</th><td>68822</td><td>4.902608</td><td>-2264.930</td><td>5.1146288</td><td>-2277.257</td><td>206460.4</td><td>248632.8</td><td>2351</td><td>-2273383</td><td>2327082</td><td>⋯</td><td>0</td><td>NA</td><td>NA</td><td>0</td><td>NA</td><td>NA</td><td>NA</td><td>NA</td><td>0</td><td>NA</td></tr>\n",
       "</tbody>\n",
       "</table>\n"
      ],
      "text/latex": [
       "A data.frame: 6 × 31\n",
       "\\begin{tabular}{r|lllllllllllllllllllll}\n",
       "  & gridCellId & meanslope & meanbathy & slope & bathy & shoredist & glacierdist & nearLineId & near\\_x & near\\_y & ⋯ & hasMaps & RegionName & Canyon\\_ID & InCanyon & canyonLength & canyonWidth & canyonMeanDepth & gtID & InTrough & troughArea\\\\\n",
       "  & <int> & <dbl> & <dbl> & <dbl> & <dbl> & <dbl> & <dbl> & <dbl> & <dbl> & <dbl> & ⋯ & <dbl> & <fct> & <fct> & <dbl> & <dbl> & <dbl> & <dbl> & <chr> & <dbl> & <dbl>\\\\\n",
       "\\hline\n",
       "\t1 & 68791 & 2.621992 & -2846.908 & 2.5563672 & -2864.911 & 206728.3 & 247849.6 & 2351 & -2273383 & 2327082 & ⋯ & 0 & NA & NA & 0 & NA & NA & NA & NA & 0 & NA\\\\\n",
       "\t2 & 68792 & 4.591249 & -2587.330 & 4.4836812 & -2612.724 & 208790.2 & 250334.0 & 2351 & -2273383 & 2327082 & ⋯ & 0 & NA & NA & 0 & NA & NA & NA & NA & 0 & NA\\\\\n",
       "\t3 & 68819 & 1.411659 & -3014.080 & 1.5170590 & -3024.577 & 200154.1 & 241050.2 & 2351 & -2273383 & 2327082 & ⋯ & 0 & NA & NA & 0 & NA & NA & NA & NA & 0 & NA\\\\\n",
       "\t4 & 68820 & 1.413779 & -2920.630 & 0.7565953 & -2930.036 & 202161.9 & 243501.3 & 2351 & -2273383 & 2327082 & ⋯ & 0 & NA & NA & 0 & NA & NA & NA & NA & 0 & NA\\\\\n",
       "\t5 & 68821 & 4.561732 & -2686.220 & 4.5623317 & -2716.875 & 204263.8 & 246029.6 & 2351 & -2273383 & 2327082 & ⋯ & 0 & NA & NA & 0 & NA & NA & NA & NA & 0 & NA\\\\\n",
       "\t6 & 68822 & 4.902608 & -2264.930 & 5.1146288 & -2277.257 & 206460.4 & 248632.8 & 2351 & -2273383 & 2327082 & ⋯ & 0 & NA & NA & 0 & NA & NA & NA & NA & 0 & NA\\\\\n",
       "\\end{tabular}\n"
      ],
      "text/markdown": [
       "\n",
       "A data.frame: 6 × 31\n",
       "\n",
       "| <!--/--> | gridCellId &lt;int&gt; | meanslope &lt;dbl&gt; | meanbathy &lt;dbl&gt; | slope &lt;dbl&gt; | bathy &lt;dbl&gt; | shoredist &lt;dbl&gt; | glacierdist &lt;dbl&gt; | nearLineId &lt;dbl&gt; | near_x &lt;dbl&gt; | near_y &lt;dbl&gt; | ⋯ ⋯ | hasMaps &lt;dbl&gt; | RegionName &lt;fct&gt; | Canyon_ID &lt;fct&gt; | InCanyon &lt;dbl&gt; | canyonLength &lt;dbl&gt; | canyonWidth &lt;dbl&gt; | canyonMeanDepth &lt;dbl&gt; | gtID &lt;chr&gt; | InTrough &lt;dbl&gt; | troughArea &lt;dbl&gt; |\n",
       "|---|---|---|---|---|---|---|---|---|---|---|---|---|---|---|---|---|---|---|---|---|---|\n",
       "| 1 | 68791 | 2.621992 | -2846.908 | 2.5563672 | -2864.911 | 206728.3 | 247849.6 | 2351 | -2273383 | 2327082 | ⋯ | 0 | NA | NA | 0 | NA | NA | NA | NA | 0 | NA |\n",
       "| 2 | 68792 | 4.591249 | -2587.330 | 4.4836812 | -2612.724 | 208790.2 | 250334.0 | 2351 | -2273383 | 2327082 | ⋯ | 0 | NA | NA | 0 | NA | NA | NA | NA | 0 | NA |\n",
       "| 3 | 68819 | 1.411659 | -3014.080 | 1.5170590 | -3024.577 | 200154.1 | 241050.2 | 2351 | -2273383 | 2327082 | ⋯ | 0 | NA | NA | 0 | NA | NA | NA | NA | 0 | NA |\n",
       "| 4 | 68820 | 1.413779 | -2920.630 | 0.7565953 | -2930.036 | 202161.9 | 243501.3 | 2351 | -2273383 | 2327082 | ⋯ | 0 | NA | NA | 0 | NA | NA | NA | NA | 0 | NA |\n",
       "| 5 | 68821 | 4.561732 | -2686.220 | 4.5623317 | -2716.875 | 204263.8 | 246029.6 | 2351 | -2273383 | 2327082 | ⋯ | 0 | NA | NA | 0 | NA | NA | NA | NA | 0 | NA |\n",
       "| 6 | 68822 | 4.902608 | -2264.930 | 5.1146288 | -2277.257 | 206460.4 | 248632.8 | 2351 | -2273383 | 2327082 | ⋯ | 0 | NA | NA | 0 | NA | NA | NA | NA | 0 | NA |\n",
       "\n"
      ],
      "text/plain": [
       "  gridCellId meanslope meanbathy slope     bathy     shoredist glacierdist\n",
       "1 68791      2.621992  -2846.908 2.5563672 -2864.911 206728.3  247849.6   \n",
       "2 68792      4.591249  -2587.330 4.4836812 -2612.724 208790.2  250334.0   \n",
       "3 68819      1.411659  -3014.080 1.5170590 -3024.577 200154.1  241050.2   \n",
       "4 68820      1.413779  -2920.630 0.7565953 -2930.036 202161.9  243501.3   \n",
       "5 68821      4.561732  -2686.220 4.5623317 -2716.875 204263.8  246029.6   \n",
       "6 68822      4.902608  -2264.930 5.1146288 -2277.257 206460.4  248632.8   \n",
       "  nearLineId near_x   near_y  ⋯ hasMaps RegionName Canyon_ID InCanyon\n",
       "1 2351       -2273383 2327082 ⋯ 0       NA         NA        0       \n",
       "2 2351       -2273383 2327082 ⋯ 0       NA         NA        0       \n",
       "3 2351       -2273383 2327082 ⋯ 0       NA         NA        0       \n",
       "4 2351       -2273383 2327082 ⋯ 0       NA         NA        0       \n",
       "5 2351       -2273383 2327082 ⋯ 0       NA         NA        0       \n",
       "6 2351       -2273383 2327082 ⋯ 0       NA         NA        0       \n",
       "  canyonLength canyonWidth canyonMeanDepth gtID InTrough troughArea\n",
       "1 NA           NA          NA              NA   0        NA        \n",
       "2 NA           NA          NA              NA   0        NA        \n",
       "3 NA           NA          NA              NA   0        NA        \n",
       "4 NA           NA          NA              NA   0        NA        \n",
       "5 NA           NA          NA              NA   0        NA        \n",
       "6 NA           NA          NA              NA   0        NA        "
      ]
     },
     "metadata": {},
     "output_type": "display_data"
    },
    {
     "data": {
      "text/html": [
       "16282"
      ],
      "text/latex": [
       "16282"
      ],
      "text/markdown": [
       "16282"
      ],
      "text/plain": [
       "[1] 16282"
      ]
     },
     "metadata": {},
     "output_type": "display_data"
    },
    {
     "data": {
      "text/html": [
       "40791"
      ],
      "text/latex": [
       "40791"
      ],
      "text/markdown": [
       "40791"
      ],
      "text/plain": [
       "[1] 40791"
      ]
     },
     "metadata": {},
     "output_type": "display_data"
    }
   ],
   "source": [
    "head(wesedf2); sum(!is.na(wesedf2$Canyon_ID)); sum(!is.na(wesedf2$gtID))"
   ]
  },
  {
   "cell_type": "markdown",
   "metadata": {},
   "source": [
    "# Export a copy of the data but only for the Weddell Sea"
   ]
  },
  {
   "cell_type": "markdown",
   "metadata": {},
   "source": [
    "This is for Mia (DELETE WHEN DONE)"
   ]
  },
  {
   "cell_type": "code",
   "execution_count": 162,
   "metadata": {},
   "outputs": [
    {
     "data": {
      "text/html": [
       "36647"
      ],
      "text/latex": [
       "36647"
      ],
      "text/markdown": [
       "36647"
      ],
      "text/plain": [
       "[1] 36647"
      ]
     },
     "metadata": {},
     "output_type": "display_data"
    },
    {
     "data": {
      "text/html": [
       "202"
      ],
      "text/latex": [
       "202"
      ],
      "text/markdown": [
       "202"
      ],
      "text/plain": [
       "[1] 202"
      ]
     },
     "metadata": {},
     "output_type": "display_data"
    }
   ],
   "source": [
    "weddellSeaData<-getWeddellSeaData(wesedf2)\n",
    "nrow(weddellSeaData)\n",
    "sum(weddellSeaData$presence>0)\n",
    "save(weddellSeaData,file=paste0(pathToLocalGit,\"data/weddellSeaData.RData\"))"
   ]
  },
  {
   "cell_type": "markdown",
   "metadata": {},
   "source": [
    "Note that only 12,282 cells have canyon attribution, and only 40,791 have glacial trough attribution.\n",
    "\n",
    "__Regarding #2__ we use the function \"bootSampleWESEdata\". This function by default generates 100 bootstrap samples (but change with the parameter \"nsamples\") and returns a list object. Each element of the list is one of the samples. Each sample is a table like wesedf, but it contains an equal number of grids with seals and no seals.  \n",
    "  \n",
    "The wesedf table has a column called \"hasMaps\" to indicate cells with maps, even if these wereeventually estimated to have 0 seals. The function \"bootSampleWESEdata\" can treat these as if they had no seals, or as if they did. You may indicate the behavior with the parameter \"hasMapsBehavior\". Set the parameter to 0 (this is the default behavior) to treat these cells as if there are no seals there, or 1 otherwise.\n",
    "\n",
    "Additionally, we my want to stratify the sample by bins of any one or two (but no more) of the variables in wesedf. To do so, we use the parameter \"strtifyByClusters\". This parameter is a number between 2 and 5. The function will find clusters in the covariate space in the data, then assign each record to one of these clusters, and it will then stratify the random sample such that it includes an even number of values in each of the clusters.  \n",
    "\n",
    "Lastly, the function can also return an ensemble of data converted to presence-absence. Again, if a grid with maps is considered to have seals (i.e., hasMapsBehavior=1), then it will be assigned presence = 1.\n",
    "\n",
    "Here's an example on how to create an ensemble of abundance (no clustering, just normal random sampling):"
   ]
  },
  {
   "cell_type": "code",
   "execution_count": 147,
   "metadata": {},
   "outputs": [
    {
     "data": {
      "text/html": [
       "<table>\n",
       "<caption>A data.frame: 6 × 23</caption>\n",
       "<thead>\n",
       "\t<tr><th></th><th scope=col>gridCellId</th><th scope=col>meanslope</th><th scope=col>meanbathy</th><th scope=col>slope</th><th scope=col>bathy</th><th scope=col>shoredist</th><th scope=col>glacierdist</th><th scope=col>nearLineId</th><th scope=col>near_x</th><th scope=col>near_y</th><th scope=col>⋯</th><th scope=col>empedist</th><th scope=col>empecol</th><th scope=col>cont300dist</th><th scope=col>cont800dist</th><th scope=col>coords.x1</th><th scope=col>coords.x2</th><th scope=col>abundance</th><th scope=col>mdlIsl</th><th scope=col>hasMaps</th><th scope=col>RegionName</th></tr>\n",
       "\t<tr><th></th><th scope=col>&lt;int&gt;</th><th scope=col>&lt;dbl&gt;</th><th scope=col>&lt;dbl&gt;</th><th scope=col>&lt;dbl&gt;</th><th scope=col>&lt;dbl&gt;</th><th scope=col>&lt;dbl&gt;</th><th scope=col>&lt;dbl&gt;</th><th scope=col>&lt;dbl&gt;</th><th scope=col>&lt;dbl&gt;</th><th scope=col>&lt;dbl&gt;</th><th scope=col>⋯</th><th scope=col>&lt;dbl&gt;</th><th scope=col>&lt;fct&gt;</th><th scope=col>&lt;dbl&gt;</th><th scope=col>&lt;dbl&gt;</th><th scope=col>&lt;dbl&gt;</th><th scope=col>&lt;dbl&gt;</th><th scope=col>&lt;dbl&gt;</th><th scope=col>&lt;dbl&gt;</th><th scope=col>&lt;dbl&gt;</th><th scope=col>&lt;fct&gt;</th></tr>\n",
       "</thead>\n",
       "<tbody>\n",
       "\t<tr><th scope=row>8168</th><td>122030</td><td>2.5123022</td><td>-318.58</td><td>0.6027454</td><td>-310.1347</td><td>15187.383</td><td>169512.1</td><td>6</td><td>-212080.2</td><td>2144389</td><td>⋯</td><td>94659.60</td><td>Atka</td><td>73022.03</td><td>329705.0</td><td>-221000</td><td>2156000</td><td>15</td><td>18</td><td>1</td><td>Weddell Sea</td></tr>\n",
       "\t<tr><th scope=row>8169</th><td>122031</td><td>1.2012005</td><td>-266.96</td><td>1.6832575</td><td>-268.1202</td><td>12905.335</td><td>166852.4</td><td>6</td><td>-212080.2</td><td>2144389</td><td>⋯</td><td>98906.23</td><td>Atka</td><td>73022.03</td><td>329705.0</td><td>-216000</td><td>2156000</td><td>42</td><td>51</td><td>1</td><td>Weddell Sea</td></tr>\n",
       "\t<tr><th scope=row>8256</th><td>122158</td><td>0.4402819</td><td>-238.41</td><td>0.3618537</td><td>-237.5242</td><td>11069.010</td><td>165334.1</td><td>6</td><td>-212080.2</td><td>2144389</td><td>⋯</td><td>92058.26</td><td>Atka</td><td>76785.59</td><td>327298.0</td><td>-221000</td><td>2151000</td><td>58</td><td>68</td><td>1</td><td>Weddell Sea</td></tr>\n",
       "\t<tr><th scope=row>8257</th><td>122159</td><td>0.5317709</td><td>-235.92</td><td>0.4853334</td><td>-227.2131</td><td> 8542.728</td><td>162606.1</td><td>6</td><td>-212080.2</td><td>2144389</td><td>⋯</td><td>96419.53</td><td>Atka</td><td>76785.59</td><td>327298.0</td><td>-216000</td><td>2151000</td><td>11</td><td>14</td><td>1</td><td>Weddell Sea</td></tr>\n",
       "\t<tr><th scope=row>8344</th><td>122286</td><td>0.3624971</td><td>-243.93</td><td>0.3787392</td><td>-242.3279</td><td> 7719.291</td><td>161202.9</td><td>6</td><td>-214905.9</td><td>2140233</td><td>⋯</td><td>89660.51</td><td>Atka</td><td>80667.40</td><td>324950.0</td><td>-221000</td><td>2146000</td><td>41</td><td>50</td><td>1</td><td>Weddell Sea</td></tr>\n",
       "\t<tr><th scope=row>8433</th><td>122414</td><td>0.5814596</td><td>-261.49</td><td>0.4114927</td><td>-262.9747</td><td> 4871.616</td><td>157122.2</td><td>6</td><td>-219560.1</td><td>2136410</td><td>⋯</td><td>87483.08</td><td>Atka</td><td>84645.60</td><td>322661.1</td><td>-221000</td><td>2141000</td><td>35</td><td>41</td><td>1</td><td>Weddell Sea</td></tr>\n",
       "</tbody>\n",
       "</table>\n"
      ],
      "text/latex": [
       "A data.frame: 6 × 23\n",
       "\\begin{tabular}{r|lllllllllllllllllllll}\n",
       "  & gridCellId & meanslope & meanbathy & slope & bathy & shoredist & glacierdist & nearLineId & near\\_x & near\\_y & ⋯ & empedist & empecol & cont300dist & cont800dist & coords.x1 & coords.x2 & abundance & mdlIsl & hasMaps & RegionName\\\\\n",
       "  & <int> & <dbl> & <dbl> & <dbl> & <dbl> & <dbl> & <dbl> & <dbl> & <dbl> & <dbl> & ⋯ & <dbl> & <fct> & <dbl> & <dbl> & <dbl> & <dbl> & <dbl> & <dbl> & <dbl> & <fct>\\\\\n",
       "\\hline\n",
       "\t8168 & 122030 & 2.5123022 & -318.58 & 0.6027454 & -310.1347 & 15187.383 & 169512.1 & 6 & -212080.2 & 2144389 & ⋯ & 94659.60 & Atka & 73022.03 & 329705.0 & -221000 & 2156000 & 15 & 18 & 1 & Weddell Sea\\\\\n",
       "\t8169 & 122031 & 1.2012005 & -266.96 & 1.6832575 & -268.1202 & 12905.335 & 166852.4 & 6 & -212080.2 & 2144389 & ⋯ & 98906.23 & Atka & 73022.03 & 329705.0 & -216000 & 2156000 & 42 & 51 & 1 & Weddell Sea\\\\\n",
       "\t8256 & 122158 & 0.4402819 & -238.41 & 0.3618537 & -237.5242 & 11069.010 & 165334.1 & 6 & -212080.2 & 2144389 & ⋯ & 92058.26 & Atka & 76785.59 & 327298.0 & -221000 & 2151000 & 58 & 68 & 1 & Weddell Sea\\\\\n",
       "\t8257 & 122159 & 0.5317709 & -235.92 & 0.4853334 & -227.2131 &  8542.728 & 162606.1 & 6 & -212080.2 & 2144389 & ⋯ & 96419.53 & Atka & 76785.59 & 327298.0 & -216000 & 2151000 & 11 & 14 & 1 & Weddell Sea\\\\\n",
       "\t8344 & 122286 & 0.3624971 & -243.93 & 0.3787392 & -242.3279 &  7719.291 & 161202.9 & 6 & -214905.9 & 2140233 & ⋯ & 89660.51 & Atka & 80667.40 & 324950.0 & -221000 & 2146000 & 41 & 50 & 1 & Weddell Sea\\\\\n",
       "\t8433 & 122414 & 0.5814596 & -261.49 & 0.4114927 & -262.9747 &  4871.616 & 157122.2 & 6 & -219560.1 & 2136410 & ⋯ & 87483.08 & Atka & 84645.60 & 322661.1 & -221000 & 2141000 & 35 & 41 & 1 & Weddell Sea\\\\\n",
       "\\end{tabular}\n"
      ],
      "text/markdown": [
       "\n",
       "A data.frame: 6 × 23\n",
       "\n",
       "| <!--/--> | gridCellId &lt;int&gt; | meanslope &lt;dbl&gt; | meanbathy &lt;dbl&gt; | slope &lt;dbl&gt; | bathy &lt;dbl&gt; | shoredist &lt;dbl&gt; | glacierdist &lt;dbl&gt; | nearLineId &lt;dbl&gt; | near_x &lt;dbl&gt; | near_y &lt;dbl&gt; | ⋯ ⋯ | empedist &lt;dbl&gt; | empecol &lt;fct&gt; | cont300dist &lt;dbl&gt; | cont800dist &lt;dbl&gt; | coords.x1 &lt;dbl&gt; | coords.x2 &lt;dbl&gt; | abundance &lt;dbl&gt; | mdlIsl &lt;dbl&gt; | hasMaps &lt;dbl&gt; | RegionName &lt;fct&gt; |\n",
       "|---|---|---|---|---|---|---|---|---|---|---|---|---|---|---|---|---|---|---|---|---|---|\n",
       "| 8168 | 122030 | 2.5123022 | -318.58 | 0.6027454 | -310.1347 | 15187.383 | 169512.1 | 6 | -212080.2 | 2144389 | ⋯ | 94659.60 | Atka | 73022.03 | 329705.0 | -221000 | 2156000 | 15 | 18 | 1 | Weddell Sea |\n",
       "| 8169 | 122031 | 1.2012005 | -266.96 | 1.6832575 | -268.1202 | 12905.335 | 166852.4 | 6 | -212080.2 | 2144389 | ⋯ | 98906.23 | Atka | 73022.03 | 329705.0 | -216000 | 2156000 | 42 | 51 | 1 | Weddell Sea |\n",
       "| 8256 | 122158 | 0.4402819 | -238.41 | 0.3618537 | -237.5242 | 11069.010 | 165334.1 | 6 | -212080.2 | 2144389 | ⋯ | 92058.26 | Atka | 76785.59 | 327298.0 | -221000 | 2151000 | 58 | 68 | 1 | Weddell Sea |\n",
       "| 8257 | 122159 | 0.5317709 | -235.92 | 0.4853334 | -227.2131 |  8542.728 | 162606.1 | 6 | -212080.2 | 2144389 | ⋯ | 96419.53 | Atka | 76785.59 | 327298.0 | -216000 | 2151000 | 11 | 14 | 1 | Weddell Sea |\n",
       "| 8344 | 122286 | 0.3624971 | -243.93 | 0.3787392 | -242.3279 |  7719.291 | 161202.9 | 6 | -214905.9 | 2140233 | ⋯ | 89660.51 | Atka | 80667.40 | 324950.0 | -221000 | 2146000 | 41 | 50 | 1 | Weddell Sea |\n",
       "| 8433 | 122414 | 0.5814596 | -261.49 | 0.4114927 | -262.9747 |  4871.616 | 157122.2 | 6 | -219560.1 | 2136410 | ⋯ | 87483.08 | Atka | 84645.60 | 322661.1 | -221000 | 2141000 | 35 | 41 | 1 | Weddell Sea |\n",
       "\n"
      ],
      "text/plain": [
       "     gridCellId meanslope meanbathy slope     bathy     shoredist glacierdist\n",
       "8168 122030     2.5123022 -318.58   0.6027454 -310.1347 15187.383 169512.1   \n",
       "8169 122031     1.2012005 -266.96   1.6832575 -268.1202 12905.335 166852.4   \n",
       "8256 122158     0.4402819 -238.41   0.3618537 -237.5242 11069.010 165334.1   \n",
       "8257 122159     0.5317709 -235.92   0.4853334 -227.2131  8542.728 162606.1   \n",
       "8344 122286     0.3624971 -243.93   0.3787392 -242.3279  7719.291 161202.9   \n",
       "8433 122414     0.5814596 -261.49   0.4114927 -262.9747  4871.616 157122.2   \n",
       "     nearLineId near_x    near_y  ⋯ empedist empecol cont300dist cont800dist\n",
       "8168 6          -212080.2 2144389 ⋯ 94659.60 Atka    73022.03    329705.0   \n",
       "8169 6          -212080.2 2144389 ⋯ 98906.23 Atka    73022.03    329705.0   \n",
       "8256 6          -212080.2 2144389 ⋯ 92058.26 Atka    76785.59    327298.0   \n",
       "8257 6          -212080.2 2144389 ⋯ 96419.53 Atka    76785.59    327298.0   \n",
       "8344 6          -214905.9 2140233 ⋯ 89660.51 Atka    80667.40    324950.0   \n",
       "8433 6          -219560.1 2136410 ⋯ 87483.08 Atka    84645.60    322661.1   \n",
       "     coords.x1 coords.x2 abundance mdlIsl hasMaps RegionName \n",
       "8168 -221000   2156000   15        18     1       Weddell Sea\n",
       "8169 -216000   2156000   42        51     1       Weddell Sea\n",
       "8256 -221000   2151000   58        68     1       Weddell Sea\n",
       "8257 -216000   2151000   11        14     1       Weddell Sea\n",
       "8344 -221000   2146000   41        50     1       Weddell Sea\n",
       "8433 -221000   2141000   35        41     1       Weddell Sea"
      ]
     },
     "metadata": {},
     "output_type": "display_data"
    },
    {
     "data": {
      "text/html": [
       "<table>\n",
       "<caption>A data.frame: 6 × 23</caption>\n",
       "<thead>\n",
       "\t<tr><th></th><th scope=col>gridCellId</th><th scope=col>meanslope</th><th scope=col>meanbathy</th><th scope=col>slope</th><th scope=col>bathy</th><th scope=col>shoredist</th><th scope=col>glacierdist</th><th scope=col>nearLineId</th><th scope=col>near_x</th><th scope=col>near_y</th><th scope=col>⋯</th><th scope=col>empedist</th><th scope=col>empecol</th><th scope=col>cont300dist</th><th scope=col>cont800dist</th><th scope=col>coords.x1</th><th scope=col>coords.x2</th><th scope=col>abundance</th><th scope=col>mdlIsl</th><th scope=col>hasMaps</th><th scope=col>RegionName</th></tr>\n",
       "\t<tr><th></th><th scope=col>&lt;int&gt;</th><th scope=col>&lt;dbl&gt;</th><th scope=col>&lt;dbl&gt;</th><th scope=col>&lt;dbl&gt;</th><th scope=col>&lt;dbl&gt;</th><th scope=col>&lt;dbl&gt;</th><th scope=col>&lt;dbl&gt;</th><th scope=col>&lt;dbl&gt;</th><th scope=col>&lt;dbl&gt;</th><th scope=col>&lt;dbl&gt;</th><th scope=col>⋯</th><th scope=col>&lt;dbl&gt;</th><th scope=col>&lt;fct&gt;</th><th scope=col>&lt;dbl&gt;</th><th scope=col>&lt;dbl&gt;</th><th scope=col>&lt;dbl&gt;</th><th scope=col>&lt;dbl&gt;</th><th scope=col>&lt;dbl&gt;</th><th scope=col>&lt;dbl&gt;</th><th scope=col>&lt;dbl&gt;</th><th scope=col>&lt;fct&gt;</th></tr>\n",
       "</thead>\n",
       "<tbody>\n",
       "\t<tr><th scope=row>35591</th><td> 203748</td><td>5.9414678</td><td> -704.77</td><td>0.4479704</td><td> -794.3901</td><td> 16821.24</td><td> 75050.18</td><td>2047</td><td>-2520137.0</td><td> 1572234.5</td><td>⋯</td><td>172984.42</td><td>Snow Hill Island    </td><td>131207.43</td><td>  2184.701</td><td>-2536000</td><td> 1566000</td><td>0</td><td>0</td><td>0</td><td>Weddell Sea       </td></tr>\n",
       "\t<tr><th scope=row>147885</th><td> 822368</td><td>0.1542507</td><td> -354.08</td><td>0.1610651</td><td> -354.5500</td><td>     0.00</td><td>144812.31</td><td>   6</td><td> 2696727.1</td><td> -350752.2</td><td>⋯</td><td> 87114.93</td><td>Shackleton Ice Shelf</td><td>203196.75</td><td>108229.986</td><td> 2699000</td><td> -354000</td><td>0</td><td>0</td><td>0</td><td>East Antarctica   </td></tr>\n",
       "\t<tr><th scope=row>165777</th><td> 989677</td><td>3.7802255</td><td>-1313.02</td><td>3.8646488</td><td>-1332.4661</td><td> 78359.75</td><td>131357.64</td><td>   6</td><td> 2464239.0</td><td> -974425.3</td><td>⋯</td><td> 85313.56</td><td>Peterson Bank       </td><td>573663.76</td><td>362070.754</td><td> 2544000</td><td> -984000</td><td>0</td><td>0</td><td>0</td><td>East Antarctica   </td></tr>\n",
       "\t<tr><th scope=row>40041</th><td> 235695</td><td>0.5867631</td><td>-3380.71</td><td>0.9471224</td><td>-3382.9600</td><td>119620.76</td><td>329420.25</td><td>   6</td><td> -750063.6</td><td> 1563296.4</td><td>⋯</td><td>200188.04</td><td>Stancomb            </td><td>129391.86</td><td> 27660.894</td><td> -881000</td><td> 1601000</td><td>0</td><td>0</td><td>0</td><td>Weddell Sea       </td></tr>\n",
       "\t<tr><th scope=row>184389</th><td>1078047</td><td>0.2814679</td><td> -543.21</td><td>0.2873795</td><td> -540.5715</td><td> 66382.23</td><td>146632.06</td><td>   6</td><td>  169797.3</td><td>-1353045.0</td><td>⋯</td><td>116307.84</td><td>Cape Crozier        </td><td>760362.15</td><td>649222.690</td><td>  169000</td><td>-1424000</td><td>0</td><td>0</td><td>0</td><td>Ross Sea          </td></tr>\n",
       "\t<tr><th scope=row>106997</th><td> 519802</td><td>0.2680029</td><td> -588.85</td><td>0.2868293</td><td> -590.6256</td><td>176294.18</td><td>303804.54</td><td>   6</td><td>-2126462.2</td><td>  530637.2</td><td>⋯</td><td>269904.33</td><td>Smyley              </td><td> 98559.92</td><td> 41886.683</td><td>-2171000</td><td>  366000</td><td>0</td><td>0</td><td>0</td><td>Bellingshausen Sea</td></tr>\n",
       "</tbody>\n",
       "</table>\n"
      ],
      "text/latex": [
       "A data.frame: 6 × 23\n",
       "\\begin{tabular}{r|lllllllllllllllllllll}\n",
       "  & gridCellId & meanslope & meanbathy & slope & bathy & shoredist & glacierdist & nearLineId & near\\_x & near\\_y & ⋯ & empedist & empecol & cont300dist & cont800dist & coords.x1 & coords.x2 & abundance & mdlIsl & hasMaps & RegionName\\\\\n",
       "  & <int> & <dbl> & <dbl> & <dbl> & <dbl> & <dbl> & <dbl> & <dbl> & <dbl> & <dbl> & ⋯ & <dbl> & <fct> & <dbl> & <dbl> & <dbl> & <dbl> & <dbl> & <dbl> & <dbl> & <fct>\\\\\n",
       "\\hline\n",
       "\t35591 &  203748 & 5.9414678 &  -704.77 & 0.4479704 &  -794.3901 &  16821.24 &  75050.18 & 2047 & -2520137.0 &  1572234.5 & ⋯ & 172984.42 & Snow Hill Island     & 131207.43 &   2184.701 & -2536000 &  1566000 & 0 & 0 & 0 & Weddell Sea       \\\\\n",
       "\t147885 &  822368 & 0.1542507 &  -354.08 & 0.1610651 &  -354.5500 &      0.00 & 144812.31 &    6 &  2696727.1 &  -350752.2 & ⋯ &  87114.93 & Shackleton Ice Shelf & 203196.75 & 108229.986 &  2699000 &  -354000 & 0 & 0 & 0 & East Antarctica   \\\\\n",
       "\t165777 &  989677 & 3.7802255 & -1313.02 & 3.8646488 & -1332.4661 &  78359.75 & 131357.64 &    6 &  2464239.0 &  -974425.3 & ⋯ &  85313.56 & Peterson Bank        & 573663.76 & 362070.754 &  2544000 &  -984000 & 0 & 0 & 0 & East Antarctica   \\\\\n",
       "\t40041 &  235695 & 0.5867631 & -3380.71 & 0.9471224 & -3382.9600 & 119620.76 & 329420.25 &    6 &  -750063.6 &  1563296.4 & ⋯ & 200188.04 & Stancomb             & 129391.86 &  27660.894 &  -881000 &  1601000 & 0 & 0 & 0 & Weddell Sea       \\\\\n",
       "\t184389 & 1078047 & 0.2814679 &  -543.21 & 0.2873795 &  -540.5715 &  66382.23 & 146632.06 &    6 &   169797.3 & -1353045.0 & ⋯ & 116307.84 & Cape Crozier         & 760362.15 & 649222.690 &   169000 & -1424000 & 0 & 0 & 0 & Ross Sea          \\\\\n",
       "\t106997 &  519802 & 0.2680029 &  -588.85 & 0.2868293 &  -590.6256 & 176294.18 & 303804.54 &    6 & -2126462.2 &   530637.2 & ⋯ & 269904.33 & Smyley               &  98559.92 &  41886.683 & -2171000 &   366000 & 0 & 0 & 0 & Bellingshausen Sea\\\\\n",
       "\\end{tabular}\n"
      ],
      "text/markdown": [
       "\n",
       "A data.frame: 6 × 23\n",
       "\n",
       "| <!--/--> | gridCellId &lt;int&gt; | meanslope &lt;dbl&gt; | meanbathy &lt;dbl&gt; | slope &lt;dbl&gt; | bathy &lt;dbl&gt; | shoredist &lt;dbl&gt; | glacierdist &lt;dbl&gt; | nearLineId &lt;dbl&gt; | near_x &lt;dbl&gt; | near_y &lt;dbl&gt; | ⋯ ⋯ | empedist &lt;dbl&gt; | empecol &lt;fct&gt; | cont300dist &lt;dbl&gt; | cont800dist &lt;dbl&gt; | coords.x1 &lt;dbl&gt; | coords.x2 &lt;dbl&gt; | abundance &lt;dbl&gt; | mdlIsl &lt;dbl&gt; | hasMaps &lt;dbl&gt; | RegionName &lt;fct&gt; |\n",
       "|---|---|---|---|---|---|---|---|---|---|---|---|---|---|---|---|---|---|---|---|---|---|\n",
       "| 35591 |  203748 | 5.9414678 |  -704.77 | 0.4479704 |  -794.3901 |  16821.24 |  75050.18 | 2047 | -2520137.0 |  1572234.5 | ⋯ | 172984.42 | Snow Hill Island     | 131207.43 |   2184.701 | -2536000 |  1566000 | 0 | 0 | 0 | Weddell Sea        |\n",
       "| 147885 |  822368 | 0.1542507 |  -354.08 | 0.1610651 |  -354.5500 |      0.00 | 144812.31 |    6 |  2696727.1 |  -350752.2 | ⋯ |  87114.93 | Shackleton Ice Shelf | 203196.75 | 108229.986 |  2699000 |  -354000 | 0 | 0 | 0 | East Antarctica    |\n",
       "| 165777 |  989677 | 3.7802255 | -1313.02 | 3.8646488 | -1332.4661 |  78359.75 | 131357.64 |    6 |  2464239.0 |  -974425.3 | ⋯ |  85313.56 | Peterson Bank        | 573663.76 | 362070.754 |  2544000 |  -984000 | 0 | 0 | 0 | East Antarctica    |\n",
       "| 40041 |  235695 | 0.5867631 | -3380.71 | 0.9471224 | -3382.9600 | 119620.76 | 329420.25 |    6 |  -750063.6 |  1563296.4 | ⋯ | 200188.04 | Stancomb             | 129391.86 |  27660.894 |  -881000 |  1601000 | 0 | 0 | 0 | Weddell Sea        |\n",
       "| 184389 | 1078047 | 0.2814679 |  -543.21 | 0.2873795 |  -540.5715 |  66382.23 | 146632.06 |    6 |   169797.3 | -1353045.0 | ⋯ | 116307.84 | Cape Crozier         | 760362.15 | 649222.690 |   169000 | -1424000 | 0 | 0 | 0 | Ross Sea           |\n",
       "| 106997 |  519802 | 0.2680029 |  -588.85 | 0.2868293 |  -590.6256 | 176294.18 | 303804.54 |    6 | -2126462.2 |   530637.2 | ⋯ | 269904.33 | Smyley               |  98559.92 |  41886.683 | -2171000 |   366000 | 0 | 0 | 0 | Bellingshausen Sea |\n",
       "\n"
      ],
      "text/plain": [
       "       gridCellId meanslope meanbathy slope     bathy      shoredist\n",
       "35591   203748    5.9414678  -704.77  0.4479704  -794.3901  16821.24\n",
       "147885  822368    0.1542507  -354.08  0.1610651  -354.5500      0.00\n",
       "165777  989677    3.7802255 -1313.02  3.8646488 -1332.4661  78359.75\n",
       "40041   235695    0.5867631 -3380.71  0.9471224 -3382.9600 119620.76\n",
       "184389 1078047    0.2814679  -543.21  0.2873795  -540.5715  66382.23\n",
       "106997  519802    0.2680029  -588.85  0.2868293  -590.6256 176294.18\n",
       "       glacierdist nearLineId near_x     near_y     ⋯ empedist \n",
       "35591   75050.18   2047       -2520137.0  1572234.5 ⋯ 172984.42\n",
       "147885 144812.31      6        2696727.1  -350752.2 ⋯  87114.93\n",
       "165777 131357.64      6        2464239.0  -974425.3 ⋯  85313.56\n",
       "40041  329420.25      6        -750063.6  1563296.4 ⋯ 200188.04\n",
       "184389 146632.06      6         169797.3 -1353045.0 ⋯ 116307.84\n",
       "106997 303804.54      6       -2126462.2   530637.2 ⋯ 269904.33\n",
       "       empecol              cont300dist cont800dist coords.x1 coords.x2\n",
       "35591  Snow Hill Island     131207.43     2184.701  -2536000   1566000 \n",
       "147885 Shackleton Ice Shelf 203196.75   108229.986   2699000   -354000 \n",
       "165777 Peterson Bank        573663.76   362070.754   2544000   -984000 \n",
       "40041  Stancomb             129391.86    27660.894   -881000   1601000 \n",
       "184389 Cape Crozier         760362.15   649222.690    169000  -1424000 \n",
       "106997 Smyley                98559.92    41886.683  -2171000    366000 \n",
       "       abundance mdlIsl hasMaps RegionName        \n",
       "35591  0         0      0       Weddell Sea       \n",
       "147885 0         0      0       East Antarctica   \n",
       "165777 0         0      0       East Antarctica   \n",
       "40041  0         0      0       Weddell Sea       \n",
       "184389 0         0      0       Ross Sea          \n",
       "106997 0         0      0       Bellingshausen Sea"
      ]
     },
     "metadata": {},
     "output_type": "display_data"
    },
    {
     "data": {
      "text/html": [
       "3368"
      ],
      "text/latex": [
       "3368"
      ],
      "text/markdown": [
       "3368"
      ],
      "text/plain": [
       "[1] 3368"
      ]
     },
     "metadata": {},
     "output_type": "display_data"
    }
   ],
   "source": [
    "bootsamp<-bootSampleWESEdata(data=wesedf2,nsamples=100,hasMapsBehavior=0,stratifyByClusters=0,countVar=\"mdlCol\",setBinomial=FALSE)\n",
    "head(bootsamp[[12]])\n",
    "tail(bootsamp[[43]])\n",
    "nrow(bootsamp[[7]])"
   ]
  },
  {
   "cell_type": "markdown",
   "metadata": {},
   "source": [
    "__Regarding #3__ we use the function \"fitModelToBootstrap\" to fit a simple or generalized regression model to the full ensemble. The function just requires a formula, the ensemble as generated above, and the error family link (by default the Gaussian, which is a normal error).  \n",
    "  \n",
    "The default behavior (i.e., Gaussian error) fits a normal linear model. Otherwise, use \"poisson\" if you think it is appropriate for the counts, or \"binomial\" if fitting logistic regressions (that is, if you set the setBinomial parameter to TRUE when generating the ensemble above). In the case of poisson or logistic regression, a generalized linear model is fit. We can add a negative binomial option later, to accommodate for overdispersion. But for now let's start working with this to get it going.  \n",
    "  \n",
    "Whether fitting a simple regression or a generalized liner model, the output is the same, with the exception that R-squared values cannot be obtained from a GLM. Instead, the function returns the residual deviance of the model for each sample bootstrap.  \n",
    "  \n",
    "The function returns a list with 3 objects: coefficients, goodness-of-fit data, and residuals. But because it performs the model fit on an ensemble of data, it returns a collection of results within each of the above objects.  \n",
    "  \n",
    "For example, the coefficients object is actually 4 data.frames. Each data.frame has as many columns as datasets in the ensemble (from the example above, 100 columns), and each row in the data.frame is a different coefficient from the model. The four data.frames are, respectively: the coefficient estimates, their standard errors, t-values and p-values.  \n",
    "  \n",
    "The residuals data is a single data.frame: each row is a datum in the ensemble, each column is the set of residuals for each model fit. Since every bootstrap sample has 3368 records, this data.frame would have 3368 rows and 100 columns.\n",
    "  \n",
    "The GOF data is also only one data.frame. But unlike the other results above, each column is a GOF paramter, and each row is a different ensemble result. So, it has 4 columns: the degees of freedom of the model, the AIC of the model, the -2*logLikelyhood of the model, and the R-squared or residual deviance. Therefore, for example, with the above bootstrap ensemble the function would return a data.frame of 4 columns, and 100 rows.  \n",
    "  \n",
    "Let's try it."
   ]
  },
  {
   "cell_type": "code",
   "execution_count": 115,
   "metadata": {},
   "outputs": [],
   "source": [
    "reslst<-fitModelToBootstrap(fml=\"abundance~slope*bathy+shoredist+glacierdist+I(empedist^2)\",datalist=bootsamp)\n",
    "## Note: not indicating the family so it defaults to \"gaussian\" and fits a simple regression"
   ]
  },
  {
   "cell_type": "code",
   "execution_count": null,
   "metadata": {},
   "outputs": [],
   "source": []
  },
  {
   "cell_type": "markdown",
   "metadata": {},
   "source": [
    "These are my notes"
   ]
  },
  {
   "cell_type": "code",
   "execution_count": 121,
   "metadata": {},
   "outputs": [
    {
     "name": "stdout",
     "output_type": "stream",
     "text": [
      "       Parameter         Value Nboot\n",
      "Df            Df  3.360860e+03   100\n",
      "AIC          AIC  4.716939e+04   100\n",
      "LogLik    LogLik -2.357670e+04   100\n",
      "Rsq          Rsq  3.025496e-02   100\n"
     ]
    }
   ],
   "source": [
    "gofres<-summarizeResults(fitobj=reslst,what=\"gof\")\n",
    "print(gofres)"
   ]
  },
  {
   "cell_type": "markdown",
   "metadata": {},
   "source": [
    "Let's examine the results, starting with a summary of the coefficients. For this we use the function \"summarizeResults\". The function has two arguments: the fitobj is the object resulting from using the fitModelToBootstrap function above (in our example, fitobj is reslst), and the \"what\" parameter. This parameter has three possible values: \"coefs\", \"gof\", or \"resids\". The latter is the vector of average residuals. Let's look at the coefficients and the goodness-of-fit results."
   ]
  },
  {
   "cell_type": "code",
   "execution_count": 110,
   "metadata": {},
   "outputs": [
    {
     "name": "stdout",
     "output_type": "stream",
     "text": [
      "              Parameter   Coefficient      StError    t_value       Prob_t\n",
      "(Intercept) (Intercept) 98.9645334754 7.618869e+00 12.9903142 8.572697e-37\n",
      "slope             slope  4.6068916139 2.132322e+00  2.1555677 3.447154e-02\n",
      "bathy             bathy  0.0060201450 6.280902e-03  0.9594402 3.406137e-01\n",
      "shoredist     shoredist -0.0003472881 1.208913e-04 -2.8737225 4.445131e-03\n",
      "glacierdist glacierdist -0.0002104034 5.522488e-05 -3.8095703 1.620455e-04\n",
      "            Nboot\n",
      "(Intercept)   100\n",
      "slope         100\n",
      "bathy         100\n",
      "shoredist     100\n",
      "glacierdist   100\n"
     ]
    }
   ],
   "source": [
    "coefres<-summarizeResults(fitobj=reslst,what=\"coefs\")\n",
    "print(coefres)"
   ]
  },
  {
   "cell_type": "code",
   "execution_count": 95,
   "metadata": {},
   "outputs": [
    {
     "name": "stdout",
     "output_type": "stream",
     "text": [
      "       Parameter         Value Nboot\n",
      "Df            Df  3.362770e+03   100\n",
      "AIC          AIC  4.716873e+04   100\n",
      "LogLik    LogLik -2.357837e+04   100\n",
      "Rsq          Rsq  2.895463e-02   100\n"
     ]
    }
   ],
   "source": [
    "gofres<-summarizeResults(fitobj=reslst,what=\"gof\")\n",
    "print(gofres)"
   ]
  },
  {
   "cell_type": "code",
   "execution_count": 96,
   "metadata": {},
   "outputs": [
    {
     "data": {
      "text/html": [
       "<style>\n",
       ".list-inline {list-style: none; margin:0; padding: 0}\n",
       ".list-inline>li {display: inline-block}\n",
       ".list-inline>li:not(:last-child)::after {content: \"\\00b7\"; padding: 0 .5ex}\n",
       "</style>\n",
       "<ol class=list-inline><li>-44.1852488137713</li><li>-23.684071024659</li><li>-2.834443287457</li><li>-51.9090502091025</li><li>-21.9186569477712</li><li>-29.7955058023561</li></ol>\n"
      ],
      "text/latex": [
       "\\begin{enumerate*}\n",
       "\\item -44.1852488137713\n",
       "\\item -23.684071024659\n",
       "\\item -2.834443287457\n",
       "\\item -51.9090502091025\n",
       "\\item -21.9186569477712\n",
       "\\item -29.7955058023561\n",
       "\\end{enumerate*}\n"
      ],
      "text/markdown": [
       "1. -44.1852488137713\n",
       "2. -23.684071024659\n",
       "3. -2.834443287457\n",
       "4. -51.9090502091025\n",
       "5. -21.9186569477712\n",
       "6. -29.7955058023561\n",
       "\n",
       "\n"
      ],
      "text/plain": [
       "[1] -44.185249 -23.684071  -2.834443 -51.909050 -21.918657 -29.795506"
      ]
     },
     "metadata": {},
     "output_type": "display_data"
    }
   ],
   "source": [
    "residuals<-summarizeResults(fitobj=reslst,what=\"resids\")\n",
    "head(residuals)"
   ]
  },
  {
   "cell_type": "code",
   "execution_count": null,
   "metadata": {},
   "outputs": [],
   "source": []
  }
 ],
 "metadata": {
  "kernelspec": {
   "display_name": "R",
   "language": "R",
   "name": "ir"
  },
  "language_info": {
   "codemirror_mode": "r",
   "file_extension": ".r",
   "mimetype": "text/x-r-source",
   "name": "R",
   "pygments_lexer": "r",
   "version": "3.4.4"
  }
 },
 "nbformat": 4,
 "nbformat_minor": 2
}
